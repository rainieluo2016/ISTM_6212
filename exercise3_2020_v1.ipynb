{
 "cells": [
  {
   "cell_type": "markdown",
   "metadata": {},
   "source": [
    "# Exercise 03 - Due Monday, November 9 at 1 pm\n",
    "\n",
    "*Objectives*: Use Spark to process and perform basic analysis on non-relational data, including its DataFrame and SQL interfaces.\n",
    "\n",
    "*Grading criteria*: The tasks should all be completed, and questions should all be answered with Python code, SQL queries, shell commands, and markdown cells.  The notebook itself should be completely reproducible (using AWS EC2 instance based on the provided AMI) from start to finish; another person should be able to use the code to obtain the same results as yours.  Note that you will receive no more than partial credit if you do not add text/markdown cells explaining your thinking when appropriate.\n",
    "\n",
    "*Deadline*: Monday, November 9, 1 pm. "
   ]
  },
  {
   "cell_type": "markdown",
   "metadata": {},
   "source": [
    "## Part 1 - Setup\n",
    "\n",
    "Begin by setting up Spark and fetching the project data.  \n",
    "\n",
    "**Note**: you may want to use a larger EC2 instance type than normal.  This project was prepared using a `t2.xlarge` instance.  Just remember that the larger the instance, the higher the per-hour charge, so be sure to remember to shut your instance down when you're done, as always.\n",
    "\n",
    "### About the data\n",
    "\n",
    "We will use JSON data from Twitter; we saw an example of this in class.  It should parse cleanly, allowing you to focus on analysis.\n",
    "\n",
    "This data was gathered using GWU Libraries' [Social Feed Manager](http://sfm.library.gwu.edu/) application during a recent game of the MLB World Series featuring the Los Angeles Dodgers and Houston Astros.  This first file tells you a little bit about how it was gathered:"
   ]
  },
  {
   "cell_type": "code",
   "execution_count": 1,
   "metadata": {},
   "outputs": [
    {
     "name": "stdout",
     "output_type": "stream",
     "text": [
      "--2020-11-02 20:57:50--  https://s3.amazonaws.com/2017-dmfa/project-3/9670f3399f774789b7c3e18975d25611-README.txt\n",
      "Resolving s3.amazonaws.com (s3.amazonaws.com)... 52.216.237.205\n",
      "Connecting to s3.amazonaws.com (s3.amazonaws.com)|52.216.237.205|:443... connected.\n",
      "HTTP request sent, awaiting response... 200 OK\n",
      "Length: 1920 (1.9K) [text/plain]\n",
      "Saving to: ‘9670f3399f774789b7c3e18975d25611-README.txt’\n",
      "\n",
      "9670f3399f774789b7c 100%[===================>]   1.88K  --.-KB/s    in 0s      \n",
      "\n",
      "2020-11-02 20:57:50 (20.2 MB/s) - ‘9670f3399f774789b7c3e18975d25611-README.txt’ saved [1920/1920]\n",
      "\n"
     ]
    }
   ],
   "source": [
    "!wget https://s3.amazonaws.com/2017-dmfa/project-3/9670f3399f774789b7c3e18975d25611-README.txt"
   ]
  },
  {
   "cell_type": "code",
   "execution_count": 2,
   "metadata": {},
   "outputs": [
    {
     "name": "stdout",
     "output_type": "stream",
     "text": [
      "This is an export created with Social Feed Manager.\n",
      "\n",
      "EXPORT INFORMATION\n",
      "Selected seeds: All seeds\n",
      "Export id: 9670f3399f774789b7c3e18975d25611\n",
      "Export type: twitter_filter\n",
      "Format: Full JSON\n",
      "Export completed:  Oct. 30, 2017, 11:21:04 p.m. EDT\n",
      "Deduplicate: No\n",
      "\n",
      "COLLECTION INFORMATION\n",
      "Collection name: test set for world series\n",
      "Collection id: 34e3f7460b5c4df09d64a1e61fd81238\n",
      "Collection set: mlb-test (collection set id d6e8c27b1bc942e78790aa55a82b3a7a)\n",
      "Harvest type: Twitter filter\n",
      "Collection description: running for just one hour, just for fun.\n",
      "\n",
      "Harvest options:\n",
      "Media: No\n",
      "Web resources: No\n",
      "\n",
      "Seeds:\n",
      "* Track: dodgers,astros - Active\n",
      "\n",
      "Change log:\n",
      "\n",
      "Change to test set for world series (collection) on Oct. 30, 2017, 10:59:56 p.m. EDT by dchud:\n",
      "* is_active: \"True\" changed to \"False\"\n",
      "\n",
      "Change to test set for world series (collection) on Oct. 30, 2017, 10:58:51 p.m. EDT by dchud:\n",
      "* is_on: \"True\" changed to \"False\"\n",
      "\n",
      "Change to test set for world series (collection) on Oct. 29, 2017, 8:01:24 p.m. EDT by dchud:\n",
      "* is_on: \"False\" changed to \"True\"\n",
      "\n",
      "Change to Track: dodgers,astros (seed) on Oct. 29, 2017, 8:01:21 p.m. EDT by dchud:\n",
      "* token: \"blank\" changed to \"{\"track\": \"dodgers,astros\"}\"\n",
      "* is_active: \"blank\" changed to \"True\"\n",
      "\n",
      "Change to test set for world series (collection) on Oct. 29, 2017, 8:01:06 p.m. EDT by dchud:\n",
      "* credential: \"blank\" changed to \"dchud's twitter credential\"\n",
      "* harvest_type: \"blank\" changed to \"twitter_filter\"\n",
      "* is_on: \"blank\" changed to \"False\"\n",
      "* end_date: \"blank\" changed to \"Oct. 31, 2017, 8:00:38 p.m. EDT\"\n",
      "* description: \"blank\" changed to \"running for just one hour, just for fun.\"\n",
      "* collection_set: \"blank\" changed to \"mlb-test\"\n",
      "* is_active: \"blank\" changed to \"True\"\n",
      "* visibility: \"blank\" changed to \"default\"\n",
      "* harvest_options: \"blank\" changed to \"{\"media\": false, \"web_resources\": false}\"\n",
      "* name: \"blank\" changed to \"test set for world series\"\n",
      "\n",
      "\n",
      "Created on Oct. 30, 2017, 11:21:04 p.m. EDT\n"
     ]
    }
   ],
   "source": [
    "!cat 9670f3399f774789b7c3e18975d25611-README.txt"
   ]
  },
  {
   "cell_type": "markdown",
   "metadata": {},
   "source": [
    "The most important pieces in that metadata are:\n",
    "\n",
    " * It tracked tweets that mentioned \"dodgers\" or \"astros\".  Every item in this set should refer to one or the other, or both.\n",
    " * This data was not deduplicated; we may see individual items more than once.\n",
    " * Data was collected between October 29 and October 30.  Game 5 of the Series was played during this time.\n",
    " \n",
    "You should not need to know anything about baseball to complete this assignment.\n",
    "\n",
    "**Please note**: sometimes social media data contains offensive material.  This data set has not been filtered; if you do come across something inappropriate, please do your best to ignore it if you can."
   ]
  },
  {
   "cell_type": "markdown",
   "metadata": {},
   "source": [
    "## Fetch the data\n",
    "\n",
    "The following files are available:\n",
    "\n",
    " * https://s3.amazonaws.com/2017-dmfa/project-3/9670f3399f774789b7c3e18975d25611_003.json\n",
    " * https://s3.amazonaws.com/2017-dmfa/project-3/9670f3399f774789b7c3e18975d25611_004.json\n",
    " * https://s3.amazonaws.com/2017-dmfa/project-3/9670f3399f774789b7c3e18975d25611_005.json\n",
    " * https://s3.amazonaws.com/2017-dmfa/project-3/9670f3399f774789b7c3e18975d25611_006.json\n",
    " \n",
    "### Q1.1 - Select at least one and obtain it using `wget`.  Verify the file sizes using the command line.\n",
    "\n",
    "Each file should contain exactly 100,000 tweets.  \n",
    "\n",
    "*Note*: you are only required to use one of these files, but you may use more than one.  It will be easier to process more data if you use a larger EC2 instance type, as suggested above.  Use the exact same set of files throughout the assignment.\n",
    "\n",
    "**Answer**"
   ]
  },
  {
   "cell_type": "code",
   "execution_count": 3,
   "metadata": {},
   "outputs": [
    {
     "name": "stdout",
     "output_type": "stream",
     "text": [
      "--2020-11-02 21:01:32--  https://s3.amazonaws.com/2017-dmfa/project-3/9670f3399f774789b7c3e18975d25611_003.json\n",
      "Resolving s3.amazonaws.com (s3.amazonaws.com)... 52.216.8.93\n",
      "Connecting to s3.amazonaws.com (s3.amazonaws.com)|52.216.8.93|:443... connected.\n",
      "HTTP request sent, awaiting response... 200 OK\n",
      "Length: 595711407 (568M) [application/json]\n",
      "Saving to: ‘9670f3399f774789b7c3e18975d25611_003.json’\n",
      "\n",
      "9670f3399f774789b7c 100%[===================>] 568.11M  25.9MB/s    in 31s     \n",
      "\n",
      "2020-11-02 21:02:04 (18.2 MB/s) - ‘9670f3399f774789b7c3e18975d25611_003.json’ saved [595711407/595711407]\n",
      "\n"
     ]
    }
   ],
   "source": [
    "!wget https://s3.amazonaws.com/2017-dmfa/project-3/9670f3399f774789b7c3e18975d25611_003.json"
   ]
  },
  {
   "cell_type": "markdown",
   "metadata": {},
   "source": [
    "__Here I decide to use the first json file throughout my whole assignment https://s3.amazonaws.com/2017-dmfa/project-3/9670f3399f774789b7c3e18975d25611_003.json using wget function.__"
   ]
  },
  {
   "cell_type": "markdown",
   "metadata": {},
   "source": [
    "For your reference, here is the text of one Tweet, randomly selected from one of these files.  You might wish to study its structure and refer to it later."
   ]
  },
  {
   "cell_type": "code",
   "execution_count": 4,
   "metadata": {},
   "outputs": [],
   "source": [
    "!cat *.json | shuf -n 1 > example-tweet.json"
   ]
  },
  {
   "cell_type": "code",
   "execution_count": 5,
   "metadata": {},
   "outputs": [
    {
     "name": "stdout",
     "output_type": "stream",
     "text": [
      "{\n",
      "  \"quote_count\": 0,\n",
      "  \"contributors\": null,\n",
      "  \"truncated\": false,\n",
      "  \"text\": \"RT @astros: Nobody said it was going to be easy.\\n\\nWe're tied at 12 heading to the bottom of the 9th. These two guys coming up.\\u2026 \",\n",
      "  \"is_quote_status\": false,\n",
      "  \"in_reply_to_status_id\": null,\n",
      "  \"reply_count\": 0,\n",
      "  \"id\": 924871857119121408,\n",
      "  \"favorite_count\": 0,\n",
      "  \"entities\": {\n",
      "    \"user_mentions\": [\n",
      "      {\n",
      "        \"id\": 52803520,\n",
      "        \"indices\": [\n",
      "          3,\n",
      "          10\n",
      "        ],\n",
      "        \"id_str\": \"52803520\",\n",
      "        \"screen_name\": \"astros\",\n",
      "        \"name\": \"Houston Astros\"\n",
      "      }\n",
      "    ],\n",
      "    \"symbols\": [],\n",
      "    \"hashtags\": [],\n",
      "    \"urls\": []\n",
      "  },\n",
      "  \"retweeted\": false,\n",
      "  \"coordinates\": null,\n",
      "  \"timestamp_ms\": \"1509341608682\",\n",
      "  \"source\": \"<a href=\\\"http://twitter.com/download/iphone\\\" rel=\\\"nofollow\\\">Twitter for iPhone</a>\",\n",
      "  \"in_reply_to_screen_name\": null,\n",
      "  \"id_str\": \"924871857119121408\",\n",
      "  \"retweet_count\": 0,\n",
      "  \"in_reply_to_user_id\": null,\n",
      "  \"favorited\": false,\n",
      "  \"retweeted_status\": {\n",
      "    \"quote_count\": 68,\n",
      "    \"contributors\": null,\n",
      "    \"truncated\": true,\n",
      "    \"text\": \"Nobody said it was going to be easy.\\n\\nWe're tied at 12 heading to the bottom of the 9th. These two guys coming up.\\u2026 https://t.co/1MtLXqPC77\",\n",
      "    \"is_quote_status\": false,\n",
      "    \"in_reply_to_status_id\": null,\n",
      "    \"reply_count\": 130,\n",
      "    \"id\": 924864084205559808,\n",
      "    \"favorite_count\": 2215,\n",
      "    \"entities\": {\n",
      "      \"user_mentions\": [],\n",
      "      \"symbols\": [],\n",
      "      \"hashtags\": [],\n",
      "      \"urls\": [\n",
      "        {\n",
      "          \"url\": \"https://t.co/1MtLXqPC77\",\n",
      "          \"indices\": [\n",
      "            116,\n",
      "            139\n",
      "          ],\n",
      "          \"expanded_url\": \"https://twitter.com/i/web/status/924864084205559808\",\n",
      "          \"display_url\": \"twitter.com/i/web/status/9\\u2026\"\n",
      "        }\n",
      "      ]\n",
      "    },\n",
      "    \"retweeted\": false,\n",
      "    \"coordinates\": null,\n",
      "    \"source\": \"<a href=\\\"http://twitter.com\\\" rel=\\\"nofollow\\\">Twitter Web Client</a>\",\n",
      "    \"in_reply_to_screen_name\": null,\n",
      "    \"id_str\": \"924864084205559808\",\n",
      "    \"display_text_range\": [\n",
      "      0,\n",
      "      140\n",
      "    ],\n",
      "    \"retweet_count\": 951,\n",
      "    \"in_reply_to_user_id\": null,\n",
      "    \"favorited\": false,\n",
      "    \"user\": {\n",
      "      \"follow_request_sent\": null,\n",
      "      \"profile_use_background_image\": true,\n",
      "      \"default_profile_image\": false,\n",
      "      \"id\": 52803520,\n",
      "      \"default_profile\": false,\n",
      "      \"verified\": true,\n",
      "      \"profile_image_url_https\": \"https://pbs.twimg.com/profile_images/922849208570281986/4uh4yust_normal.jpg\",\n",
      "      \"profile_sidebar_fill_color\": \"EBD4AC\",\n",
      "      \"profile_text_color\": \"000000\",\n",
      "      \"followers_count\": 1084043,\n",
      "      \"profile_sidebar_border_color\": \"FFFFFF\",\n",
      "      \"id_str\": \"52803520\",\n",
      "      \"profile_background_color\": \"002D62\",\n",
      "      \"listed_count\": 4165,\n",
      "      \"profile_background_image_url_https\": \"https://pbs.twimg.com/profile_background_images/559481385501462529/ic-DODTn.jpeg\",\n",
      "      \"utc_offset\": -18000,\n",
      "      \"statuses_count\": 64965,\n",
      "      \"description\": \"Official Twitter account of the Houston Astros. Customer service questions: @astrosassist. FB: Astros. IG: astrosbaseball. \\ud83d\\udc7b astros\",\n",
      "      \"friends_count\": 665,\n",
      "      \"location\": \"Minute Maid Park\",\n",
      "      \"profile_link_color\": \"FF7700\",\n",
      "      \"profile_image_url\": \"http://pbs.twimg.com/profile_images/922849208570281986/4uh4yust_normal.jpg\",\n",
      "      \"following\": null,\n",
      "      \"geo_enabled\": true,\n",
      "      \"profile_banner_url\": \"https://pbs.twimg.com/profile_banners/52803520/1508859384\",\n",
      "      \"profile_background_image_url\": \"http://pbs.twimg.com/profile_background_images/559481385501462529/ic-DODTn.jpeg\",\n",
      "      \"name\": \"Houston Astros\",\n",
      "      \"lang\": \"en\",\n",
      "      \"profile_background_tile\": false,\n",
      "      \"favourites_count\": 12298,\n",
      "      \"screen_name\": \"astros\",\n",
      "      \"notifications\": null,\n",
      "      \"url\": \"https://t.co/fcxSSm5pLQ\",\n",
      "      \"created_at\": \"Wed Jul 01 18:16:16 +0000 2009\",\n",
      "      \"contributors_enabled\": false,\n",
      "      \"time_zone\": \"Central Time (US & Canada)\",\n",
      "      \"protected\": false,\n",
      "      \"translator_type\": \"none\",\n",
      "      \"is_translator\": false\n",
      "    },\n",
      "    \"geo\": null,\n",
      "    \"in_reply_to_user_id_str\": null,\n",
      "    \"possibly_sensitive\": false,\n",
      "    \"lang\": \"en\",\n",
      "    \"extended_tweet\": {\n",
      "      \"display_text_range\": [\n",
      "        0,\n",
      "        127\n",
      "      ],\n",
      "      \"entities\": {\n",
      "        \"user_mentions\": [],\n",
      "        \"symbols\": [],\n",
      "        \"hashtags\": [\n",
      "          {\n",
      "            \"indices\": [\n",
      "              115,\n",
      "              127\n",
      "            ],\n",
      "            \"text\": \"EarnHistory\"\n",
      "          }\n",
      "        ],\n",
      "        \"urls\": [],\n",
      "        \"media\": [\n",
      "          {\n",
      "            \"expanded_url\": \"https://twitter.com/astros/status/924864084205559808/photo/1\",\n",
      "            \"display_url\": \"pic.twitter.com/ZxWN5lkLOe\",\n",
      "            \"url\": \"https://t.co/ZxWN5lkLOe\",\n",
      "            \"media_url_https\": \"https://pbs.twimg.com/media/DNXGwtBU8AAxx8S.jpg\",\n",
      "            \"id_str\": \"924863838515687424\",\n",
      "            \"sizes\": {\n",
      "              \"small\": {\n",
      "                \"h\": 680,\n",
      "                \"resize\": \"fit\",\n",
      "                \"w\": 680\n",
      "              },\n",
      "              \"large\": {\n",
      "                \"h\": 1000,\n",
      "                \"resize\": \"fit\",\n",
      "                \"w\": 1000\n",
      "              },\n",
      "              \"medium\": {\n",
      "                \"h\": 1000,\n",
      "                \"resize\": \"fit\",\n",
      "                \"w\": 1000\n",
      "              },\n",
      "              \"thumb\": {\n",
      "                \"h\": 150,\n",
      "                \"resize\": \"crop\",\n",
      "                \"w\": 150\n",
      "              }\n",
      "            },\n",
      "            \"indices\": [\n",
      "              128,\n",
      "              151\n",
      "            ],\n",
      "            \"type\": \"photo\",\n",
      "            \"id\": 924863838515687424,\n",
      "            \"media_url\": \"http://pbs.twimg.com/media/DNXGwtBU8AAxx8S.jpg\"\n",
      "          }\n",
      "        ]\n",
      "      },\n",
      "      \"extended_entities\": {\n",
      "        \"media\": [\n",
      "          {\n",
      "            \"expanded_url\": \"https://twitter.com/astros/status/924864084205559808/photo/1\",\n",
      "            \"display_url\": \"pic.twitter.com/ZxWN5lkLOe\",\n",
      "            \"url\": \"https://t.co/ZxWN5lkLOe\",\n",
      "            \"media_url_https\": \"https://pbs.twimg.com/media/DNXGwtBU8AAxx8S.jpg\",\n",
      "            \"id_str\": \"924863838515687424\",\n",
      "            \"sizes\": {\n",
      "              \"small\": {\n",
      "                \"h\": 680,\n",
      "                \"resize\": \"fit\",\n",
      "                \"w\": 680\n",
      "              },\n",
      "              \"large\": {\n",
      "                \"h\": 1000,\n",
      "                \"resize\": \"fit\",\n",
      "                \"w\": 1000\n",
      "              },\n",
      "              \"medium\": {\n",
      "                \"h\": 1000,\n",
      "                \"resize\": \"fit\",\n",
      "                \"w\": 1000\n",
      "              },\n",
      "              \"thumb\": {\n",
      "                \"h\": 150,\n",
      "                \"resize\": \"crop\",\n",
      "                \"w\": 150\n",
      "              }\n",
      "            },\n",
      "            \"indices\": [\n",
      "              128,\n",
      "              151\n",
      "            ],\n",
      "            \"type\": \"photo\",\n",
      "            \"id\": 924863838515687424,\n",
      "            \"media_url\": \"http://pbs.twimg.com/media/DNXGwtBU8AAxx8S.jpg\"\n",
      "          }\n",
      "        ]\n",
      "      },\n",
      "      \"full_text\": \"Nobody said it was going to be easy.\\n\\nWe're tied at 12 heading to the bottom of the 9th. These two guys coming up. #EarnHistory https://t.co/ZxWN5lkLOe\"\n",
      "    },\n",
      "    \"created_at\": \"Mon Oct 30 05:02:35 +0000 2017\",\n",
      "    \"filter_level\": \"low\",\n",
      "    \"in_reply_to_status_id_str\": null,\n",
      "    \"place\": null\n",
      "  },\n",
      "  \"user\": {\n",
      "    \"follow_request_sent\": null,\n",
      "    \"profile_use_background_image\": true,\n",
      "    \"default_profile_image\": false,\n",
      "    \"id\": 2217383701,\n",
      "    \"default_profile\": true,\n",
      "    \"verified\": false,\n",
      "    \"profile_image_url_https\": \"https://pbs.twimg.com/profile_images/758084409438244864/SgaTZs3b_normal.jpg\",\n",
      "    \"profile_sidebar_fill_color\": \"DDEEF6\",\n",
      "    \"profile_text_color\": \"333333\",\n",
      "    \"followers_count\": 33,\n",
      "    \"profile_sidebar_border_color\": \"C0DEED\",\n",
      "    \"id_str\": \"2217383701\",\n",
      "    \"profile_background_color\": \"C0DEED\",\n",
      "    \"listed_count\": 0,\n",
      "    \"profile_background_image_url_https\": \"https://abs.twimg.com/images/themes/theme1/bg.png\",\n",
      "    \"utc_offset\": 10800,\n",
      "    \"statuses_count\": 228,\n",
      "    \"description\": \"E36Life\",\n",
      "    \"friends_count\": 99,\n",
      "    \"location\": \"HTX\",\n",
      "    \"profile_link_color\": \"1DA1F2\",\n",
      "    \"profile_image_url\": \"http://pbs.twimg.com/profile_images/758084409438244864/SgaTZs3b_normal.jpg\",\n",
      "    \"following\": null,\n",
      "    \"geo_enabled\": true,\n",
      "    \"profile_banner_url\": \"https://pbs.twimg.com/profile_banners/2217383701/1468723911\",\n",
      "    \"profile_background_image_url\": \"http://abs.twimg.com/images/themes/theme1/bg.png\",\n",
      "    \"name\": \"ACMRIVER\",\n",
      "    \"lang\": \"ru\",\n",
      "    \"profile_background_tile\": false,\n",
      "    \"favourites_count\": 312,\n",
      "    \"screen_name\": \"giorivera30\",\n",
      "    \"notifications\": null,\n",
      "    \"url\": null,\n",
      "    \"created_at\": \"Wed Nov 27 07:58:50 +0000 2013\",\n",
      "    \"contributors_enabled\": false,\n",
      "    \"time_zone\": \"Moscow\",\n",
      "    \"protected\": false,\n",
      "    \"translator_type\": \"none\",\n",
      "    \"is_translator\": false\n",
      "  },\n",
      "  \"geo\": null,\n",
      "  \"in_reply_to_user_id_str\": null,\n",
      "  \"lang\": \"en\",\n",
      "  \"created_at\": \"Mon Oct 30 05:33:28 +0000 2017\",\n",
      "  \"filter_level\": \"low\",\n",
      "  \"in_reply_to_status_id_str\": null,\n",
      "  \"place\": null\n",
      "}\n"
     ]
    }
   ],
   "source": [
    "import json\n",
    "print(json.dumps(json.load(open(\"example-tweet.json\")), indent=2))"
   ]
  },
  {
   "cell_type": "markdown",
   "metadata": {},
   "source": [
    "You can find several key elements in this example; the text, time, and language of the tweet, whether it was a reply to another user, the user's screen name along with their primary language and other account information like creation date, follower/friend/tweet counts, and perhaps their location.  If there are hashtags, user mentions, or urls present in their tweet, they will be present in the `entities` section; these are not present in every tweet.  If this is a retweet, you will see the original tweet and its information nested within."
   ]
  },
  {
   "cell_type": "markdown",
   "metadata": {},
   "source": [
    "### Q1.2 - Start up Spark, and verify the file sizes."
   ]
  },
  {
   "cell_type": "markdown",
   "metadata": {},
   "source": [
    "We will use our normal startup sequence here:"
   ]
  },
  {
   "cell_type": "code",
   "execution_count": 1,
   "metadata": {},
   "outputs": [],
   "source": [
    "import os"
   ]
  },
  {
   "cell_type": "code",
   "execution_count": 2,
   "metadata": {},
   "outputs": [],
   "source": [
    "os.environ['SPARK_HOME'] = '/usr/local/lib/spark'"
   ]
  },
  {
   "cell_type": "code",
   "execution_count": 3,
   "metadata": {},
   "outputs": [],
   "source": [
    "import findspark"
   ]
  },
  {
   "cell_type": "code",
   "execution_count": 4,
   "metadata": {},
   "outputs": [],
   "source": [
    "findspark.init()"
   ]
  },
  {
   "cell_type": "code",
   "execution_count": 5,
   "metadata": {},
   "outputs": [],
   "source": [
    "from pyspark import SparkContext"
   ]
  },
  {
   "cell_type": "code",
   "execution_count": 6,
   "metadata": {},
   "outputs": [],
   "source": [
    "spark = SparkContext(appName='project-03')"
   ]
  },
  {
   "cell_type": "code",
   "execution_count": 9,
   "metadata": {},
   "outputs": [
    {
     "data": {
      "text/html": [
       "\n",
       "        <div>\n",
       "            <p><b>SparkContext</b></p>\n",
       "\n",
       "            <p><a href=\"http://ip-172-31-60-234.ec2.internal:4040\">Spark UI</a></p>\n",
       "\n",
       "            <dl>\n",
       "              <dt>Version</dt>\n",
       "                <dd><code>v3.0.0</code></dd>\n",
       "              <dt>Master</dt>\n",
       "                <dd><code>local[*]</code></dd>\n",
       "              <dt>AppName</dt>\n",
       "                <dd><code>project-03</code></dd>\n",
       "            </dl>\n",
       "        </div>\n",
       "        "
      ],
      "text/plain": [
       "<SparkContext master=local[*] appName=project-03>"
      ]
     },
     "execution_count": 9,
     "metadata": {},
     "output_type": "execute_result"
    }
   ],
   "source": [
    "spark"
   ]
  },
  {
   "cell_type": "code",
   "execution_count": 7,
   "metadata": {},
   "outputs": [],
   "source": [
    "from pyspark import SQLContext"
   ]
  },
  {
   "cell_type": "code",
   "execution_count": 8,
   "metadata": {},
   "outputs": [],
   "source": [
    "sqlc = SQLContext(spark)"
   ]
  },
  {
   "cell_type": "code",
   "execution_count": 9,
   "metadata": {},
   "outputs": [
    {
     "data": {
      "text/plain": [
       "<pyspark.sql.context.SQLContext at 0x7fa6014b5280>"
      ]
     },
     "execution_count": 9,
     "metadata": {},
     "output_type": "execute_result"
    }
   ],
   "source": [
    "sqlc"
   ]
  },
  {
   "cell_type": "code",
   "execution_count": 9,
   "metadata": {},
   "outputs": [],
   "source": [
    "tweets = sqlc.read.json(\"9670f3399f774789b7c3e18975d25611_*.json\")"
   ]
  },
  {
   "cell_type": "markdown",
   "metadata": {},
   "source": [
    "Verify that Spark has loaded the same number of tweets you saw before:\n",
    "\n",
    "**Answer**"
   ]
  },
  {
   "cell_type": "code",
   "execution_count": 18,
   "metadata": {},
   "outputs": [
    {
     "name": "stdout",
     "output_type": "stream",
     "text": [
      "100000 9670f3399f774789b7c3e18975d25611_003.json\n"
     ]
    }
   ],
   "source": [
    "!wc -l 9670f3399f774789b7c3e18975d25611_*.json"
   ]
  },
  {
   "cell_type": "code",
   "execution_count": 19,
   "metadata": {},
   "outputs": [
    {
     "data": {
      "text/plain": [
       "100000"
      ]
     },
     "execution_count": 19,
     "metadata": {},
     "output_type": "execute_result"
    }
   ],
   "source": [
    "tweets.count()"
   ]
  },
  {
   "cell_type": "markdown",
   "metadata": {},
   "source": [
    "We could see that when I directly read lines from the original jason"
   ]
  },
  {
   "cell_type": "markdown",
   "metadata": {},
   "source": [
    "## Part 2 - Comparing DataFrames and Spark SQL\n",
    "\n",
    "For the next three questions, we will look at operations using both DataFrames and SQL queries. Note that `tweets` is already a DataFrame:"
   ]
  },
  {
   "cell_type": "markdown",
   "metadata": {},
   "source": [
    "To issue SQL queries, we need to register a table based on `tweets`:"
   ]
  },
  {
   "cell_type": "code",
   "execution_count": 10,
   "metadata": {},
   "outputs": [],
   "source": [
    "tweets.createOrReplaceTempView(\"tweets\")"
   ]
  },
  {
   "cell_type": "markdown",
   "metadata": {},
   "source": [
    "### Q2.1 - Which 10 languages are most commonly used in tweets?  Verify your result by executing it with both the dataframe and with SQL.\n",
    "\n",
    "Hint: for the dataframe, use `groupBy`, `count`, and `orderBy`.  See the documentation at https://spark.apache.org/docs/2.2.0/api/python/pyspark.sql.html for details on these and other functions.\n",
    "\n",
    "**Answer**\n",
    "+ We could see that both the dataframe and sql contain the same result"
   ]
  },
  {
   "cell_type": "code",
   "execution_count": 16,
   "metadata": {},
   "outputs": [
    {
     "name": "stdout",
     "output_type": "stream",
     "text": [
      "+----+-----+\n",
      "|lang|count|\n",
      "+----+-----+\n",
      "|  en|88987|\n",
      "|  es| 6825|\n",
      "| und| 3058|\n",
      "|  in|  210|\n",
      "|  fr|  181|\n",
      "|  pt|  133|\n",
      "|  nl|   89|\n",
      "|  ht|   83|\n",
      "|  ja|   81|\n",
      "|  tl|   77|\n",
      "+----+-----+\n",
      "only showing top 10 rows\n",
      "\n"
     ]
    }
   ],
   "source": [
    "tweets.groupby('lang').count().orderBy('count',ascending = False).show(10)"
   ]
  },
  {
   "cell_type": "code",
   "execution_count": 13,
   "metadata": {},
   "outputs": [
    {
     "name": "stdout",
     "output_type": "stream",
     "text": [
      "+----+-----+\n",
      "|lang|count|\n",
      "+----+-----+\n",
      "|  en|88987|\n",
      "|  es| 6825|\n",
      "| und| 3058|\n",
      "|  in|  210|\n",
      "|  fr|  181|\n",
      "|  pt|  133|\n",
      "|  nl|   89|\n",
      "|  ht|   83|\n",
      "|  ja|   81|\n",
      "|  tl|   77|\n",
      "+----+-----+\n",
      "only showing top 10 rows\n",
      "\n"
     ]
    }
   ],
   "source": [
    "sqlc.sql(\"\"\"\n",
    "    SELECT lang, COUNT(lang) AS count\n",
    "    FROM tweets\n",
    "    GROUP BY lang\n",
    "    ORDER BY count DESC\n",
    "\"\"\").show(10)"
   ]
  },
  {
   "cell_type": "markdown",
   "metadata": {},
   "source": [
    "### Q2.2 - Which 10 time zones are most common among users?  Verify your result with both the dataframe and SQL.\n",
    "\n",
    "*Note*: for this question, you may leave NULL values present in your results, as a way to help you understand what data is present and what is missing.\n",
    "\n",
    "**Answer**"
   ]
  },
  {
   "cell_type": "markdown",
   "metadata": {},
   "source": [
    "Since null is included in this dataframe, in order to show the top 10 time zones, I show 11 rows which includes top 10 countries and null. We can see that both the dataframe and sql show tha same results."
   ]
  },
  {
   "cell_type": "code",
   "execution_count": 15,
   "metadata": {},
   "outputs": [
    {
     "name": "stdout",
     "output_type": "stream",
     "text": [
      "+--------------------+-----+\n",
      "|           time_zone|count|\n",
      "+--------------------+-----+\n",
      "|                null|42239|\n",
      "|Central Time (US ...|17436|\n",
      "|Pacific Time (US ...|17097|\n",
      "|Eastern Time (US ...| 8664|\n",
      "|             Arizona| 2490|\n",
      "|Mountain Time (US...| 2475|\n",
      "|Atlantic Time (Ca...| 1048|\n",
      "|             Caracas| 1006|\n",
      "|              Hawaii|  821|\n",
      "|         Mexico City|  793|\n",
      "|               Quito|  787|\n",
      "+--------------------+-----+\n",
      "only showing top 11 rows\n",
      "\n"
     ]
    }
   ],
   "source": [
    "tweets.groupby('user.time_zone').count().orderBy('count',ascending = False).show(11)"
   ]
  },
  {
   "cell_type": "code",
   "execution_count": 14,
   "metadata": {},
   "outputs": [
    {
     "name": "stdout",
     "output_type": "stream",
     "text": [
      "+--------------------+-----+\n",
      "|           time_zone|count|\n",
      "+--------------------+-----+\n",
      "|Central Time (US ...|17436|\n",
      "|Pacific Time (US ...|17097|\n",
      "|Eastern Time (US ...| 8664|\n",
      "|             Arizona| 2490|\n",
      "|Mountain Time (US...| 2475|\n",
      "|Atlantic Time (Ca...| 1048|\n",
      "|             Caracas| 1006|\n",
      "|              Hawaii|  821|\n",
      "|         Mexico City|  793|\n",
      "|               Quito|  787|\n",
      "+--------------------+-----+\n",
      "only showing top 10 rows\n",
      "\n"
     ]
    }
   ],
   "source": [
    "sqlc.sql(\"\"\"\n",
    "    SELECT user.time_zone, COUNT(user.time_zone)  AS count\n",
    "    FROM tweets\n",
    "    GROUP BY user.time_zone\n",
    "    ORDER BY count DESC\n",
    "\"\"\").show(10)"
   ]
  },
  {
   "cell_type": "markdown",
   "metadata": {},
   "source": [
    "### Q2.3 - How many tweets mention the Dodgers?  How many mention the Astros?  How many mention both?\n",
    "\n",
    "You may use either the dataframe or SQL to answer.  Explain why you have chosen that approach.\n",
    "\n",
    "Hint:  you will want to look at the value of the `text` field.\n",
    "\n",
    "**Answer**"
   ]
  },
  {
   "cell_type": "code",
   "execution_count": 33,
   "metadata": {},
   "outputs": [
    {
     "data": {
      "text/plain": [
       "33114"
      ]
     },
     "execution_count": 33,
     "metadata": {},
     "output_type": "execute_result"
    }
   ],
   "source": [
    "from pyspark.sql.functions import lower\n",
    "tweets.filter(lower(tweets['text']).contains('dodgers')).count()"
   ]
  },
  {
   "cell_type": "code",
   "execution_count": 20,
   "metadata": {},
   "outputs": [
    {
     "name": "stdout",
     "output_type": "stream",
     "text": [
      "+--------+\n",
      "|count(1)|\n",
      "+--------+\n",
      "|   33114|\n",
      "+--------+\n",
      "\n"
     ]
    }
   ],
   "source": [
    "# consider both upper case and lower case\n",
    "sqlc.sql(\"\"\"\n",
    "    SELECT COUNT(*)\n",
    "    From tweets\n",
    "    WHERE lower(text) LIKE \"%dodgers%\"\n",
    "\"\"\").show()"
   ]
  },
  {
   "cell_type": "code",
   "execution_count": 34,
   "metadata": {},
   "outputs": [
    {
     "name": "stdout",
     "output_type": "stream",
     "text": [
      "+--------+\n",
      "|count(1)|\n",
      "+--------+\n",
      "|   27822|\n",
      "+--------+\n",
      "\n"
     ]
    }
   ],
   "source": [
    "# First letter uppercase\n",
    "sqlc.sql(\"\"\"\n",
    "    SELECT COUNT(*)\n",
    "    From tweets\n",
    "    WHERE text LIKE \"%Dodgers%\"\n",
    "\"\"\").show()"
   ]
  },
  {
   "cell_type": "markdown",
   "metadata": {},
   "source": [
    "I choose to use sql to solve this problem. For the convenience of explaination, I provide both solution for dodgers:\n",
    "+ Since sql and sparks are case sensitive, in order to find the tweets that mention the team names, I think it is more reasonable to consider both upper and lower cases for spelling. Therefore, I will have to lower the case first. SQL has built in lower function. While as for dataframe, I have to import the function first before using it. Therefore, I think sql is more convenient in this problem.\n",
    "+ In the questions, it is not specified about the case. That's why I also provide the counts which only the first letter of the team name is uppercased (Astros, Dodgers), just like the format in the question.\n",
    "\n",
    "As for the result of this questions, if ignoring the case of mentioning the teamname:\n",
    "+ Dodgers has been mention for 33114 times.\n",
    "+ Astros has been mention for 70149 times.\n",
    "+ Both are mentioned for 13962 times.\n",
    "\n",
    "If we directly take it from the questions, just consider the case where the first letter is uppercase (Astros, Dodgers):\n",
    "+ Dodgers has been mentioned for 27822 times.\n",
    "+ Astros has been mentioned for 34162 times.\n",
    "+ Both are mentioned for 10421 times."
   ]
  },
  {
   "cell_type": "markdown",
   "metadata": {},
   "source": [
    "__Astros__"
   ]
  },
  {
   "cell_type": "code",
   "execution_count": 28,
   "metadata": {},
   "outputs": [
    {
     "name": "stdout",
     "output_type": "stream",
     "text": [
      "+--------+\n",
      "|count(1)|\n",
      "+--------+\n",
      "|   70149|\n",
      "+--------+\n",
      "\n"
     ]
    }
   ],
   "source": [
    "# ignore case - Astros\n",
    "sqlc.sql(\"\"\"\n",
    "    SELECT COUNT(*)\n",
    "    From tweets\n",
    "    WHERE lower(text) LIKE \"%astros%\"\n",
    "\"\"\").show()"
   ]
  },
  {
   "cell_type": "code",
   "execution_count": 35,
   "metadata": {},
   "outputs": [
    {
     "name": "stdout",
     "output_type": "stream",
     "text": [
      "+--------+\n",
      "|count(1)|\n",
      "+--------+\n",
      "|   34162|\n",
      "+--------+\n",
      "\n"
     ]
    }
   ],
   "source": [
    "# only first letter uppercase as asked in the question - Astros\n",
    "sqlc.sql(\"\"\"\n",
    "    SELECT COUNT(*)\n",
    "    From tweets\n",
    "    WHERE text LIKE \"%Astros%\"\n",
    "\"\"\").show()"
   ]
  },
  {
   "cell_type": "markdown",
   "metadata": {},
   "source": [
    "__Both Astros and Dodgers__"
   ]
  },
  {
   "cell_type": "code",
   "execution_count": 12,
   "metadata": {},
   "outputs": [
    {
     "name": "stdout",
     "output_type": "stream",
     "text": [
      "+--------+\n",
      "|count(1)|\n",
      "+--------+\n",
      "|   13962|\n",
      "+--------+\n",
      "\n",
      "+--------+\n",
      "|count(1)|\n",
      "+--------+\n",
      "|   10421|\n",
      "+--------+\n",
      "\n"
     ]
    }
   ],
   "source": [
    "# ignore case - both\n",
    "sqlc.sql(\"\"\"\n",
    "    SELECT COUNT(*)\n",
    "    From tweets\n",
    "    WHERE lower(text) LIKE \"%astros%\"\n",
    "    AND lower(text) LIKE \"%dodgers%\"\n",
    "\"\"\").show()\n",
    "\n",
    "# only first letter uppercase as asked in the question - both\n",
    "sqlc.sql(\"\"\"\n",
    "    SELECT COUNT(*)\n",
    "    From tweets\n",
    "    WHERE text LIKE \"%Astros%\" \n",
    "    AND text LIKE \"%Dodgers%\"\n",
    "\"\"\").show()"
   ]
  },
  {
   "cell_type": "markdown",
   "metadata": {},
   "source": [
    "## Part 3 - More complex queries\n",
    "\n",
    "For this section, you may choose to use dataframe queries or SQL.  If you wish, you may verify results by using both, as in Part 2, but this is not required for this section.\n",
    "\n",
    "### Q3.1 - Team mentions by location\n",
    "\n",
    "In which users' locations are the Astros and the Dodgers being mentioned the most?  Consider each team separately, one at a time.  Discuss your findings.\n",
    "\n",
    "Hint:  you may use either the time zones or user-specified locations for this question.\n",
    "\n",
    "**Answer**"
   ]
  },
  {
   "cell_type": "markdown",
   "metadata": {},
   "source": [
    "**Dogders:**\n",
    "+ Whether or not we considering the case of spelling the team name, the top location is the same.\n",
    "+ We could see from the dataframe result that most of the tweets that contain Dogders does not have time_zone.\n",
    "+ If we ignore the null rows, the top 1 time zone is Pacific Time of United States which appear 8072 times. If first letter uppercase, 6650 times. This result is reasonable to me because Dodgers is a Los Angeles Team and Los Angeles uses Pacific Standard Time."
   ]
  },
  {
   "cell_type": "code",
   "execution_count": 30,
   "metadata": {},
   "outputs": [
    {
     "name": "stdout",
     "output_type": "stream",
     "text": [
      "+--------------------------+-----+\n",
      "|time_zone                 |count|\n",
      "+--------------------------+-----+\n",
      "|null                      |13806|\n",
      "|Pacific Time (US & Canada)|8072 |\n",
      "+--------------------------+-----+\n",
      "only showing top 2 rows\n",
      "\n"
     ]
    }
   ],
   "source": [
    "# ignore case\n",
    "tweets.filter(lower(tweets['text']).contains('dodgers')) \\\n",
    "    .groupby('user.time_zone') \\\n",
    "    .count() \\\n",
    "    .orderBy('count',ascending = False).show(2, False)"
   ]
  },
  {
   "cell_type": "code",
   "execution_count": 36,
   "metadata": {},
   "outputs": [
    {
     "name": "stdout",
     "output_type": "stream",
     "text": [
      "+--------------------------+-----+\n",
      "|time_zone                 |count|\n",
      "+--------------------------+-----+\n",
      "|null                      |11315|\n",
      "|Pacific Time (US & Canada)|6650 |\n",
      "+--------------------------+-----+\n",
      "only showing top 2 rows\n",
      "\n"
     ]
    }
   ],
   "source": [
    "# first letter upper case, Dogders\n",
    "tweets.filter(tweets['text'].contains('Dodgers')) \\\n",
    "    .groupby('user.time_zone') \\\n",
    "    .count() \\\n",
    "    .orderBy('count',ascending = False).show(2, False)"
   ]
  },
  {
   "cell_type": "markdown",
   "metadata": {},
   "source": [
    "**Astros:**\n",
    "+  Whether or not we considering the case of spelling the team name, the top location is the same.\n",
    "+ Similar like previous result, we could see that most of the Astroc contained tweets do not have time_zone.\n",
    "+ If we ignore the null, Central Time has the highest count, 14183, for Astroc. If first letter upper case, 6286 times. Houston is the hometown for Astroc which uses Central Time. Therefore this result makes sense."
   ]
  },
  {
   "cell_type": "code",
   "execution_count": 32,
   "metadata": {},
   "outputs": [
    {
     "name": "stdout",
     "output_type": "stream",
     "text": [
      "+--------------------------+-----+\n",
      "|time_zone                 |count|\n",
      "+--------------------------+-----+\n",
      "|null                      |29896|\n",
      "|Central Time (US & Canada)|14183|\n",
      "+--------------------------+-----+\n",
      "only showing top 2 rows\n",
      "\n"
     ]
    }
   ],
   "source": [
    "# ignore case\n",
    "tweets.filter(lower(tweets['text']).contains('astros')) \\\n",
    "    .groupby('user.time_zone') \\\n",
    "    .count() \\\n",
    "    .orderBy('count',ascending = False).show(2, False)"
   ]
  },
  {
   "cell_type": "code",
   "execution_count": 38,
   "metadata": {},
   "outputs": [
    {
     "name": "stdout",
     "output_type": "stream",
     "text": [
      "+--------------------------+-----+\n",
      "|time_zone                 |count|\n",
      "+--------------------------+-----+\n",
      "|null                      |13475|\n",
      "|Central Time (US & Canada)|6286 |\n",
      "+--------------------------+-----+\n",
      "only showing top 2 rows\n",
      "\n"
     ]
    }
   ],
   "source": [
    "# first letter upper case, Astro\n",
    "tweets.filter(tweets['text'].contains('Astros')) \\\n",
    "    .groupby('user.time_zone') \\\n",
    "    .count() \\\n",
    "    .orderBy('count',ascending = False).show(2, False)"
   ]
  },
  {
   "cell_type": "markdown",
   "metadata": {},
   "source": [
    "### Q3.2 - Which Twitter users are being replied to the most?\n",
    "\n",
    "Discuss your findings.\n",
    "\n",
    "Hint: use the top-level `in_reply_to_screen_name` for this.\n",
    "\n",
    "**Answer**"
   ]
  },
  {
   "cell_type": "code",
   "execution_count": 12,
   "metadata": {},
   "outputs": [
    {
     "name": "stdout",
     "output_type": "stream",
     "text": [
      "+-----------------------+-----+\n",
      "|in_reply_to_screen_name|count|\n",
      "+-----------------------+-----+\n",
      "|                   null|91099|\n",
      "|                 astros|  821|\n",
      "|                Dodgers|  624|\n",
      "|                    MLB|  196|\n",
      "|          stephenasmith|  106|\n",
      "|               MLBONFOX|   68|\n",
      "|          DodgerInsider|   61|\n",
      "|          Nick_Offerman|   54|\n",
      "|                ABREG_1|   49|\n",
      "|                trvisXX|   46|\n",
      "|        JustinVerlander|   42|\n",
      "+-----------------------+-----+\n",
      "only showing top 11 rows\n",
      "\n"
     ]
    }
   ],
   "source": [
    "tweets.groupby('in_reply_to_screen_name').count().orderBy('count',ascending = False).show(11)"
   ]
  },
  {
   "cell_type": "markdown",
   "metadata": {},
   "source": [
    "+ We could see that most of the users are not replied. \n",
    "+ Except that, 'astros' is replied to the most which has 821 times. Baseball related accounts have really high counts over here such as Dodgers, MLB, MLBONFOX, DodgerInsiders, ABREG_1,justinverland. Those accounts are either baseball team related or players' accounts. We could see that baseball has been really popular.\n",
    "+ The rest of the accounts are more entertainment or media related. They are accounts for host, rappers or actors."
   ]
  },
  {
   "cell_type": "markdown",
   "metadata": {},
   "source": [
    "### Q3.3 - Which 10 verified users have the most followers?  Which 10 unverified users have the most followers?\n",
    "\n",
    "Provide both the screen names and follower counts for each.\n",
    "\n",
    "Discuss your findings.\n",
    "\n",
    "**Answer**"
   ]
  },
  {
   "cell_type": "markdown",
   "metadata": {},
   "source": [
    "__Verified User:__\n",
    "+ We could see here that MLB has been record 4 times. From the id column, we could see that those four rows have exactly the same id. Therefore, I think there are some duplicates in this dataset. That is why I decide to create a new dataframe that picks the highest followers_count whenever duplicate exists for the same name."
   ]
  },
  {
   "cell_type": "code",
   "execution_count": 10,
   "metadata": {},
   "outputs": [
    {
     "name": "stdout",
     "output_type": "stream",
     "text": [
      "+----------------+---------------+--------+\n",
      "|name            |followers_count|id      |\n",
      "+----------------+---------------+--------+\n",
      "|Reuters Top News|18937529       |1652541 |\n",
      "|Fox News        |16272836       |1367531 |\n",
      "|ABC News        |12551437       |28785486|\n",
      "|Washington Post |11417638       |2467791 |\n",
      "|MLB             |7841255        |18479513|\n",
      "|MLB             |7840827        |18479513|\n",
      "|MLB             |7840739        |18479513|\n",
      "|MLB             |7840418        |18479513|\n",
      "|NPR             |7289492        |5392522 |\n",
      "|Bill Simmons    |6000106        |32765534|\n",
      "+----------------+---------------+--------+\n",
      "only showing top 10 rows\n",
      "\n"
     ]
    }
   ],
   "source": [
    "tweets.filter('user.verified == true') \\\n",
    "    .orderBy('user.followers_count',ascending = False) \\\n",
    "    .select('user.name','user.followers_count','user.id').show(10,False)"
   ]
  },
  {
   "cell_type": "markdown",
   "metadata": {},
   "source": [
    "__Verfied Users with dupllicates removed:__\n",
    "+ News accounts usually have high followers. We could see from the output that 7 out of 10 in the top list are new or new related accounts. This means that twitter is still a very powerful platform for news spreading.\n",
    "+ MLB is the only sports related in the list which locates at no.5 in the list. This might imply how influence baseball is comparing with all other sports. So many of the twitter users follow and focus on MLB.\n",
    "+ THe rest two are famous entrepeneurs which listed at no.7 and no.9 in the list."
   ]
  },
  {
   "cell_type": "code",
   "execution_count": 73,
   "metadata": {},
   "outputs": [
    {
     "name": "stdout",
     "output_type": "stream",
     "text": [
      "+--------------------+--------------------+\n",
      "|                name|max(followers_count)|\n",
      "+--------------------+--------------------+\n",
      "|    Reuters Top News|            18937529|\n",
      "|            Fox News|            16272836|\n",
      "|            ABC News|            12551437|\n",
      "|     Washington Post|            11417638|\n",
      "|                 MLB|             7841255|\n",
      "|                 NPR|             7289492|\n",
      "|        Bill Simmons|             6000106|\n",
      "|            NBC News|             5442705|\n",
      "|         John Legere|             4630104|\n",
      "|ABS-CBN News Channel|             4453229|\n",
      "+--------------------+--------------------+\n",
      "only showing top 10 rows\n",
      "\n"
     ]
    }
   ],
   "source": [
    "tweets.filter('user.verified == true') \\\n",
    "    .select('user.name', 'user.followers_count') \\\n",
    "    .groupby('name').max('followers_count') \\\n",
    "    .orderBy('max(followers_count)',ascending = False) \\\n",
    "    .show(10)"
   ]
  },
  {
   "cell_type": "markdown",
   "metadata": {},
   "source": [
    "__Not Verified Users:__\n",
    "+ Redundency of some rows are still a problem. Again, new dataframe created to remove duplicates. Keep the highest followers_count when there is a duplicates in name."
   ]
  },
  {
   "cell_type": "code",
   "execution_count": 58,
   "metadata": {},
   "outputs": [
    {
     "name": "stdout",
     "output_type": "stream",
     "text": [
      "+--------------------+---------------+---------------+----------+\n",
      "|name                |screen_name    |followers_count|id        |\n",
      "+--------------------+---------------+---------------+----------+\n",
      "|TENIENTE CHOCHOS    |chochos        |833669         |29614331  |\n",
      "|Diario El Carabobeño|el_carabobeno  |725952         |82971772  |\n",
      "|❤Ƥ▲ϻ(❛‿❛)❤          |PAMsLOvE       |712254         |20897273  |\n",
      "|🗽Jeffrey Levin 🗽  |jilevin        |568341         |24733117  |\n",
      "|It's Bernard®       |sun_das_ill    |559669         |2796081233|\n",
      "|EP | Mundo          |EP_Mundo       |538525         |108192135 |\n",
      "|EP | Mundo          |EP_Mundo       |538522         |108192135 |\n",
      "|EP | Mundo          |EP_Mundo       |538522         |108192135 |\n",
      "|EP | Mundo          |EP_Mundo       |538522         |108192135 |\n",
      "|LALATE              |LALATE         |516139         |43846520  |\n",
      "|LALATE              |LALATE         |516139         |43846520  |\n",
      "|Captain Gigawatt    |piercearrow33  |503015         |38976017  |\n",
      "|BLACK GOKU 😈🔥     |BigNeechi      |496825         |288513282 |\n",
      "|EP | Venezuela      |periodicovzlano|493446         |290395312 |\n",
      "+--------------------+---------------+---------------+----------+\n",
      "only showing top 14 rows\n",
      "\n"
     ]
    }
   ],
   "source": [
    "tweets.filter('user.verified == false') \\\n",
    "    .orderBy('user.followers_count',ascending = False) \\\n",
    "    .select('user.name','user.screen_name','user.followers_count','user.id').show(14,False)"
   ]
  },
  {
   "cell_type": "markdown",
   "metadata": {},
   "source": [
    "__Not Verified Users with duplicates removed:__\n",
    "+ As for unverfied users, the top 10 is more diversified compared with that of the verified.\n",
    "+ Still a portion of them are news related for different countries such as: el_carabobeno(no.2), EP_Mundo(no.6), LALATE(no.7) and periodicovzlano(no.10). Therefore, news related account are still the main twitters that most people will follower whehter in the unverified or verified.\n",
    "+ Other accounts are more specialized such as entrepreneur, fitness promoters, photographers and so on.\n"
   ]
  },
  {
   "cell_type": "code",
   "execution_count": 14,
   "metadata": {},
   "outputs": [
    {
     "name": "stdout",
     "output_type": "stream",
     "text": [
      "+--------------------+---------------+--------------------+\n",
      "|name                |screen_name    |max(followers_count)|\n",
      "+--------------------+---------------+--------------------+\n",
      "|TENIENTE CHOCHOS    |chochos        |833669              |\n",
      "|Diario El Carabobeño|el_carabobeno  |725952              |\n",
      "|❤Ƥ▲ϻ(❛‿❛)❤          |PAMsLOvE       |712254              |\n",
      "|🗽Jeffrey Levin 🗽  |jilevin        |568341              |\n",
      "|It's Bernard®       |sun_das_ill    |559669              |\n",
      "|EP | Mundo          |EP_Mundo       |538525              |\n",
      "|LALATE              |LALATE         |516139              |\n",
      "|Captain Gigawatt    |piercearrow33  |503015              |\n",
      "|BLACK GOKU 😈🔥     |BigNeechi      |496825              |\n",
      "|EP | Venezuela      |periodicovzlano|493446              |\n",
      "+--------------------+---------------+--------------------+\n",
      "only showing top 10 rows\n",
      "\n"
     ]
    }
   ],
   "source": [
    "tweets.filter('user.verified == false') \\\n",
    "    .select('user.name', 'user.followers_count','user.screen_name') \\\n",
    "    .groupby('name',\"screen_name\").max('followers_count') \\\n",
    "    .orderBy('max(followers_count)',ascending = False) \\\n",
    "    .show(10,False)"
   ]
  },
  {
   "cell_type": "markdown",
   "metadata": {},
   "source": [
    "### Q3.4 - What are the most popular sets of hashtags among users with many followers?  Are they the same as among users with few followers?\n",
    "\n",
    "Decide for yourself exactly how many followers you believe to be \"many\", and explain your decision.  You may use queries and statistics to support this decision if you wish.\n",
    "\n",
    "Hint: if your sample tweet above does not include hashtags under the `entities` field, generate a new example by running the `shuf` command again until you find one that does.\n",
    "\n",
    "Hint 2: the hashtag texts will be in an array, so you may need some functions you haven't used before.  If you're using SQL, see the docs for [Hive SQL](https://docs.treasuredata.com/articles/hive-functions) for details, (and consider `CONCAT_WS`, for example).\n",
    "\n",
    "Discuss your findings.\n",
    "\n",
    "**Answer**"
   ]
  },
  {
   "cell_type": "markdown",
   "metadata": {},
   "source": [
    "__Section 1: define many and few by followers_counts.__"
   ]
  },
  {
   "cell_type": "code",
   "execution_count": 15,
   "metadata": {},
   "outputs": [
    {
     "name": "stdout",
     "output_type": "stream",
     "text": [
      "+-------+------------------+\n",
      "|summary|   followers_count|\n",
      "+-------+------------------+\n",
      "|  count|            100000|\n",
      "|   mean|        4989.93252|\n",
      "| stddev|127175.56091358254|\n",
      "|    min|                 0|\n",
      "|    max|          18937529|\n",
      "+-------+------------------+\n",
      "\n"
     ]
    }
   ],
   "source": [
    "tweets.describe('user.followers_count').show()"
   ]
  },
  {
   "cell_type": "code",
   "execution_count": 20,
   "metadata": {},
   "outputs": [],
   "source": [
    "%matplotlib inline\n",
    "import matplotlib.pyplot as plt"
   ]
  },
  {
   "cell_type": "code",
   "execution_count": 26,
   "metadata": {},
   "outputs": [
    {
     "data": {
      "text/plain": [
       "<matplotlib.axes._subplots.AxesSubplot at 0x7f84e00a75b0>"
      ]
     },
     "execution_count": 26,
     "metadata": {},
     "output_type": "execute_result"
    },
    {
     "data": {
      "image/png": "[encoded data removed]",
      "text/plain": [
       "<Figure size 720x720 with 1 Axes>"
      ]
     },
     "metadata": {
      "needs_background": "light"
     },
     "output_type": "display_data"
    }
   ],
   "source": [
    "followers = tweets.select('user.followers_count')\n",
    "f = followers.toPandas()\n",
    "f.boxplot(column = 'followers_count',figsize = (10,10))"
   ]
  },
  {
   "cell_type": "code",
   "execution_count": 27,
   "metadata": {},
   "outputs": [
    {
     "data": {
      "text/html": [
       "<div>\n",
       "<style scoped>\n",
       "    .dataframe tbody tr th:only-of-type {\n",
       "        vertical-align: middle;\n",
       "    }\n",
       "\n",
       "    .dataframe tbody tr th {\n",
       "        vertical-align: top;\n",
       "    }\n",
       "\n",
       "    .dataframe thead th {\n",
       "        text-align: right;\n",
       "    }\n",
       "</style>\n",
       "<table border=\"1\" class=\"dataframe\">\n",
       "  <thead>\n",
       "    <tr style=\"text-align: right;\">\n",
       "      <th></th>\n",
       "      <th>followers_count</th>\n",
       "    </tr>\n",
       "  </thead>\n",
       "  <tbody>\n",
       "    <tr>\n",
       "      <th>count</th>\n",
       "      <td>1.000000e+05</td>\n",
       "    </tr>\n",
       "    <tr>\n",
       "      <th>mean</th>\n",
       "      <td>4.989933e+03</td>\n",
       "    </tr>\n",
       "    <tr>\n",
       "      <th>std</th>\n",
       "      <td>1.271756e+05</td>\n",
       "    </tr>\n",
       "    <tr>\n",
       "      <th>min</th>\n",
       "      <td>0.000000e+00</td>\n",
       "    </tr>\n",
       "    <tr>\n",
       "      <th>25%</th>\n",
       "      <td>1.520000e+02</td>\n",
       "    </tr>\n",
       "    <tr>\n",
       "      <th>50%</th>\n",
       "      <td>3.720000e+02</td>\n",
       "    </tr>\n",
       "    <tr>\n",
       "      <th>75%</th>\n",
       "      <td>8.150000e+02</td>\n",
       "    </tr>\n",
       "    <tr>\n",
       "      <th>max</th>\n",
       "      <td>1.893753e+07</td>\n",
       "    </tr>\n",
       "  </tbody>\n",
       "</table>\n",
       "</div>"
      ],
      "text/plain": [
       "       followers_count\n",
       "count     1.000000e+05\n",
       "mean      4.989933e+03\n",
       "std       1.271756e+05\n",
       "min       0.000000e+00\n",
       "25%       1.520000e+02\n",
       "50%       3.720000e+02\n",
       "75%       8.150000e+02\n",
       "max       1.893753e+07"
      ]
     },
     "execution_count": 27,
     "metadata": {},
     "output_type": "execute_result"
    }
   ],
   "source": [
    "f.describe()"
   ]
  },
  {
   "cell_type": "markdown",
   "metadata": {},
   "source": [
    "+ From the summary above, we could see that the followers_count has really large standard deviation. Since the mean is even larger than the mean and based on the boxplot, we could say the distribution of the followers_count is skewed to the right.\n",
    "+ From the describe table of followers_count, we could see that even 75th percentile is still smaller than mean. \n",
    "+ Based on the boxplot above, there is a obvious split at round 250,000. The outliers over 250,000 are more scattered."
   ]
  },
  {
   "cell_type": "code",
   "execution_count": 28,
   "metadata": {},
   "outputs": [
    {
     "data": {
      "text/plain": [
       "293"
      ]
     },
     "execution_count": 28,
     "metadata": {},
     "output_type": "execute_result"
    }
   ],
   "source": [
    "tweets.filter('user.followers_count > 250000').count()"
   ]
  },
  {
   "cell_type": "code",
   "execution_count": 24,
   "metadata": {},
   "outputs": [
    {
     "data": {
      "text/plain": [
       "1163"
      ]
     },
     "execution_count": 24,
     "metadata": {},
     "output_type": "execute_result"
    }
   ],
   "source": [
    "tweets.filter('user.followers_count < 5').count()"
   ]
  },
  {
   "cell_type": "markdown",
   "metadata": {},
   "source": [
    "+ After using the pipeline, I found that there are 293 users that have followers_count larger than 250,000. I therefore decide to take the top 300 as the 'many'.\n",
    "+ As for 'few' users, it is not meaningful to use 25th percentile - 1.5*IQR to find outlier because we will get a negative return. Therefore, I directly pick 5 as a reference. It turns out that 2114 users have less then 10 followers which is about 1% of the total. "
   ]
  },
  {
   "cell_type": "markdown",
   "metadata": {},
   "source": [
    "__Section 2: hastags__"
   ]
  },
  {
   "cell_type": "code",
   "execution_count": 11,
   "metadata": {},
   "outputs": [],
   "source": [
    "hash_many = tweets.filter('user.followers_count > 250000').select('entities.hashtags').rdd\n",
    "hash_many2 = tweets.filter('user.followers_count > 250000').select('entities.hashtags')"
   ]
  },
  {
   "cell_type": "code",
   "execution_count": 25,
   "metadata": {},
   "outputs": [],
   "source": [
    "hash_few = tweets.filter('user.followers_count < 5').select('entities.hashtags').rdd"
   ]
  },
  {
   "cell_type": "code",
   "execution_count": 25,
   "metadata": {},
   "outputs": [
    {
     "name": "stdout",
     "output_type": "stream",
     "text": [
      "root\n",
      " |-- hashtags: array (nullable = true)\n",
      " |    |-- element: struct (containsNull = true)\n",
      " |    |    |-- indices: array (nullable = true)\n",
      " |    |    |    |-- element: long (containsNull = true)\n",
      " |    |    |-- text: string (nullable = true)\n",
      "\n"
     ]
    }
   ],
   "source": [
    "hash_many2.printSchema()"
   ]
  },
  {
   "cell_type": "markdown",
   "metadata": {},
   "source": [
    "__Many__:"
   ]
  },
  {
   "cell_type": "code",
   "execution_count": 21,
   "metadata": {},
   "outputs": [
    {
     "data": {
      "text/plain": [
       "[('WorldSeries', 70),\n",
       " ('Astros', 36),\n",
       " ('EarnHistory', 34),\n",
       " ('SerieMundial', 10),\n",
       " ('Dodgers', 9),\n",
       " ('ThisTeam', 9),\n",
       " ('Houston', 5),\n",
       " ('smESPN', 4),\n",
       " ('worldseries', 3),\n",
       " ('Game5', 3)]"
      ]
     },
     "execution_count": 21,
     "metadata": {},
     "output_type": "execute_result"
    }
   ],
   "source": [
    "hash_many.flatMap(lambda r:r).flatMap(lambda r:r).map(lambda r: (r['text'],1)) \\\n",
    "    .reduceByKey(lambda a, b: a + b) \\\n",
    "    .takeOrdered(10, key=lambda pair: -pair[1])"
   ]
  },
  {
   "cell_type": "markdown",
   "metadata": {},
   "source": [
    "__Few:__"
   ]
  },
  {
   "cell_type": "code",
   "execution_count": 26,
   "metadata": {},
   "outputs": [
    {
     "data": {
      "text/plain": [
       "[('EarnHistory', 134),\n",
       " ('WorldSeries', 129),\n",
       " ('Astros', 78),\n",
       " ('HR4HR', 48),\n",
       " ('Dodgers', 35),\n",
       " ('ThisTeam', 28),\n",
       " ('worldseries', 24),\n",
       " ('WorldSeries2017', 23),\n",
       " ('ASTROSWIN', 22),\n",
       " ('astros', 19)]"
      ]
     },
     "execution_count": 26,
     "metadata": {},
     "output_type": "execute_result"
    }
   ],
   "source": [
    "hash_few.flatMap(lambda r:r).flatMap(lambda r:r).map(lambda r: (r['text'],1)) \\\n",
    "    .reduceByKey(lambda a, b: a + b) \\\n",
    "    .takeOrdered(10, key=lambda pair: -pair[1])"
   ]
  },
  {
   "cell_type": "markdown",
   "metadata": {},
   "source": [
    "__Simiarity:__\n",
    "+ We could see that both the many and few are mainly focused about Baseball. EarnHistory, WorldSeries, Dodgers, Astros are listed in top 5 for both results.\n",
    "+ The case of hastag also affects. In both many and few results, WorldSeries is ranked higher than worldseries. I might want to recommend the twitter user to standardize the case of hastag. This might increase the followers number.\n",
    "\n",
    "__Difference:__\n",
    "+ The hashtags for the few groups are more specifed or personal preferenced. Such as ASTROSWIN, rather than taging Astro, this hashtag shows the users strong preference. Also WorldSeries2017, this hashtag has the year added instead of using WorldSeries. \n",
    "+ HR4HR is a hashtag for HR community. HR accounts might not be very attractive to gain more followers on Tweet."
   ]
  },
  {
   "cell_type": "markdown",
   "metadata": {},
   "source": [
    "### Q3.5 - Analyze common words in tweet text\n",
    "\n",
    "Following the example in class, use `tweets.rdd` to find the most common interesting words in tweet text.  To keep it \"interesting\", add a filter that removes at least 10 common stop words found in tweets, like \"a\", \"an\", \"the\", and \"RT\" (you might want to derive these stop words from initial results).  To split lines into words, a simple split on text whitespace like we had in class is sufficient; you do not have to account for punctuation.\n",
    "\n",
    "After you find the most common words, use dataframe or SQL queries to find patterns among how those words are used.  For example, are they more frequently used by Dodgers or Astros fans, or by people in one part of the country over another?  Explore and see what you can find, and discuss your findings.\n",
    "\n",
    "Hint: don't forget all the word count pipeline steps we used earlier in class.\n",
    "\n",
    "**Answer**"
   ]
  },
  {
   "cell_type": "markdown",
   "metadata": {},
   "source": [
    "In order to find out at least 10 most common stopwords on twitter, I first run a word count and show the top 30 to see what need to be added to the stopword list which later will be excluded."
   ]
  },
  {
   "cell_type": "code",
   "execution_count": 16,
   "metadata": {},
   "outputs": [
    {
     "data": {
      "text/plain": [
       "[('RT', 62909),\n",
       " ('the', 44143),\n",
       " ('Astros', 20546),\n",
       " ('in', 19550),\n",
       " ('a', 19538),\n",
       " ('to', 19389),\n",
       " ('', 15698),\n",
       " ('@astros:', 15407),\n",
       " ('Dodgers', 13876),\n",
       " ('#WorldSeries', 11306),\n",
       " ('of', 11009),\n",
       " ('#EarnHistory', 10296),\n",
       " ('The', 10231),\n",
       " ('@astros', 9924),\n",
       " ('is', 9342),\n",
       " ('win', 9250),\n",
       " ('I', 9164),\n",
       " ('game', 9088),\n",
       " ('and', 8818),\n",
       " ('this', 8723),\n",
       " ('for', 8646),\n",
       " ('THE', 7434),\n",
       " ('World', 6315),\n",
       " ('Game', 6191),\n",
       " ('#Astros', 6004),\n",
       " ('that', 5939),\n",
       " ('was', 5868),\n",
       " ('on', 5831),\n",
       " ('5', 5501),\n",
       " ('Series', 5500)]"
      ]
     },
     "execution_count": 16,
     "metadata": {},
     "output_type": "execute_result"
    }
   ],
   "source": [
    "tweets.rdd.flatMap(lambda r: r['text'].split(' ')) \\\n",
    "    .map(lambda t: (t, 1)) \\\n",
    "    .reduceByKey(lambda a, b: a + b) \\\n",
    "    .takeOrdered(30, key=lambda pair: -pair[1])"
   ]
  },
  {
   "cell_type": "markdown",
   "metadata": {},
   "source": [
    "+ From the result, I might want to those words that are not meaning for comparsion:\n",
    "__['RT','the','in','a','to', '', 'of','is','I','and','this','that','for','was','on','The'].__\n",
    "+ I then will rerun the previous steps and adding a filter that exclude those words."
   ]
  },
  {
   "cell_type": "code",
   "execution_count": 19,
   "metadata": {},
   "outputs": [
    {
     "data": {
      "text/plain": [
       "[('Astros', 20546),\n",
       " ('@astros:', 15407),\n",
       " ('Dodgers', 13876),\n",
       " ('#WorldSeries', 11306),\n",
       " ('#EarnHistory', 10296),\n",
       " ('@astros', 9924),\n",
       " ('win', 9250),\n",
       " ('game', 9088),\n",
       " ('THE', 7434),\n",
       " ('World', 6315),\n",
       " ('Game', 6191),\n",
       " ('#Astros', 6004),\n",
       " ('5', 5501),\n",
       " ('Series', 5500),\n",
       " ('@Dodgers', 5434),\n",
       " ('it', 5262),\n",
       " ('@ABREG_1', 5239),\n",
       " ('are', 4988),\n",
       " ('just', 4859),\n",
       " ('one', 4840),\n",
       " ('3-2', 4514),\n",
       " ('A', 4266),\n",
       " ('you', 4260),\n",
       " ('ASTROS', 4233),\n",
       " ('IT', 4128),\n",
       " ('This', 4059),\n",
       " ('BREGMAN', 3788),\n",
       " ('lead', 3751),\n",
       " ('de', 3718),\n",
       " (\"LET'S\", 3603)]"
      ]
     },
     "execution_count": 19,
     "metadata": {},
     "output_type": "execute_result"
    }
   ],
   "source": [
    "stop = ['RT','the','in','a','to', '', 'of','is','I','and','this','that','for','was','on','The']\n",
    "tweets.rdd.flatMap(lambda r: r['text'].split(' ')) \\\n",
    "    .filter(lambda t: t not in stop) \\\n",
    "    .map(lambda t: (t, 1)) \\\n",
    "    .reduceByKey(lambda a, b: a + b) \\\n",
    "    .takeOrdered(30, key=lambda pair: -pair[1])"
   ]
  },
  {
   "cell_type": "markdown",
   "metadata": {},
   "source": [
    "__WorldSeries by different region of the countries:__\n",
    "+ From the result we could see that central time zone has the highest mentions on 'WorldSeries'. Pacific Time is ranked the second which is slightly lower then Central Time.\n",
    "+ Eastern time is ranked the 3rd. But it is much lower than the first two region.\n",
    "+ The rest of the time zones have much lower mentions of 'WorldSeries', all lower than 500.\n",
    "+ I could conclude that Central Time and Pacific time zone has the most interest in Baseball based on 'WorldSeries' mention. Eastern time zone has also lots of interest in Baseball but not that much as the previous two. The rest region is not that focus on baseball."
   ]
  },
  {
   "cell_type": "code",
   "execution_count": 44,
   "metadata": {},
   "outputs": [
    {
     "name": "stdout",
     "output_type": "stream",
     "text": [
      "+---------------------------+-----+\n",
      "|time_zone                  |count|\n",
      "+---------------------------+-----+\n",
      "|null                       |6409 |\n",
      "|Central Time (US & Canada) |2796 |\n",
      "|Pacific Time (US & Canada) |2608 |\n",
      "|Eastern Time (US & Canada) |1568 |\n",
      "|Mountain Time (US & Canada)|348  |\n",
      "|Arizona                    |335  |\n",
      "|Atlantic Time (Canada)     |196  |\n",
      "|Quito                      |133  |\n",
      "|Hawaii                     |107  |\n",
      "|Mexico City                |105  |\n",
      "+---------------------------+-----+\n",
      "only showing top 10 rows\n",
      "\n"
     ]
    }
   ],
   "source": [
    "tweets.filter(tweets['text'].contains('WorldSeries')) \\\n",
    "    .groupby('user.time_zone') \\\n",
    "    .count() \\\n",
    "    .orderBy('count',ascending = False) \\\n",
    "    .show(10,False)"
   ]
  },
  {
   "cell_type": "markdown",
   "metadata": {},
   "source": [
    "__WorldSeries mentioned by Astros fans:__\n",
    "+ I here define Astro fans as those tweet users who have 'Astros' in their hashtags."
   ]
  },
  {
   "cell_type": "code",
   "execution_count": 53,
   "metadata": {},
   "outputs": [
    {
     "data": {
      "text/plain": [
       "[('Astros', 6736)]"
      ]
     },
     "execution_count": 53,
     "metadata": {},
     "output_type": "execute_result"
    }
   ],
   "source": [
    "tweets.select('entities.hashtags').rdd \\\n",
    "    .flatMap(lambda r:r).flatMap(lambda r:r).map(lambda r: (r['text'],1)) \\\n",
    "    .filter(lambda r: 'Astros' in r) \\\n",
    "    .reduceByKey(lambda a, b: a + b).take(1)"
   ]
  },
  {
   "cell_type": "code",
   "execution_count": 54,
   "metadata": {},
   "outputs": [
    {
     "data": {
      "text/plain": [
       "[('Astros', 2848)]"
      ]
     },
     "execution_count": 54,
     "metadata": {},
     "output_type": "execute_result"
    }
   ],
   "source": [
    "tweets.filter(tweets['text'].contains('WorldSeries')) \\\n",
    "    .select('entities.hashtags').rdd \\\n",
    "    .flatMap(lambda r:r).flatMap(lambda r:r).map(lambda r: (r['text'],1)) \\\n",
    "    .filter(lambda r: 'Astros' in r) \\\n",
    "    .reduceByKey(lambda a, b: a + b).take(1)"
   ]
  },
  {
   "cell_type": "code",
   "execution_count": 55,
   "metadata": {},
   "outputs": [
    {
     "data": {
      "text/plain": [
       "0.42280285035629456"
      ]
     },
     "execution_count": 55,
     "metadata": {},
     "output_type": "execute_result"
    }
   ],
   "source": [
    "2848/6736"
   ]
  },
  {
   "cell_type": "markdown",
   "metadata": {},
   "source": [
    "__WorldSeries mentioned by Dodgers fans:__\n",
    "+ I here define Dodgers fans as those tweets users who have 'Dodgers' in their hashtags."
   ]
  },
  {
   "cell_type": "code",
   "execution_count": 56,
   "metadata": {},
   "outputs": [
    {
     "data": {
      "text/plain": [
       "[('Dodgers', 3638)]"
      ]
     },
     "execution_count": 56,
     "metadata": {},
     "output_type": "execute_result"
    }
   ],
   "source": [
    "tweets.select('entities.hashtags').rdd \\\n",
    "    .flatMap(lambda r:r).flatMap(lambda r:r).map(lambda r: (r['text'],1)) \\\n",
    "    .filter(lambda r: 'Dodgers' in r) \\\n",
    "    .reduceByKey(lambda a, b: a + b).take(1)"
   ]
  },
  {
   "cell_type": "code",
   "execution_count": 57,
   "metadata": {},
   "outputs": [
    {
     "data": {
      "text/plain": [
       "[('Dodgers', 1400)]"
      ]
     },
     "execution_count": 57,
     "metadata": {},
     "output_type": "execute_result"
    }
   ],
   "source": [
    "tweets.filter(tweets['text'].contains('WorldSeries')) \\\n",
    "    .select('entities.hashtags').rdd \\\n",
    "    .flatMap(lambda r:r).flatMap(lambda r:r).map(lambda r: (r['text'],1)) \\\n",
    "    .filter(lambda r: 'Dodgers' in r) \\\n",
    "    .reduceByKey(lambda a, b: a + b).take(1)"
   ]
  },
  {
   "cell_type": "code",
   "execution_count": 58,
   "metadata": {},
   "outputs": [
    {
     "data": {
      "text/plain": [
       "0.38482682792743267"
      ]
     },
     "execution_count": 58,
     "metadata": {},
     "output_type": "execute_result"
    }
   ],
   "source": [
    "1400/3638"
   ]
  },
  {
   "cell_type": "markdown",
   "metadata": {},
   "source": [
    "__Comparison of WorldSeries mentioned by Dodgers and Astros fans:__\n",
    "+ For both of the Dodgers and Astros fans, less of half of the fans mentioned about 'WorldSeries' that might implies only less than half of the fans actually care about the championship games of their supporting teams for both Dodgers and Astros.\n",
    "+ The mentioned rate of Astros is 42.28% and 38.48% for Dodgers fans. Astros fans are slightly more reactive about WorldSeies than Dodgers fan."
   ]
  },
  {
   "cell_type": "code",
   "execution_count": null,
   "metadata": {},
   "outputs": [],
   "source": []
  }
 ],
 "metadata": {
  "kernelspec": {
   "display_name": "Python 3",
   "language": "python",
   "name": "python3"
  },
  "language_info": {
   "codemirror_mode": {
    "name": "ipython",
    "version": 3
   },
   "file_extension": ".py",
   "mimetype": "text/x-python",
   "name": "python",
   "nbconvert_exporter": "python",
   "pygments_lexer": "ipython3",
   "version": "3.8.3"
  }
 },
 "nbformat": 4,
 "nbformat_minor": 4
}
