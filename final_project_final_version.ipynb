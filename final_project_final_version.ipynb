{
 "cells": [
  {
   "cell_type": "markdown",
   "metadata": {},
   "source": [
    "# Final Project - Group 4\n",
    "### Team member: Ting Huang, Lu Li, Jason Liu, Yu Luo, Yuwen Luo, Abenezer Tekle\n",
    "\n",
    "### Statement:  We all attest that all participants equally contributed to this project.\n",
    "__ __"
   ]
  },
  {
   "cell_type": "markdown",
   "metadata": {},
   "source": [
    "# Part A: Candidate Table"
   ]
  },
  {
   "cell_type": "markdown",
   "metadata": {},
   "source": [
    "## 1. Get data ##"
   ]
  },
  {
   "cell_type": "code",
   "execution_count": 1,
   "metadata": {},
   "outputs": [
    {
     "name": "stdout",
     "output_type": "stream",
     "text": [
      "--2020-12-05 18:11:38--  https://dmfa-2020-lu.s3.amazonaws.com/Final+Project/cn16.txt\n",
      "Resolving dmfa-2020-lu.s3.amazonaws.com (dmfa-2020-lu.s3.amazonaws.com)... 52.216.24.188\n",
      "Connecting to dmfa-2020-lu.s3.amazonaws.com (dmfa-2020-lu.s3.amazonaws.com)|52.216.24.188|:443... connected.\n",
      "HTTP request sent, awaiting response... 200 OK\n",
      "Length: 711038 (694K) [text/plain]\n",
      "Saving to: ‘cn16.txt’\n",
      "\n",
      "cn16.txt            100%[===================>] 694.37K  --.-KB/s    in 0.007s  \n",
      "\n",
      "2020-12-05 18:11:38 (91.5 MB/s) - ‘cn16.txt’ saved [711038/711038]\n",
      "\n"
     ]
    }
   ],
   "source": [
    "!wget https://dmfa-2020-lu.s3.amazonaws.com/Final+Project/cn16.txt"
   ]
  },
  {
   "cell_type": "code",
   "execution_count": 2,
   "metadata": {},
   "outputs": [
    {
     "name": "stdout",
     "output_type": "stream",
     "text": [
      "--2020-12-05 18:11:52--  https://dmfa-2020-lu.s3.amazonaws.com/Final+Project/cn20.txt\n",
      "Resolving dmfa-2020-lu.s3.amazonaws.com (dmfa-2020-lu.s3.amazonaws.com)... 52.216.96.203\n",
      "Connecting to dmfa-2020-lu.s3.amazonaws.com (dmfa-2020-lu.s3.amazonaws.com)|52.216.96.203|:443... connected.\n",
      "HTTP request sent, awaiting response... 200 OK\n",
      "Length: 750144 (733K) [text/plain]\n",
      "Saving to: ‘cn20.txt’\n",
      "\n",
      "cn20.txt            100%[===================>] 732.56K  --.-KB/s    in 0.01s   \n",
      "\n",
      "2020-12-05 18:11:52 (68.3 MB/s) - ‘cn20.txt’ saved [750144/750144]\n",
      "\n"
     ]
    }
   ],
   "source": [
    "!wget https://dmfa-2020-lu.s3.amazonaws.com/Final+Project/cn20.txt"
   ]
  },
  {
   "cell_type": "code",
   "execution_count": 3,
   "metadata": {},
   "outputs": [
    {
     "name": "stdout",
     "output_type": "stream",
     "text": [
      "--2020-12-05 18:14:32--  https://dmfa-2020-lu.s3.amazonaws.com/Final+Project/ccl16.txt\n",
      "Resolving dmfa-2020-lu.s3.amazonaws.com (dmfa-2020-lu.s3.amazonaws.com)... 52.216.140.140\n",
      "Connecting to dmfa-2020-lu.s3.amazonaws.com (dmfa-2020-lu.s3.amazonaws.com)|52.216.140.140|:443... connected.\n",
      "HTTP request sent, awaiting response... 200 OK\n",
      "Length: 262686 (257K) [text/plain]\n",
      "Saving to: ‘ccl16.txt’\n",
      "\n",
      "ccl16.txt           100%[===================>] 256.53K  --.-KB/s    in 0.009s  \n",
      "\n",
      "2020-12-05 18:14:32 (29.2 MB/s) - ‘ccl16.txt’ saved [262686/262686]\n",
      "\n"
     ]
    }
   ],
   "source": [
    "!wget https://dmfa-2020-lu.s3.amazonaws.com/Final+Project/ccl16.txt"
   ]
  },
  {
   "cell_type": "code",
   "execution_count": 4,
   "metadata": {},
   "outputs": [
    {
     "name": "stdout",
     "output_type": "stream",
     "text": [
      "--2020-12-05 18:14:39--  https://dmfa-2020-lu.s3.amazonaws.com/Final+Project/ccl20.txt\n",
      "Resolving dmfa-2020-lu.s3.amazonaws.com (dmfa-2020-lu.s3.amazonaws.com)... 52.217.47.116\n",
      "Connecting to dmfa-2020-lu.s3.amazonaws.com (dmfa-2020-lu.s3.amazonaws.com)|52.217.47.116|:443... connected.\n",
      "HTTP request sent, awaiting response... 200 OK\n",
      "Length: 288968 (282K) [text/plain]\n",
      "Saving to: ‘ccl20.txt’\n",
      "\n",
      "ccl20.txt           100%[===================>] 282.20K  --.-KB/s    in 0.004s  \n",
      "\n",
      "2020-12-05 18:14:39 (63.1 MB/s) - ‘ccl20.txt’ saved [288968/288968]\n",
      "\n"
     ]
    }
   ],
   "source": [
    "!wget https://dmfa-2020-lu.s3.amazonaws.com/Final+Project/ccl20.txt"
   ]
  },
  {
   "cell_type": "code",
   "execution_count": 56,
   "metadata": {},
   "outputs": [
    {
     "name": "stdout",
     "output_type": "stream",
     "text": [
      "--2020-12-05 19:02:51--  https://dmfa-2020-lu.s3.amazonaws.com/Final+Project/weball20.txt\n",
      "Resolving dmfa-2020-lu.s3.amazonaws.com (dmfa-2020-lu.s3.amazonaws.com)... 52.216.179.75\n",
      "Connecting to dmfa-2020-lu.s3.amazonaws.com (dmfa-2020-lu.s3.amazonaws.com)|52.216.179.75|:443... connected.\n",
      "HTTP request sent, awaiting response... 200 OK\n",
      "Length: 500344 (489K) [text/plain]\n",
      "Saving to: ‘weball20.txt.1’\n",
      "\n",
      "weball20.txt.1      100%[===================>] 488.62K  --.-KB/s    in 0.006s  \n",
      "\n",
      "2020-12-05 19:02:51 (73.9 MB/s) - ‘weball20.txt.1’ saved [500344/500344]\n",
      "\n"
     ]
    }
   ],
   "source": [
    "!wget https://dmfa-2020-lu.s3.amazonaws.com/Final+Project/weball20.txt"
   ]
  },
  {
   "cell_type": "code",
   "execution_count": 57,
   "metadata": {},
   "outputs": [
    {
     "name": "stdout",
     "output_type": "stream",
     "text": [
      "--2020-12-05 19:03:01--  https://dmfa-2020-lu.s3.amazonaws.com/Final+Project/weball16.txt\n",
      "Resolving dmfa-2020-lu.s3.amazonaws.com (dmfa-2020-lu.s3.amazonaws.com)... 52.217.83.140\n",
      "Connecting to dmfa-2020-lu.s3.amazonaws.com (dmfa-2020-lu.s3.amazonaws.com)|52.217.83.140|:443... connected.\n",
      "HTTP request sent, awaiting response... 200 OK\n",
      "Length: 361997 (354K) [text/plain]\n",
      "Saving to: ‘weball16.txt’\n",
      "\n",
      "weball16.txt        100%[===================>] 353.51K  --.-KB/s    in 0.009s  \n",
      "\n",
      "2020-12-05 19:03:01 (40.4 MB/s) - ‘weball16.txt’ saved [361997/361997]\n",
      "\n"
     ]
    }
   ],
   "source": [
    "!wget https://dmfa-2020-lu.s3.amazonaws.com/Final+Project/weball16.txt"
   ]
  },
  {
   "cell_type": "markdown",
   "metadata": {},
   "source": [
    "## 2. Prepare Data"
   ]
  },
  {
   "cell_type": "code",
   "execution_count": 51,
   "metadata": {},
   "outputs": [],
   "source": [
    "!csvstack -d \"|\" cn*.txt | csvcut -c 1,2,3,4,5 > candidate_master.csv"
   ]
  },
  {
   "cell_type": "code",
   "execution_count": 52,
   "metadata": {},
   "outputs": [],
   "source": [
    "!csvstack -d \"|\" ccl*.txt | csvcut -c 1,4 > linkage.csv"
   ]
  },
  {
   "cell_type": "code",
   "execution_count": 20,
   "metadata": {},
   "outputs": [],
   "source": [
    "!csvstack -d \"|\" weball*.txt | csvcut -c 1,7,18,28 > all_candidate.csv"
   ]
  },
  {
   "cell_type": "markdown",
   "metadata": {},
   "source": [
    "## 3.Setup Data"
   ]
  },
  {
   "cell_type": "code",
   "execution_count": 2,
   "metadata": {},
   "outputs": [],
   "source": [
    "%load_ext sql"
   ]
  },
  {
   "cell_type": "code",
   "execution_count": 3,
   "metadata": {
    "collapsed": true,
    "jupyter": {
     "outputs_hidden": true
    }
   },
   "outputs": [
    {
     "name": "stdout",
     "output_type": "stream",
     "text": [
      "createdb: error: could not connect to database template1: FATAL:  the database system is starting up\n"
     ]
    }
   ],
   "source": [
    "!createdb -U student final_project_yu"
   ]
  },
  {
   "cell_type": "code",
   "execution_count": 3,
   "metadata": {},
   "outputs": [],
   "source": [
    "%sql postgresql://student@/final_project_yu"
   ]
  },
  {
   "cell_type": "markdown",
   "metadata": {},
   "source": [
    "## 4. Import Data\n",
    "__Candidate master Table__"
   ]
  },
  {
   "cell_type": "code",
   "execution_count": 49,
   "metadata": {},
   "outputs": [
    {
     "name": "stdout",
     "output_type": "stream",
     "text": [
      " * postgresql://student@/final_project_yu\n",
      "Done.\n",
      "Done.\n"
     ]
    },
    {
     "data": {
      "text/plain": [
       "[]"
      ]
     },
     "execution_count": 49,
     "metadata": {},
     "output_type": "execute_result"
    }
   ],
   "source": [
    "%%sql\n",
    "DROP TABLE IF EXISTS candidate_master cascade;\n",
    "\n",
    "CREATE TABLE candidate_master (\n",
    "    CAND_ID varchar(9) NOT NULL,\n",
    "    CAND_NAME varchar(200),\n",
    "    CAND_PTY_AFFILIATION varchar(3),\n",
    "    CAND_ELECTION_YR numeric(4),\n",
    "    CAND_OFFICE_ST varchar(2)\n",
    ")"
   ]
  },
  {
   "cell_type": "code",
   "execution_count": 22,
   "metadata": {},
   "outputs": [
    {
     "name": "stdout",
     "output_type": "stream",
     "text": [
      "/home/ubuntu\n"
     ]
    }
   ],
   "source": [
    "!pwd"
   ]
  },
  {
   "cell_type": "code",
   "execution_count": 53,
   "metadata": {},
   "outputs": [
    {
     "name": "stdout",
     "output_type": "stream",
     "text": [
      " * postgresql://student@/final_project_yu\n",
      "15164 rows affected.\n"
     ]
    },
    {
     "data": {
      "text/plain": [
       "[]"
      ]
     },
     "execution_count": 53,
     "metadata": {},
     "output_type": "execute_result"
    }
   ],
   "source": [
    "%%sql\n",
    "COPY candidate_master FROM '/home/ubuntu/candidate_master.csv'\n",
    "CSV;"
   ]
  },
  {
   "cell_type": "markdown",
   "metadata": {},
   "source": [
    "__Linkage table__"
   ]
  },
  {
   "cell_type": "code",
   "execution_count": 54,
   "metadata": {},
   "outputs": [
    {
     "name": "stdout",
     "output_type": "stream",
     "text": [
      " * postgresql://student@/final_project_yu\n",
      "Done.\n",
      "Done.\n"
     ]
    },
    {
     "data": {
      "text/plain": [
       "[]"
      ]
     },
     "execution_count": 54,
     "metadata": {},
     "output_type": "execute_result"
    }
   ],
   "source": [
    "%%sql\n",
    "DROP TABLE IF EXISTS linkage cascade;\n",
    "\n",
    "CREATE TABLE linkage (\n",
    "    CAND_ID varchar(9) NOT NULL,\n",
    "    CMTE_ID varchar(9) NOT NULL\n",
    ")"
   ]
  },
  {
   "cell_type": "code",
   "execution_count": 55,
   "metadata": {},
   "outputs": [
    {
     "name": "stdout",
     "output_type": "stream",
     "text": [
      " * postgresql://student@/final_project_yu\n",
      "13454 rows affected.\n"
     ]
    },
    {
     "data": {
      "text/plain": [
       "[]"
      ]
     },
     "execution_count": 55,
     "metadata": {},
     "output_type": "execute_result"
    }
   ],
   "source": [
    "%%sql\n",
    "COPY linkage FROM '/home/ubuntu/linkage.csv'\n",
    "CSV;"
   ]
  },
  {
   "cell_type": "markdown",
   "metadata": {},
   "source": [
    "__All candidate table__"
   ]
  },
  {
   "cell_type": "code",
   "execution_count": 56,
   "metadata": {},
   "outputs": [
    {
     "name": "stdout",
     "output_type": "stream",
     "text": [
      " * postgresql://student@/final_project_yu\n",
      "Done.\n",
      "Done.\n"
     ]
    },
    {
     "data": {
      "text/plain": [
       "[]"
      ]
     },
     "execution_count": 56,
     "metadata": {},
     "output_type": "execute_result"
    }
   ],
   "source": [
    "%%sql\n",
    "DROP TABLE IF EXISTS all_candidate cascade;\n",
    "\n",
    "CREATE TABLE all_candidate (\n",
    "    CAND_ID varchar(9) NOT NULL,\n",
    "    TRANS_FROM_AUTH numeric(14,2),\n",
    "    TTL_INDIV_CONTRIB numeric(14,2),\n",
    "    CVG_END_DT DATE\n",
    ")"
   ]
  },
  {
   "cell_type": "code",
   "execution_count": 57,
   "metadata": {},
   "outputs": [
    {
     "name": "stdout",
     "output_type": "stream",
     "text": [
      " * postgresql://student@/final_project_yu\n",
      "6855 rows affected.\n"
     ]
    },
    {
     "data": {
      "text/plain": [
       "[]"
      ]
     },
     "execution_count": 57,
     "metadata": {},
     "output_type": "execute_result"
    }
   ],
   "source": [
    "%%sql\n",
    "COPY all_candidate FROM '/home/ubuntu/all_candidate.csv'\n",
    "CSV;"
   ]
  },
  {
   "cell_type": "code",
   "execution_count": 58,
   "metadata": {},
   "outputs": [
    {
     "name": "stdout",
     "output_type": "stream",
     "text": [
      " * postgresql://student@/final_project_yu\n",
      "5 rows affected.\n"
     ]
    },
    {
     "data": {
      "text/html": [
       "<table>\n",
       "    <tr>\n",
       "        <th>cand_id</th>\n",
       "        <th>trans_from_auth</th>\n",
       "        <th>ttl_indiv_contrib</th>\n",
       "        <th>cvg_end_dt</th>\n",
       "    </tr>\n",
       "    <tr>\n",
       "        <td>H4AK00123</td>\n",
       "        <td>0.00</td>\n",
       "        <td>0.00</td>\n",
       "        <td>2016-01-27</td>\n",
       "    </tr>\n",
       "    <tr>\n",
       "        <td>H0AK00097</td>\n",
       "        <td>0.00</td>\n",
       "        <td>0.00</td>\n",
       "        <td>2016-07-18</td>\n",
       "    </tr>\n",
       "    <tr>\n",
       "        <td>H6AK00045</td>\n",
       "        <td>0.00</td>\n",
       "        <td>640393.04</td>\n",
       "        <td>2016-12-31</td>\n",
       "    </tr>\n",
       "    <tr>\n",
       "        <td>H8AK00116</td>\n",
       "        <td>0.00</td>\n",
       "        <td>0.00</td>\n",
       "        <td>2016-12-31</td>\n",
       "    </tr>\n",
       "    <tr>\n",
       "        <td>H6AK00235</td>\n",
       "        <td>0.00</td>\n",
       "        <td>999400.98</td>\n",
       "        <td>2016-12-31</td>\n",
       "    </tr>\n",
       "</table>"
      ],
      "text/plain": [
       "[('H4AK00123', Decimal('0.00'), Decimal('0.00'), datetime.date(2016, 1, 27)),\n",
       " ('H0AK00097', Decimal('0.00'), Decimal('0.00'), datetime.date(2016, 7, 18)),\n",
       " ('H6AK00045', Decimal('0.00'), Decimal('640393.04'), datetime.date(2016, 12, 31)),\n",
       " ('H8AK00116', Decimal('0.00'), Decimal('0.00'), datetime.date(2016, 12, 31)),\n",
       " ('H6AK00235', Decimal('0.00'), Decimal('999400.98'), datetime.date(2016, 12, 31))]"
      ]
     },
     "execution_count": 58,
     "metadata": {},
     "output_type": "execute_result"
    }
   ],
   "source": [
    "%%sql\n",
    "select * from all_candidate limit 5;"
   ]
  },
  {
   "cell_type": "markdown",
   "metadata": {},
   "source": [
    "## 5. Dimension and fact design\n",
    "\n",
    "__This is the dimension and fact table focus on candidate information:__"
   ]
  },
  {
   "cell_type": "code",
   "execution_count": 25,
   "metadata": {},
   "outputs": [
    {
     "data": {
      "text/html": [
       "<img src=\"https://raw.githubusercontent.com/rainieluo2016/ISTM_6212/main/candidate_final.png\"/>"
      ],
      "text/plain": [
       "<IPython.core.display.Image object>"
      ]
     },
     "execution_count": 25,
     "metadata": {},
     "output_type": "execute_result"
    }
   ],
   "source": [
    "from IPython.display import Image\n",
    "Image(url=\"https://raw.githubusercontent.com/rainieluo2016/ISTM_6212/main/candidate_final.png\")"
   ]
  },
  {
   "cell_type": "markdown",
   "metadata": {},
   "source": [
    "### 5.1. Diagram 1 - candidate office"
   ]
  },
  {
   "cell_type": "code",
   "execution_count": 267,
   "metadata": {},
   "outputs": [
    {
     "name": "stdout",
     "output_type": "stream",
     "text": [
      " * postgresql://student@/final_project_yu\n",
      "Done.\n",
      "Done.\n"
     ]
    },
    {
     "data": {
      "text/plain": [
       "[]"
      ]
     },
     "execution_count": 267,
     "metadata": {},
     "output_type": "execute_result"
    }
   ],
   "source": [
    "%%sql\n",
    "DROP TABLE IF EXISTS OFFICE cascade;\n",
    "\n",
    "CREATE TABLE OFFICE (\n",
    "    OFFICE_KEY SERIAL PRIMARY KEY,\n",
    "    CAND_OFFICE_STATE VARCHAR(2)\n",
    ")"
   ]
  },
  {
   "cell_type": "code",
   "execution_count": 268,
   "metadata": {},
   "outputs": [
    {
     "name": "stdout",
     "output_type": "stream",
     "text": [
      " * postgresql://student@/final_project_yu\n",
      "57 rows affected.\n"
     ]
    },
    {
     "data": {
      "text/plain": [
       "[]"
      ]
     },
     "execution_count": 268,
     "metadata": {},
     "output_type": "execute_result"
    }
   ],
   "source": [
    "%%sql\n",
    "INSERT INTO office (cand_office_state)\n",
    "SELECT DISTINCT cand_office_st \n",
    "FROM candidate_master;"
   ]
  },
  {
   "cell_type": "code",
   "execution_count": 269,
   "metadata": {
    "collapsed": true,
    "jupyter": {
     "outputs_hidden": true
    }
   },
   "outputs": [
    {
     "name": "stdout",
     "output_type": "stream",
     "text": [
      " * postgresql://student@/final_project_yu\n",
      "57 rows affected.\n"
     ]
    },
    {
     "data": {
      "text/html": [
       "<table>\n",
       "    <tr>\n",
       "        <th>office_key</th>\n",
       "        <th>cand_office_state</th>\n",
       "    </tr>\n",
       "    <tr>\n",
       "        <td>45</td>\n",
       "        <td>AK</td>\n",
       "    </tr>\n",
       "    <tr>\n",
       "        <td>50</td>\n",
       "        <td>AL</td>\n",
       "    </tr>\n",
       "    <tr>\n",
       "        <td>13</td>\n",
       "        <td>AR</td>\n",
       "    </tr>\n",
       "    <tr>\n",
       "        <td>55</td>\n",
       "        <td>AS</td>\n",
       "    </tr>\n",
       "    <tr>\n",
       "        <td>56</td>\n",
       "        <td>AZ</td>\n",
       "    </tr>\n",
       "    <tr>\n",
       "        <td>26</td>\n",
       "        <td>CA</td>\n",
       "    </tr>\n",
       "    <tr>\n",
       "        <td>53</td>\n",
       "        <td>CO</td>\n",
       "    </tr>\n",
       "    <tr>\n",
       "        <td>14</td>\n",
       "        <td>CT</td>\n",
       "    </tr>\n",
       "    <tr>\n",
       "        <td>34</td>\n",
       "        <td>DC</td>\n",
       "    </tr>\n",
       "    <tr>\n",
       "        <td>25</td>\n",
       "        <td>DE</td>\n",
       "    </tr>\n",
       "    <tr>\n",
       "        <td>11</td>\n",
       "        <td>FL</td>\n",
       "    </tr>\n",
       "    <tr>\n",
       "        <td>41</td>\n",
       "        <td>GA</td>\n",
       "    </tr>\n",
       "    <tr>\n",
       "        <td>5</td>\n",
       "        <td>GU</td>\n",
       "    </tr>\n",
       "    <tr>\n",
       "        <td>7</td>\n",
       "        <td>HI</td>\n",
       "    </tr>\n",
       "    <tr>\n",
       "        <td>51</td>\n",
       "        <td>IA</td>\n",
       "    </tr>\n",
       "    <tr>\n",
       "        <td>40</td>\n",
       "        <td>ID</td>\n",
       "    </tr>\n",
       "    <tr>\n",
       "        <td>46</td>\n",
       "        <td>IL</td>\n",
       "    </tr>\n",
       "    <tr>\n",
       "        <td>8</td>\n",
       "        <td>IN</td>\n",
       "    </tr>\n",
       "    <tr>\n",
       "        <td>57</td>\n",
       "        <td>KS</td>\n",
       "    </tr>\n",
       "    <tr>\n",
       "        <td>31</td>\n",
       "        <td>KY</td>\n",
       "    </tr>\n",
       "    <tr>\n",
       "        <td>17</td>\n",
       "        <td>LA</td>\n",
       "    </tr>\n",
       "    <tr>\n",
       "        <td>49</td>\n",
       "        <td>MA</td>\n",
       "    </tr>\n",
       "    <tr>\n",
       "        <td>44</td>\n",
       "        <td>MD</td>\n",
       "    </tr>\n",
       "    <tr>\n",
       "        <td>12</td>\n",
       "        <td>ME</td>\n",
       "    </tr>\n",
       "    <tr>\n",
       "        <td>20</td>\n",
       "        <td>MI</td>\n",
       "    </tr>\n",
       "    <tr>\n",
       "        <td>42</td>\n",
       "        <td>MN</td>\n",
       "    </tr>\n",
       "    <tr>\n",
       "        <td>35</td>\n",
       "        <td>MO</td>\n",
       "    </tr>\n",
       "    <tr>\n",
       "        <td>21</td>\n",
       "        <td>MP</td>\n",
       "    </tr>\n",
       "    <tr>\n",
       "        <td>33</td>\n",
       "        <td>MS</td>\n",
       "    </tr>\n",
       "    <tr>\n",
       "        <td>18</td>\n",
       "        <td>MT</td>\n",
       "    </tr>\n",
       "    <tr>\n",
       "        <td>37</td>\n",
       "        <td>NC</td>\n",
       "    </tr>\n",
       "    <tr>\n",
       "        <td>2</td>\n",
       "        <td>ND</td>\n",
       "    </tr>\n",
       "    <tr>\n",
       "        <td>10</td>\n",
       "        <td>NE</td>\n",
       "    </tr>\n",
       "    <tr>\n",
       "        <td>27</td>\n",
       "        <td>NH</td>\n",
       "    </tr>\n",
       "    <tr>\n",
       "        <td>19</td>\n",
       "        <td>NJ</td>\n",
       "    </tr>\n",
       "    <tr>\n",
       "        <td>32</td>\n",
       "        <td>NM</td>\n",
       "    </tr>\n",
       "    <tr>\n",
       "        <td>3</td>\n",
       "        <td>NV</td>\n",
       "    </tr>\n",
       "    <tr>\n",
       "        <td>6</td>\n",
       "        <td>NY</td>\n",
       "    </tr>\n",
       "    <tr>\n",
       "        <td>4</td>\n",
       "        <td>OH</td>\n",
       "    </tr>\n",
       "    <tr>\n",
       "        <td>39</td>\n",
       "        <td>OK</td>\n",
       "    </tr>\n",
       "    <tr>\n",
       "        <td>28</td>\n",
       "        <td>OR</td>\n",
       "    </tr>\n",
       "    <tr>\n",
       "        <td>43</td>\n",
       "        <td>PA</td>\n",
       "    </tr>\n",
       "    <tr>\n",
       "        <td>30</td>\n",
       "        <td>PR</td>\n",
       "    </tr>\n",
       "    <tr>\n",
       "        <td>38</td>\n",
       "        <td>RI</td>\n",
       "    </tr>\n",
       "    <tr>\n",
       "        <td>23</td>\n",
       "        <td>SC</td>\n",
       "    </tr>\n",
       "    <tr>\n",
       "        <td>15</td>\n",
       "        <td>SD</td>\n",
       "    </tr>\n",
       "    <tr>\n",
       "        <td>47</td>\n",
       "        <td>TN</td>\n",
       "    </tr>\n",
       "    <tr>\n",
       "        <td>29</td>\n",
       "        <td>TX</td>\n",
       "    </tr>\n",
       "    <tr>\n",
       "        <td>1</td>\n",
       "        <td>US</td>\n",
       "    </tr>\n",
       "    <tr>\n",
       "        <td>22</td>\n",
       "        <td>UT</td>\n",
       "    </tr>\n",
       "    <tr>\n",
       "        <td>54</td>\n",
       "        <td>VA</td>\n",
       "    </tr>\n",
       "    <tr>\n",
       "        <td>24</td>\n",
       "        <td>VI</td>\n",
       "    </tr>\n",
       "    <tr>\n",
       "        <td>52</td>\n",
       "        <td>VT</td>\n",
       "    </tr>\n",
       "    <tr>\n",
       "        <td>48</td>\n",
       "        <td>WA</td>\n",
       "    </tr>\n",
       "    <tr>\n",
       "        <td>36</td>\n",
       "        <td>WI</td>\n",
       "    </tr>\n",
       "    <tr>\n",
       "        <td>9</td>\n",
       "        <td>WV</td>\n",
       "    </tr>\n",
       "    <tr>\n",
       "        <td>16</td>\n",
       "        <td>WY</td>\n",
       "    </tr>\n",
       "</table>"
      ],
      "text/plain": [
       "[(45, 'AK'),\n",
       " (50, 'AL'),\n",
       " (13, 'AR'),\n",
       " (55, 'AS'),\n",
       " (56, 'AZ'),\n",
       " (26, 'CA'),\n",
       " (53, 'CO'),\n",
       " (14, 'CT'),\n",
       " (34, 'DC'),\n",
       " (25, 'DE'),\n",
       " (11, 'FL'),\n",
       " (41, 'GA'),\n",
       " (5, 'GU'),\n",
       " (7, 'HI'),\n",
       " (51, 'IA'),\n",
       " (40, 'ID'),\n",
       " (46, 'IL'),\n",
       " (8, 'IN'),\n",
       " (57, 'KS'),\n",
       " (31, 'KY'),\n",
       " (17, 'LA'),\n",
       " (49, 'MA'),\n",
       " (44, 'MD'),\n",
       " (12, 'ME'),\n",
       " (20, 'MI'),\n",
       " (42, 'MN'),\n",
       " (35, 'MO'),\n",
       " (21, 'MP'),\n",
       " (33, 'MS'),\n",
       " (18, 'MT'),\n",
       " (37, 'NC'),\n",
       " (2, 'ND'),\n",
       " (10, 'NE'),\n",
       " (27, 'NH'),\n",
       " (19, 'NJ'),\n",
       " (32, 'NM'),\n",
       " (3, 'NV'),\n",
       " (6, 'NY'),\n",
       " (4, 'OH'),\n",
       " (39, 'OK'),\n",
       " (28, 'OR'),\n",
       " (43, 'PA'),\n",
       " (30, 'PR'),\n",
       " (38, 'RI'),\n",
       " (23, 'SC'),\n",
       " (15, 'SD'),\n",
       " (47, 'TN'),\n",
       " (29, 'TX'),\n",
       " (1, 'US'),\n",
       " (22, 'UT'),\n",
       " (54, 'VA'),\n",
       " (24, 'VI'),\n",
       " (52, 'VT'),\n",
       " (48, 'WA'),\n",
       " (36, 'WI'),\n",
       " (9, 'WV'),\n",
       " (16, 'WY')]"
      ]
     },
     "execution_count": 269,
     "metadata": {},
     "output_type": "execute_result"
    }
   ],
   "source": [
    "%%sql\n",
    "select * from office\n",
    "order by cand_office_state asc;"
   ]
  },
  {
   "cell_type": "markdown",
   "metadata": {},
   "source": [
    "### adding candidate state into all_candidate and then refer office dimension"
   ]
  },
  {
   "cell_type": "code",
   "execution_count": 59,
   "metadata": {},
   "outputs": [
    {
     "name": "stdout",
     "output_type": "stream",
     "text": [
      " * postgresql://student@/final_project_yu\n",
      "Done.\n"
     ]
    },
    {
     "data": {
      "text/plain": [
       "[]"
      ]
     },
     "execution_count": 59,
     "metadata": {},
     "output_type": "execute_result"
    }
   ],
   "source": [
    "%%sql\n",
    "ALTER TABLE all_candidate\n",
    "ADD COLUMN cand_office_state varchar(2),\n",
    "ADD COLUMN office_key int,\n",
    "ADD CONSTRAINT fk_office_key\n",
    "    FOREIGN KEY (office_key)\n",
    "    REFERENCES office (office_key);"
   ]
  },
  {
   "cell_type": "code",
   "execution_count": 60,
   "metadata": {},
   "outputs": [
    {
     "name": "stdout",
     "output_type": "stream",
     "text": [
      " * postgresql://student@/final_project_yu\n",
      "6835 rows affected.\n"
     ]
    },
    {
     "data": {
      "text/plain": [
       "[]"
      ]
     },
     "execution_count": 60,
     "metadata": {},
     "output_type": "execute_result"
    }
   ],
   "source": [
    "%%sql\n",
    "update all_candidate \n",
    "SET cand_office_state = candidate_master.cand_office_st\n",
    "FROM candidate_master\n",
    "WHERE all_candidate.CAND_ID = candidate_master.CAND_ID\n",
    ";"
   ]
  },
  {
   "cell_type": "code",
   "execution_count": 63,
   "metadata": {},
   "outputs": [
    {
     "name": "stdout",
     "output_type": "stream",
     "text": [
      " * postgresql://student@/final_project_yu\n",
      "6835 rows affected.\n"
     ]
    },
    {
     "data": {
      "text/plain": [
       "[]"
      ]
     },
     "execution_count": 63,
     "metadata": {},
     "output_type": "execute_result"
    }
   ],
   "source": [
    "%%sql\n",
    "update all_candidate \n",
    "SET  OFFICE_KEY= OFFICE.OFFICE_KEY\n",
    "FROM OFFICE\n",
    "WHERE OFFICE.cand_office_state = ALL_CANDIDATE.cand_office_state\n",
    ";"
   ]
  },
  {
   "cell_type": "code",
   "execution_count": 64,
   "metadata": {},
   "outputs": [
    {
     "name": "stdout",
     "output_type": "stream",
     "text": [
      " * postgresql://student@/final_project_yu\n",
      "5 rows affected.\n"
     ]
    },
    {
     "data": {
      "text/html": [
       "<table>\n",
       "    <tr>\n",
       "        <th>cand_id</th>\n",
       "        <th>trans_from_auth</th>\n",
       "        <th>ttl_indiv_contrib</th>\n",
       "        <th>cvg_end_dt</th>\n",
       "        <th>cand_office_state</th>\n",
       "        <th>office_key</th>\n",
       "    </tr>\n",
       "    <tr>\n",
       "        <td>H0TX18235</td>\n",
       "        <td>0.00</td>\n",
       "        <td>0.00</td>\n",
       "        <td>2015-10-15</td>\n",
       "        <td>TX</td>\n",
       "        <td>29</td>\n",
       "    </tr>\n",
       "    <tr>\n",
       "        <td>H0VA08040</td>\n",
       "        <td>0.00</td>\n",
       "        <td>0.00</td>\n",
       "        <td>2016-12-31</td>\n",
       "        <td>VA</td>\n",
       "        <td>54</td>\n",
       "    </tr>\n",
       "    <tr>\n",
       "        <td>P20003711</td>\n",
       "        <td>0.00</td>\n",
       "        <td>0.00</td>\n",
       "        <td>2017-01-31</td>\n",
       "        <td>None</td>\n",
       "        <td>None</td>\n",
       "    </tr>\n",
       "    <tr>\n",
       "        <td>P60006244</td>\n",
       "        <td>0.00</td>\n",
       "        <td>1260.00</td>\n",
       "        <td>2016-05-09</td>\n",
       "        <td>None</td>\n",
       "        <td>None</td>\n",
       "    </tr>\n",
       "    <tr>\n",
       "        <td>P20003216</td>\n",
       "        <td>0.00</td>\n",
       "        <td>0.00</td>\n",
       "        <td>2016-12-31</td>\n",
       "        <td>None</td>\n",
       "        <td>None</td>\n",
       "    </tr>\n",
       "</table>"
      ],
      "text/plain": [
       "[('H0TX18235', Decimal('0.00'), Decimal('0.00'), datetime.date(2015, 10, 15), 'TX', 29),\n",
       " ('H0VA08040', Decimal('0.00'), Decimal('0.00'), datetime.date(2016, 12, 31), 'VA', 54),\n",
       " ('P20003711', Decimal('0.00'), Decimal('0.00'), datetime.date(2017, 1, 31), None, None),\n",
       " ('P60006244', Decimal('0.00'), Decimal('1260.00'), datetime.date(2016, 5, 9), None, None),\n",
       " ('P20003216', Decimal('0.00'), Decimal('0.00'), datetime.date(2016, 12, 31), None, None)]"
      ]
     },
     "execution_count": 64,
     "metadata": {},
     "output_type": "execute_result"
    }
   ],
   "source": [
    "%%sql\n",
    "SELECT * FROM ALL_CANDIDATE LIMIT 5;"
   ]
  },
  {
   "cell_type": "markdown",
   "metadata": {},
   "source": [
    "### 5.2. Diagram 2 - Committee Linkage"
   ]
  },
  {
   "cell_type": "markdown",
   "metadata": {},
   "source": [
    "### committee id add to all_candidate based on candidate_id"
   ]
  },
  {
   "cell_type": "code",
   "execution_count": 66,
   "metadata": {},
   "outputs": [
    {
     "name": "stdout",
     "output_type": "stream",
     "text": [
      " * postgresql://student@/final_project_yu\n",
      "Done.\n"
     ]
    },
    {
     "data": {
      "text/plain": [
       "[]"
      ]
     },
     "execution_count": 66,
     "metadata": {},
     "output_type": "execute_result"
    }
   ],
   "source": [
    "%%sql\n",
    "ALTER TABLE all_candidate\n",
    "ADD COLUMN CMTE_ID varchar(9);"
   ]
  },
  {
   "cell_type": "code",
   "execution_count": 67,
   "metadata": {},
   "outputs": [
    {
     "name": "stdout",
     "output_type": "stream",
     "text": [
      " * postgresql://student@/final_project_yu\n",
      "6788 rows affected.\n"
     ]
    },
    {
     "data": {
      "text/plain": [
       "[]"
      ]
     },
     "execution_count": 67,
     "metadata": {},
     "output_type": "execute_result"
    }
   ],
   "source": [
    "%%sql\n",
    "update all_candidate \n",
    "SET  CMTE_ID= LINKAGE.CMTE_ID\n",
    "FROM LINKAGE\n",
    "WHERE LINKAGE.CAND_ID = ALL_CANDIDATE.CAND_ID\n",
    ";"
   ]
  },
  {
   "cell_type": "markdown",
   "metadata": {},
   "source": [
    "### Create committee_linkage where contains unique linkage to committee"
   ]
  },
  {
   "cell_type": "code",
   "execution_count": 68,
   "metadata": {},
   "outputs": [
    {
     "name": "stdout",
     "output_type": "stream",
     "text": [
      " * postgresql://student@/final_project_yu\n",
      "Done.\n",
      "Done.\n"
     ]
    },
    {
     "data": {
      "text/plain": [
       "[]"
      ]
     },
     "execution_count": 68,
     "metadata": {},
     "output_type": "execute_result"
    }
   ],
   "source": [
    "%%sql\n",
    "DROP TABLE IF EXISTS CMTE_LINK cascade;\n",
    "\n",
    "CREATE TABLE CMTE_LINK (\n",
    "    CMTE_LINK_KEY SERIAL PRIMARY KEY,\n",
    "    CMTE_ID VARCHAR(9)\n",
    ")"
   ]
  },
  {
   "cell_type": "code",
   "execution_count": 69,
   "metadata": {},
   "outputs": [
    {
     "name": "stdout",
     "output_type": "stream",
     "text": [
      " * postgresql://student@/final_project_yu\n",
      "11307 rows affected.\n"
     ]
    },
    {
     "data": {
      "text/plain": [
       "[]"
      ]
     },
     "execution_count": 69,
     "metadata": {},
     "output_type": "execute_result"
    }
   ],
   "source": [
    "%%sql\n",
    "INSERT INTO CMTE_LINK (CMTE_ID)\n",
    "SELECT DISTINCT CMTE_ID \n",
    "FROM LINKAGE;"
   ]
  },
  {
   "cell_type": "code",
   "execution_count": 34,
   "metadata": {},
   "outputs": [
    {
     "name": "stdout",
     "output_type": "stream",
     "text": [
      " * postgresql://student@/final_project_yu\n",
      "5 rows affected.\n"
     ]
    },
    {
     "data": {
      "text/html": [
       "<table>\n",
       "    <tr>\n",
       "        <th>cmte_link_key</th>\n",
       "        <th>cmte_id</th>\n",
       "    </tr>\n",
       "    <tr>\n",
       "        <td>967</td>\n",
       "        <td>C00763953</td>\n",
       "    </tr>\n",
       "    <tr>\n",
       "        <td>8003</td>\n",
       "        <td>C00763946</td>\n",
       "    </tr>\n",
       "    <tr>\n",
       "        <td>489</td>\n",
       "        <td>C00763912</td>\n",
       "    </tr>\n",
       "    <tr>\n",
       "        <td>11052</td>\n",
       "        <td>C00763904</td>\n",
       "    </tr>\n",
       "    <tr>\n",
       "        <td>4123</td>\n",
       "        <td>C00763896</td>\n",
       "    </tr>\n",
       "</table>"
      ],
      "text/plain": [
       "[(967, 'C00763953'),\n",
       " (8003, 'C00763946'),\n",
       " (489, 'C00763912'),\n",
       " (11052, 'C00763904'),\n",
       " (4123, 'C00763896')]"
      ]
     },
     "execution_count": 34,
     "metadata": {},
     "output_type": "execute_result"
    }
   ],
   "source": [
    "%%sql\n",
    "select * from cmte_link \n",
    "order by cmte_id desc\n",
    "limit 5;"
   ]
  },
  {
   "cell_type": "markdown",
   "metadata": {},
   "source": [
    "### add committee_link_key to all_candidate"
   ]
  },
  {
   "cell_type": "code",
   "execution_count": 70,
   "metadata": {},
   "outputs": [
    {
     "name": "stdout",
     "output_type": "stream",
     "text": [
      " * postgresql://student@/final_project_yu\n",
      "Done.\n"
     ]
    },
    {
     "data": {
      "text/plain": [
       "[]"
      ]
     },
     "execution_count": 70,
     "metadata": {},
     "output_type": "execute_result"
    }
   ],
   "source": [
    "%%sql\n",
    "ALTER TABLE all_candidate\n",
    "ADD COLUMN cmte_link_key int,\n",
    "ADD CONSTRAINT fk_cmte_link_key\n",
    "    FOREIGN KEY (cmte_link_key)\n",
    "    REFERENCES cmte_link (cmte_link_key);"
   ]
  },
  {
   "cell_type": "code",
   "execution_count": 71,
   "metadata": {},
   "outputs": [
    {
     "name": "stdout",
     "output_type": "stream",
     "text": [
      " * postgresql://student@/final_project_yu\n",
      "6788 rows affected.\n"
     ]
    },
    {
     "data": {
      "text/plain": [
       "[]"
      ]
     },
     "execution_count": 71,
     "metadata": {},
     "output_type": "execute_result"
    }
   ],
   "source": [
    "%%sql\n",
    "update all_candidate \n",
    "SET  cmte_link_KEY= cmte_link.cmte_link_KEY\n",
    "FROM cmte_link\n",
    "WHERE cmte_link.cmte_id = ALL_CANDIDATE.cmte_id\n",
    ";"
   ]
  },
  {
   "cell_type": "markdown",
   "metadata": {},
   "source": [
    "### 5.3. Diagram 3 - Election"
   ]
  },
  {
   "cell_type": "markdown",
   "metadata": {},
   "source": [
    "### create election table contain election_key, party affiliation and election year"
   ]
  },
  {
   "cell_type": "code",
   "execution_count": 73,
   "metadata": {},
   "outputs": [
    {
     "name": "stdout",
     "output_type": "stream",
     "text": [
      " * postgresql://student@/final_project_yu\n",
      "Done.\n",
      "Done.\n"
     ]
    },
    {
     "data": {
      "text/plain": [
       "[]"
      ]
     },
     "execution_count": 73,
     "metadata": {},
     "output_type": "execute_result"
    }
   ],
   "source": [
    "%%sql\n",
    "DROP TABLE IF EXISTS election cascade;\n",
    "\n",
    "CREATE TABLE election (\n",
    "    ELECTION_KEY SERIAL PRIMARY KEY,\n",
    "    CAND_PTY_AFFILIATION varchar(3),\n",
    "    CAND_ELECTION_YR numeric(4)\n",
    ")"
   ]
  },
  {
   "cell_type": "code",
   "execution_count": 74,
   "metadata": {},
   "outputs": [
    {
     "name": "stdout",
     "output_type": "stream",
     "text": [
      " * postgresql://student@/final_project_yu\n",
      "423 rows affected.\n"
     ]
    },
    {
     "data": {
      "text/plain": [
       "[]"
      ]
     },
     "execution_count": 74,
     "metadata": {},
     "output_type": "execute_result"
    }
   ],
   "source": [
    "%%sql\n",
    "INSERT INTO election (CAND_PTY_AFFILIATION, CAND_ELECTION_YR)\n",
    "SELECT DISTINCT CAND_PTY_AFFILIATION, CAND_ELECTION_YR\n",
    "FROM candidate_master;"
   ]
  },
  {
   "cell_type": "markdown",
   "metadata": {},
   "source": [
    "### alter all_candidate fact table with election_key"
   ]
  },
  {
   "cell_type": "code",
   "execution_count": 75,
   "metadata": {},
   "outputs": [
    {
     "name": "stdout",
     "output_type": "stream",
     "text": [
      " * postgresql://student@/final_project_yu\n",
      "5 rows affected.\n"
     ]
    },
    {
     "data": {
      "text/html": [
       "<table>\n",
       "    <tr>\n",
       "        <th>cand_id</th>\n",
       "        <th>trans_from_auth</th>\n",
       "        <th>ttl_indiv_contrib</th>\n",
       "        <th>cvg_end_dt</th>\n",
       "        <th>cand_office_state</th>\n",
       "        <th>office_key</th>\n",
       "        <th>cmte_id</th>\n",
       "        <th>cmte_link_key</th>\n",
       "    </tr>\n",
       "    <tr>\n",
       "        <td>H0TX18235</td>\n",
       "        <td>0.00</td>\n",
       "        <td>0.00</td>\n",
       "        <td>2015-10-15</td>\n",
       "        <td>TX</td>\n",
       "        <td>29</td>\n",
       "        <td>C00557330</td>\n",
       "        <td>6394</td>\n",
       "    </tr>\n",
       "    <tr>\n",
       "        <td>H0VA08040</td>\n",
       "        <td>0.00</td>\n",
       "        <td>0.00</td>\n",
       "        <td>2016-12-31</td>\n",
       "        <td>VA</td>\n",
       "        <td>54</td>\n",
       "        <td>C00241349</td>\n",
       "        <td>5327</td>\n",
       "    </tr>\n",
       "    <tr>\n",
       "        <td>P20003216</td>\n",
       "        <td>0.00</td>\n",
       "        <td>0.00</td>\n",
       "        <td>2016-12-31</td>\n",
       "        <td>None</td>\n",
       "        <td>None</td>\n",
       "        <td>C00500082</td>\n",
       "        <td>9176</td>\n",
       "    </tr>\n",
       "    <tr>\n",
       "        <td>P20003711</td>\n",
       "        <td>0.00</td>\n",
       "        <td>0.00</td>\n",
       "        <td>2017-01-31</td>\n",
       "        <td>None</td>\n",
       "        <td>None</td>\n",
       "        <td>C00503763</td>\n",
       "        <td>3613</td>\n",
       "    </tr>\n",
       "    <tr>\n",
       "        <td>P60006244</td>\n",
       "        <td>0.00</td>\n",
       "        <td>1260.00</td>\n",
       "        <td>2016-05-09</td>\n",
       "        <td>None</td>\n",
       "        <td>None</td>\n",
       "        <td>C00570192</td>\n",
       "        <td>1376</td>\n",
       "    </tr>\n",
       "</table>"
      ],
      "text/plain": [
       "[('H0TX18235', Decimal('0.00'), Decimal('0.00'), datetime.date(2015, 10, 15), 'TX', 29, 'C00557330', 6394),\n",
       " ('H0VA08040', Decimal('0.00'), Decimal('0.00'), datetime.date(2016, 12, 31), 'VA', 54, 'C00241349', 5327),\n",
       " ('P20003216', Decimal('0.00'), Decimal('0.00'), datetime.date(2016, 12, 31), None, None, 'C00500082', 9176),\n",
       " ('P20003711', Decimal('0.00'), Decimal('0.00'), datetime.date(2017, 1, 31), None, None, 'C00503763', 3613),\n",
       " ('P60006244', Decimal('0.00'), Decimal('1260.00'), datetime.date(2016, 5, 9), None, None, 'C00570192', 1376)]"
      ]
     },
     "execution_count": 75,
     "metadata": {},
     "output_type": "execute_result"
    }
   ],
   "source": [
    "%%sql\n",
    "select * from all_candidate limit 5;"
   ]
  },
  {
   "cell_type": "code",
   "execution_count": 76,
   "metadata": {},
   "outputs": [
    {
     "name": "stdout",
     "output_type": "stream",
     "text": [
      " * postgresql://student@/final_project_yu\n",
      "Done.\n"
     ]
    },
    {
     "data": {
      "text/plain": [
       "[]"
      ]
     },
     "execution_count": 76,
     "metadata": {},
     "output_type": "execute_result"
    }
   ],
   "source": [
    "%%sql\n",
    "alter table all_candidate\n",
    "add column year numeric(4);"
   ]
  },
  {
   "cell_type": "code",
   "execution_count": 77,
   "metadata": {},
   "outputs": [
    {
     "name": "stdout",
     "output_type": "stream",
     "text": [
      " * postgresql://student@/final_project_yu\n",
      "5 rows affected.\n"
     ]
    },
    {
     "data": {
      "text/html": [
       "<table>\n",
       "    <tr>\n",
       "        <th>cand_id</th>\n",
       "        <th>trans_from_auth</th>\n",
       "        <th>ttl_indiv_contrib</th>\n",
       "        <th>cvg_end_dt</th>\n",
       "        <th>cand_office_state</th>\n",
       "        <th>office_key</th>\n",
       "        <th>cmte_id</th>\n",
       "        <th>cmte_link_key</th>\n",
       "        <th>year</th>\n",
       "    </tr>\n",
       "    <tr>\n",
       "        <td>H0TX18235</td>\n",
       "        <td>0.00</td>\n",
       "        <td>0.00</td>\n",
       "        <td>2015-10-15</td>\n",
       "        <td>TX</td>\n",
       "        <td>29</td>\n",
       "        <td>C00557330</td>\n",
       "        <td>6394</td>\n",
       "        <td>None</td>\n",
       "    </tr>\n",
       "    <tr>\n",
       "        <td>H0VA08040</td>\n",
       "        <td>0.00</td>\n",
       "        <td>0.00</td>\n",
       "        <td>2016-12-31</td>\n",
       "        <td>VA</td>\n",
       "        <td>54</td>\n",
       "        <td>C00241349</td>\n",
       "        <td>5327</td>\n",
       "        <td>None</td>\n",
       "    </tr>\n",
       "    <tr>\n",
       "        <td>P20003216</td>\n",
       "        <td>0.00</td>\n",
       "        <td>0.00</td>\n",
       "        <td>2016-12-31</td>\n",
       "        <td>None</td>\n",
       "        <td>None</td>\n",
       "        <td>C00500082</td>\n",
       "        <td>9176</td>\n",
       "        <td>None</td>\n",
       "    </tr>\n",
       "    <tr>\n",
       "        <td>P20003711</td>\n",
       "        <td>0.00</td>\n",
       "        <td>0.00</td>\n",
       "        <td>2017-01-31</td>\n",
       "        <td>None</td>\n",
       "        <td>None</td>\n",
       "        <td>C00503763</td>\n",
       "        <td>3613</td>\n",
       "        <td>None</td>\n",
       "    </tr>\n",
       "    <tr>\n",
       "        <td>P60006244</td>\n",
       "        <td>0.00</td>\n",
       "        <td>1260.00</td>\n",
       "        <td>2016-05-09</td>\n",
       "        <td>None</td>\n",
       "        <td>None</td>\n",
       "        <td>C00570192</td>\n",
       "        <td>1376</td>\n",
       "        <td>None</td>\n",
       "    </tr>\n",
       "</table>"
      ],
      "text/plain": [
       "[('H0TX18235', Decimal('0.00'), Decimal('0.00'), datetime.date(2015, 10, 15), 'TX', 29, 'C00557330', 6394, None),\n",
       " ('H0VA08040', Decimal('0.00'), Decimal('0.00'), datetime.date(2016, 12, 31), 'VA', 54, 'C00241349', 5327, None),\n",
       " ('P20003216', Decimal('0.00'), Decimal('0.00'), datetime.date(2016, 12, 31), None, None, 'C00500082', 9176, None),\n",
       " ('P20003711', Decimal('0.00'), Decimal('0.00'), datetime.date(2017, 1, 31), None, None, 'C00503763', 3613, None),\n",
       " ('P60006244', Decimal('0.00'), Decimal('1260.00'), datetime.date(2016, 5, 9), None, None, 'C00570192', 1376, None)]"
      ]
     },
     "execution_count": 77,
     "metadata": {},
     "output_type": "execute_result"
    }
   ],
   "source": [
    "%%sql\n",
    "select * from all_candidate limit 5;"
   ]
  },
  {
   "cell_type": "code",
   "execution_count": 78,
   "metadata": {},
   "outputs": [
    {
     "name": "stdout",
     "output_type": "stream",
     "text": [
      " * postgresql://student@/final_project_yu\n",
      "Done.\n"
     ]
    },
    {
     "data": {
      "text/plain": [
       "[]"
      ]
     },
     "execution_count": 78,
     "metadata": {},
     "output_type": "execute_result"
    }
   ],
   "source": [
    "%%sql\n",
    "ALTER TABLE all_candidate\n",
    "ADD COLUMN CAND_PTY_AFFILIATION varchar(3),\n",
    "ADD COLUMN CAND_ELECTION_YR numeric(4),\n",
    "ADD COLUMN election_key int,\n",
    "ADD CONSTRAINT fk_election_key\n",
    "    FOREIGN KEY (election_key)\n",
    "    REFERENCES election (election_key);"
   ]
  },
  {
   "cell_type": "code",
   "execution_count": 79,
   "metadata": {},
   "outputs": [
    {
     "name": "stdout",
     "output_type": "stream",
     "text": [
      " * postgresql://student@/final_project_yu\n",
      "6835 rows affected.\n"
     ]
    },
    {
     "data": {
      "text/plain": [
       "[]"
      ]
     },
     "execution_count": 79,
     "metadata": {},
     "output_type": "execute_result"
    }
   ],
   "source": [
    "%%sql\n",
    "update all_candidate \n",
    "SET CAND_PTY_AFFILIATION = CANDIDATE_MASTER.CAND_PTY_AFFILIATION\n",
    "FROM CANDIDATE_MASTER\n",
    "WHERE CANDIDATE_MASTER.CAND_ID = ALL_CANDIDATE.CAND_ID\n",
    ";"
   ]
  },
  {
   "cell_type": "code",
   "execution_count": 80,
   "metadata": {},
   "outputs": [
    {
     "name": "stdout",
     "output_type": "stream",
     "text": [
      " * postgresql://student@/final_project_yu\n",
      "1 rows affected.\n"
     ]
    },
    {
     "data": {
      "text/html": [
       "<table>\n",
       "    <tr>\n",
       "        <th>count</th>\n",
       "        <th>year</th>\n",
       "    </tr>\n",
       "    <tr>\n",
       "        <td>6855</td>\n",
       "        <td>None</td>\n",
       "    </tr>\n",
       "</table>"
      ],
      "text/plain": [
       "[(6855, None)]"
      ]
     },
     "execution_count": 80,
     "metadata": {},
     "output_type": "execute_result"
    }
   ],
   "source": [
    "%%sql\n",
    "select count(*),YEAR from ALL_CANDIDATE\n",
    "group by YEAR\n",
    "order by YEAR DESC;"
   ]
  },
  {
   "cell_type": "code",
   "execution_count": 81,
   "metadata": {
    "collapsed": true,
    "jupyter": {
     "outputs_hidden": true
    }
   },
   "outputs": [
    {
     "name": "stdout",
     "output_type": "stream",
     "text": [
      " * postgresql://student@/final_project_yu\n",
      "45 rows affected.\n"
     ]
    },
    {
     "data": {
      "text/html": [
       "<table>\n",
       "    <tr>\n",
       "        <th>count</th>\n",
       "        <th>cand_election_yr</th>\n",
       "    </tr>\n",
       "    <tr>\n",
       "        <td>1</td>\n",
       "        <td>2916</td>\n",
       "    </tr>\n",
       "    <tr>\n",
       "        <td>1</td>\n",
       "        <td>2820</td>\n",
       "    </tr>\n",
       "    <tr>\n",
       "        <td>2</td>\n",
       "        <td>2106</td>\n",
       "    </tr>\n",
       "    <tr>\n",
       "        <td>1</td>\n",
       "        <td>2069</td>\n",
       "    </tr>\n",
       "    <tr>\n",
       "        <td>1</td>\n",
       "        <td>2064</td>\n",
       "    </tr>\n",
       "    <tr>\n",
       "        <td>1</td>\n",
       "        <td>2052</td>\n",
       "    </tr>\n",
       "    <tr>\n",
       "        <td>2</td>\n",
       "        <td>2048</td>\n",
       "    </tr>\n",
       "    <tr>\n",
       "        <td>3</td>\n",
       "        <td>2044</td>\n",
       "    </tr>\n",
       "    <tr>\n",
       "        <td>4</td>\n",
       "        <td>2040</td>\n",
       "    </tr>\n",
       "    <tr>\n",
       "        <td>7</td>\n",
       "        <td>2036</td>\n",
       "    </tr>\n",
       "    <tr>\n",
       "        <td>4</td>\n",
       "        <td>2032</td>\n",
       "    </tr>\n",
       "    <tr>\n",
       "        <td>1</td>\n",
       "        <td>2029</td>\n",
       "    </tr>\n",
       "    <tr>\n",
       "        <td>5</td>\n",
       "        <td>2028</td>\n",
       "    </tr>\n",
       "    <tr>\n",
       "        <td>2</td>\n",
       "        <td>2026</td>\n",
       "    </tr>\n",
       "    <tr>\n",
       "        <td>3</td>\n",
       "        <td>2025</td>\n",
       "    </tr>\n",
       "    <tr>\n",
       "        <td>16</td>\n",
       "        <td>2024</td>\n",
       "    </tr>\n",
       "    <tr>\n",
       "        <td>12</td>\n",
       "        <td>2022</td>\n",
       "    </tr>\n",
       "    <tr>\n",
       "        <td>8</td>\n",
       "        <td>2021</td>\n",
       "    </tr>\n",
       "    <tr>\n",
       "        <td>80</td>\n",
       "        <td>2020</td>\n",
       "    </tr>\n",
       "    <tr>\n",
       "        <td>14</td>\n",
       "        <td>2019</td>\n",
       "    </tr>\n",
       "    <tr>\n",
       "        <td>28</td>\n",
       "        <td>2018</td>\n",
       "    </tr>\n",
       "    <tr>\n",
       "        <td>5</td>\n",
       "        <td>2017</td>\n",
       "    </tr>\n",
       "    <tr>\n",
       "        <td>104</td>\n",
       "        <td>2016</td>\n",
       "    </tr>\n",
       "    <tr>\n",
       "        <td>14</td>\n",
       "        <td>2015</td>\n",
       "    </tr>\n",
       "    <tr>\n",
       "        <td>15</td>\n",
       "        <td>2014</td>\n",
       "    </tr>\n",
       "    <tr>\n",
       "        <td>5</td>\n",
       "        <td>2013</td>\n",
       "    </tr>\n",
       "    <tr>\n",
       "        <td>16</td>\n",
       "        <td>2012</td>\n",
       "    </tr>\n",
       "    <tr>\n",
       "        <td>3</td>\n",
       "        <td>2011</td>\n",
       "    </tr>\n",
       "    <tr>\n",
       "        <td>18</td>\n",
       "        <td>2010</td>\n",
       "    </tr>\n",
       "    <tr>\n",
       "        <td>4</td>\n",
       "        <td>2009</td>\n",
       "    </tr>\n",
       "    <tr>\n",
       "        <td>11</td>\n",
       "        <td>2008</td>\n",
       "    </tr>\n",
       "    <tr>\n",
       "        <td>3</td>\n",
       "        <td>2007</td>\n",
       "    </tr>\n",
       "    <tr>\n",
       "        <td>6</td>\n",
       "        <td>2006</td>\n",
       "    </tr>\n",
       "    <tr>\n",
       "        <td>4</td>\n",
       "        <td>2004</td>\n",
       "    </tr>\n",
       "    <tr>\n",
       "        <td>2</td>\n",
       "        <td>2002</td>\n",
       "    </tr>\n",
       "    <tr>\n",
       "        <td>1</td>\n",
       "        <td>2001</td>\n",
       "    </tr>\n",
       "    <tr>\n",
       "        <td>3</td>\n",
       "        <td>2000</td>\n",
       "    </tr>\n",
       "    <tr>\n",
       "        <td>2</td>\n",
       "        <td>1998</td>\n",
       "    </tr>\n",
       "    <tr>\n",
       "        <td>3</td>\n",
       "        <td>1996</td>\n",
       "    </tr>\n",
       "    <tr>\n",
       "        <td>1</td>\n",
       "        <td>1994</td>\n",
       "    </tr>\n",
       "    <tr>\n",
       "        <td>2</td>\n",
       "        <td>1992</td>\n",
       "    </tr>\n",
       "    <tr>\n",
       "        <td>1</td>\n",
       "        <td>1990</td>\n",
       "    </tr>\n",
       "    <tr>\n",
       "        <td>1</td>\n",
       "        <td>1988</td>\n",
       "    </tr>\n",
       "    <tr>\n",
       "        <td>1</td>\n",
       "        <td>1986</td>\n",
       "    </tr>\n",
       "    <tr>\n",
       "        <td>2</td>\n",
       "        <td>1984</td>\n",
       "    </tr>\n",
       "</table>"
      ],
      "text/plain": [
       "[(1, Decimal('2916')),\n",
       " (1, Decimal('2820')),\n",
       " (2, Decimal('2106')),\n",
       " (1, Decimal('2069')),\n",
       " (1, Decimal('2064')),\n",
       " (1, Decimal('2052')),\n",
       " (2, Decimal('2048')),\n",
       " (3, Decimal('2044')),\n",
       " (4, Decimal('2040')),\n",
       " (7, Decimal('2036')),\n",
       " (4, Decimal('2032')),\n",
       " (1, Decimal('2029')),\n",
       " (5, Decimal('2028')),\n",
       " (2, Decimal('2026')),\n",
       " (3, Decimal('2025')),\n",
       " (16, Decimal('2024')),\n",
       " (12, Decimal('2022')),\n",
       " (8, Decimal('2021')),\n",
       " (80, Decimal('2020')),\n",
       " (14, Decimal('2019')),\n",
       " (28, Decimal('2018')),\n",
       " (5, Decimal('2017')),\n",
       " (104, Decimal('2016')),\n",
       " (14, Decimal('2015')),\n",
       " (15, Decimal('2014')),\n",
       " (5, Decimal('2013')),\n",
       " (16, Decimal('2012')),\n",
       " (3, Decimal('2011')),\n",
       " (18, Decimal('2010')),\n",
       " (4, Decimal('2009')),\n",
       " (11, Decimal('2008')),\n",
       " (3, Decimal('2007')),\n",
       " (6, Decimal('2006')),\n",
       " (4, Decimal('2004')),\n",
       " (2, Decimal('2002')),\n",
       " (1, Decimal('2001')),\n",
       " (3, Decimal('2000')),\n",
       " (2, Decimal('1998')),\n",
       " (3, Decimal('1996')),\n",
       " (1, Decimal('1994')),\n",
       " (2, Decimal('1992')),\n",
       " (1, Decimal('1990')),\n",
       " (1, Decimal('1988')),\n",
       " (1, Decimal('1986')),\n",
       " (2, Decimal('1984'))]"
      ]
     },
     "execution_count": 81,
     "metadata": {},
     "output_type": "execute_result"
    }
   ],
   "source": [
    "%%sql\n",
    "select count(*),CAND_ELECTION_YR from election\n",
    "group by CAND_ELECTION_YR\n",
    "order by CAND_ELECTION_YR DESC;"
   ]
  },
  {
   "cell_type": "code",
   "execution_count": 82,
   "metadata": {},
   "outputs": [
    {
     "name": "stdout",
     "output_type": "stream",
     "text": [
      " * postgresql://student@/final_project_yu\n",
      "6835 rows affected.\n"
     ]
    },
    {
     "data": {
      "text/plain": [
       "[]"
      ]
     },
     "execution_count": 82,
     "metadata": {},
     "output_type": "execute_result"
    }
   ],
   "source": [
    "%%sql\n",
    "update all_candidate \n",
    "SET CAND_ELECTION_YR = CANDIDATE_MASTER.CAND_ELECTION_YR\n",
    "FROM CANDIDATE_MASTER\n",
    "WHERE CANDIDATE_MASTER.CAND_ID = ALL_CANDIDATE.CAND_ID\n",
    ";"
   ]
  },
  {
   "cell_type": "code",
   "execution_count": 83,
   "metadata": {},
   "outputs": [
    {
     "name": "stdout",
     "output_type": "stream",
     "text": [
      " * postgresql://student@/final_project_yu\n",
      "6834 rows affected.\n"
     ]
    },
    {
     "data": {
      "text/plain": [
       "[]"
      ]
     },
     "execution_count": 83,
     "metadata": {},
     "output_type": "execute_result"
    }
   ],
   "source": [
    "%%sql\n",
    "update all_candidate \n",
    "SET ELECTION_KEY = ELECTION.ELECTION_KEY\n",
    "FROM ELECTION\n",
    "WHERE ELECTION.CAND_ELECTION_YR = ALL_CANDIDATE.CAND_ELECTION_YR AND ELECTION.CAND_PTY_AFFILIATION = ALL_CANDIDATE.CAND_PTY_AFFILIATION\n",
    ";"
   ]
  },
  {
   "cell_type": "code",
   "execution_count": 84,
   "metadata": {},
   "outputs": [
    {
     "name": "stdout",
     "output_type": "stream",
     "text": [
      " * postgresql://student@/final_project_yu\n",
      "5 rows affected.\n"
     ]
    },
    {
     "data": {
      "text/html": [
       "<table>\n",
       "    <tr>\n",
       "        <th>cand_id</th>\n",
       "        <th>trans_from_auth</th>\n",
       "        <th>ttl_indiv_contrib</th>\n",
       "        <th>cvg_end_dt</th>\n",
       "        <th>cand_office_state</th>\n",
       "        <th>office_key</th>\n",
       "        <th>cmte_id</th>\n",
       "        <th>cmte_link_key</th>\n",
       "        <th>year</th>\n",
       "        <th>cand_pty_affiliation</th>\n",
       "        <th>cand_election_yr</th>\n",
       "        <th>election_key</th>\n",
       "    </tr>\n",
       "    <tr>\n",
       "        <td>S0NY00667</td>\n",
       "        <td>0.00</td>\n",
       "        <td>0.00</td>\n",
       "        <td>2020-09-30</td>\n",
       "        <td>NY</td>\n",
       "        <td>6</td>\n",
       "        <td>C00749226</td>\n",
       "        <td>1029</td>\n",
       "        <td>None</td>\n",
       "        <td>DEM</td>\n",
       "        <td>2020</td>\n",
       "        <td>139</td>\n",
       "    </tr>\n",
       "    <tr>\n",
       "        <td>H2OH03141</td>\n",
       "        <td>0.00</td>\n",
       "        <td>0.00</td>\n",
       "        <td>2020-09-30</td>\n",
       "        <td>OH</td>\n",
       "        <td>4</td>\n",
       "        <td>C00517441</td>\n",
       "        <td>6179</td>\n",
       "        <td>None</td>\n",
       "        <td>REP</td>\n",
       "        <td>2012</td>\n",
       "        <td>356</td>\n",
       "    </tr>\n",
       "    <tr>\n",
       "        <td>H0WY01028</td>\n",
       "        <td>0.00</td>\n",
       "        <td>8591.85</td>\n",
       "        <td>2020-10-14</td>\n",
       "        <td>WY</td>\n",
       "        <td>16</td>\n",
       "        <td>C00740647</td>\n",
       "        <td>8625</td>\n",
       "        <td>None</td>\n",
       "        <td>DEM</td>\n",
       "        <td>2020</td>\n",
       "        <td>139</td>\n",
       "    </tr>\n",
       "    <tr>\n",
       "        <td>S4AK00214</td>\n",
       "        <td>190.00</td>\n",
       "        <td>177320.00</td>\n",
       "        <td>2016-12-31</td>\n",
       "        <td>AK</td>\n",
       "        <td>45</td>\n",
       "        <td>C00568477</td>\n",
       "        <td>9188</td>\n",
       "        <td>None</td>\n",
       "        <td>REP</td>\n",
       "        <td>2020</td>\n",
       "        <td>55</td>\n",
       "    </tr>\n",
       "    <tr>\n",
       "        <td>H6NE03115</td>\n",
       "        <td>0.00</td>\n",
       "        <td>329161.30</td>\n",
       "        <td>2020-10-14</td>\n",
       "        <td>NE</td>\n",
       "        <td>10</td>\n",
       "        <td>C00412890</td>\n",
       "        <td>3529</td>\n",
       "        <td>None</td>\n",
       "        <td>REP</td>\n",
       "        <td>2016</td>\n",
       "        <td>59</td>\n",
       "    </tr>\n",
       "</table>"
      ],
      "text/plain": [
       "[('S0NY00667', Decimal('0.00'), Decimal('0.00'), datetime.date(2020, 9, 30), 'NY', 6, 'C00749226', 1029, None, 'DEM', Decimal('2020'), 139),\n",
       " ('H2OH03141', Decimal('0.00'), Decimal('0.00'), datetime.date(2020, 9, 30), 'OH', 4, 'C00517441', 6179, None, 'REP', Decimal('2012'), 356),\n",
       " ('H0WY01028', Decimal('0.00'), Decimal('8591.85'), datetime.date(2020, 10, 14), 'WY', 16, 'C00740647', 8625, None, 'DEM', Decimal('2020'), 139),\n",
       " ('S4AK00214', Decimal('190.00'), Decimal('177320.00'), datetime.date(2016, 12, 31), 'AK', 45, 'C00568477', 9188, None, 'REP', Decimal('2020'), 55),\n",
       " ('H6NE03115', Decimal('0.00'), Decimal('329161.30'), datetime.date(2020, 10, 14), 'NE', 10, 'C00412890', 3529, None, 'REP', Decimal('2016'), 59)]"
      ]
     },
     "execution_count": 84,
     "metadata": {},
     "output_type": "execute_result"
    }
   ],
   "source": [
    "%%sql\n",
    "select distinct * from all_candidate limit 5;"
   ]
  },
  {
   "cell_type": "markdown",
   "metadata": {},
   "source": [
    "### 5.4. Diagram 4 - Candidate_info"
   ]
  },
  {
   "cell_type": "code",
   "execution_count": 290,
   "metadata": {},
   "outputs": [
    {
     "name": "stdout",
     "output_type": "stream",
     "text": [
      " * postgresql://student@/final_project_yu\n",
      "Done.\n",
      "Done.\n"
     ]
    },
    {
     "data": {
      "text/plain": [
       "[]"
      ]
     },
     "execution_count": 290,
     "metadata": {},
     "output_type": "execute_result"
    }
   ],
   "source": [
    "%%sql\n",
    "DROP TABLE IF EXISTS candidate_info cascade;\n",
    "\n",
    "CREATE TABLE candidate_info (\n",
    "    info_KEY SERIAL PRIMARY KEY,\n",
    "    CAND_ID varchar(9),\n",
    "    CAND_NAME VARCHAR(200)\n",
    ")"
   ]
  },
  {
   "cell_type": "code",
   "execution_count": 291,
   "metadata": {},
   "outputs": [
    {
     "name": "stdout",
     "output_type": "stream",
     "text": [
      " * postgresql://student@/final_project_yu\n",
      "13555 rows affected.\n"
     ]
    },
    {
     "data": {
      "text/plain": [
       "[]"
      ]
     },
     "execution_count": 291,
     "metadata": {},
     "output_type": "execute_result"
    }
   ],
   "source": [
    "%%sql\n",
    "INSERT INTO CANDIDATE_INFO (CAND_ID, CAND_NAME)\n",
    "SELECT DISTINCT CAND_ID, CAND_NAME\n",
    "FROM candidate_master;"
   ]
  },
  {
   "cell_type": "markdown",
   "metadata": {},
   "source": [
    "### alter all candidate fact table to insert info_key"
   ]
  },
  {
   "cell_type": "code",
   "execution_count": 86,
   "metadata": {},
   "outputs": [
    {
     "name": "stdout",
     "output_type": "stream",
     "text": [
      " * postgresql://student@/final_project_yu\n",
      "Done.\n"
     ]
    },
    {
     "data": {
      "text/plain": [
       "[]"
      ]
     },
     "execution_count": 86,
     "metadata": {},
     "output_type": "execute_result"
    }
   ],
   "source": [
    "%%sql\n",
    "ALTER TABLE all_candidate\n",
    "ADD COLUMN info_key int,\n",
    "ADD CONSTRAINT fk_info_key\n",
    "    FOREIGN KEY (info_key)\n",
    "    REFERENCES candidate_info (info_key);"
   ]
  },
  {
   "cell_type": "code",
   "execution_count": 87,
   "metadata": {},
   "outputs": [
    {
     "name": "stdout",
     "output_type": "stream",
     "text": [
      " * postgresql://student@/final_project_yu\n",
      "6835 rows affected.\n"
     ]
    },
    {
     "data": {
      "text/plain": [
       "[]"
      ]
     },
     "execution_count": 87,
     "metadata": {},
     "output_type": "execute_result"
    }
   ],
   "source": [
    "%%sql\n",
    "update all_candidate \n",
    "SET info_key = candidate_info.info_key\n",
    "FROM candidate_info\n",
    "WHERE candidate_info.cand_id = all_candidate.cand_id;"
   ]
  },
  {
   "cell_type": "code",
   "execution_count": 88,
   "metadata": {},
   "outputs": [
    {
     "name": "stdout",
     "output_type": "stream",
     "text": [
      " * postgresql://student@/final_project_yu\n",
      "5 rows affected.\n"
     ]
    },
    {
     "data": {
      "text/html": [
       "<table>\n",
       "    <tr>\n",
       "        <th>cand_id</th>\n",
       "        <th>trans_from_auth</th>\n",
       "        <th>ttl_indiv_contrib</th>\n",
       "        <th>cvg_end_dt</th>\n",
       "        <th>cand_office_state</th>\n",
       "        <th>office_key</th>\n",
       "        <th>cmte_id</th>\n",
       "        <th>cmte_link_key</th>\n",
       "        <th>year</th>\n",
       "        <th>cand_pty_affiliation</th>\n",
       "        <th>cand_election_yr</th>\n",
       "        <th>election_key</th>\n",
       "        <th>info_key</th>\n",
       "    </tr>\n",
       "    <tr>\n",
       "        <td>H0CA10149</td>\n",
       "        <td>0.00</td>\n",
       "        <td>413839.18</td>\n",
       "        <td>2020-10-14</td>\n",
       "        <td>CA</td>\n",
       "        <td>26</td>\n",
       "        <td>C00462697</td>\n",
       "        <td>5015</td>\n",
       "        <td>None</td>\n",
       "        <td>DEM</td>\n",
       "        <td>2016</td>\n",
       "        <td>86</td>\n",
       "        <td>7727</td>\n",
       "    </tr>\n",
       "    <tr>\n",
       "        <td>P20003216</td>\n",
       "        <td>0.00</td>\n",
       "        <td>0.00</td>\n",
       "        <td>2016-12-31</td>\n",
       "        <td>None</td>\n",
       "        <td>None</td>\n",
       "        <td>C00500082</td>\n",
       "        <td>9176</td>\n",
       "        <td>None</td>\n",
       "        <td>None</td>\n",
       "        <td>None</td>\n",
       "        <td>None</td>\n",
       "        <td>None</td>\n",
       "    </tr>\n",
       "    <tr>\n",
       "        <td>P20003711</td>\n",
       "        <td>0.00</td>\n",
       "        <td>0.00</td>\n",
       "        <td>2017-01-31</td>\n",
       "        <td>None</td>\n",
       "        <td>None</td>\n",
       "        <td>C00503763</td>\n",
       "        <td>3613</td>\n",
       "        <td>None</td>\n",
       "        <td>None</td>\n",
       "        <td>None</td>\n",
       "        <td>None</td>\n",
       "        <td>None</td>\n",
       "    </tr>\n",
       "    <tr>\n",
       "        <td>P60006244</td>\n",
       "        <td>0.00</td>\n",
       "        <td>1260.00</td>\n",
       "        <td>2016-05-09</td>\n",
       "        <td>None</td>\n",
       "        <td>None</td>\n",
       "        <td>C00570192</td>\n",
       "        <td>1376</td>\n",
       "        <td>None</td>\n",
       "        <td>None</td>\n",
       "        <td>None</td>\n",
       "        <td>None</td>\n",
       "        <td>None</td>\n",
       "    </tr>\n",
       "    <tr>\n",
       "        <td>P60005998</td>\n",
       "        <td>0.00</td>\n",
       "        <td>0.00</td>\n",
       "        <td>2016-09-30</td>\n",
       "        <td>None</td>\n",
       "        <td>None</td>\n",
       "        <td>C00570929</td>\n",
       "        <td>2581</td>\n",
       "        <td>None</td>\n",
       "        <td>None</td>\n",
       "        <td>None</td>\n",
       "        <td>None</td>\n",
       "        <td>None</td>\n",
       "    </tr>\n",
       "</table>"
      ],
      "text/plain": [
       "[('H0CA10149', Decimal('0.00'), Decimal('413839.18'), datetime.date(2020, 10, 14), 'CA', 26, 'C00462697', 5015, None, 'DEM', Decimal('2016'), 86, 7727),\n",
       " ('P20003216', Decimal('0.00'), Decimal('0.00'), datetime.date(2016, 12, 31), None, None, 'C00500082', 9176, None, None, None, None, None),\n",
       " ('P20003711', Decimal('0.00'), Decimal('0.00'), datetime.date(2017, 1, 31), None, None, 'C00503763', 3613, None, None, None, None, None),\n",
       " ('P60006244', Decimal('0.00'), Decimal('1260.00'), datetime.date(2016, 5, 9), None, None, 'C00570192', 1376, None, None, None, None, None),\n",
       " ('P60005998', Decimal('0.00'), Decimal('0.00'), datetime.date(2016, 9, 30), None, None, 'C00570929', 2581, None, None, None, None, None)]"
      ]
     },
     "execution_count": 88,
     "metadata": {},
     "output_type": "execute_result"
    }
   ],
   "source": [
    "%%sql\n",
    "select * from all_candidate\n",
    "limit 5;"
   ]
  },
  {
   "cell_type": "markdown",
   "metadata": {},
   "source": [
    "### 5.5 Diagram 5 - Coverage year"
   ]
  },
  {
   "cell_type": "code",
   "execution_count": 89,
   "metadata": {},
   "outputs": [
    {
     "name": "stdout",
     "output_type": "stream",
     "text": [
      " * postgresql://student@/final_project_yu\n",
      "6855 rows affected.\n"
     ]
    },
    {
     "data": {
      "text/plain": [
       "[]"
      ]
     },
     "execution_count": 89,
     "metadata": {},
     "output_type": "execute_result"
    }
   ],
   "source": [
    "%%sql\n",
    "update all_candidate\n",
    "set year = extract(year from cvg_end_dt);"
   ]
  },
  {
   "cell_type": "code",
   "execution_count": 91,
   "metadata": {},
   "outputs": [
    {
     "name": "stdout",
     "output_type": "stream",
     "text": [
      " * postgresql://student@/final_project_yu\n",
      "Done.\n",
      "Done.\n"
     ]
    },
    {
     "data": {
      "text/plain": [
       "[]"
      ]
     },
     "execution_count": 91,
     "metadata": {},
     "output_type": "execute_result"
    }
   ],
   "source": [
    "%%sql\n",
    "DROP TABLE IF EXISTS COVERAGE_YEAR cascade;\n",
    "\n",
    "CREATE TABLE COVERAGE_YEAR (\n",
    "    COVERAGE_YEAR_KEY SERIAL PRIMARY KEY,\n",
    "    YEAR INT\n",
    ")"
   ]
  },
  {
   "cell_type": "code",
   "execution_count": 92,
   "metadata": {},
   "outputs": [
    {
     "name": "stdout",
     "output_type": "stream",
     "text": [
      " * postgresql://student@/final_project_yu\n",
      "5 rows affected.\n"
     ]
    },
    {
     "data": {
      "text/plain": [
       "[]"
      ]
     },
     "execution_count": 92,
     "metadata": {},
     "output_type": "execute_result"
    }
   ],
   "source": [
    "%%sql\n",
    "INSERT INTO COVERAGE_YEAR(YEAR)\n",
    "SELECT DISTINCT YEAR FROM ALL_CANDIDATE;"
   ]
  },
  {
   "cell_type": "code",
   "execution_count": 94,
   "metadata": {},
   "outputs": [
    {
     "name": "stdout",
     "output_type": "stream",
     "text": [
      " * postgresql://student@/final_project_yu\n",
      "Done.\n"
     ]
    },
    {
     "data": {
      "text/plain": [
       "[]"
      ]
     },
     "execution_count": 94,
     "metadata": {},
     "output_type": "execute_result"
    }
   ],
   "source": [
    "%%sql\n",
    "alter table all_candidate\n",
    "add column coverage_year_key int,\n",
    "add CONSTRAINT fk_coverage_year_key\n",
    "    FOREIGN KEY (coverage_year_key)\n",
    "    REFERENCES coverage_year (coverage_year_key);"
   ]
  },
  {
   "cell_type": "code",
   "execution_count": 95,
   "metadata": {},
   "outputs": [
    {
     "name": "stdout",
     "output_type": "stream",
     "text": [
      " * postgresql://student@/final_project_yu\n",
      "6855 rows affected.\n"
     ]
    },
    {
     "data": {
      "text/plain": [
       "[]"
      ]
     },
     "execution_count": 95,
     "metadata": {},
     "output_type": "execute_result"
    }
   ],
   "source": [
    "%%sql\n",
    "update all_candidate \n",
    "SET coverage_year_key = coverage_year.coverage_year_key\n",
    "FROM coverage_year\n",
    "WHERE coverage_year.year = all_candidate.year;"
   ]
  },
  {
   "cell_type": "code",
   "execution_count": 96,
   "metadata": {},
   "outputs": [
    {
     "name": "stdout",
     "output_type": "stream",
     "text": [
      " * postgresql://student@/final_project_yu\n",
      "5 rows affected.\n"
     ]
    },
    {
     "data": {
      "text/html": [
       "<table>\n",
       "    <tr>\n",
       "        <th>cand_id</th>\n",
       "        <th>trans_from_auth</th>\n",
       "        <th>ttl_indiv_contrib</th>\n",
       "        <th>cvg_end_dt</th>\n",
       "        <th>cand_office_state</th>\n",
       "        <th>office_key</th>\n",
       "        <th>cmte_id</th>\n",
       "        <th>cmte_link_key</th>\n",
       "        <th>year</th>\n",
       "        <th>cand_pty_affiliation</th>\n",
       "        <th>cand_election_yr</th>\n",
       "        <th>election_key</th>\n",
       "        <th>info_key</th>\n",
       "        <th>coverage_year_key</th>\n",
       "    </tr>\n",
       "    <tr>\n",
       "        <td>S4KS00127</td>\n",
       "        <td>0.00</td>\n",
       "        <td>92302.00</td>\n",
       "        <td>2015-12-31</td>\n",
       "        <td>KS</td>\n",
       "        <td>57</td>\n",
       "        <td>C00550020</td>\n",
       "        <td>11058</td>\n",
       "        <td>2015</td>\n",
       "        <td>REP</td>\n",
       "        <td>2014</td>\n",
       "        <td>1</td>\n",
       "        <td>882</td>\n",
       "        <td>1</td>\n",
       "    </tr>\n",
       "    <tr>\n",
       "        <td>P60007903</td>\n",
       "        <td>0.00</td>\n",
       "        <td>0.00</td>\n",
       "        <td>2015-06-30</td>\n",
       "        <td>US</td>\n",
       "        <td>1</td>\n",
       "        <td>C00579284</td>\n",
       "        <td>4728</td>\n",
       "        <td>2015</td>\n",
       "        <td>REP</td>\n",
       "        <td>2016</td>\n",
       "        <td>59</td>\n",
       "        <td>11255</td>\n",
       "        <td>1</td>\n",
       "    </tr>\n",
       "    <tr>\n",
       "        <td>H6OH16029</td>\n",
       "        <td>0.00</td>\n",
       "        <td>0.00</td>\n",
       "        <td>2015-06-30</td>\n",
       "        <td>OH</td>\n",
       "        <td>4</td>\n",
       "        <td>C00005041</td>\n",
       "        <td>2611</td>\n",
       "        <td>2015</td>\n",
       "        <td>REP</td>\n",
       "        <td>2008</td>\n",
       "        <td>32</td>\n",
       "        <td>12610</td>\n",
       "        <td>1</td>\n",
       "    </tr>\n",
       "    <tr>\n",
       "        <td>S4NM00092</td>\n",
       "        <td>0.00</td>\n",
       "        <td>0.00</td>\n",
       "        <td>2015-06-30</td>\n",
       "        <td>NM</td>\n",
       "        <td>32</td>\n",
       "        <td>C00553248</td>\n",
       "        <td>5198</td>\n",
       "        <td>2015</td>\n",
       "        <td>REP</td>\n",
       "        <td>2014</td>\n",
       "        <td>1</td>\n",
       "        <td>12800</td>\n",
       "        <td>1</td>\n",
       "    </tr>\n",
       "    <tr>\n",
       "        <td>H6ID02175</td>\n",
       "        <td>0.00</td>\n",
       "        <td>0.00</td>\n",
       "        <td>2015-12-26</td>\n",
       "        <td>ID</td>\n",
       "        <td>40</td>\n",
       "        <td>C00592477</td>\n",
       "        <td>5374</td>\n",
       "        <td>2015</td>\n",
       "        <td>REP</td>\n",
       "        <td>2016</td>\n",
       "        <td>59</td>\n",
       "        <td>11225</td>\n",
       "        <td>1</td>\n",
       "    </tr>\n",
       "</table>"
      ],
      "text/plain": [
       "[('S4KS00127', Decimal('0.00'), Decimal('92302.00'), datetime.date(2015, 12, 31), 'KS', 57, 'C00550020', 11058, Decimal('2015'), 'REP', Decimal('2014'), 1, 882, 1),\n",
       " ('P60007903', Decimal('0.00'), Decimal('0.00'), datetime.date(2015, 6, 30), 'US', 1, 'C00579284', 4728, Decimal('2015'), 'REP', Decimal('2016'), 59, 11255, 1),\n",
       " ('H6OH16029', Decimal('0.00'), Decimal('0.00'), datetime.date(2015, 6, 30), 'OH', 4, 'C00005041', 2611, Decimal('2015'), 'REP', Decimal('2008'), 32, 12610, 1),\n",
       " ('S4NM00092', Decimal('0.00'), Decimal('0.00'), datetime.date(2015, 6, 30), 'NM', 32, 'C00553248', 5198, Decimal('2015'), 'REP', Decimal('2014'), 1, 12800, 1),\n",
       " ('H6ID02175', Decimal('0.00'), Decimal('0.00'), datetime.date(2015, 12, 26), 'ID', 40, 'C00592477', 5374, Decimal('2015'), 'REP', Decimal('2016'), 59, 11225, 1)]"
      ]
     },
     "execution_count": 96,
     "metadata": {},
     "output_type": "execute_result"
    }
   ],
   "source": [
    "%%sql\n",
    "select * from all_candidate limit 5;"
   ]
  },
  {
   "cell_type": "code",
   "execution_count": 9,
   "metadata": {},
   "outputs": [
    {
     "name": "stdout",
     "output_type": "stream",
     "text": [
      " * postgresql://student@/final_project_yu\n",
      "5 rows affected.\n"
     ]
    },
    {
     "data": {
      "text/html": [
       "<table>\n",
       "    <tr>\n",
       "        <th>coverage_year_key</th>\n",
       "        <th>count</th>\n",
       "    </tr>\n",
       "    <tr>\n",
       "        <td>1</td>\n",
       "        <td>440</td>\n",
       "    </tr>\n",
       "    <tr>\n",
       "        <td>2</td>\n",
       "        <td>9</td>\n",
       "    </tr>\n",
       "    <tr>\n",
       "        <td>3</td>\n",
       "        <td>764</td>\n",
       "    </tr>\n",
       "    <tr>\n",
       "        <td>4</td>\n",
       "        <td>3185</td>\n",
       "    </tr>\n",
       "    <tr>\n",
       "        <td>5</td>\n",
       "        <td>2457</td>\n",
       "    </tr>\n",
       "</table>"
      ],
      "text/plain": [
       "[(1, 440), (2, 9), (3, 764), (4, 3185), (5, 2457)]"
      ]
     },
     "execution_count": 9,
     "metadata": {},
     "output_type": "execute_result"
    }
   ],
   "source": [
    "%%sql\n",
    "select coverage_year_key,count(*) from all_candidate\n",
    "group by coverage_year_key\n",
    "order by coverage_year_key;"
   ]
  },
  {
   "cell_type": "code",
   "execution_count": 8,
   "metadata": {},
   "outputs": [
    {
     "name": "stdout",
     "output_type": "stream",
     "text": [
      " * postgresql://student@/final_project_yu\n",
      "5 rows affected.\n"
     ]
    },
    {
     "data": {
      "text/html": [
       "<table>\n",
       "    <tr>\n",
       "        <th>coverage_year_key</th>\n",
       "        <th>year</th>\n",
       "    </tr>\n",
       "    <tr>\n",
       "        <td>1</td>\n",
       "        <td>2015</td>\n",
       "    </tr>\n",
       "    <tr>\n",
       "        <td>2</td>\n",
       "        <td>2017</td>\n",
       "    </tr>\n",
       "    <tr>\n",
       "        <td>3</td>\n",
       "        <td>2019</td>\n",
       "    </tr>\n",
       "    <tr>\n",
       "        <td>4</td>\n",
       "        <td>2020</td>\n",
       "    </tr>\n",
       "    <tr>\n",
       "        <td>5</td>\n",
       "        <td>2016</td>\n",
       "    </tr>\n",
       "</table>"
      ],
      "text/plain": [
       "[(1, 2015), (2, 2017), (3, 2019), (4, 2020), (5, 2016)]"
      ]
     },
     "execution_count": 8,
     "metadata": {},
     "output_type": "execute_result"
    }
   ],
   "source": [
    "%%sql\n",
    "select * from coverage_year;"
   ]
  },
  {
   "cell_type": "markdown",
   "metadata": {},
   "source": [
    "### 6. Clean fact table - 'all candidate'\n",
    "\n",
    "### delete extra columns in fact table"
   ]
  },
  {
   "cell_type": "code",
   "execution_count": 98,
   "metadata": {},
   "outputs": [
    {
     "name": "stdout",
     "output_type": "stream",
     "text": [
      " * postgresql://student@/final_project_yu\n",
      "Done.\n"
     ]
    },
    {
     "data": {
      "text/plain": [
       "[]"
      ]
     },
     "execution_count": 98,
     "metadata": {},
     "output_type": "execute_result"
    }
   ],
   "source": [
    "%%sql\n",
    "alter table all_candidate\n",
    "drop column cand_id,\n",
    "drop column cand_office_state,\n",
    "drop column cmte_id,\n",
    "drop column cand_pty_affiliation,\n",
    "drop column cand_election_yr,\n",
    "drop column year;"
   ]
  },
  {
   "cell_type": "code",
   "execution_count": 100,
   "metadata": {},
   "outputs": [
    {
     "name": "stdout",
     "output_type": "stream",
     "text": [
      " * postgresql://student@/final_project_yu\n",
      "Done.\n"
     ]
    },
    {
     "data": {
      "text/plain": [
       "[]"
      ]
     },
     "execution_count": 100,
     "metadata": {},
     "output_type": "execute_result"
    }
   ],
   "source": [
    "%%sql\n",
    "alter table all_candidate\n",
    "drop column cvg_end_dt;"
   ]
  },
  {
   "cell_type": "code",
   "execution_count": 101,
   "metadata": {},
   "outputs": [
    {
     "name": "stdout",
     "output_type": "stream",
     "text": [
      " * postgresql://student@/final_project_yu\n",
      "5 rows affected.\n"
     ]
    },
    {
     "data": {
      "text/html": [
       "<table>\n",
       "    <tr>\n",
       "        <th>trans_from_auth</th>\n",
       "        <th>ttl_indiv_contrib</th>\n",
       "        <th>office_key</th>\n",
       "        <th>cmte_link_key</th>\n",
       "        <th>election_key</th>\n",
       "        <th>info_key</th>\n",
       "        <th>coverage_year_key</th>\n",
       "    </tr>\n",
       "    <tr>\n",
       "        <td>0.00</td>\n",
       "        <td>92302.00</td>\n",
       "        <td>57</td>\n",
       "        <td>11058</td>\n",
       "        <td>1</td>\n",
       "        <td>882</td>\n",
       "        <td>1</td>\n",
       "    </tr>\n",
       "    <tr>\n",
       "        <td>0.00</td>\n",
       "        <td>0.00</td>\n",
       "        <td>1</td>\n",
       "        <td>4728</td>\n",
       "        <td>59</td>\n",
       "        <td>11255</td>\n",
       "        <td>1</td>\n",
       "    </tr>\n",
       "    <tr>\n",
       "        <td>0.00</td>\n",
       "        <td>0.00</td>\n",
       "        <td>4</td>\n",
       "        <td>2611</td>\n",
       "        <td>32</td>\n",
       "        <td>12610</td>\n",
       "        <td>1</td>\n",
       "    </tr>\n",
       "    <tr>\n",
       "        <td>0.00</td>\n",
       "        <td>0.00</td>\n",
       "        <td>32</td>\n",
       "        <td>5198</td>\n",
       "        <td>1</td>\n",
       "        <td>12800</td>\n",
       "        <td>1</td>\n",
       "    </tr>\n",
       "    <tr>\n",
       "        <td>0.00</td>\n",
       "        <td>0.00</td>\n",
       "        <td>40</td>\n",
       "        <td>5374</td>\n",
       "        <td>59</td>\n",
       "        <td>11225</td>\n",
       "        <td>1</td>\n",
       "    </tr>\n",
       "</table>"
      ],
      "text/plain": [
       "[(Decimal('0.00'), Decimal('92302.00'), 57, 11058, 1, 882, 1),\n",
       " (Decimal('0.00'), Decimal('0.00'), 1, 4728, 59, 11255, 1),\n",
       " (Decimal('0.00'), Decimal('0.00'), 4, 2611, 32, 12610, 1),\n",
       " (Decimal('0.00'), Decimal('0.00'), 32, 5198, 1, 12800, 1),\n",
       " (Decimal('0.00'), Decimal('0.00'), 40, 5374, 59, 11225, 1)]"
      ]
     },
     "execution_count": 101,
     "metadata": {},
     "output_type": "execute_result"
    }
   ],
   "source": [
    "%%sql\n",
    "select * from all_candidate limit 5;"
   ]
  },
  {
   "cell_type": "markdown",
   "metadata": {},
   "source": [
    "__Check for duplicates, we could see the combination of all facts is distinct.__"
   ]
  },
  {
   "cell_type": "code",
   "execution_count": 5,
   "metadata": {},
   "outputs": [
    {
     "name": "stdout",
     "output_type": "stream",
     "text": [
      " * postgresql://student@/final_project_yu\n",
      "0 rows affected.\n"
     ]
    },
    {
     "data": {
      "text/html": [
       "<table>\n",
       "    <tr>\n",
       "        <th>trans_from_auth</th>\n",
       "        <th>ttl_indiv_contrib</th>\n",
       "        <th>office_key</th>\n",
       "        <th>cmte_link_key</th>\n",
       "        <th>election_key</th>\n",
       "        <th>info_key</th>\n",
       "        <th>coverage_year_key</th>\n",
       "        <th>count</th>\n",
       "    </tr>\n",
       "</table>"
      ],
      "text/plain": [
       "[]"
      ]
     },
     "execution_count": 5,
     "metadata": {},
     "output_type": "execute_result"
    }
   ],
   "source": [
    "%%sql\n",
    "select *, count(*) as count from all_candidate\n",
    "group by trans_from_auth,ttl_indiv_contrib, office_key,cmte_link_key,election_key,info_key,coverage_year_key\n",
    "having count(*) > 1;"
   ]
  },
  {
   "cell_type": "markdown",
   "metadata": {},
   "source": [
    "__ __"
   ]
  },
  {
   "cell_type": "markdown",
   "metadata": {},
   "source": [
    "# Part B: Contribution Table"
   ]
  },
  {
   "cell_type": "markdown",
   "metadata": {},
   "source": [
    "## 1. Get Data"
   ]
  },
  {
   "cell_type": "code",
   "execution_count": 4,
   "metadata": {
    "collapsed": true,
    "jupyter": {
     "outputs_hidden": true
    }
   },
   "outputs": [
    {
     "name": "stdout",
     "output_type": "stream",
     "text": [
      "--2020-12-06 16:21:14--  https://dmfa-2020-lu.s3.amazonaws.com/Final+Project/itcont16.zip\n",
      "Resolving dmfa-2020-lu.s3.amazonaws.com (dmfa-2020-lu.s3.amazonaws.com)... 52.217.36.52\n",
      "Connecting to dmfa-2020-lu.s3.amazonaws.com (dmfa-2020-lu.s3.amazonaws.com)|52.217.36.52|:443... connected.\n",
      "HTTP request sent, awaiting response... 200 OK\n",
      "Length: 503806120 (480M) [application/zip]\n",
      "Saving to: ‘itcont16.zip’\n",
      "\n",
      "itcont16.zip        100%[===================>] 480.47M  62.8MB/s    in 6.8s    \n",
      "\n",
      "2020-12-06 16:21:21 (71.0 MB/s) - ‘itcont16.zip’ saved [503806120/503806120]\n",
      "\n"
     ]
    }
   ],
   "source": [
    "## contribution by individual\n",
    "!wget https://dmfa-2020-lu.s3.amazonaws.com/Final+Project/itcont16.zip"
   ]
  },
  {
   "cell_type": "code",
   "execution_count": 5,
   "metadata": {
    "collapsed": true,
    "jupyter": {
     "outputs_hidden": true
    }
   },
   "outputs": [
    {
     "name": "stdout",
     "output_type": "stream",
     "text": [
      "Archive:  itcont16.zip\n",
      "  inflating: itcont_2016_20151030_20160121.txt  \n",
      "  inflating: __MACOSX/._itcont_2016_20151030_20160121.txt  \n",
      "  inflating: itcont_2016_20160122_20160405.txt  \n",
      "  inflating: __MACOSX/._itcont_2016_20160122_20160405.txt  \n",
      "  inflating: itcont_2016_20160405_20160523.txt  \n",
      "  inflating: __MACOSX/._itcont_2016_20160405_20160523.txt  \n",
      "  inflating: itcont_2016_20160523_20160716.txt  \n",
      "  inflating: __MACOSX/._itcont_2016_20160523_20160716.txt  \n",
      "  inflating: itcont_2016_20160717_20160830.txt  \n",
      "  inflating: __MACOSX/._itcont_2016_20160717_20160830.txt  \n",
      "  inflating: itcont_2016_20160831_20161003.txt  \n",
      "  inflating: __MACOSX/._itcont_2016_20160831_20161003.txt  \n",
      "  inflating: itcont_2016_20161004_20161028.txt  \n",
      "  inflating: __MACOSX/._itcont_2016_20161004_20161028.txt  \n"
     ]
    }
   ],
   "source": [
    "!unzip -o itcont16.zip"
   ]
  },
  {
   "cell_type": "code",
   "execution_count": 6,
   "metadata": {
    "collapsed": true,
    "jupyter": {
     "outputs_hidden": true
    }
   },
   "outputs": [
    {
     "name": "stdout",
     "output_type": "stream",
     "text": [
      "--2020-12-06 16:26:32--  https://dmfa-2020-lu.s3.amazonaws.com/Final+Project/itcont20.zip\n",
      "Resolving dmfa-2020-lu.s3.amazonaws.com (dmfa-2020-lu.s3.amazonaws.com)... 52.216.25.204\n",
      "Connecting to dmfa-2020-lu.s3.amazonaws.com (dmfa-2020-lu.s3.amazonaws.com)|52.216.25.204|:443... connected.\n",
      "HTTP request sent, awaiting response... 200 OK\n",
      "Length: 1678917161 (1.6G) [application/zip]\n",
      "Saving to: ‘itcont20.zip’\n",
      "\n",
      "itcont20.zip        100%[===================>]   1.56G  63.5MB/s    in 23s     \n",
      "\n",
      "2020-12-06 16:26:55 (70.2 MB/s) - ‘itcont20.zip’ saved [1678917161/1678917161]\n",
      "\n"
     ]
    }
   ],
   "source": [
    "!wget https://dmfa-2020-lu.s3.amazonaws.com/Final+Project/itcont20.zip"
   ]
  },
  {
   "cell_type": "code",
   "execution_count": 7,
   "metadata": {
    "collapsed": true,
    "jupyter": {
     "outputs_hidden": true
    }
   },
   "outputs": [
    {
     "name": "stdout",
     "output_type": "stream",
     "text": [
      "Archive:  itcont20.zip\n",
      "  inflating: itcont_2020_20201008_20201012.txt  \n",
      "  inflating: __MACOSX/._itcont_2020_20201008_20201012.txt  \n",
      "  inflating: itcont_2020_20191230_20200130.txt  \n",
      "  inflating: __MACOSX/._itcont_2020_20191230_20200130.txt  \n",
      "  inflating: itcont_2020_20200131_20200219.txt  \n",
      "  inflating: __MACOSX/._itcont_2020_20200131_20200219.txt  \n",
      "  inflating: itcont_2020_20200220_20200305.txt  \n",
      "  inflating: __MACOSX/._itcont_2020_20200220_20200305.txt  \n",
      "  inflating: itcont_2020_20200306_20200330.txt  \n",
      "  inflating: __MACOSX/._itcont_2020_20200306_20200330.txt  \n",
      "  inflating: itcont_2020_20200331_20200426.txt  \n",
      "  inflating: __MACOSX/._itcont_2020_20200331_20200426.txt  \n",
      "  inflating: itcont_2020_20200427_20200516.txt  \n",
      "  inflating: __MACOSX/._itcont_2020_20200427_20200516.txt  \n",
      "  inflating: itcont_2020_20200517_20200603.txt  \n",
      "  inflating: __MACOSX/._itcont_2020_20200517_20200603.txt  \n",
      "  inflating: itcont_2020_20200603_20200617.txt  \n",
      "  inflating: __MACOSX/._itcont_2020_20200603_20200617.txt  \n",
      "  inflating: itcont_2020_20200618_20200629.txt  \n",
      "  inflating: __MACOSX/._itcont_2020_20200618_20200629.txt  \n",
      "  inflating: itcont_2020_20200630_20200712.txt  \n",
      "  inflating: __MACOSX/._itcont_2020_20200630_20200712.txt  \n",
      "  inflating: itcont_2020_20200713_20200725.txt  \n",
      "  inflating: __MACOSX/._itcont_2020_20200713_20200725.txt  \n",
      "  inflating: itcont_2020_20200726_20200804.txt  \n",
      "  inflating: __MACOSX/._itcont_2020_20200726_20200804.txt  \n",
      "  inflating: itcont_2020_20200805_20200813.txt  \n",
      "  inflating: __MACOSX/._itcont_2020_20200805_20200813.txt  \n",
      "  inflating: itcont_2020_20200814_20200821.txt  \n",
      "  inflating: __MACOSX/._itcont_2020_20200814_20200821.txt  \n",
      "  inflating: itcont_2020_20200822_20200829.txt  \n",
      "  inflating: __MACOSX/._itcont_2020_20200822_20200829.txt  \n",
      "  inflating: itcont_2020_20200830_20200908.txt  \n",
      "  inflating: __MACOSX/._itcont_2020_20200830_20200908.txt  \n",
      "  inflating: itcont_2020_20200909_20200919.txt  \n",
      "  inflating: __MACOSX/._itcont_2020_20200909_20200919.txt  \n",
      "  inflating: itcont_2020_20200920_20200927.txt  \n",
      "  inflating: __MACOSX/._itcont_2020_20200920_20200927.txt  \n",
      "  inflating: itcont_2020_20200928_20201002.txt  \n",
      "  inflating: __MACOSX/._itcont_2020_20200928_20201002.txt  \n",
      "  inflating: itcont_2020_20201003_20201007.txt  \n",
      "  inflating: __MACOSX/._itcont_2020_20201003_20201007.txt  \n"
     ]
    }
   ],
   "source": [
    "!unzip -o itcont20.zip"
   ]
  },
  {
   "cell_type": "code",
   "execution_count": 8,
   "metadata": {
    "collapsed": true,
    "jupyter": {
     "outputs_hidden": true
    }
   },
   "outputs": [
    {
     "name": "stdout",
     "output_type": "stream",
     "text": [
      "--2020-12-06 16:28:32--  https://dmfa-2020-lu.s3.amazonaws.com/Final+Project/itoth16.txt\n",
      "Resolving dmfa-2020-lu.s3.amazonaws.com (dmfa-2020-lu.s3.amazonaws.com)... 52.216.186.75\n",
      "Connecting to dmfa-2020-lu.s3.amazonaws.com (dmfa-2020-lu.s3.amazonaws.com)|52.216.186.75|:443... connected.\n",
      "HTTP request sent, awaiting response... 200 OK\n",
      "Length: 396109693 (378M) [text/plain]\n",
      "Saving to: ‘itoth16.txt’\n",
      "\n",
      "itoth16.txt         100%[===================>] 377.76M  67.8MB/s    in 6.4s    \n",
      "\n",
      "2020-12-06 16:28:39 (58.6 MB/s) - ‘itoth16.txt’ saved [396109693/396109693]\n",
      "\n"
     ]
    }
   ],
   "source": [
    "## contribution from one committee to another\n",
    "!wget https://dmfa-2020-lu.s3.amazonaws.com/Final+Project/itoth16.txt"
   ]
  },
  {
   "cell_type": "code",
   "execution_count": 9,
   "metadata": {
    "collapsed": true,
    "jupyter": {
     "outputs_hidden": true
    }
   },
   "outputs": [
    {
     "name": "stdout",
     "output_type": "stream",
     "text": [
      "--2020-12-06 16:28:48--  https://dmfa-2020-lu.s3.amazonaws.com/Final+Project/itoth20.txt\n",
      "Resolving dmfa-2020-lu.s3.amazonaws.com (dmfa-2020-lu.s3.amazonaws.com)... 52.217.70.92\n",
      "Connecting to dmfa-2020-lu.s3.amazonaws.com (dmfa-2020-lu.s3.amazonaws.com)|52.217.70.92|:443... connected.\n",
      "HTTP request sent, awaiting response... 200 OK\n",
      "Length: 703166088 (671M) [text/plain]\n",
      "Saving to: ‘itoth20.txt’\n",
      "\n",
      "itoth20.txt         100%[===================>] 670.59M  77.3MB/s    in 9.1s    \n",
      "\n",
      "2020-12-06 16:28:57 (73.8 MB/s) - ‘itoth20.txt’ saved [703166088/703166088]\n",
      "\n"
     ]
    }
   ],
   "source": [
    "!wget https://dmfa-2020-lu.s3.amazonaws.com/Final+Project/itoth20.txt"
   ]
  },
  {
   "cell_type": "code",
   "execution_count": 10,
   "metadata": {
    "collapsed": true,
    "jupyter": {
     "outputs_hidden": true
    }
   },
   "outputs": [
    {
     "name": "stdout",
     "output_type": "stream",
     "text": [
      "--2020-12-06 16:29:10--  https://dmfa-2020-lu.s3.amazonaws.com/Final+Project/itpas16.txt\n",
      "Resolving dmfa-2020-lu.s3.amazonaws.com (dmfa-2020-lu.s3.amazonaws.com)... 52.217.39.172\n",
      "Connecting to dmfa-2020-lu.s3.amazonaws.com (dmfa-2020-lu.s3.amazonaws.com)|52.217.39.172|:443... connected.\n",
      "HTTP request sent, awaiting response... 200 OK\n",
      "Length: 86838966 (83M) [text/plain]\n",
      "Saving to: ‘itpas16.txt’\n",
      "\n",
      "itpas16.txt         100%[===================>]  82.82M  78.8MB/s    in 1.1s    \n",
      "\n",
      "2020-12-06 16:29:11 (78.8 MB/s) - ‘itpas16.txt’ saved [86838966/86838966]\n",
      "\n"
     ]
    }
   ],
   "source": [
    "## contribution from committee to another candidate\n",
    "!wget https://dmfa-2020-lu.s3.amazonaws.com/Final+Project/itpas16.txt"
   ]
  },
  {
   "cell_type": "code",
   "execution_count": 11,
   "metadata": {
    "collapsed": true,
    "jupyter": {
     "outputs_hidden": true
    }
   },
   "outputs": [
    {
     "name": "stdout",
     "output_type": "stream",
     "text": [
      "--2020-12-06 16:29:18--  https://dmfa-2020-lu.s3.amazonaws.com/Final+Project/itpas20.txt\n",
      "Resolving dmfa-2020-lu.s3.amazonaws.com (dmfa-2020-lu.s3.amazonaws.com)... 52.216.25.76\n",
      "Connecting to dmfa-2020-lu.s3.amazonaws.com (dmfa-2020-lu.s3.amazonaws.com)|52.216.25.76|:443... connected.\n",
      "HTTP request sent, awaiting response... 200 OK\n",
      "Length: 76612384 (73M) [text/plain]\n",
      "Saving to: ‘itpas20.txt’\n",
      "\n",
      "itpas20.txt         100%[===================>]  73.06M  68.7MB/s    in 1.1s    \n",
      "\n",
      "2020-12-06 16:29:19 (68.7 MB/s) - ‘itpas20.txt’ saved [76612384/76612384]\n",
      "\n"
     ]
    }
   ],
   "source": [
    "!wget https://dmfa-2020-lu.s3.amazonaws.com/Final+Project/itpas20.txt"
   ]
  },
  {
   "cell_type": "code",
   "execution_count": 12,
   "metadata": {
    "collapsed": true,
    "jupyter": {
     "outputs_hidden": true
    }
   },
   "outputs": [
    {
     "name": "stdout",
     "output_type": "stream",
     "text": [
      "--2020-12-06 16:30:04--  https://dmfa-2020-lu.s3.amazonaws.com/Final+Project/cm16.txt\n",
      "Resolving dmfa-2020-lu.s3.amazonaws.com (dmfa-2020-lu.s3.amazonaws.com)... 52.216.113.83\n",
      "Connecting to dmfa-2020-lu.s3.amazonaws.com (dmfa-2020-lu.s3.amazonaws.com)|52.216.113.83|:443... connected.\n",
      "HTTP request sent, awaiting response... 200 OK\n",
      "Length: 2153013 (2.1M) [text/plain]\n",
      "Saving to: ‘cm16.txt’\n",
      "\n",
      "cm16.txt            100%[===================>]   2.05M  --.-KB/s    in 0.03s   \n",
      "\n",
      "2020-12-06 16:30:04 (76.1 MB/s) - ‘cm16.txt’ saved [2153013/2153013]\n",
      "\n"
     ]
    }
   ],
   "source": [
    "## committee master\n",
    "!wget https://dmfa-2020-lu.s3.amazonaws.com/Final+Project/cm16.txt"
   ]
  },
  {
   "cell_type": "code",
   "execution_count": 13,
   "metadata": {
    "collapsed": true,
    "jupyter": {
     "outputs_hidden": true
    }
   },
   "outputs": [
    {
     "name": "stdout",
     "output_type": "stream",
     "text": [
      "--2020-12-06 16:30:15--  https://dmfa-2020-lu.s3.amazonaws.com/Final+Project/cm20.txt\n",
      "Resolving dmfa-2020-lu.s3.amazonaws.com (dmfa-2020-lu.s3.amazonaws.com)... 52.216.143.148\n",
      "Connecting to dmfa-2020-lu.s3.amazonaws.com (dmfa-2020-lu.s3.amazonaws.com)|52.216.143.148|:443... connected.\n",
      "HTTP request sent, awaiting response... 200 OK\n",
      "Length: 2189120 (2.1M) [text/plain]\n",
      "Saving to: ‘cm20.txt’\n",
      "\n",
      "cm20.txt            100%[===================>]   2.09M  --.-KB/s    in 0.03s   \n",
      "\n",
      "2020-12-06 16:30:15 (75.0 MB/s) - ‘cm20.txt’ saved [2189120/2189120]\n",
      "\n"
     ]
    }
   ],
   "source": [
    "!wget https://dmfa-2020-lu.s3.amazonaws.com/Final+Project/cm20.txt"
   ]
  },
  {
   "cell_type": "markdown",
   "metadata": {},
   "source": [
    "## 2. Prepare for needed data"
   ]
  },
  {
   "cell_type": "code",
   "execution_count": 18,
   "metadata": {},
   "outputs": [],
   "source": [
    "!csvstack -d \"|\" cm*.txt | csvcut -c 1,2,11 > committee_master.csv"
   ]
  },
  {
   "cell_type": "code",
   "execution_count": 27,
   "metadata": {},
   "outputs": [],
   "source": [
    "!csvstack -d \"|\" itcont_20*_20*_20*.txt | csvcut -c 1,8,10,13,14,15,16,21 > individuals_to_committees_contribution.csv"
   ]
  },
  {
   "cell_type": "code",
   "execution_count": 28,
   "metadata": {},
   "outputs": [],
   "source": [
    "!csvstack -d \"|\" itpas*.txt | csvcut -c 1,8,10,13,14,15,16,22 > committees_to_candidates_contribution.csv"
   ]
  },
  {
   "cell_type": "code",
   "execution_count": 29,
   "metadata": {},
   "outputs": [],
   "source": [
    "!csvstack -d \"|\" itoth*.txt | csvcut -c 1,8,10,13,14,15,16,21 > committees_to_committees_contribution.csv"
   ]
  },
  {
   "cell_type": "markdown",
   "metadata": {},
   "source": [
    "## 3. create table to import data"
   ]
  },
  {
   "cell_type": "markdown",
   "metadata": {},
   "source": [
    "__Committee master__"
   ]
  },
  {
   "cell_type": "code",
   "execution_count": 11,
   "metadata": {},
   "outputs": [
    {
     "name": "stdout",
     "output_type": "stream",
     "text": [
      " * postgresql://student@/final_project_yu\n",
      "Done.\n",
      "Done.\n"
     ]
    },
    {
     "data": {
      "text/plain": [
       "[]"
      ]
     },
     "execution_count": 11,
     "metadata": {},
     "output_type": "execute_result"
    }
   ],
   "source": [
    "%%sql\n",
    "DROP TABLE IF EXISTS committee_master cascade;\n",
    "\n",
    "CREATE TABLE committee_master (\n",
    "    CMTE_ID VARCHAR(9),\n",
    "    CMTE_NM varchar(200),\n",
    "    CMTE_PTY_AFFILIATION VARCHAR(3)\n",
    ")"
   ]
  },
  {
   "cell_type": "code",
   "execution_count": 12,
   "metadata": {},
   "outputs": [
    {
     "name": "stdout",
     "output_type": "stream",
     "text": [
      " * postgresql://student@/final_project_yu\n",
      "35755 rows affected.\n"
     ]
    },
    {
     "data": {
      "text/plain": [
       "[]"
      ]
     },
     "execution_count": 12,
     "metadata": {},
     "output_type": "execute_result"
    }
   ],
   "source": [
    "%%sql\n",
    "COPY committee_master FROM '/home/ubuntu/committee_master.csv'\n",
    "CSV;"
   ]
  },
  {
   "cell_type": "markdown",
   "metadata": {},
   "source": [
    "__individuals_to_committees_contribution AND add contribution type__"
   ]
  },
  {
   "cell_type": "code",
   "execution_count": 30,
   "metadata": {},
   "outputs": [
    {
     "name": "stdout",
     "output_type": "stream",
     "text": [
      " * postgresql://student@/final_project_yu\n",
      "Done.\n",
      "Done.\n"
     ]
    },
    {
     "data": {
      "text/plain": [
       "[]"
      ]
     },
     "execution_count": 30,
     "metadata": {},
     "output_type": "execute_result"
    }
   ],
   "source": [
    "%%sql\n",
    "DROP TABLE IF EXISTS individuals_to_committees_contribution cascade;\n",
    "\n",
    "CREATE TABLE individuals_to_committees_contribution (\n",
    "    CMTE_ID VARCHAR(9),\n",
    "    NAME varchar(200),\n",
    "    STATE VARCHAR(2),\n",
    "    OCCUPATION VARCHAR(38),\n",
    "    TRANSACTION_DT numeric(8),\n",
    "    TRANSACTION_AMT numeric(14,2),\n",
    "    OTHER_ID VARCHAR(9),\n",
    "    SUB_ID NUMERIC(19) NOT NULL\n",
    ")"
   ]
  },
  {
   "cell_type": "code",
   "execution_count": 31,
   "metadata": {},
   "outputs": [
    {
     "name": "stdout",
     "output_type": "stream",
     "text": [
      " * postgresql://student@/final_project_yu\n",
      "53765647 rows affected.\n"
     ]
    },
    {
     "data": {
      "text/plain": [
       "[]"
      ]
     },
     "execution_count": 31,
     "metadata": {},
     "output_type": "execute_result"
    }
   ],
   "source": [
    "%%sql\n",
    "COPY individuals_to_committees_contribution FROM '/home/ubuntu/individuals_to_committees_contribution.csv'\n",
    "CSV;"
   ]
  },
  {
   "cell_type": "markdown",
   "metadata": {},
   "source": [
    "add contribution type as 'IND_COM'"
   ]
  },
  {
   "cell_type": "code",
   "execution_count": 32,
   "metadata": {},
   "outputs": [
    {
     "name": "stdout",
     "output_type": "stream",
     "text": [
      " * postgresql://student@/final_project_yu\n",
      "Done.\n"
     ]
    },
    {
     "data": {
      "text/plain": [
       "[]"
      ]
     },
     "execution_count": 32,
     "metadata": {},
     "output_type": "execute_result"
    }
   ],
   "source": [
    "%%sql\n",
    "alter table individuals_to_committees_contribution\n",
    "add column contribution_type varchar(7);"
   ]
  },
  {
   "cell_type": "code",
   "execution_count": 33,
   "metadata": {},
   "outputs": [
    {
     "name": "stdout",
     "output_type": "stream",
     "text": [
      " * postgresql://student@/final_project_yu\n",
      "53765647 rows affected.\n"
     ]
    },
    {
     "data": {
      "text/plain": [
       "[]"
      ]
     },
     "execution_count": 33,
     "metadata": {},
     "output_type": "execute_result"
    }
   ],
   "source": [
    "%%sql\n",
    "update individuals_to_committees_contribution\n",
    "set contribution_type = 'IND_COM';"
   ]
  },
  {
   "cell_type": "markdown",
   "metadata": {},
   "source": [
    "__committees_to_candidates_contribution__"
   ]
  },
  {
   "cell_type": "code",
   "execution_count": 34,
   "metadata": {},
   "outputs": [
    {
     "name": "stdout",
     "output_type": "stream",
     "text": [
      " * postgresql://student@/final_project_yu\n",
      "Done.\n",
      "Done.\n"
     ]
    },
    {
     "data": {
      "text/plain": [
       "[]"
      ]
     },
     "execution_count": 34,
     "metadata": {},
     "output_type": "execute_result"
    }
   ],
   "source": [
    "%%sql\n",
    "DROP TABLE IF EXISTS committees_to_candidates_contribution cascade;\n",
    "\n",
    "CREATE TABLE committees_to_candidates_contribution (\n",
    "    CMTE_ID VARCHAR(9),\n",
    "    NAME varchar(200),\n",
    "    STATE VARCHAR(2),\n",
    "    OCCUPATION VARCHAR(38),\n",
    "    TRANSACTION_DT numeric(8),\n",
    "    TRANSACTION_AMT numeric(14,2),\n",
    "    OTHER_ID VARCHAR(9),\n",
    "    SUB_ID NUMERIC(19) NOT NULL\n",
    ")"
   ]
  },
  {
   "cell_type": "code",
   "execution_count": 35,
   "metadata": {},
   "outputs": [
    {
     "name": "stdout",
     "output_type": "stream",
     "text": [
      " * postgresql://student@/final_project_yu\n",
      "950152 rows affected.\n"
     ]
    },
    {
     "data": {
      "text/plain": [
       "[]"
      ]
     },
     "execution_count": 35,
     "metadata": {},
     "output_type": "execute_result"
    }
   ],
   "source": [
    "%%sql\n",
    "COPY committees_to_candidates_contribution FROM '/home/ubuntu/committees_to_candidates_contribution.csv'\n",
    "CSV;"
   ]
  },
  {
   "cell_type": "code",
   "execution_count": 36,
   "metadata": {},
   "outputs": [
    {
     "name": "stdout",
     "output_type": "stream",
     "text": [
      " * postgresql://student@/final_project_yu\n",
      "Done.\n"
     ]
    },
    {
     "data": {
      "text/plain": [
       "[]"
      ]
     },
     "execution_count": 36,
     "metadata": {},
     "output_type": "execute_result"
    }
   ],
   "source": [
    "%%sql\n",
    "alter table committees_to_candidates_contribution\n",
    "add column contribution_type varchar(7);"
   ]
  },
  {
   "cell_type": "code",
   "execution_count": 37,
   "metadata": {},
   "outputs": [
    {
     "name": "stdout",
     "output_type": "stream",
     "text": [
      " * postgresql://student@/final_project_yu\n",
      "950152 rows affected.\n"
     ]
    },
    {
     "data": {
      "text/plain": [
       "[]"
      ]
     },
     "execution_count": 37,
     "metadata": {},
     "output_type": "execute_result"
    }
   ],
   "source": [
    "%%sql\n",
    "update committees_to_candidates_contribution\n",
    "set contribution_type = 'COM_CAN';"
   ]
  },
  {
   "cell_type": "markdown",
   "metadata": {},
   "source": [
    "__committees_to_committees_contribution__"
   ]
  },
  {
   "cell_type": "code",
   "execution_count": 38,
   "metadata": {},
   "outputs": [
    {
     "name": "stdout",
     "output_type": "stream",
     "text": [
      " * postgresql://student@/final_project_yu\n",
      "Done.\n",
      "Done.\n"
     ]
    },
    {
     "data": {
      "text/plain": [
       "[]"
      ]
     },
     "execution_count": 38,
     "metadata": {},
     "output_type": "execute_result"
    }
   ],
   "source": [
    "%%sql\n",
    "DROP TABLE IF EXISTS committees_to_committees_contribution cascade;\n",
    "\n",
    "CREATE TABLE committees_to_committees_contribution (\n",
    "    CMTE_ID VARCHAR(9),\n",
    "    NAME varchar(200),\n",
    "    STATE VARCHAR(2),\n",
    "    OCCUPATION VARCHAR(38),\n",
    "    TRANSACTION_DT numeric(8),\n",
    "    TRANSACTION_AMT numeric(14,2),\n",
    "    OTHER_ID VARCHAR(9),\n",
    "    SUB_ID NUMERIC(19) NOT NULL\n",
    ");"
   ]
  },
  {
   "cell_type": "code",
   "execution_count": 39,
   "metadata": {},
   "outputs": [
    {
     "name": "stdout",
     "output_type": "stream",
     "text": [
      " * postgresql://student@/final_project_yu\n",
      "5829302 rows affected.\n"
     ]
    },
    {
     "data": {
      "text/plain": [
       "[]"
      ]
     },
     "execution_count": 39,
     "metadata": {},
     "output_type": "execute_result"
    }
   ],
   "source": [
    "%%sql\n",
    "COPY committees_to_committees_contribution FROM '/home/ubuntu/committees_to_committees_contribution.csv'\n",
    "CSV;"
   ]
  },
  {
   "cell_type": "code",
   "execution_count": 40,
   "metadata": {},
   "outputs": [
    {
     "name": "stdout",
     "output_type": "stream",
     "text": [
      " * postgresql://student@/final_project_yu\n",
      "Done.\n"
     ]
    },
    {
     "data": {
      "text/plain": [
       "[]"
      ]
     },
     "execution_count": 40,
     "metadata": {},
     "output_type": "execute_result"
    }
   ],
   "source": [
    "%%sql\n",
    "alter table committees_to_committees_contribution\n",
    "add column contribution_type varchar(7);"
   ]
  },
  {
   "cell_type": "code",
   "execution_count": 41,
   "metadata": {},
   "outputs": [
    {
     "name": "stdout",
     "output_type": "stream",
     "text": [
      " * postgresql://student@/final_project_yu\n",
      "5829302 rows affected.\n"
     ]
    },
    {
     "data": {
      "text/plain": [
       "[]"
      ]
     },
     "execution_count": 41,
     "metadata": {},
     "output_type": "execute_result"
    }
   ],
   "source": [
    "%%sql\n",
    "update committees_to_committees_contribution\n",
    "set contribution_type = 'COM_COM';"
   ]
  },
  {
   "cell_type": "code",
   "execution_count": 16,
   "metadata": {},
   "outputs": [
    {
     "name": "stdout",
     "output_type": "stream",
     "text": [
      " * postgresql://student@/final_project_yu\n",
      "5 rows affected.\n"
     ]
    },
    {
     "data": {
      "text/html": [
       "<table>\n",
       "    <tr>\n",
       "        <th>cmte_id</th>\n",
       "        <th>name</th>\n",
       "        <th>state</th>\n",
       "        <th>occupation</th>\n",
       "        <th>transaction_dt</th>\n",
       "        <th>transaction_amt</th>\n",
       "        <th>other_id</th>\n",
       "        <th>sub_id</th>\n",
       "        <th>contribution_type</th>\n",
       "    </tr>\n",
       "    <tr>\n",
       "        <td>C00390831</td>\n",
       "        <td>None</td>\n",
       "        <td>None</td>\n",
       "        <td>None</td>\n",
       "        <td>11182016</td>\n",
       "        <td>-5000.00</td>\n",
       "        <td>C00465963</td>\n",
       "        <td>1012620170033182297</td>\n",
       "        <td>COM_COM</td>\n",
       "    </tr>\n",
       "    <tr>\n",
       "        <td>C00461046</td>\n",
       "        <td>None</td>\n",
       "        <td>OK</td>\n",
       "        <td>None</td>\n",
       "        <td>11032016</td>\n",
       "        <td>5000.00</td>\n",
       "        <td>C00330233</td>\n",
       "        <td>2011220171367497743</td>\n",
       "        <td>COM_COM</td>\n",
       "    </tr>\n",
       "    <tr>\n",
       "        <td>C00562587</td>\n",
       "        <td>GOOGLE</td>\n",
       "        <td>CA</td>\n",
       "        <td>None</td>\n",
       "        <td>None</td>\n",
       "        <td>452.00</td>\n",
       "        <td>S6MO00362</td>\n",
       "        <td>4010520171359541656</td>\n",
       "        <td>COM_COM</td>\n",
       "    </tr>\n",
       "    <tr>\n",
       "        <td>C00564807</td>\n",
       "        <td>None</td>\n",
       "        <td>None</td>\n",
       "        <td>None</td>\n",
       "        <td>10032016</td>\n",
       "        <td>2500.00</td>\n",
       "        <td>C00620518</td>\n",
       "        <td>1030620170033785448</td>\n",
       "        <td>COM_COM</td>\n",
       "    </tr>\n",
       "    <tr>\n",
       "        <td>C70004627</td>\n",
       "        <td>None</td>\n",
       "        <td>None</td>\n",
       "        <td>None</td>\n",
       "        <td>None</td>\n",
       "        <td>0.00</td>\n",
       "        <td>H2NV00050</td>\n",
       "        <td>2071920161306852663</td>\n",
       "        <td>COM_COM</td>\n",
       "    </tr>\n",
       "</table>"
      ],
      "text/plain": [
       "[('C00390831', None, None, None, Decimal('11182016'), Decimal('-5000.00'), 'C00465963', Decimal('1012620170033182297'), 'COM_COM'),\n",
       " ('C00461046', None, 'OK', None, Decimal('11032016'), Decimal('5000.00'), 'C00330233', Decimal('2011220171367497743'), 'COM_COM'),\n",
       " ('C00562587', 'GOOGLE', 'CA', None, None, Decimal('452.00'), 'S6MO00362', Decimal('4010520171359541656'), 'COM_COM'),\n",
       " ('C00564807', None, None, None, Decimal('10032016'), Decimal('2500.00'), 'C00620518', Decimal('1030620170033785448'), 'COM_COM'),\n",
       " ('C70004627', None, None, None, None, Decimal('0.00'), 'H2NV00050', Decimal('2071920161306852663'), 'COM_COM')]"
      ]
     },
     "execution_count": 16,
     "metadata": {},
     "output_type": "execute_result"
    }
   ],
   "source": [
    "%%sql\n",
    "select * from committees_to_committees_contribution\n",
    "where other_id is not null\n",
    "limit 5;"
   ]
  },
  {
   "cell_type": "code",
   "execution_count": 5,
   "metadata": {},
   "outputs": [
    {
     "name": "stdout",
     "output_type": "stream",
     "text": [
      " * postgresql://student@/final_project_yu\n",
      "1 rows affected.\n"
     ]
    },
    {
     "data": {
      "text/html": [
       "<table>\n",
       "    <tr>\n",
       "        <th>count</th>\n",
       "    </tr>\n",
       "    <tr>\n",
       "        <td>4328152</td>\n",
       "    </tr>\n",
       "</table>"
      ],
      "text/plain": [
       "[(4328152,)]"
      ]
     },
     "execution_count": 5,
     "metadata": {},
     "output_type": "execute_result"
    }
   ],
   "source": [
    "%%sql\n",
    "select count(*) from committees_to_committees_contribution\n",
    "where other_id is null;"
   ]
  },
  {
   "cell_type": "code",
   "execution_count": 6,
   "metadata": {},
   "outputs": [
    {
     "name": "stdout",
     "output_type": "stream",
     "text": [
      " * postgresql://student@/final_project_yu\n",
      "1 rows affected.\n"
     ]
    },
    {
     "data": {
      "text/html": [
       "<table>\n",
       "    <tr>\n",
       "        <th>count</th>\n",
       "    </tr>\n",
       "    <tr>\n",
       "        <td>0</td>\n",
       "    </tr>\n",
       "</table>"
      ],
      "text/plain": [
       "[(0,)]"
      ]
     },
     "execution_count": 6,
     "metadata": {},
     "output_type": "execute_result"
    }
   ],
   "source": [
    "%%sql\n",
    "select count(*) from committees_to_candidates_contribution\n",
    "where other_id is null;"
   ]
  },
  {
   "cell_type": "code",
   "execution_count": 7,
   "metadata": {},
   "outputs": [
    {
     "name": "stdout",
     "output_type": "stream",
     "text": [
      " * postgresql://student@/final_project_yu\n",
      "5 rows affected.\n"
     ]
    },
    {
     "data": {
      "text/html": [
       "<table>\n",
       "    <tr>\n",
       "        <th>cmte_id</th>\n",
       "        <th>name</th>\n",
       "        <th>state</th>\n",
       "        <th>occupation</th>\n",
       "        <th>transaction_dt</th>\n",
       "        <th>transaction_amt</th>\n",
       "        <th>other_id</th>\n",
       "        <th>sub_id</th>\n",
       "        <th>contribution_type</th>\n",
       "    </tr>\n",
       "    <tr>\n",
       "        <td>C00581306</td>\n",
       "        <td>None</td>\n",
       "        <td>None</td>\n",
       "        <td>None</td>\n",
       "        <td>12132015</td>\n",
       "        <td>814.00</td>\n",
       "        <td>C00577130</td>\n",
       "        <td>2011220161260556123</td>\n",
       "        <td>COM_CAN</td>\n",
       "    </tr>\n",
       "    <tr>\n",
       "        <td>C70001318</td>\n",
       "        <td>None</td>\n",
       "        <td>None</td>\n",
       "        <td>None</td>\n",
       "        <td>11082016</td>\n",
       "        <td>965.00</td>\n",
       "        <td>H0CA15148</td>\n",
       "        <td>4020820171369944905</td>\n",
       "        <td>COM_CAN</td>\n",
       "    </tr>\n",
       "    <tr>\n",
       "        <td>C00499020</td>\n",
       "        <td>GOOGLE</td>\n",
       "        <td>CA</td>\n",
       "        <td>None</td>\n",
       "        <td>None</td>\n",
       "        <td>250.00</td>\n",
       "        <td>S6CO00226</td>\n",
       "        <td>4080320161307866021</td>\n",
       "        <td>COM_CAN</td>\n",
       "    </tr>\n",
       "    <tr>\n",
       "        <td>C70000120</td>\n",
       "        <td>None</td>\n",
       "        <td>None</td>\n",
       "        <td>None</td>\n",
       "        <td>1302016</td>\n",
       "        <td>118.00</td>\n",
       "        <td>P00003392</td>\n",
       "        <td>2051620161292819070</td>\n",
       "        <td>COM_CAN</td>\n",
       "    </tr>\n",
       "    <tr>\n",
       "        <td>C00661462</td>\n",
       "        <td>PAYPAL</td>\n",
       "        <td>CA</td>\n",
       "        <td>None</td>\n",
       "        <td>None</td>\n",
       "        <td>201.00</td>\n",
       "        <td>H2NY22071</td>\n",
       "        <td>4102320201883197769</td>\n",
       "        <td>COM_CAN</td>\n",
       "    </tr>\n",
       "</table>"
      ],
      "text/plain": [
       "[('C00581306', None, None, None, Decimal('12132015'), Decimal('814.00'), 'C00577130', Decimal('2011220161260556123'), 'COM_CAN'),\n",
       " ('C70001318', None, None, None, Decimal('11082016'), Decimal('965.00'), 'H0CA15148', Decimal('4020820171369944905'), 'COM_CAN'),\n",
       " ('C00499020', 'GOOGLE', 'CA', None, None, Decimal('250.00'), 'S6CO00226', Decimal('4080320161307866021'), 'COM_CAN'),\n",
       " ('C70000120', None, None, None, Decimal('1302016'), Decimal('118.00'), 'P00003392', Decimal('2051620161292819070'), 'COM_CAN'),\n",
       " ('C00661462', 'PAYPAL', 'CA', None, None, Decimal('201.00'), 'H2NY22071', Decimal('4102320201883197769'), 'COM_CAN')]"
      ]
     },
     "execution_count": 7,
     "metadata": {},
     "output_type": "execute_result"
    }
   ],
   "source": [
    "%%sql\n",
    "select * from committees_to_candidates_contribution\n",
    "limit 5;"
   ]
  },
  {
   "cell_type": "code",
   "execution_count": 8,
   "metadata": {},
   "outputs": [
    {
     "name": "stdout",
     "output_type": "stream",
     "text": [
      " * postgresql://student@/final_project_yu\n",
      "1 rows affected.\n"
     ]
    },
    {
     "data": {
      "text/html": [
       "<table>\n",
       "    <tr>\n",
       "        <th>count</th>\n",
       "    </tr>\n",
       "    <tr>\n",
       "        <td>16409192</td>\n",
       "    </tr>\n",
       "</table>"
      ],
      "text/plain": [
       "[(16409192,)]"
      ]
     },
     "execution_count": 8,
     "metadata": {},
     "output_type": "execute_result"
    }
   ],
   "source": [
    "%%sql\n",
    "select count(*) from individuals_to_committees_contribution\n",
    "where other_id is null;"
   ]
  },
  {
   "cell_type": "markdown",
   "metadata": {},
   "source": [
    "__CREATE CONTRIBUTION_FACT TABLE TO MERGE ALL THREE CONTRIBUTION TABLE__"
   ]
  },
  {
   "cell_type": "code",
   "execution_count": 9,
   "metadata": {},
   "outputs": [
    {
     "name": "stdout",
     "output_type": "stream",
     "text": [
      " * postgresql://student@/final_project_yu\n",
      "Done.\n",
      "Done.\n"
     ]
    },
    {
     "data": {
      "text/plain": [
       "[]"
      ]
     },
     "execution_count": 9,
     "metadata": {},
     "output_type": "execute_result"
    }
   ],
   "source": [
    "%%sql\n",
    "DROP TABLE IF EXISTS CONTRIBUTION_FACT_REF cascade;\n",
    "\n",
    "CREATE TABLE CONTRIBUTION_FACT_REF (\n",
    "    CMTE_ID VARCHAR(9),\n",
    "    NAME varchar(200),\n",
    "    STATE VARCHAR(2),\n",
    "    OCCUPATION VARCHAR(38),\n",
    "    TRANSACTION_DT numeric(8),\n",
    "    TRANSACTION_AMT numeric(14,2),\n",
    "    OTHER_ID VARCHAR(9),\n",
    "    SUB_ID NUMERIC(19) NOT NULL\n",
    ");"
   ]
  },
  {
   "cell_type": "code",
   "execution_count": 10,
   "metadata": {},
   "outputs": [
    {
     "name": "stdout",
     "output_type": "stream",
     "text": [
      " * postgresql://student@/final_project_yu\n",
      "Done.\n"
     ]
    },
    {
     "data": {
      "text/plain": [
       "[]"
      ]
     },
     "execution_count": 10,
     "metadata": {},
     "output_type": "execute_result"
    }
   ],
   "source": [
    "%%sql\n",
    "alter table contribution_fact_ref\n",
    "add column contribution_type varchar(7);"
   ]
  },
  {
   "cell_type": "code",
   "execution_count": 11,
   "metadata": {},
   "outputs": [
    {
     "name": "stdout",
     "output_type": "stream",
     "text": [
      " * postgresql://student@/final_project_yu\n",
      "5829302 rows affected.\n"
     ]
    },
    {
     "data": {
      "text/plain": [
       "[]"
      ]
     },
     "execution_count": 11,
     "metadata": {},
     "output_type": "execute_result"
    }
   ],
   "source": [
    "%%sql\n",
    "INSERT INTO CONTRIBUTION_FACT_REF (CMTE_ID, NAME, STATE, OCCUPATION, TRANSACTION_DT, TRANSACTION_AMT, OTHER_ID, SUB_ID, contribution_type)\n",
    "\n",
    "SELECT *\n",
    "FROM committees_to_committees_contribution;"
   ]
  },
  {
   "cell_type": "code",
   "execution_count": 12,
   "metadata": {},
   "outputs": [
    {
     "name": "stdout",
     "output_type": "stream",
     "text": [
      " * postgresql://student@/final_project_yu\n",
      "950152 rows affected.\n"
     ]
    },
    {
     "data": {
      "text/plain": [
       "[]"
      ]
     },
     "execution_count": 12,
     "metadata": {},
     "output_type": "execute_result"
    }
   ],
   "source": [
    "%%sql\n",
    "INSERT INTO CONTRIBUTION_FACT_REF (CMTE_ID, NAME, STATE, OCCUPATION, TRANSACTION_DT, TRANSACTION_AMT, OTHER_ID, SUB_ID, contribution_type)\n",
    "\n",
    "SELECT *\n",
    "FROM committees_to_candidates_contribution;"
   ]
  },
  {
   "cell_type": "code",
   "execution_count": 13,
   "metadata": {},
   "outputs": [
    {
     "name": "stdout",
     "output_type": "stream",
     "text": [
      " * postgresql://student@/final_project_yu\n",
      "53765647 rows affected.\n"
     ]
    },
    {
     "data": {
      "text/plain": [
       "[]"
      ]
     },
     "execution_count": 13,
     "metadata": {},
     "output_type": "execute_result"
    }
   ],
   "source": [
    "%%sql\n",
    "INSERT INTO CONTRIBUTION_FACT_REF (CMTE_ID, NAME, STATE, OCCUPATION, TRANSACTION_DT, TRANSACTION_AMT, OTHER_ID, SUB_ID, contribution_type)\n",
    "\n",
    "SELECT *\n",
    "FROM individuals_to_committees_contribution;"
   ]
  },
  {
   "cell_type": "code",
   "execution_count": 45,
   "metadata": {},
   "outputs": [
    {
     "name": "stdout",
     "output_type": "stream",
     "text": [
      " * postgresql://student@/final_project_yu\n",
      "1 rows affected.\n"
     ]
    },
    {
     "data": {
      "text/html": [
       "<table>\n",
       "    <tr>\n",
       "        <th>count</th>\n",
       "    </tr>\n",
       "    <tr>\n",
       "        <td>60545101</td>\n",
       "    </tr>\n",
       "</table>"
      ],
      "text/plain": [
       "[(60545101,)]"
      ]
     },
     "execution_count": 45,
     "metadata": {},
     "output_type": "execute_result"
    }
   ],
   "source": [
    "%%sql\n",
    "select count(*) from CONTRIBUTION_FACT_REF;"
   ]
  },
  {
   "cell_type": "markdown",
   "metadata": {},
   "source": [
    "## 4. Create dimension"
   ]
  },
  {
   "cell_type": "markdown",
   "metadata": {},
   "source": [
    "__We would like to split our data into 1 fact table and 6 dimension tables:__"
   ]
  },
  {
   "cell_type": "code",
   "execution_count": 41,
   "metadata": {},
   "outputs": [
    {
     "data": {
      "text/html": [
       "<img src=\"https://raw.githubusercontent.com/rainieluo2016/ISTM_6212/main/CONTRIBUTION_FINAL.jpeg\"/>"
      ],
      "text/plain": [
       "<IPython.core.display.Image object>"
      ]
     },
     "execution_count": 41,
     "metadata": {},
     "output_type": "execute_result"
    }
   ],
   "source": [
    "from IPython.display import Image\n",
    "Image(url = 'https://raw.githubusercontent.com/rainieluo2016/ISTM_6212/main/CONTRIBUTION_FINAL.jpeg')"
   ]
  },
  {
   "cell_type": "markdown",
   "metadata": {},
   "source": [
    "### 4.1 Dimension 1 - Type_v2"
   ]
  },
  {
   "cell_type": "markdown",
   "metadata": {},
   "source": [
    "__We here want to create a dimension to differentiate contribution type:__\n",
    "+ COM_CAN - Contribution from committee to candidate\n",
    "+ IND_COM - Contribution from individual to committee\n",
    "+ COM_COM - Contribution from committee to committee"
   ]
  },
  {
   "cell_type": "code",
   "execution_count": 14,
   "metadata": {},
   "outputs": [
    {
     "name": "stdout",
     "output_type": "stream",
     "text": [
      " * postgresql://student@/final_project_yu\n",
      "Done.\n",
      "Done.\n"
     ]
    },
    {
     "data": {
      "text/plain": [
       "[]"
      ]
     },
     "execution_count": 14,
     "metadata": {},
     "output_type": "execute_result"
    }
   ],
   "source": [
    "%%sql\n",
    "DROP TABLE IF EXISTS TYPE_v2 cascade;\n",
    "\n",
    "CREATE TABLE TYPE_v2 (\n",
    "    TYPE_KEY SERIAL PRIMARY KEY,\n",
    "    CONTRIBUTION_TYPE VARCHAR(7)\n",
    ");"
   ]
  },
  {
   "cell_type": "code",
   "execution_count": 15,
   "metadata": {},
   "outputs": [
    {
     "name": "stdout",
     "output_type": "stream",
     "text": [
      " * postgresql://student@/final_project_yu\n",
      "3 rows affected.\n"
     ]
    },
    {
     "data": {
      "text/plain": [
       "[]"
      ]
     },
     "execution_count": 15,
     "metadata": {},
     "output_type": "execute_result"
    }
   ],
   "source": [
    "%%sql\n",
    "insert into TYPE_v2 (CONTRIBUTION_TYPE)\n",
    "SELECT DISTINCT CONTRIBUTION_TYPE FROM CONTRIBUTION_FACT_REF;"
   ]
  },
  {
   "cell_type": "code",
   "execution_count": 16,
   "metadata": {},
   "outputs": [
    {
     "name": "stdout",
     "output_type": "stream",
     "text": [
      " * postgresql://student@/final_project_yu\n",
      "Done.\n"
     ]
    },
    {
     "data": {
      "text/plain": [
       "[]"
      ]
     },
     "execution_count": 16,
     "metadata": {},
     "output_type": "execute_result"
    }
   ],
   "source": [
    "%%sql\n",
    "alter table contribution_fact_ref\n",
    "add column type_key int;"
   ]
  },
  {
   "cell_type": "code",
   "execution_count": 19,
   "metadata": {},
   "outputs": [
    {
     "name": "stdout",
     "output_type": "stream",
     "text": [
      " * postgresql://student@/final_project_yu\n",
      "Done.\n"
     ]
    },
    {
     "data": {
      "text/plain": [
       "[]"
      ]
     },
     "execution_count": 19,
     "metadata": {},
     "output_type": "execute_result"
    }
   ],
   "source": [
    "%%sql\n",
    "ALTER TABLE contribution_fact_ref\n",
    "ADD CONSTRAINT fk_type_v2\n",
    "    FOREIGN KEY (type_key)\n",
    "    REFERENCES TYPE_V2 (TYPE_KEY);"
   ]
  },
  {
   "cell_type": "code",
   "execution_count": 21,
   "metadata": {},
   "outputs": [
    {
     "name": "stdout",
     "output_type": "stream",
     "text": [
      " * postgresql://student@/final_project_yu\n",
      "60545101 rows affected.\n"
     ]
    },
    {
     "data": {
      "text/plain": [
       "[]"
      ]
     },
     "execution_count": 21,
     "metadata": {},
     "output_type": "execute_result"
    }
   ],
   "source": [
    "%%sql\n",
    "update contribution_fact_ref\n",
    "set type_key = TYPE_V2.type_key\n",
    "FROM TYPE_V2\n",
    "WHERE TYPE_V2.contribution_type = contribution_fact_ref.contribution_type;"
   ]
  },
  {
   "cell_type": "code",
   "execution_count": 22,
   "metadata": {},
   "outputs": [
    {
     "name": "stdout",
     "output_type": "stream",
     "text": [
      " * postgresql://student@/final_project_yu\n",
      "3 rows affected.\n"
     ]
    },
    {
     "data": {
      "text/html": [
       "<table>\n",
       "    <tr>\n",
       "        <th>type_key</th>\n",
       "        <th>contribution_type</th>\n",
       "    </tr>\n",
       "    <tr>\n",
       "        <td>1</td>\n",
       "        <td>COM_CAN</td>\n",
       "    </tr>\n",
       "    <tr>\n",
       "        <td>2</td>\n",
       "        <td>IND_COM</td>\n",
       "    </tr>\n",
       "    <tr>\n",
       "        <td>3</td>\n",
       "        <td>COM_COM</td>\n",
       "    </tr>\n",
       "</table>"
      ],
      "text/plain": [
       "[(1, 'COM_CAN'), (2, 'IND_COM'), (3, 'COM_COM')]"
      ]
     },
     "execution_count": 22,
     "metadata": {},
     "output_type": "execute_result"
    }
   ],
   "source": [
    "%%sql\n",
    "select * from TYPE_V2;"
   ]
  },
  {
   "cell_type": "markdown",
   "metadata": {},
   "source": [
    "### 4.2 Dimension 2 - DATE_V2"
   ]
  },
  {
   "cell_type": "markdown",
   "metadata": {},
   "source": [
    "__Day dimension will include the year, month and date of the contribution__"
   ]
  },
  {
   "cell_type": "code",
   "execution_count": 23,
   "metadata": {},
   "outputs": [
    {
     "name": "stdout",
     "output_type": "stream",
     "text": [
      " * postgresql://student@/final_project_yu\n",
      "Done.\n",
      "Done.\n"
     ]
    },
    {
     "data": {
      "text/plain": [
       "[]"
      ]
     },
     "execution_count": 23,
     "metadata": {},
     "output_type": "execute_result"
    }
   ],
   "source": [
    "%%sql\n",
    "DROP TABLE IF EXISTS DATE_V2 cascade;\n",
    "\n",
    "CREATE TABLE DATE_V2 (\n",
    "    DATE_KEY SERIAL PRIMARY KEY,\n",
    "    YEAR INTEGER,\n",
    "    MONTH INTEGER,\n",
    "    DAY INTEGER\n",
    ");"
   ]
  },
  {
   "cell_type": "code",
   "execution_count": 24,
   "metadata": {},
   "outputs": [
    {
     "name": "stdout",
     "output_type": "stream",
     "text": [
      " * postgresql://student@/final_project_yu\n",
      "2303 rows affected.\n"
     ]
    },
    {
     "data": {
      "text/plain": [
       "[]"
      ]
     },
     "execution_count": 24,
     "metadata": {},
     "output_type": "execute_result"
    }
   ],
   "source": [
    "%%sql\n",
    "INSERT INTO DATE_V2 (YEAR,MONTH,DAY)\n",
    "SELECT DISTINCT cast(right(cast(TRANSACTION_DT as varchar(8)),4) as INTEGER) as YEAR,\n",
    "        cast(left(cast(TRANSACTION_DT as varchar(8)),length(cast(TRANSACTION_DT as varchar(8)))-6) as INTEGER) as MONTH, \n",
    "       cast(left(right(cast(TRANSACTION_DT as varchar(8)),6),2) as INTEGER) as DAY\n",
    "FROM CONTRIBUTION_FACT_REF;"
   ]
  },
  {
   "cell_type": "code",
   "execution_count": 25,
   "metadata": {},
   "outputs": [
    {
     "name": "stdout",
     "output_type": "stream",
     "text": [
      " * postgresql://student@/final_project_yu\n",
      "Done.\n"
     ]
    },
    {
     "data": {
      "text/plain": [
       "[]"
      ]
     },
     "execution_count": 25,
     "metadata": {},
     "output_type": "execute_result"
    }
   ],
   "source": [
    "%%sql\n",
    "alter table contribution_fact_ref\n",
    "add column date_key integer,\n",
    "add constraint fk_date_v2\n",
    "    FOREIGN KEY (date_key)\n",
    "    REFERENCES date_v2 (date_key);"
   ]
  },
  {
   "cell_type": "code",
   "execution_count": 34,
   "metadata": {},
   "outputs": [
    {
     "name": "stdout",
     "output_type": "stream",
     "text": [
      " * postgresql://student@/final_project_yu\n",
      "60537947 rows affected.\n"
     ]
    },
    {
     "data": {
      "text/plain": [
       "[]"
      ]
     },
     "execution_count": 34,
     "metadata": {},
     "output_type": "execute_result"
    }
   ],
   "source": [
    "%%sql\n",
    "UPDATE contribution_fact_ref\n",
    "SET date_key = date_v2.date_key\n",
    "FROM date_v2\n",
    "WHERE cast(right(cast(contribution_fact_ref.TRANSACTION_DT as varchar(8)),4) as INTEGER)= date_v2.year \n",
    "and cast(left(cast(contribution_fact_ref.TRANSACTION_DT as varchar(8)),length(cast(TRANSACTION_DT as varchar(8)))-6) as INTEGER) = date_v2.month\n",
    "and cast(left(right(cast(contribution_fact_ref.TRANSACTION_DT as varchar(8)),6),2) as INTEGER) = date_v2.day;"
   ]
  },
  {
   "cell_type": "code",
   "execution_count": 35,
   "metadata": {},
   "outputs": [
    {
     "name": "stdout",
     "output_type": "stream",
     "text": [
      " * postgresql://student@/final_project_yu\n",
      "12 rows affected.\n"
     ]
    },
    {
     "data": {
      "text/html": [
       "<table>\n",
       "    <tr>\n",
       "        <th>month</th>\n",
       "    </tr>\n",
       "    <tr>\n",
       "        <td>1</td>\n",
       "    </tr>\n",
       "    <tr>\n",
       "        <td>2</td>\n",
       "    </tr>\n",
       "    <tr>\n",
       "        <td>3</td>\n",
       "    </tr>\n",
       "    <tr>\n",
       "        <td>4</td>\n",
       "    </tr>\n",
       "    <tr>\n",
       "        <td>5</td>\n",
       "    </tr>\n",
       "    <tr>\n",
       "        <td>6</td>\n",
       "    </tr>\n",
       "    <tr>\n",
       "        <td>7</td>\n",
       "    </tr>\n",
       "    <tr>\n",
       "        <td>8</td>\n",
       "    </tr>\n",
       "    <tr>\n",
       "        <td>9</td>\n",
       "    </tr>\n",
       "    <tr>\n",
       "        <td>10</td>\n",
       "    </tr>\n",
       "    <tr>\n",
       "        <td>11</td>\n",
       "    </tr>\n",
       "    <tr>\n",
       "        <td>12</td>\n",
       "    </tr>\n",
       "</table>"
      ],
      "text/plain": [
       "[(1,), (2,), (3,), (4,), (5,), (6,), (7,), (8,), (9,), (10,), (11,), (12,)]"
      ]
     },
     "execution_count": 35,
     "metadata": {},
     "output_type": "execute_result"
    }
   ],
   "source": [
    "%%sql\n",
    "select distinct month from date_v2\n",
    "where year = 2020\n",
    "order by month;"
   ]
  },
  {
   "cell_type": "code",
   "execution_count": 36,
   "metadata": {},
   "outputs": [
    {
     "name": "stdout",
     "output_type": "stream",
     "text": [
      " * postgresql://student@/final_project_yu\n",
      "32 rows affected.\n"
     ]
    },
    {
     "data": {
      "text/html": [
       "<table>\n",
       "    <tr>\n",
       "        <th>day</th>\n",
       "        <th>count</th>\n",
       "    </tr>\n",
       "    <tr>\n",
       "        <td>1</td>\n",
       "        <td>69</td>\n",
       "    </tr>\n",
       "    <tr>\n",
       "        <td>2</td>\n",
       "        <td>69</td>\n",
       "    </tr>\n",
       "    <tr>\n",
       "        <td>3</td>\n",
       "        <td>70</td>\n",
       "    </tr>\n",
       "    <tr>\n",
       "        <td>4</td>\n",
       "        <td>77</td>\n",
       "    </tr>\n",
       "    <tr>\n",
       "        <td>5</td>\n",
       "        <td>72</td>\n",
       "    </tr>\n",
       "    <tr>\n",
       "        <td>6</td>\n",
       "        <td>73</td>\n",
       "    </tr>\n",
       "    <tr>\n",
       "        <td>7</td>\n",
       "        <td>75</td>\n",
       "    </tr>\n",
       "    <tr>\n",
       "        <td>8</td>\n",
       "        <td>73</td>\n",
       "    </tr>\n",
       "    <tr>\n",
       "        <td>9</td>\n",
       "        <td>75</td>\n",
       "    </tr>\n",
       "    <tr>\n",
       "        <td>10</td>\n",
       "        <td>79</td>\n",
       "    </tr>\n",
       "    <tr>\n",
       "        <td>11</td>\n",
       "        <td>75</td>\n",
       "    </tr>\n",
       "    <tr>\n",
       "        <td>12</td>\n",
       "        <td>72</td>\n",
       "    </tr>\n",
       "    <tr>\n",
       "        <td>13</td>\n",
       "        <td>73</td>\n",
       "    </tr>\n",
       "    <tr>\n",
       "        <td>14</td>\n",
       "        <td>77</td>\n",
       "    </tr>\n",
       "    <tr>\n",
       "        <td>15</td>\n",
       "        <td>72</td>\n",
       "    </tr>\n",
       "    <tr>\n",
       "        <td>16</td>\n",
       "        <td>79</td>\n",
       "    </tr>\n",
       "    <tr>\n",
       "        <td>17</td>\n",
       "        <td>77</td>\n",
       "    </tr>\n",
       "    <tr>\n",
       "        <td>18</td>\n",
       "        <td>78</td>\n",
       "    </tr>\n",
       "    <tr>\n",
       "        <td>19</td>\n",
       "        <td>78</td>\n",
       "    </tr>\n",
       "    <tr>\n",
       "        <td>20</td>\n",
       "        <td>77</td>\n",
       "    </tr>\n",
       "    <tr>\n",
       "        <td>21</td>\n",
       "        <td>81</td>\n",
       "    </tr>\n",
       "    <tr>\n",
       "        <td>22</td>\n",
       "        <td>77</td>\n",
       "    </tr>\n",
       "    <tr>\n",
       "        <td>23</td>\n",
       "        <td>74</td>\n",
       "    </tr>\n",
       "    <tr>\n",
       "        <td>24</td>\n",
       "        <td>77</td>\n",
       "    </tr>\n",
       "    <tr>\n",
       "        <td>25</td>\n",
       "        <td>78</td>\n",
       "    </tr>\n",
       "    <tr>\n",
       "        <td>26</td>\n",
       "        <td>72</td>\n",
       "    </tr>\n",
       "    <tr>\n",
       "        <td>27</td>\n",
       "        <td>79</td>\n",
       "    </tr>\n",
       "    <tr>\n",
       "        <td>28</td>\n",
       "        <td>75</td>\n",
       "    </tr>\n",
       "    <tr>\n",
       "        <td>29</td>\n",
       "        <td>76</td>\n",
       "    </tr>\n",
       "    <tr>\n",
       "        <td>30</td>\n",
       "        <td>76</td>\n",
       "    </tr>\n",
       "    <tr>\n",
       "        <td>31</td>\n",
       "        <td>47</td>\n",
       "    </tr>\n",
       "    <tr>\n",
       "        <td>None</td>\n",
       "        <td>1</td>\n",
       "    </tr>\n",
       "</table>"
      ],
      "text/plain": [
       "[(1, 69),\n",
       " (2, 69),\n",
       " (3, 70),\n",
       " (4, 77),\n",
       " (5, 72),\n",
       " (6, 73),\n",
       " (7, 75),\n",
       " (8, 73),\n",
       " (9, 75),\n",
       " (10, 79),\n",
       " (11, 75),\n",
       " (12, 72),\n",
       " (13, 73),\n",
       " (14, 77),\n",
       " (15, 72),\n",
       " (16, 79),\n",
       " (17, 77),\n",
       " (18, 78),\n",
       " (19, 78),\n",
       " (20, 77),\n",
       " (21, 81),\n",
       " (22, 77),\n",
       " (23, 74),\n",
       " (24, 77),\n",
       " (25, 78),\n",
       " (26, 72),\n",
       " (27, 79),\n",
       " (28, 75),\n",
       " (29, 76),\n",
       " (30, 76),\n",
       " (31, 47),\n",
       " (None, 1)]"
      ]
     },
     "execution_count": 36,
     "metadata": {},
     "output_type": "execute_result"
    }
   ],
   "source": [
    "%%sql\n",
    "select day,count(*) from date_v2\n",
    "group by day\n",
    "order by day;"
   ]
  },
  {
   "cell_type": "markdown",
   "metadata": {},
   "source": [
    "__From the result, we could see that no day or month is outside the range of what months and days should be for common sense.__"
   ]
  },
  {
   "cell_type": "code",
   "execution_count": 37,
   "metadata": {},
   "outputs": [
    {
     "name": "stdout",
     "output_type": "stream",
     "text": [
      " * postgresql://student@/final_project_yu\n",
      "5 rows affected.\n"
     ]
    },
    {
     "data": {
      "text/html": [
       "<table>\n",
       "    <tr>\n",
       "        <th>cmte_id</th>\n",
       "        <th>name</th>\n",
       "        <th>state</th>\n",
       "        <th>occupation</th>\n",
       "        <th>transaction_dt</th>\n",
       "        <th>transaction_amt</th>\n",
       "        <th>other_id</th>\n",
       "        <th>sub_id</th>\n",
       "        <th>contribution_type</th>\n",
       "        <th>type_key</th>\n",
       "        <th>date_key</th>\n",
       "    </tr>\n",
       "    <tr>\n",
       "        <td>C00703975</td>\n",
       "        <td>ORTEL, WADE</td>\n",
       "        <td>RI</td>\n",
       "        <td>None</td>\n",
       "        <td>9142020</td>\n",
       "        <td>300.00</td>\n",
       "        <td>None</td>\n",
       "        <td>4102320201883514849</td>\n",
       "        <td>IND_COM</td>\n",
       "        <td>2</td>\n",
       "        <td>1831</td>\n",
       "    </tr>\n",
       "    <tr>\n",
       "        <td>C00580100</td>\n",
       "        <td>BREWER, LARRY</td>\n",
       "        <td>IL</td>\n",
       "        <td>RETIRED</td>\n",
       "        <td>9092020</td>\n",
       "        <td>250.00</td>\n",
       "        <td>C00694323</td>\n",
       "        <td>4102420201885631414</td>\n",
       "        <td>IND_COM</td>\n",
       "        <td>2</td>\n",
       "        <td>1675</td>\n",
       "    </tr>\n",
       "    <tr>\n",
       "        <td>C00703975</td>\n",
       "        <td>REUTER, MARK W</td>\n",
       "        <td>NJ</td>\n",
       "        <td>None</td>\n",
       "        <td>9142020</td>\n",
       "        <td>50.00</td>\n",
       "        <td>None</td>\n",
       "        <td>4102320201883518592</td>\n",
       "        <td>IND_COM</td>\n",
       "        <td>2</td>\n",
       "        <td>1831</td>\n",
       "    </tr>\n",
       "    <tr>\n",
       "        <td>C00580100</td>\n",
       "        <td>BREIDUNG, JAMES</td>\n",
       "        <td>FL</td>\n",
       "        <td>RETIRED</td>\n",
       "        <td>9112020</td>\n",
       "        <td>42.00</td>\n",
       "        <td>None</td>\n",
       "        <td>4102420201885630765</td>\n",
       "        <td>IND_COM</td>\n",
       "        <td>2</td>\n",
       "        <td>213</td>\n",
       "    </tr>\n",
       "    <tr>\n",
       "        <td>C00703975</td>\n",
       "        <td>PARASKEVAS, NANCY</td>\n",
       "        <td>NM</td>\n",
       "        <td>None</td>\n",
       "        <td>9142020</td>\n",
       "        <td>50.00</td>\n",
       "        <td>None</td>\n",
       "        <td>4102320201883515349</td>\n",
       "        <td>IND_COM</td>\n",
       "        <td>2</td>\n",
       "        <td>1831</td>\n",
       "    </tr>\n",
       "</table>"
      ],
      "text/plain": [
       "[('C00703975', 'ORTEL, WADE', 'RI', None, Decimal('9142020'), Decimal('300.00'), None, Decimal('4102320201883514849'), 'IND_COM', 2, 1831),\n",
       " ('C00580100', 'BREWER, LARRY', 'IL', 'RETIRED', Decimal('9092020'), Decimal('250.00'), 'C00694323', Decimal('4102420201885631414'), 'IND_COM', 2, 1675),\n",
       " ('C00703975', 'REUTER, MARK W', 'NJ', None, Decimal('9142020'), Decimal('50.00'), None, Decimal('4102320201883518592'), 'IND_COM', 2, 1831),\n",
       " ('C00580100', 'BREIDUNG, JAMES', 'FL', 'RETIRED', Decimal('9112020'), Decimal('42.00'), None, Decimal('4102420201885630765'), 'IND_COM', 2, 213),\n",
       " ('C00703975', 'PARASKEVAS, NANCY', 'NM', None, Decimal('9142020'), Decimal('50.00'), None, Decimal('4102320201883515349'), 'IND_COM', 2, 1831)]"
      ]
     },
     "execution_count": 37,
     "metadata": {},
     "output_type": "execute_result"
    }
   ],
   "source": [
    "%%sql\n",
    "select * from contribution_fact_ref\n",
    "limit 5;"
   ]
  },
  {
   "cell_type": "markdown",
   "metadata": {},
   "source": [
    "### 4.3 Dimension 3 - Beneficiary_v2"
   ]
  },
  {
   "cell_type": "markdown",
   "metadata": {},
   "source": [
    "__Beneficiary table will contain the id, name and party affiliation of the beneficiary__"
   ]
  },
  {
   "cell_type": "code",
   "execution_count": 39,
   "metadata": {},
   "outputs": [
    {
     "name": "stdout",
     "output_type": "stream",
     "text": [
      " * postgresql://student@/final_project_yu\n",
      "Done.\n",
      "Done.\n"
     ]
    },
    {
     "data": {
      "text/plain": [
       "[]"
      ]
     },
     "execution_count": 39,
     "metadata": {},
     "output_type": "execute_result"
    }
   ],
   "source": [
    "%%sql\n",
    "DROP TABLE IF EXISTS BENEFICIARY_V2 cascade;\n",
    "\n",
    "CREATE TABLE BENEFICIARY_V2 (\n",
    "    BENEFICIARY_KEY SERIAL PRIMARY KEY,\n",
    "    CMTE_ID varchar(9),\n",
    "    CMTE_NAME VARCHAR(200),\n",
    "    CMTE_PTY_AFFILIATION VARCHAR(3)\n",
    ");"
   ]
  },
  {
   "cell_type": "code",
   "execution_count": 40,
   "metadata": {},
   "outputs": [
    {
     "name": "stdout",
     "output_type": "stream",
     "text": [
      " * postgresql://student@/final_project_yu\n",
      "29583 rows affected.\n"
     ]
    },
    {
     "data": {
      "text/plain": [
       "[]"
      ]
     },
     "execution_count": 40,
     "metadata": {},
     "output_type": "execute_result"
    }
   ],
   "source": [
    "%%sql\n",
    "insert into beneficiary_v2 (CMTE_ID, CMTE_NAME,CMTE_PTY_AFFILIATION)\n",
    "SELECT DISTINCT CMTE_ID as CMTE_ID, CMTE_NM as CMTE_NAME, CMTE_PTY_AFFILIATION as CMTE_PTY_AFFILIATION\n",
    "from committee_master;"
   ]
  },
  {
   "cell_type": "code",
   "execution_count": 42,
   "metadata": {},
   "outputs": [
    {
     "name": "stdout",
     "output_type": "stream",
     "text": [
      " * postgresql://student@/final_project_yu\n",
      "Done.\n"
     ]
    },
    {
     "data": {
      "text/plain": [
       "[]"
      ]
     },
     "execution_count": 42,
     "metadata": {},
     "output_type": "execute_result"
    }
   ],
   "source": [
    "%%sql\n",
    "alter table contribution_fact_ref\n",
    "add column BENEFICIARY_KEY integer,\n",
    "add constraint fk_beneficiary_v2\n",
    "    foreign key (BENEFICIARY_KEY)\n",
    "    references BENEFICIARY_V2 (BENEFICIARY_KEY);"
   ]
  },
  {
   "cell_type": "code",
   "execution_count": 43,
   "metadata": {},
   "outputs": [
    {
     "name": "stdout",
     "output_type": "stream",
     "text": [
      " * postgresql://student@/final_project_yu\n",
      "60545076 rows affected.\n"
     ]
    },
    {
     "data": {
      "text/plain": [
       "[]"
      ]
     },
     "execution_count": 43,
     "metadata": {},
     "output_type": "execute_result"
    }
   ],
   "source": [
    "%%sql\n",
    "update contribution_fact_ref\n",
    "set BENEFICIARY_KEY = BENEFICIARY_V2.BENEFICIARY_KEY\n",
    "FROM BENEFICIARY_V2\n",
    "WHERE contribution_fact_ref.CMTE_ID = BENEFICIARY_V2.CMTE_ID;"
   ]
  },
  {
   "cell_type": "code",
   "execution_count": 44,
   "metadata": {},
   "outputs": [
    {
     "name": "stdout",
     "output_type": "stream",
     "text": [
      " * postgresql://student@/final_project_yu\n",
      "5 rows affected.\n"
     ]
    },
    {
     "data": {
      "text/html": [
       "<table>\n",
       "    <tr>\n",
       "        <th>cmte_id</th>\n",
       "        <th>name</th>\n",
       "        <th>state</th>\n",
       "        <th>occupation</th>\n",
       "        <th>transaction_dt</th>\n",
       "        <th>transaction_amt</th>\n",
       "        <th>other_id</th>\n",
       "        <th>sub_id</th>\n",
       "        <th>contribution_type</th>\n",
       "        <th>type_key</th>\n",
       "        <th>date_key</th>\n",
       "        <th>beneficiary_key</th>\n",
       "    </tr>\n",
       "    <tr>\n",
       "        <td>C00703975</td>\n",
       "        <td>REUTER, MARK W</td>\n",
       "        <td>NJ</td>\n",
       "        <td>None</td>\n",
       "        <td>9142020</td>\n",
       "        <td>50.00</td>\n",
       "        <td>None</td>\n",
       "        <td>4102320201883518592</td>\n",
       "        <td>IND_COM</td>\n",
       "        <td>2</td>\n",
       "        <td>1831</td>\n",
       "        <td>21666</td>\n",
       "    </tr>\n",
       "    <tr>\n",
       "        <td>C00580100</td>\n",
       "        <td>BREIDUNG, JAMES</td>\n",
       "        <td>FL</td>\n",
       "        <td>RETIRED</td>\n",
       "        <td>9112020</td>\n",
       "        <td>42.00</td>\n",
       "        <td>None</td>\n",
       "        <td>4102420201885630765</td>\n",
       "        <td>IND_COM</td>\n",
       "        <td>2</td>\n",
       "        <td>213</td>\n",
       "        <td>10982</td>\n",
       "    </tr>\n",
       "    <tr>\n",
       "        <td>C00703975</td>\n",
       "        <td>PARASKEVAS, NANCY</td>\n",
       "        <td>NM</td>\n",
       "        <td>None</td>\n",
       "        <td>9142020</td>\n",
       "        <td>50.00</td>\n",
       "        <td>None</td>\n",
       "        <td>4102320201883515349</td>\n",
       "        <td>IND_COM</td>\n",
       "        <td>2</td>\n",
       "        <td>1831</td>\n",
       "        <td>21666</td>\n",
       "    </tr>\n",
       "    <tr>\n",
       "        <td>C00703975</td>\n",
       "        <td>WIENER, DAN</td>\n",
       "        <td>NY</td>\n",
       "        <td>PHYSICIAN</td>\n",
       "        <td>9142020</td>\n",
       "        <td>250.00</td>\n",
       "        <td>C00401224</td>\n",
       "        <td>4102320201883530245</td>\n",
       "        <td>IND_COM</td>\n",
       "        <td>2</td>\n",
       "        <td>1831</td>\n",
       "        <td>21666</td>\n",
       "    </tr>\n",
       "    <tr>\n",
       "        <td>C00703975</td>\n",
       "        <td>MULLER, AL</td>\n",
       "        <td>CA</td>\n",
       "        <td>CTO</td>\n",
       "        <td>9142020</td>\n",
       "        <td>100.00</td>\n",
       "        <td>C00401224</td>\n",
       "        <td>4102320201883512878</td>\n",
       "        <td>IND_COM</td>\n",
       "        <td>2</td>\n",
       "        <td>1831</td>\n",
       "        <td>21666</td>\n",
       "    </tr>\n",
       "</table>"
      ],
      "text/plain": [
       "[('C00703975', 'REUTER, MARK W', 'NJ', None, Decimal('9142020'), Decimal('50.00'), None, Decimal('4102320201883518592'), 'IND_COM', 2, 1831, 21666),\n",
       " ('C00580100', 'BREIDUNG, JAMES', 'FL', 'RETIRED', Decimal('9112020'), Decimal('42.00'), None, Decimal('4102420201885630765'), 'IND_COM', 2, 213, 10982),\n",
       " ('C00703975', 'PARASKEVAS, NANCY', 'NM', None, Decimal('9142020'), Decimal('50.00'), None, Decimal('4102320201883515349'), 'IND_COM', 2, 1831, 21666),\n",
       " ('C00703975', 'WIENER, DAN', 'NY', 'PHYSICIAN', Decimal('9142020'), Decimal('250.00'), 'C00401224', Decimal('4102320201883530245'), 'IND_COM', 2, 1831, 21666),\n",
       " ('C00703975', 'MULLER, AL', 'CA', 'CTO', Decimal('9142020'), Decimal('100.00'), 'C00401224', Decimal('4102320201883512878'), 'IND_COM', 2, 1831, 21666)]"
      ]
     },
     "execution_count": 44,
     "metadata": {},
     "output_type": "execute_result"
    }
   ],
   "source": [
    "%%sql\n",
    "select * from contribution_fact_ref\n",
    "limit 5;"
   ]
  },
  {
   "cell_type": "markdown",
   "metadata": {},
   "source": [
    "### 4.4 Dimension 4 - Contributor Location"
   ]
  },
  {
   "cell_type": "markdown",
   "metadata": {},
   "source": [
    "__Region and State of the contributir will be included in this contributor location table__"
   ]
  },
  {
   "cell_type": "code",
   "execution_count": 46,
   "metadata": {},
   "outputs": [
    {
     "name": "stdout",
     "output_type": "stream",
     "text": [
      " * postgresql://student@/final_project_yu\n",
      "Done.\n",
      "Done.\n"
     ]
    },
    {
     "data": {
      "text/plain": [
       "[]"
      ]
     },
     "execution_count": 46,
     "metadata": {},
     "output_type": "execute_result"
    }
   ],
   "source": [
    "%%sql\n",
    "DROP TABLE IF EXISTS CONTRIBUTOR_LOCATION cascade;\n",
    "\n",
    "CREATE TABLE CONTRIBUTOR_LOCATION (\n",
    "    CONTRIBUTOR_LOCATION_KEY SERIAL PRIMARY KEY,\n",
    "    STATE VARCHAR(2),\n",
    "    REGION VARCHAR(20)\n",
    ");"
   ]
  },
  {
   "cell_type": "code",
   "execution_count": 47,
   "metadata": {},
   "outputs": [
    {
     "name": "stdout",
     "output_type": "stream",
     "text": [
      " * postgresql://student@/final_project_yu\n",
      "125 rows affected.\n"
     ]
    },
    {
     "data": {
      "text/plain": [
       "[]"
      ]
     },
     "execution_count": 47,
     "metadata": {},
     "output_type": "execute_result"
    }
   ],
   "source": [
    "%%sql\n",
    "insert into CONTRIBUTOR_LOCATION (STATE)\n",
    "SELECT DISTINCT STATE as STATE\n",
    "from CONTRIBUTION_FACT_REF;"
   ]
  },
  {
   "cell_type": "code",
   "execution_count": 48,
   "metadata": {},
   "outputs": [
    {
     "name": "stdout",
     "output_type": "stream",
     "text": [
      " * postgresql://student@/final_project_yu\n",
      "125 rows affected.\n"
     ]
    },
    {
     "data": {
      "text/html": [
       "<table>\n",
       "    <tr>\n",
       "        <th>contributor_location_key</th>\n",
       "        <th>state</th>\n",
       "        <th>region</th>\n",
       "    </tr>\n",
       "    <tr>\n",
       "        <td>1</td>\n",
       "        <td>KS</td>\n",
       "        <td>None</td>\n",
       "    </tr>\n",
       "    <tr>\n",
       "        <td>2</td>\n",
       "        <td>75</td>\n",
       "        <td>None</td>\n",
       "    </tr>\n",
       "    <tr>\n",
       "        <td>3</td>\n",
       "        <td>EN</td>\n",
       "        <td>None</td>\n",
       "    </tr>\n",
       "    <tr>\n",
       "        <td>4</td>\n",
       "        <td>FC</td>\n",
       "        <td>None</td>\n",
       "    </tr>\n",
       "    <tr>\n",
       "        <td>5</td>\n",
       "        <td>None</td>\n",
       "        <td>None</td>\n",
       "    </tr>\n",
       "    <tr>\n",
       "        <td>6</td>\n",
       "        <td>BS</td>\n",
       "        <td>None</td>\n",
       "    </tr>\n",
       "    <tr>\n",
       "        <td>7</td>\n",
       "        <td>NV</td>\n",
       "        <td>None</td>\n",
       "    </tr>\n",
       "    <tr>\n",
       "        <td>8</td>\n",
       "        <td>OH</td>\n",
       "        <td>None</td>\n",
       "    </tr>\n",
       "    <tr>\n",
       "        <td>9</td>\n",
       "        <td>MH</td>\n",
       "        <td>None</td>\n",
       "    </tr>\n",
       "    <tr>\n",
       "        <td>10</td>\n",
       "        <td>NY</td>\n",
       "        <td>None</td>\n",
       "    </tr>\n",
       "    <tr>\n",
       "        <td>11</td>\n",
       "        <td>AU</td>\n",
       "        <td>None</td>\n",
       "    </tr>\n",
       "    <tr>\n",
       "        <td>12</td>\n",
       "        <td>NS</td>\n",
       "        <td>None</td>\n",
       "    </tr>\n",
       "    <tr>\n",
       "        <td>13</td>\n",
       "        <td>QC</td>\n",
       "        <td>None</td>\n",
       "    </tr>\n",
       "    <tr>\n",
       "        <td>14</td>\n",
       "        <td>BC</td>\n",
       "        <td>None</td>\n",
       "    </tr>\n",
       "    <tr>\n",
       "        <td>15</td>\n",
       "        <td>AT</td>\n",
       "        <td>None</td>\n",
       "    </tr>\n",
       "    <tr>\n",
       "        <td>16</td>\n",
       "        <td>GE</td>\n",
       "        <td>None</td>\n",
       "    </tr>\n",
       "    <tr>\n",
       "        <td>17</td>\n",
       "        <td>WV</td>\n",
       "        <td>None</td>\n",
       "    </tr>\n",
       "    <tr>\n",
       "        <td>18</td>\n",
       "        <td>NF</td>\n",
       "        <td>None</td>\n",
       "    </tr>\n",
       "    <tr>\n",
       "        <td>19</td>\n",
       "        <td>AR</td>\n",
       "        <td>None</td>\n",
       "    </tr>\n",
       "    <tr>\n",
       "        <td>20</td>\n",
       "        <td>HO</td>\n",
       "        <td>None</td>\n",
       "    </tr>\n",
       "    <tr>\n",
       "        <td>21</td>\n",
       "        <td>CT</td>\n",
       "        <td>None</td>\n",
       "    </tr>\n",
       "    <tr>\n",
       "        <td>22</td>\n",
       "        <td>KA</td>\n",
       "        <td>None</td>\n",
       "    </tr>\n",
       "    <tr>\n",
       "        <td>23</td>\n",
       "        <td>BR</td>\n",
       "        <td>None</td>\n",
       "    </tr>\n",
       "    <tr>\n",
       "        <td>24</td>\n",
       "        <td>YT</td>\n",
       "        <td>None</td>\n",
       "    </tr>\n",
       "    <tr>\n",
       "        <td>25</td>\n",
       "        <td>WY</td>\n",
       "        <td>None</td>\n",
       "    </tr>\n",
       "    <tr>\n",
       "        <td>26</td>\n",
       "        <td>LA</td>\n",
       "        <td>None</td>\n",
       "    </tr>\n",
       "    <tr>\n",
       "        <td>27</td>\n",
       "        <td>MT</td>\n",
       "        <td>None</td>\n",
       "    </tr>\n",
       "    <tr>\n",
       "        <td>28</td>\n",
       "        <td>MI</td>\n",
       "        <td>None</td>\n",
       "    </tr>\n",
       "    <tr>\n",
       "        <td>29</td>\n",
       "        <td>XX</td>\n",
       "        <td>None</td>\n",
       "    </tr>\n",
       "    <tr>\n",
       "        <td>30</td>\n",
       "        <td>FF</td>\n",
       "        <td>None</td>\n",
       "    </tr>\n",
       "    <tr>\n",
       "        <td>31</td>\n",
       "        <td>SA</td>\n",
       "        <td>None</td>\n",
       "    </tr>\n",
       "    <tr>\n",
       "        <td>32</td>\n",
       "        <td>DE</td>\n",
       "        <td>None</td>\n",
       "    </tr>\n",
       "    <tr>\n",
       "        <td>33</td>\n",
       "        <td>AA</td>\n",
       "        <td>None</td>\n",
       "    </tr>\n",
       "    <tr>\n",
       "        <td>34</td>\n",
       "        <td>SK</td>\n",
       "        <td>None</td>\n",
       "    </tr>\n",
       "    <tr>\n",
       "        <td>35</td>\n",
       "        <td>SJ</td>\n",
       "        <td>None</td>\n",
       "    </tr>\n",
       "    <tr>\n",
       "        <td>36</td>\n",
       "        <td>NH</td>\n",
       "        <td>None</td>\n",
       "    </tr>\n",
       "    <tr>\n",
       "        <td>37</td>\n",
       "        <td>AB</td>\n",
       "        <td>None</td>\n",
       "    </tr>\n",
       "    <tr>\n",
       "        <td>38</td>\n",
       "        <td>OR</td>\n",
       "        <td>None</td>\n",
       "    </tr>\n",
       "    <tr>\n",
       "        <td>39</td>\n",
       "        <td>SH</td>\n",
       "        <td>None</td>\n",
       "    </tr>\n",
       "    <tr>\n",
       "        <td>40</td>\n",
       "        <td>UK</td>\n",
       "        <td>None</td>\n",
       "    </tr>\n",
       "    <tr>\n",
       "        <td>41</td>\n",
       "        <td>DC</td>\n",
       "        <td>None</td>\n",
       "    </tr>\n",
       "    <tr>\n",
       "        <td>42</td>\n",
       "        <td>WI</td>\n",
       "        <td>None</td>\n",
       "    </tr>\n",
       "    <tr>\n",
       "        <td>43</td>\n",
       "        <td>DF</td>\n",
       "        <td>None</td>\n",
       "    </tr>\n",
       "    <tr>\n",
       "        <td>44</td>\n",
       "        <td>RI</td>\n",
       "        <td>None</td>\n",
       "    </tr>\n",
       "    <tr>\n",
       "        <td>45</td>\n",
       "        <td>LE</td>\n",
       "        <td>None</td>\n",
       "    </tr>\n",
       "    <tr>\n",
       "        <td>46</td>\n",
       "        <td>AP</td>\n",
       "        <td>None</td>\n",
       "    </tr>\n",
       "    <tr>\n",
       "        <td>47</td>\n",
       "        <td>VD</td>\n",
       "        <td>None</td>\n",
       "    </tr>\n",
       "    <tr>\n",
       "        <td>48</td>\n",
       "        <td>BA</td>\n",
       "        <td>None</td>\n",
       "    </tr>\n",
       "    <tr>\n",
       "        <td>49</td>\n",
       "        <td>TN</td>\n",
       "        <td>None</td>\n",
       "    </tr>\n",
       "    <tr>\n",
       "        <td>50</td>\n",
       "        <td>WA</td>\n",
       "        <td>None</td>\n",
       "    </tr>\n",
       "    <tr>\n",
       "        <td>51</td>\n",
       "        <td>MA</td>\n",
       "        <td>None</td>\n",
       "    </tr>\n",
       "    <tr>\n",
       "        <td>52</td>\n",
       "        <td>AL</td>\n",
       "        <td>None</td>\n",
       "    </tr>\n",
       "    <tr>\n",
       "        <td>53</td>\n",
       "        <td>SY</td>\n",
       "        <td>None</td>\n",
       "    </tr>\n",
       "    <tr>\n",
       "        <td>54</td>\n",
       "        <td>TI</td>\n",
       "        <td>None</td>\n",
       "    </tr>\n",
       "    <tr>\n",
       "        <td>55</td>\n",
       "        <td>ON</td>\n",
       "        <td>None</td>\n",
       "    </tr>\n",
       "    <tr>\n",
       "        <td>56</td>\n",
       "        <td>BE</td>\n",
       "        <td>None</td>\n",
       "    </tr>\n",
       "    <tr>\n",
       "        <td>57</td>\n",
       "        <td>CO</td>\n",
       "        <td>None</td>\n",
       "    </tr>\n",
       "    <tr>\n",
       "        <td>58</td>\n",
       "        <td>AS</td>\n",
       "        <td>None</td>\n",
       "    </tr>\n",
       "    <tr>\n",
       "        <td>59</td>\n",
       "        <td>VA</td>\n",
       "        <td>None</td>\n",
       "    </tr>\n",
       "    <tr>\n",
       "        <td>60</td>\n",
       "        <td>AZ</td>\n",
       "        <td>None</td>\n",
       "    </tr>\n",
       "    <tr>\n",
       "        <td>61</td>\n",
       "        <td>ZZ</td>\n",
       "        <td>None</td>\n",
       "    </tr>\n",
       "    <tr>\n",
       "        <td>62</td>\n",
       "        <td>PE</td>\n",
       "        <td>None</td>\n",
       "    </tr>\n",
       "    <tr>\n",
       "        <td>63</td>\n",
       "        <td>01</td>\n",
       "        <td>None</td>\n",
       "    </tr>\n",
       "    <tr>\n",
       "        <td>64</td>\n",
       "        <td>ND</td>\n",
       "        <td>None</td>\n",
       "    </tr>\n",
       "    <tr>\n",
       "        <td>65</td>\n",
       "        <td>KE</td>\n",
       "        <td>None</td>\n",
       "    </tr>\n",
       "    <tr>\n",
       "        <td>66</td>\n",
       "        <td>H</td>\n",
       "        <td>None</td>\n",
       "    </tr>\n",
       "    <tr>\n",
       "        <td>67</td>\n",
       "        <td>GU</td>\n",
       "        <td>None</td>\n",
       "    </tr>\n",
       "    <tr>\n",
       "        <td>68</td>\n",
       "        <td>AE</td>\n",
       "        <td>None</td>\n",
       "    </tr>\n",
       "    <tr>\n",
       "        <td>69</td>\n",
       "        <td>IR</td>\n",
       "        <td>None</td>\n",
       "    </tr>\n",
       "    <tr>\n",
       "        <td>70</td>\n",
       "        <td>HI</td>\n",
       "        <td>None</td>\n",
       "    </tr>\n",
       "    <tr>\n",
       "        <td>71</td>\n",
       "        <td>NL</td>\n",
       "        <td>None</td>\n",
       "    </tr>\n",
       "    <tr>\n",
       "        <td>72</td>\n",
       "        <td>HA</td>\n",
       "        <td>None</td>\n",
       "    </tr>\n",
       "    <tr>\n",
       "        <td>73</td>\n",
       "        <td>IN</td>\n",
       "        <td>None</td>\n",
       "    </tr>\n",
       "    <tr>\n",
       "        <td>74</td>\n",
       "        <td>NE</td>\n",
       "        <td>None</td>\n",
       "    </tr>\n",
       "    <tr>\n",
       "        <td>75</td>\n",
       "        <td>FL</td>\n",
       "        <td>None</td>\n",
       "    </tr>\n",
       "    <tr>\n",
       "        <td>76</td>\n",
       "        <td>ME</td>\n",
       "        <td>None</td>\n",
       "    </tr>\n",
       "    <tr>\n",
       "        <td>77</td>\n",
       "        <td>UN</td>\n",
       "        <td>None</td>\n",
       "    </tr>\n",
       "    <tr>\n",
       "        <td>78</td>\n",
       "        <td>N/</td>\n",
       "        <td>None</td>\n",
       "    </tr>\n",
       "    <tr>\n",
       "        <td>79</td>\n",
       "        <td>SD</td>\n",
       "        <td>None</td>\n",
       "    </tr>\n",
       "    <tr>\n",
       "        <td>80</td>\n",
       "        <td>BL</td>\n",
       "        <td>None</td>\n",
       "    </tr>\n",
       "    <tr>\n",
       "        <td>81</td>\n",
       "        <td>U*</td>\n",
       "        <td>None</td>\n",
       "    </tr>\n",
       "    <tr>\n",
       "        <td>82</td>\n",
       "        <td>OT</td>\n",
       "        <td>None</td>\n",
       "    </tr>\n",
       "    <tr>\n",
       "        <td>83</td>\n",
       "        <td>RJ</td>\n",
       "        <td>None</td>\n",
       "    </tr>\n",
       "    <tr>\n",
       "        <td>84</td>\n",
       "        <td>BW</td>\n",
       "        <td>None</td>\n",
       "    </tr>\n",
       "    <tr>\n",
       "        <td>85</td>\n",
       "        <td>NJ</td>\n",
       "        <td>None</td>\n",
       "    </tr>\n",
       "    <tr>\n",
       "        <td>86</td>\n",
       "        <td>MP</td>\n",
       "        <td>None</td>\n",
       "    </tr>\n",
       "    <tr>\n",
       "        <td>87</td>\n",
       "        <td>UT</td>\n",
       "        <td>None</td>\n",
       "    </tr>\n",
       "    <tr>\n",
       "        <td>88</td>\n",
       "        <td>CH</td>\n",
       "        <td>None</td>\n",
       "    </tr>\n",
       "    <tr>\n",
       "        <td>89</td>\n",
       "        <td>SC</td>\n",
       "        <td>None</td>\n",
       "    </tr>\n",
       "    <tr>\n",
       "        <td>90</td>\n",
       "        <td>VI</td>\n",
       "        <td>None</td>\n",
       "    </tr>\n",
       "    <tr>\n",
       "        <td>91</td>\n",
       "        <td>ZH</td>\n",
       "        <td>None</td>\n",
       "    </tr>\n",
       "    <tr>\n",
       "        <td>92</td>\n",
       "        <td>PW</td>\n",
       "        <td>None</td>\n",
       "    </tr>\n",
       "    <tr>\n",
       "        <td>93</td>\n",
       "        <td>BO</td>\n",
       "        <td>None</td>\n",
       "    </tr>\n",
       "    <tr>\n",
       "        <td>94</td>\n",
       "        <td>FM</td>\n",
       "        <td>None</td>\n",
       "    </tr>\n",
       "    <tr>\n",
       "        <td>95</td>\n",
       "        <td>CA</td>\n",
       "        <td>None</td>\n",
       "    </tr>\n",
       "    <tr>\n",
       "        <td>96</td>\n",
       "        <td>NB</td>\n",
       "        <td>None</td>\n",
       "    </tr>\n",
       "    <tr>\n",
       "        <td>97</td>\n",
       "        <td>LO</td>\n",
       "        <td>None</td>\n",
       "    </tr>\n",
       "    <tr>\n",
       "        <td>98</td>\n",
       "        <td>TX</td>\n",
       "        <td>None</td>\n",
       "    </tr>\n",
       "    <tr>\n",
       "        <td>99</td>\n",
       "        <td>PR</td>\n",
       "        <td>None</td>\n",
       "    </tr>\n",
       "    <tr>\n",
       "        <td>100</td>\n",
       "        <td>81</td>\n",
       "        <td>None</td>\n",
       "    </tr>\n",
       "    <tr>\n",
       "        <td>101</td>\n",
       "        <td>KY</td>\n",
       "        <td>None</td>\n",
       "    </tr>\n",
       "    <tr>\n",
       "        <td>102</td>\n",
       "        <td>MB</td>\n",
       "        <td>None</td>\n",
       "    </tr>\n",
       "    <tr>\n",
       "        <td>103</td>\n",
       "        <td>NM</td>\n",
       "        <td>None</td>\n",
       "    </tr>\n",
       "    <tr>\n",
       "        <td>104</td>\n",
       "        <td>MS</td>\n",
       "        <td>None</td>\n",
       "    </tr>\n",
       "    <tr>\n",
       "        <td>105</td>\n",
       "        <td>&#x27;U</td>\n",
       "        <td>None</td>\n",
       "    </tr>\n",
       "    <tr>\n",
       "        <td>106</td>\n",
       "        <td>PH</td>\n",
       "        <td>None</td>\n",
       "    </tr>\n",
       "    <tr>\n",
       "        <td>107</td>\n",
       "        <td>MO</td>\n",
       "        <td>None</td>\n",
       "    </tr>\n",
       "    <tr>\n",
       "        <td>108</td>\n",
       "        <td>NC</td>\n",
       "        <td>None</td>\n",
       "    </tr>\n",
       "    <tr>\n",
       "        <td>109</td>\n",
       "        <td>SU</td>\n",
       "        <td>None</td>\n",
       "    </tr>\n",
       "    <tr>\n",
       "        <td>110</td>\n",
       "        <td>OK</td>\n",
       "        <td>None</td>\n",
       "    </tr>\n",
       "    <tr>\n",
       "        <td>111</td>\n",
       "        <td>ID</td>\n",
       "        <td>None</td>\n",
       "    </tr>\n",
       "    <tr>\n",
       "        <td>112</td>\n",
       "        <td>GA</td>\n",
       "        <td>None</td>\n",
       "    </tr>\n",
       "    <tr>\n",
       "        <td>113</td>\n",
       "        <td>MN</td>\n",
       "        <td>None</td>\n",
       "    </tr>\n",
       "    <tr>\n",
       "        <td>114</td>\n",
       "        <td>PA</td>\n",
       "        <td>None</td>\n",
       "    </tr>\n",
       "    <tr>\n",
       "        <td>115</td>\n",
       "        <td>AK</td>\n",
       "        <td>None</td>\n",
       "    </tr>\n",
       "    <tr>\n",
       "        <td>116</td>\n",
       "        <td>MD</td>\n",
       "        <td>None</td>\n",
       "    </tr>\n",
       "    <tr>\n",
       "        <td>117</td>\n",
       "        <td>TO</td>\n",
       "        <td>None</td>\n",
       "    </tr>\n",
       "    <tr>\n",
       "        <td>118</td>\n",
       "        <td>JA</td>\n",
       "        <td>None</td>\n",
       "    </tr>\n",
       "    <tr>\n",
       "        <td>119</td>\n",
       "        <td>IL</td>\n",
       "        <td>None</td>\n",
       "    </tr>\n",
       "    <tr>\n",
       "        <td>120</td>\n",
       "        <td>IS</td>\n",
       "        <td>None</td>\n",
       "    </tr>\n",
       "    <tr>\n",
       "        <td>121</td>\n",
       "        <td>GP</td>\n",
       "        <td>None</td>\n",
       "    </tr>\n",
       "    <tr>\n",
       "        <td>122</td>\n",
       "        <td>TE</td>\n",
       "        <td>None</td>\n",
       "    </tr>\n",
       "    <tr>\n",
       "        <td>123</td>\n",
       "        <td>EU</td>\n",
       "        <td>None</td>\n",
       "    </tr>\n",
       "    <tr>\n",
       "        <td>124</td>\n",
       "        <td>IA</td>\n",
       "        <td>None</td>\n",
       "    </tr>\n",
       "    <tr>\n",
       "        <td>125</td>\n",
       "        <td>VT</td>\n",
       "        <td>None</td>\n",
       "    </tr>\n",
       "</table>"
      ],
      "text/plain": [
       "[(1, 'KS', None),\n",
       " (2, '75', None),\n",
       " (3, 'EN', None),\n",
       " (4, 'FC', None),\n",
       " (5, None, None),\n",
       " (6, 'BS', None),\n",
       " (7, 'NV', None),\n",
       " (8, 'OH', None),\n",
       " (9, 'MH', None),\n",
       " (10, 'NY', None),\n",
       " (11, 'AU', None),\n",
       " (12, 'NS', None),\n",
       " (13, 'QC', None),\n",
       " (14, 'BC', None),\n",
       " (15, 'AT', None),\n",
       " (16, 'GE', None),\n",
       " (17, 'WV', None),\n",
       " (18, 'NF', None),\n",
       " (19, 'AR', None),\n",
       " (20, 'HO', None),\n",
       " (21, 'CT', None),\n",
       " (22, 'KA', None),\n",
       " (23, 'BR', None),\n",
       " (24, 'YT', None),\n",
       " (25, 'WY', None),\n",
       " (26, 'LA', None),\n",
       " (27, 'MT', None),\n",
       " (28, 'MI', None),\n",
       " (29, 'XX', None),\n",
       " (30, 'FF', None),\n",
       " (31, 'SA', None),\n",
       " (32, 'DE', None),\n",
       " (33, 'AA', None),\n",
       " (34, 'SK', None),\n",
       " (35, 'SJ', None),\n",
       " (36, 'NH', None),\n",
       " (37, 'AB', None),\n",
       " (38, 'OR', None),\n",
       " (39, 'SH', None),\n",
       " (40, 'UK', None),\n",
       " (41, 'DC', None),\n",
       " (42, 'WI', None),\n",
       " (43, 'DF', None),\n",
       " (44, 'RI', None),\n",
       " (45, 'LE', None),\n",
       " (46, 'AP', None),\n",
       " (47, 'VD', None),\n",
       " (48, 'BA', None),\n",
       " (49, 'TN', None),\n",
       " (50, 'WA', None),\n",
       " (51, 'MA', None),\n",
       " (52, 'AL', None),\n",
       " (53, 'SY', None),\n",
       " (54, 'TI', None),\n",
       " (55, 'ON', None),\n",
       " (56, 'BE', None),\n",
       " (57, 'CO', None),\n",
       " (58, 'AS', None),\n",
       " (59, 'VA', None),\n",
       " (60, 'AZ', None),\n",
       " (61, 'ZZ', None),\n",
       " (62, 'PE', None),\n",
       " (63, '01', None),\n",
       " (64, 'ND', None),\n",
       " (65, 'KE', None),\n",
       " (66, 'H', None),\n",
       " (67, 'GU', None),\n",
       " (68, 'AE', None),\n",
       " (69, 'IR', None),\n",
       " (70, 'HI', None),\n",
       " (71, 'NL', None),\n",
       " (72, 'HA', None),\n",
       " (73, 'IN', None),\n",
       " (74, 'NE', None),\n",
       " (75, 'FL', None),\n",
       " (76, 'ME', None),\n",
       " (77, 'UN', None),\n",
       " (78, 'N/', None),\n",
       " (79, 'SD', None),\n",
       " (80, 'BL', None),\n",
       " (81, 'U*', None),\n",
       " (82, 'OT', None),\n",
       " (83, 'RJ', None),\n",
       " (84, 'BW', None),\n",
       " (85, 'NJ', None),\n",
       " (86, 'MP', None),\n",
       " (87, 'UT', None),\n",
       " (88, 'CH', None),\n",
       " (89, 'SC', None),\n",
       " (90, 'VI', None),\n",
       " (91, 'ZH', None),\n",
       " (92, 'PW', None),\n",
       " (93, 'BO', None),\n",
       " (94, 'FM', None),\n",
       " (95, 'CA', None),\n",
       " (96, 'NB', None),\n",
       " (97, 'LO', None),\n",
       " (98, 'TX', None),\n",
       " (99, 'PR', None),\n",
       " (100, '81', None),\n",
       " (101, 'KY', None),\n",
       " (102, 'MB', None),\n",
       " (103, 'NM', None),\n",
       " (104, 'MS', None),\n",
       " (105, \"'U\", None),\n",
       " (106, 'PH', None),\n",
       " (107, 'MO', None),\n",
       " (108, 'NC', None),\n",
       " (109, 'SU', None),\n",
       " (110, 'OK', None),\n",
       " (111, 'ID', None),\n",
       " (112, 'GA', None),\n",
       " (113, 'MN', None),\n",
       " (114, 'PA', None),\n",
       " (115, 'AK', None),\n",
       " (116, 'MD', None),\n",
       " (117, 'TO', None),\n",
       " (118, 'JA', None),\n",
       " (119, 'IL', None),\n",
       " (120, 'IS', None),\n",
       " (121, 'GP', None),\n",
       " (122, 'TE', None),\n",
       " (123, 'EU', None),\n",
       " (124, 'IA', None),\n",
       " (125, 'VT', None)]"
      ]
     },
     "execution_count": 48,
     "metadata": {},
     "output_type": "execute_result"
    }
   ],
   "source": [
    "%%sql\n",
    "select * from contributor_location;"
   ]
  },
  {
   "cell_type": "markdown",
   "metadata": {},
   "source": [
    "__From the result, we could see that there are 125 different states in this dataset but united states has only 51 states. This might extra caution when working on the further analysis about states or regions.__"
   ]
  },
  {
   "cell_type": "markdown",
   "metadata": {},
   "source": [
    "__Region Refering__\n",
    "Update REGION according the contributor's state. \n",
    "\n",
    "Northest(9): Connecticut, Maine, Massachusetts, New Hampshire, Rhode Island, Vermont, New Jersey, New York, and Pennsylvania\n",
    "\n",
    "Midwest(12): Illinois, Indiana, Michigan, Ohio, Wisconsin, Iowa, Kansas, Minnesota, Missouri, Nebraska, North Dakota, and South Dakota\n",
    "\n",
    "South(17): Delaware, Florida, Georgia, Maryland, North Carolina, South Carolina, Virginia, District of Columbia, West Virginia, Alabama, Kentucky, Mississippi, Tennessee, Arkansas, Louisiana, Oklahoma, and Texas\n",
    "\n",
    "West(13): Arizona, Colorado, Idaho, Montana, Nevada, New Mexico, Utah, Wyoming, Alaska, California, Hawaii, Oregon, and Washington"
   ]
  },
  {
   "cell_type": "code",
   "execution_count": 3,
   "metadata": {},
   "outputs": [
    {
     "name": "stdout",
     "output_type": "stream",
     "text": [
      " * postgresql://student@/final_project_yu\n",
      "125 rows affected.\n"
     ]
    },
    {
     "data": {
      "text/plain": [
       "[]"
      ]
     },
     "execution_count": 3,
     "metadata": {},
     "output_type": "execute_result"
    }
   ],
   "source": [
    "%%sql\n",
    "UPDATE CONTRIBUTOR_LOCATION\n",
    "SET REGION = CASE\n",
    "            WHEN STATE in ('CT', 'ME', 'MA', 'NH', 'RI', 'VT', 'NJ', 'NY', 'PA')\n",
    "            THEN 'Northeast'\n",
    "            WHEN STATE in ('IL', 'IN', 'MI', 'OH', 'WI', 'IA', 'KS', 'MN', 'MO', 'NE', 'ND', 'SD')\n",
    "            THEN 'Midwest'\n",
    "            WHEN STATE in ('DE', 'FL', 'GA', 'MD', 'NC', 'SC', 'VA', 'DC', 'WV', 'AL', 'KY', 'MS', 'TN', 'AR', 'LA', 'OK', 'TX')\n",
    "            THEN 'South'\n",
    "            WHEN STATE in ('AZ', 'CO', 'ID', 'MT', 'NV', 'NM', 'UT', 'WY', 'AK', 'CA', 'HI', 'OR', 'WA')\n",
    "            THEN 'West'\n",
    "            Else 'None'\n",
    "            End"
   ]
  },
  {
   "cell_type": "code",
   "execution_count": 4,
   "metadata": {},
   "outputs": [
    {
     "name": "stdout",
     "output_type": "stream",
     "text": [
      " * postgresql://student@/final_project_yu\n",
      "Done.\n"
     ]
    },
    {
     "data": {
      "text/plain": [
       "[]"
      ]
     },
     "execution_count": 4,
     "metadata": {},
     "output_type": "execute_result"
    }
   ],
   "source": [
    "%%sql\n",
    "alter table contribution_fact_ref\n",
    "add column CONTRIBUTOR_LOCATION_KEY integer,\n",
    "add constraint fk_contributor_location\n",
    "    foreign key (CONTRIBUTOR_LOCATION_KEY)\n",
    "    references CONTRIBUTOR_LOCATION (CONTRIBUTOR_LOCATION_KEY);"
   ]
  },
  {
   "cell_type": "code",
   "execution_count": 5,
   "metadata": {},
   "outputs": [
    {
     "name": "stdout",
     "output_type": "stream",
     "text": [
      " * postgresql://student@/final_project_yu\n",
      "60501054 rows affected.\n"
     ]
    },
    {
     "data": {
      "text/plain": [
       "[]"
      ]
     },
     "execution_count": 5,
     "metadata": {},
     "output_type": "execute_result"
    }
   ],
   "source": [
    "%%sql\n",
    "update contribution_fact_ref\n",
    "set CONTRIBUTOR_LOCATION_KEY = CONTRIBUTOR_LOCATION.CONTRIBUTOR_LOCATION_KEY\n",
    "FROM CONTRIBUTOR_LOCATION\n",
    "WHERE contribution_fact_ref.STATE = CONTRIBUTOR_LOCATION.STATE\n",
    ";"
   ]
  },
  {
   "cell_type": "code",
   "execution_count": 10,
   "metadata": {},
   "outputs": [
    {
     "name": "stdout",
     "output_type": "stream",
     "text": [
      " * postgresql://student@/final_project_yu\n",
      "5 rows affected.\n"
     ]
    },
    {
     "data": {
      "text/html": [
       "<table>\n",
       "    <tr>\n",
       "        <th>cmte_id</th>\n",
       "        <th>name</th>\n",
       "        <th>state</th>\n",
       "        <th>occupation</th>\n",
       "        <th>transaction_dt</th>\n",
       "        <th>transaction_amt</th>\n",
       "        <th>other_id</th>\n",
       "        <th>sub_id</th>\n",
       "        <th>contribution_type</th>\n",
       "        <th>type_key</th>\n",
       "        <th>date_key</th>\n",
       "        <th>beneficiary_key</th>\n",
       "        <th>contributor_location_key</th>\n",
       "    </tr>\n",
       "    <tr>\n",
       "        <td>C00027466</td>\n",
       "        <td>CARIASO, SEGUNDO</td>\n",
       "        <td>NY</td>\n",
       "        <td>RETIRED</td>\n",
       "        <td>10022020</td>\n",
       "        <td>3.00</td>\n",
       "        <td>C00694323</td>\n",
       "        <td>4111920201959287261</td>\n",
       "        <td>IND_COM</td>\n",
       "        <td>2</td>\n",
       "        <td>186</td>\n",
       "        <td>18897</td>\n",
       "        <td>10</td>\n",
       "    </tr>\n",
       "    <tr>\n",
       "        <td>C00027466</td>\n",
       "        <td>ARNOLD, CRAIG</td>\n",
       "        <td>MI</td>\n",
       "        <td>TECHNICIAN</td>\n",
       "        <td>10022020</td>\n",
       "        <td>20.00</td>\n",
       "        <td>C00694323</td>\n",
       "        <td>4111920201959281533</td>\n",
       "        <td>IND_COM</td>\n",
       "        <td>2</td>\n",
       "        <td>186</td>\n",
       "        <td>18897</td>\n",
       "        <td>28</td>\n",
       "    </tr>\n",
       "    <tr>\n",
       "        <td>C00027466</td>\n",
       "        <td>CUTHBERTSON, SYBIL</td>\n",
       "        <td>FL</td>\n",
       "        <td>RETIRED</td>\n",
       "        <td>10022020</td>\n",
       "        <td>30.00</td>\n",
       "        <td>C00694323</td>\n",
       "        <td>4111920201959281535</td>\n",
       "        <td>IND_COM</td>\n",
       "        <td>2</td>\n",
       "        <td>186</td>\n",
       "        <td>18897</td>\n",
       "        <td>75</td>\n",
       "    </tr>\n",
       "    <tr>\n",
       "        <td>C00027466</td>\n",
       "        <td>OLSON, TOM F</td>\n",
       "        <td>CA</td>\n",
       "        <td>RETIRED</td>\n",
       "        <td>10022020</td>\n",
       "        <td>100.00</td>\n",
       "        <td>None</td>\n",
       "        <td>4111920201959264192</td>\n",
       "        <td>IND_COM</td>\n",
       "        <td>2</td>\n",
       "        <td>186</td>\n",
       "        <td>18897</td>\n",
       "        <td>95</td>\n",
       "    </tr>\n",
       "    <tr>\n",
       "        <td>C00027466</td>\n",
       "        <td>PUCHNER, PETER J</td>\n",
       "        <td>NY</td>\n",
       "        <td>RETIRED</td>\n",
       "        <td>10022020</td>\n",
       "        <td>75.00</td>\n",
       "        <td>None</td>\n",
       "        <td>4111920201959264517</td>\n",
       "        <td>IND_COM</td>\n",
       "        <td>2</td>\n",
       "        <td>186</td>\n",
       "        <td>18897</td>\n",
       "        <td>10</td>\n",
       "    </tr>\n",
       "</table>"
      ],
      "text/plain": [
       "[('C00027466', 'CARIASO, SEGUNDO', 'NY', 'RETIRED', Decimal('10022020'), Decimal('3.00'), 'C00694323', Decimal('4111920201959287261'), 'IND_COM', 2, 186, 18897, 10),\n",
       " ('C00027466', 'ARNOLD, CRAIG', 'MI', 'TECHNICIAN', Decimal('10022020'), Decimal('20.00'), 'C00694323', Decimal('4111920201959281533'), 'IND_COM', 2, 186, 18897, 28),\n",
       " ('C00027466', 'CUTHBERTSON, SYBIL', 'FL', 'RETIRED', Decimal('10022020'), Decimal('30.00'), 'C00694323', Decimal('4111920201959281535'), 'IND_COM', 2, 186, 18897, 75),\n",
       " ('C00027466', 'OLSON, TOM F', 'CA', 'RETIRED', Decimal('10022020'), Decimal('100.00'), None, Decimal('4111920201959264192'), 'IND_COM', 2, 186, 18897, 95),\n",
       " ('C00027466', 'PUCHNER, PETER J', 'NY', 'RETIRED', Decimal('10022020'), Decimal('75.00'), None, Decimal('4111920201959264517'), 'IND_COM', 2, 186, 18897, 10)]"
      ]
     },
     "execution_count": 10,
     "metadata": {},
     "output_type": "execute_result"
    }
   ],
   "source": [
    "%%sql\n",
    "select * from contribution_fact_ref\n",
    "limit 5\n",
    ";"
   ]
  },
  {
   "cell_type": "code",
   "execution_count": null,
   "metadata": {},
   "outputs": [],
   "source": []
  },
  {
   "cell_type": "markdown",
   "metadata": {},
   "source": [
    "### 4.5 Dimension 5 - Contributor Occupation"
   ]
  },
  {
   "cell_type": "code",
   "execution_count": 11,
   "metadata": {},
   "outputs": [
    {
     "name": "stdout",
     "output_type": "stream",
     "text": [
      " * postgresql://student@/final_project_yu\n",
      "Done.\n",
      "Done.\n"
     ]
    },
    {
     "data": {
      "text/plain": [
       "[]"
      ]
     },
     "execution_count": 11,
     "metadata": {},
     "output_type": "execute_result"
    }
   ],
   "source": [
    "%%sql\n",
    "DROP TABLE IF EXISTS CONTRIBUTOR_OCCUPATION cascade;\n",
    "\n",
    "CREATE TABLE CONTRIBUTOR_OCCUPATION (\n",
    "    CONTRIBUTOR_OCCUPATION_KEY SERIAL PRIMARY KEY,\n",
    "    OCCUPATION VARCHAR(38)\n",
    ");"
   ]
  },
  {
   "cell_type": "code",
   "execution_count": 12,
   "metadata": {},
   "outputs": [
    {
     "name": "stdout",
     "output_type": "stream",
     "text": [
      " * postgresql://student@/final_project_yu\n",
      "502977 rows affected.\n"
     ]
    },
    {
     "data": {
      "text/plain": [
       "[]"
      ]
     },
     "execution_count": 12,
     "metadata": {},
     "output_type": "execute_result"
    }
   ],
   "source": [
    "%%sql\n",
    "insert into CONTRIBUTOR_OCCUPATION (OCCUPATION)\n",
    "SELECT DISTINCT OCCUPATION as OCCUPATION\n",
    "from CONTRIBUTION_FACT_REF;"
   ]
  },
  {
   "cell_type": "code",
   "execution_count": 13,
   "metadata": {},
   "outputs": [
    {
     "name": "stdout",
     "output_type": "stream",
     "text": [
      " * postgresql://student@/final_project_yu\n",
      "Done.\n"
     ]
    },
    {
     "data": {
      "text/plain": [
       "[]"
      ]
     },
     "execution_count": 13,
     "metadata": {},
     "output_type": "execute_result"
    }
   ],
   "source": [
    "%%sql\n",
    "alter table contribution_fact_ref\n",
    "add column CONTRIBUTOR_OCCUPATION_KEY integer,\n",
    "add constraint fk_contributor_OCCUPATION\n",
    "    foreign key (CONTRIBUTOR_OCCUPATION_KEY)\n",
    "    references CONTRIBUTOR_OCCUPATION (CONTRIBUTOR_OCCUPATION_KEY);"
   ]
  },
  {
   "cell_type": "code",
   "execution_count": 14,
   "metadata": {},
   "outputs": [
    {
     "name": "stdout",
     "output_type": "stream",
     "text": [
      " * postgresql://student@/final_project_yu\n",
      "56182997 rows affected.\n"
     ]
    },
    {
     "data": {
      "text/plain": [
       "[]"
      ]
     },
     "execution_count": 14,
     "metadata": {},
     "output_type": "execute_result"
    }
   ],
   "source": [
    "%%sql\n",
    "update contribution_fact_ref\n",
    "set CONTRIBUTOR_OCCUPATION_KEY = CONTRIBUTOR_OCCUPATION.CONTRIBUTOR_OCCUPATION_KEY\n",
    "FROM CONTRIBUTOR_OCCUPATION\n",
    "WHERE contribution_fact_ref.OCCUPATION = CONTRIBUTOR_OCCUPATION.OCCUPATION\n",
    ";"
   ]
  },
  {
   "cell_type": "code",
   "execution_count": 15,
   "metadata": {},
   "outputs": [
    {
     "name": "stdout",
     "output_type": "stream",
     "text": [
      " * postgresql://student@/final_project_yu\n",
      "5 rows affected.\n"
     ]
    },
    {
     "data": {
      "text/html": [
       "<table>\n",
       "    <tr>\n",
       "        <th>contributor_occupation_key</th>\n",
       "        <th>occupation</th>\n",
       "    </tr>\n",
       "    <tr>\n",
       "        <td>1</td>\n",
       "        <td>ELECTRONIS TECHICIAN</td>\n",
       "    </tr>\n",
       "    <tr>\n",
       "        <td>2</td>\n",
       "        <td>SUBSTATION/SWITCHING TECH 1ST CLASS</td>\n",
       "    </tr>\n",
       "    <tr>\n",
       "        <td>3</td>\n",
       "        <td>NETWORK TECHNICAL SPECIALIST</td>\n",
       "    </tr>\n",
       "    <tr>\n",
       "        <td>4</td>\n",
       "        <td>CONSTRUCTION/CONSULTING</td>\n",
       "    </tr>\n",
       "    <tr>\n",
       "        <td>5</td>\n",
       "        <td>READY RESERVE CUSTOMER SERVICE AGENT</td>\n",
       "    </tr>\n",
       "</table>"
      ],
      "text/plain": [
       "[(1, 'ELECTRONIS TECHICIAN'),\n",
       " (2, 'SUBSTATION/SWITCHING TECH 1ST CLASS'),\n",
       " (3, 'NETWORK TECHNICAL SPECIALIST'),\n",
       " (4, 'CONSTRUCTION/CONSULTING'),\n",
       " (5, 'READY RESERVE CUSTOMER SERVICE AGENT')]"
      ]
     },
     "execution_count": 15,
     "metadata": {},
     "output_type": "execute_result"
    }
   ],
   "source": [
    "%%sql\n",
    "select * from contributor_occupation\n",
    "limit 5\n",
    ";"
   ]
  },
  {
   "cell_type": "code",
   "execution_count": 16,
   "metadata": {},
   "outputs": [
    {
     "name": "stdout",
     "output_type": "stream",
     "text": [
      " * postgresql://student@/final_project_yu\n",
      "5 rows affected.\n"
     ]
    },
    {
     "data": {
      "text/html": [
       "<table>\n",
       "    <tr>\n",
       "        <th>cmte_id</th>\n",
       "        <th>name</th>\n",
       "        <th>state</th>\n",
       "        <th>occupation</th>\n",
       "        <th>transaction_dt</th>\n",
       "        <th>transaction_amt</th>\n",
       "        <th>other_id</th>\n",
       "        <th>sub_id</th>\n",
       "        <th>contribution_type</th>\n",
       "        <th>type_key</th>\n",
       "        <th>date_key</th>\n",
       "        <th>beneficiary_key</th>\n",
       "        <th>contributor_location_key</th>\n",
       "        <th>contributor_occupation_key</th>\n",
       "    </tr>\n",
       "    <tr>\n",
       "        <td>C00455357</td>\n",
       "        <td>H &amp; S SIGNS</td>\n",
       "        <td>None</td>\n",
       "        <td>None</td>\n",
       "        <td>9152011</td>\n",
       "        <td>0.00</td>\n",
       "        <td>P00003392</td>\n",
       "        <td>2120520171482672530</td>\n",
       "        <td>COM_CAN</td>\n",
       "        <td>1</td>\n",
       "        <td>394</td>\n",
       "        <td>None</td>\n",
       "        <td>None</td>\n",
       "        <td>None</td>\n",
       "    </tr>\n",
       "    <tr>\n",
       "        <td>C00455357</td>\n",
       "        <td>H &amp; S SIGNS</td>\n",
       "        <td>None</td>\n",
       "        <td>None</td>\n",
       "        <td>9152011</td>\n",
       "        <td>0.00</td>\n",
       "        <td>P00003392</td>\n",
       "        <td>2120520171482672530</td>\n",
       "        <td>COM_COM</td>\n",
       "        <td>3</td>\n",
       "        <td>394</td>\n",
       "        <td>None</td>\n",
       "        <td>None</td>\n",
       "        <td>None</td>\n",
       "    </tr>\n",
       "    <tr>\n",
       "        <td>C00401224</td>\n",
       "        <td>BERNARD, LAURA</td>\n",
       "        <td>MA</td>\n",
       "        <td>None</td>\n",
       "        <td>10022020</td>\n",
       "        <td>5.00</td>\n",
       "        <td>C00674093</td>\n",
       "        <td>4111920201949947463</td>\n",
       "        <td>IND_COM</td>\n",
       "        <td>2</td>\n",
       "        <td>186</td>\n",
       "        <td>28929</td>\n",
       "        <td>51</td>\n",
       "        <td>None</td>\n",
       "    </tr>\n",
       "    <tr>\n",
       "        <td>C00401224</td>\n",
       "        <td>BERNARD, LAURA</td>\n",
       "        <td>MA</td>\n",
       "        <td>None</td>\n",
       "        <td>10022020</td>\n",
       "        <td>15.00</td>\n",
       "        <td>C00674093</td>\n",
       "        <td>4111920201949947464</td>\n",
       "        <td>IND_COM</td>\n",
       "        <td>2</td>\n",
       "        <td>186</td>\n",
       "        <td>28929</td>\n",
       "        <td>51</td>\n",
       "        <td>None</td>\n",
       "    </tr>\n",
       "    <tr>\n",
       "        <td>C00401224</td>\n",
       "        <td>HENDRIKS, PRISCILLA</td>\n",
       "        <td>BC</td>\n",
       "        <td>None</td>\n",
       "        <td>10022020</td>\n",
       "        <td>50.00</td>\n",
       "        <td>C00010603</td>\n",
       "        <td>4111920201949863375</td>\n",
       "        <td>IND_COM</td>\n",
       "        <td>2</td>\n",
       "        <td>186</td>\n",
       "        <td>28929</td>\n",
       "        <td>14</td>\n",
       "        <td>None</td>\n",
       "    </tr>\n",
       "</table>"
      ],
      "text/plain": [
       "[('C00455357', 'H & S SIGNS', None, None, Decimal('9152011'), Decimal('0.00'), 'P00003392', Decimal('2120520171482672530'), 'COM_CAN', 1, 394, None, None, None),\n",
       " ('C00455357', 'H & S SIGNS', None, None, Decimal('9152011'), Decimal('0.00'), 'P00003392', Decimal('2120520171482672530'), 'COM_COM', 3, 394, None, None, None),\n",
       " ('C00401224', 'BERNARD, LAURA', 'MA', None, Decimal('10022020'), Decimal('5.00'), 'C00674093', Decimal('4111920201949947463'), 'IND_COM', 2, 186, 28929, 51, None),\n",
       " ('C00401224', 'BERNARD, LAURA', 'MA', None, Decimal('10022020'), Decimal('15.00'), 'C00674093', Decimal('4111920201949947464'), 'IND_COM', 2, 186, 28929, 51, None),\n",
       " ('C00401224', 'HENDRIKS, PRISCILLA', 'BC', None, Decimal('10022020'), Decimal('50.00'), 'C00010603', Decimal('4111920201949863375'), 'IND_COM', 2, 186, 28929, 14, None)]"
      ]
     },
     "execution_count": 16,
     "metadata": {},
     "output_type": "execute_result"
    }
   ],
   "source": [
    "%%sql\n",
    "select * from contribution_fact_ref\n",
    "limit 5\n",
    ";"
   ]
  },
  {
   "cell_type": "code",
   "execution_count": null,
   "metadata": {},
   "outputs": [],
   "source": []
  },
  {
   "cell_type": "markdown",
   "metadata": {},
   "source": [
    "### 4.6 Dimension 6 - Contributor ID"
   ]
  },
  {
   "cell_type": "code",
   "execution_count": 17,
   "metadata": {},
   "outputs": [
    {
     "name": "stdout",
     "output_type": "stream",
     "text": [
      " * postgresql://student@/final_project_yu\n",
      "Done.\n",
      "Done.\n"
     ]
    },
    {
     "data": {
      "text/plain": [
       "[]"
      ]
     },
     "execution_count": 17,
     "metadata": {},
     "output_type": "execute_result"
    }
   ],
   "source": [
    "%%sql\n",
    "DROP TABLE IF EXISTS CONTRIBUTOR_ID cascade;\n",
    "\n",
    "CREATE TABLE CONTRIBUTOR_ID (\n",
    "    CONTRIBUTOR_ID_KEY SERIAL PRIMARY KEY,\n",
    "    ID VARCHAR(9)\n",
    ");"
   ]
  },
  {
   "cell_type": "code",
   "execution_count": 18,
   "metadata": {},
   "outputs": [
    {
     "name": "stdout",
     "output_type": "stream",
     "text": [
      " * postgresql://student@/final_project_yu\n",
      "15353 rows affected.\n"
     ]
    },
    {
     "data": {
      "text/plain": [
       "[]"
      ]
     },
     "execution_count": 18,
     "metadata": {},
     "output_type": "execute_result"
    }
   ],
   "source": [
    "%%sql\n",
    "insert into CONTRIBUTOR_ID (ID)\n",
    "SELECT DISTINCT OTHER_ID as ID\n",
    "from CONTRIBUTION_FACT_REF;"
   ]
  },
  {
   "cell_type": "code",
   "execution_count": 19,
   "metadata": {},
   "outputs": [
    {
     "name": "stdout",
     "output_type": "stream",
     "text": [
      " * postgresql://student@/final_project_yu\n",
      "Done.\n"
     ]
    },
    {
     "data": {
      "text/plain": [
       "[]"
      ]
     },
     "execution_count": 19,
     "metadata": {},
     "output_type": "execute_result"
    }
   ],
   "source": [
    "%%sql\n",
    "alter table contribution_fact_ref\n",
    "add column CONTRIBUTOR_ID_KEY integer,\n",
    "add constraint fk_contributor_id\n",
    "    foreign key (CONTRIBUTOR_ID_KEY)\n",
    "    references CONTRIBUTOR_ID (CONTRIBUTOR_ID_KEY);"
   ]
  },
  {
   "cell_type": "code",
   "execution_count": 21,
   "metadata": {},
   "outputs": [
    {
     "name": "stdout",
     "output_type": "stream",
     "text": [
      " * postgresql://student@/final_project_yu\n",
      "39807757 rows affected.\n"
     ]
    },
    {
     "data": {
      "text/plain": [
       "[]"
      ]
     },
     "execution_count": 21,
     "metadata": {},
     "output_type": "execute_result"
    }
   ],
   "source": [
    "%%sql\n",
    "update contribution_fact_ref\n",
    "set CONTRIBUTOR_ID_KEY = CONTRIBUTOR_ID.CONTRIBUTOR_ID_KEY\n",
    "FROM CONTRIBUTOR_ID\n",
    "WHERE contribution_fact_ref.other_id = CONTRIBUTOR_ID.id\n",
    ";"
   ]
  },
  {
   "cell_type": "code",
   "execution_count": 6,
   "metadata": {},
   "outputs": [
    {
     "name": "stdout",
     "output_type": "stream",
     "text": [
      " * postgresql://student@/final_project_yu\n",
      "5 rows affected.\n"
     ]
    },
    {
     "data": {
      "text/html": [
       "<table>\n",
       "    <tr>\n",
       "        <th>cmte_id</th>\n",
       "        <th>name</th>\n",
       "        <th>state</th>\n",
       "        <th>occupation</th>\n",
       "        <th>transaction_dt</th>\n",
       "        <th>transaction_amt</th>\n",
       "        <th>other_id</th>\n",
       "        <th>sub_id</th>\n",
       "        <th>contribution_type</th>\n",
       "        <th>type_key</th>\n",
       "        <th>date_key</th>\n",
       "        <th>beneficiary_key</th>\n",
       "        <th>contributor_location_key</th>\n",
       "        <th>contributor_occupation_key</th>\n",
       "        <th>contributor_id_key</th>\n",
       "        <th>contributor_name_key</th>\n",
       "    </tr>\n",
       "    <tr>\n",
       "        <td>C00206136</td>\n",
       "        <td>KINZINGER FOR CONGRESS</td>\n",
       "        <td>VA</td>\n",
       "        <td>None</td>\n",
       "        <td>2272015</td>\n",
       "        <td>2500.00</td>\n",
       "        <td>C00458877</td>\n",
       "        <td>4032020151240893826</td>\n",
       "        <td>COM_COM</td>\n",
       "        <td>3</td>\n",
       "        <td>127</td>\n",
       "        <td>3917</td>\n",
       "        <td>59</td>\n",
       "        <td>None</td>\n",
       "        <td>13369</td>\n",
       "        <td>None</td>\n",
       "    </tr>\n",
       "    <tr>\n",
       "        <td>C00089136</td>\n",
       "        <td>PORTMAN FOR SENATE COMMITTEE</td>\n",
       "        <td>OH</td>\n",
       "        <td>None</td>\n",
       "        <td>2272015</td>\n",
       "        <td>1000.00</td>\n",
       "        <td>C00458463</td>\n",
       "        <td>4031120151240622514</td>\n",
       "        <td>COM_COM</td>\n",
       "        <td>3</td>\n",
       "        <td>127</td>\n",
       "        <td>16752</td>\n",
       "        <td>8</td>\n",
       "        <td>None</td>\n",
       "        <td>10004</td>\n",
       "        <td>None</td>\n",
       "    </tr>\n",
       "    <tr>\n",
       "        <td>C00089136</td>\n",
       "        <td>RENEE ELLMERS FOR CONGRESS COMMITTEE</td>\n",
       "        <td>NC</td>\n",
       "        <td>None</td>\n",
       "        <td>2272015</td>\n",
       "        <td>1000.00</td>\n",
       "        <td>C00471896</td>\n",
       "        <td>4031120151240622515</td>\n",
       "        <td>COM_COM</td>\n",
       "        <td>3</td>\n",
       "        <td>127</td>\n",
       "        <td>16752</td>\n",
       "        <td>108</td>\n",
       "        <td>None</td>\n",
       "        <td>789</td>\n",
       "        <td>None</td>\n",
       "    </tr>\n",
       "    <tr>\n",
       "        <td>C00089136</td>\n",
       "        <td>JASON SMITH FOR CONGRESS</td>\n",
       "        <td>MO</td>\n",
       "        <td>None</td>\n",
       "        <td>2272015</td>\n",
       "        <td>2000.00</td>\n",
       "        <td>C00541862</td>\n",
       "        <td>4031120151240622505</td>\n",
       "        <td>COM_COM</td>\n",
       "        <td>3</td>\n",
       "        <td>127</td>\n",
       "        <td>16752</td>\n",
       "        <td>107</td>\n",
       "        <td>None</td>\n",
       "        <td>1283</td>\n",
       "        <td>None</td>\n",
       "    </tr>\n",
       "    <tr>\n",
       "        <td>C00247569</td>\n",
       "        <td>TENN POLITICAL ACTION COMMITTEE</td>\n",
       "        <td>VA</td>\n",
       "        <td>None</td>\n",
       "        <td>2272015</td>\n",
       "        <td>5000.00</td>\n",
       "        <td>C00388421</td>\n",
       "        <td>4031920151240874690</td>\n",
       "        <td>COM_COM</td>\n",
       "        <td>3</td>\n",
       "        <td>127</td>\n",
       "        <td>2984</td>\n",
       "        <td>59</td>\n",
       "        <td>None</td>\n",
       "        <td>4022</td>\n",
       "        <td>None</td>\n",
       "    </tr>\n",
       "</table>"
      ],
      "text/plain": [
       "[('C00206136', 'KINZINGER FOR CONGRESS', 'VA', None, Decimal('2272015'), Decimal('2500.00'), 'C00458877', Decimal('4032020151240893826'), 'COM_COM', 3, 127, 3917, 59, None, 13369, None),\n",
       " ('C00089136', 'PORTMAN FOR SENATE COMMITTEE', 'OH', None, Decimal('2272015'), Decimal('1000.00'), 'C00458463', Decimal('4031120151240622514'), 'COM_COM', 3, 127, 16752, 8, None, 10004, None),\n",
       " ('C00089136', 'RENEE ELLMERS FOR CONGRESS COMMITTEE', 'NC', None, Decimal('2272015'), Decimal('1000.00'), 'C00471896', Decimal('4031120151240622515'), 'COM_COM', 3, 127, 16752, 108, None, 789, None),\n",
       " ('C00089136', 'JASON SMITH FOR CONGRESS', 'MO', None, Decimal('2272015'), Decimal('2000.00'), 'C00541862', Decimal('4031120151240622505'), 'COM_COM', 3, 127, 16752, 107, None, 1283, None),\n",
       " ('C00247569', 'TENN POLITICAL ACTION COMMITTEE', 'VA', None, Decimal('2272015'), Decimal('5000.00'), 'C00388421', Decimal('4031920151240874690'), 'COM_COM', 3, 127, 2984, 59, None, 4022, None)]"
      ]
     },
     "execution_count": 6,
     "metadata": {},
     "output_type": "execute_result"
    }
   ],
   "source": [
    "%%sql\n",
    "select * from contribution_fact_ref\n",
    "limit 5;"
   ]
  },
  {
   "cell_type": "code",
   "execution_count": null,
   "metadata": {},
   "outputs": [],
   "source": []
  },
  {
   "cell_type": "code",
   "execution_count": null,
   "metadata": {},
   "outputs": [],
   "source": []
  },
  {
   "cell_type": "markdown",
   "metadata": {},
   "source": [
    "## 5. Drop unused column"
   ]
  },
  {
   "cell_type": "code",
   "execution_count": 7,
   "metadata": {},
   "outputs": [
    {
     "name": "stdout",
     "output_type": "stream",
     "text": [
      " * postgresql://student@/final_project_yu\n",
      "Done.\n"
     ]
    },
    {
     "data": {
      "text/plain": [
       "[]"
      ]
     },
     "execution_count": 7,
     "metadata": {},
     "output_type": "execute_result"
    }
   ],
   "source": [
    "%%sql\n",
    "alter table contribution_fact_ref\n",
    "drop column cmte_id,\n",
    "drop column name,\n",
    "drop column state,\n",
    "drop column occupation,\n",
    "drop column transaction_dt,\n",
    "drop column other_id,\n",
    "drop column contribution_type,\n",
    ";"
   ]
  },
  {
   "cell_type": "code",
   "execution_count": 9,
   "metadata": {},
   "outputs": [
    {
     "name": "stdout",
     "output_type": "stream",
     "text": [
      " * postgresql://student@/final_project_yu\n",
      "5 rows affected.\n"
     ]
    },
    {
     "data": {
      "text/html": [
       "<table>\n",
       "    <tr>\n",
       "        <th>transaction_amt</th>\n",
       "        <th>sub_id</th>\n",
       "        <th>type_key</th>\n",
       "        <th>date_key</th>\n",
       "        <th>beneficiary_key</th>\n",
       "        <th>contributor_location_key</th>\n",
       "        <th>contributor_occupation_key</th>\n",
       "        <th>contributor_id_key</th>\n",
       "    </tr>\n",
       "    <tr>\n",
       "        <td>2500.00</td>\n",
       "        <td>4032020151240893826</td>\n",
       "        <td>3</td>\n",
       "        <td>127</td>\n",
       "        <td>3917</td>\n",
       "        <td>59</td>\n",
       "        <td>None</td>\n",
       "        <td>13369</td>\n",
       "    </tr>\n",
       "    <tr>\n",
       "        <td>1000.00</td>\n",
       "        <td>4031120151240622514</td>\n",
       "        <td>3</td>\n",
       "        <td>127</td>\n",
       "        <td>16752</td>\n",
       "        <td>8</td>\n",
       "        <td>None</td>\n",
       "        <td>10004</td>\n",
       "    </tr>\n",
       "    <tr>\n",
       "        <td>1000.00</td>\n",
       "        <td>4031120151240622515</td>\n",
       "        <td>3</td>\n",
       "        <td>127</td>\n",
       "        <td>16752</td>\n",
       "        <td>108</td>\n",
       "        <td>None</td>\n",
       "        <td>789</td>\n",
       "    </tr>\n",
       "    <tr>\n",
       "        <td>2000.00</td>\n",
       "        <td>4031120151240622505</td>\n",
       "        <td>3</td>\n",
       "        <td>127</td>\n",
       "        <td>16752</td>\n",
       "        <td>107</td>\n",
       "        <td>None</td>\n",
       "        <td>1283</td>\n",
       "    </tr>\n",
       "    <tr>\n",
       "        <td>5000.00</td>\n",
       "        <td>4031920151240874690</td>\n",
       "        <td>3</td>\n",
       "        <td>127</td>\n",
       "        <td>2984</td>\n",
       "        <td>59</td>\n",
       "        <td>None</td>\n",
       "        <td>4022</td>\n",
       "    </tr>\n",
       "</table>"
      ],
      "text/plain": [
       "[(Decimal('2500.00'), Decimal('4032020151240893826'), 3, 127, 3917, 59, None, 13369),\n",
       " (Decimal('1000.00'), Decimal('4031120151240622514'), 3, 127, 16752, 8, None, 10004),\n",
       " (Decimal('1000.00'), Decimal('4031120151240622515'), 3, 127, 16752, 108, None, 789),\n",
       " (Decimal('2000.00'), Decimal('4031120151240622505'), 3, 127, 16752, 107, None, 1283),\n",
       " (Decimal('5000.00'), Decimal('4031920151240874690'), 3, 127, 2984, 59, None, 4022)]"
      ]
     },
     "execution_count": 9,
     "metadata": {},
     "output_type": "execute_result"
    }
   ],
   "source": [
    "%%sql\n",
    "select * from contribution_fact_ref\n",
    "limit 5;"
   ]
  },
  {
   "cell_type": "markdown",
   "metadata": {},
   "source": [
    "__Change the name of table into standardized format:__\n",
    "+ Fact table - contribution_fact\n",
    "+ Dimension 1 - TYPE\n",
    "+ Dimension 2 - DATE\n",
    "+ Dimension 3 - BENEFICIARY\n",
    "+ Dimension 4 - CONTRIBUTOR_ID\n",
    "+ Dimension 5 - CONTIRBUTOR_OCCUPATION\n",
    "+ Dimension 6 - CONTRIBUTOR_LOCATION"
   ]
  },
  {
   "cell_type": "code",
   "execution_count": 10,
   "metadata": {},
   "outputs": [
    {
     "name": "stdout",
     "output_type": "stream",
     "text": [
      " * postgresql://student@/final_project_yu\n",
      "Done.\n"
     ]
    },
    {
     "data": {
      "text/plain": [
       "[]"
      ]
     },
     "execution_count": 10,
     "metadata": {},
     "output_type": "execute_result"
    }
   ],
   "source": [
    "%%sql\n",
    "alter table TYPE_V2 RENAME TO TYPE;"
   ]
  },
  {
   "cell_type": "code",
   "execution_count": 11,
   "metadata": {},
   "outputs": [
    {
     "name": "stdout",
     "output_type": "stream",
     "text": [
      " * postgresql://student@/final_project_yu\n",
      "Done.\n"
     ]
    },
    {
     "data": {
      "text/plain": [
       "[]"
      ]
     },
     "execution_count": 11,
     "metadata": {},
     "output_type": "execute_result"
    }
   ],
   "source": [
    "%%sql\n",
    "alter table DATE_V2 RENAME TO DATE;"
   ]
  },
  {
   "cell_type": "code",
   "execution_count": 12,
   "metadata": {},
   "outputs": [
    {
     "name": "stdout",
     "output_type": "stream",
     "text": [
      " * postgresql://student@/final_project_yu\n",
      "Done.\n"
     ]
    },
    {
     "data": {
      "text/plain": [
       "[]"
      ]
     },
     "execution_count": 12,
     "metadata": {},
     "output_type": "execute_result"
    }
   ],
   "source": [
    "%%sql\n",
    "alter table BENEFICIARY_V2 RENAME TO BENEFICIARY;"
   ]
  },
  {
   "cell_type": "code",
   "execution_count": 13,
   "metadata": {},
   "outputs": [
    {
     "name": "stdout",
     "output_type": "stream",
     "text": [
      " * postgresql://student@/final_project_yu\n",
      "Done.\n"
     ]
    },
    {
     "data": {
      "text/plain": [
       "[]"
      ]
     },
     "execution_count": 13,
     "metadata": {},
     "output_type": "execute_result"
    }
   ],
   "source": [
    "%%sql\n",
    "alter table CONTRIBUTION_FACT_REF RENAME TO CONTRIBUTION_FACT;"
   ]
  },
  {
   "cell_type": "markdown",
   "metadata": {},
   "source": [
    "__ __"
   ]
  },
  {
   "cell_type": "markdown",
   "metadata": {},
   "source": [
    "# Part C: Answer Question "
   ]
  },
  {
   "cell_type": "markdown",
   "metadata": {},
   "source": [
    "# Question 1: Candidates received most contribution by individual (top 5)"
   ]
  },
  {
   "cell_type": "markdown",
   "metadata": {},
   "source": [
    "## 1.1 - Total amount of contributions by individual\n",
    "\n",
    "### In year 2016"
   ]
  },
  {
   "cell_type": "code",
   "execution_count": 15,
   "metadata": {},
   "outputs": [
    {
     "name": "stdout",
     "output_type": "stream",
     "text": [
      " * postgresql://student@/final_project_yu\n",
      "5 rows affected.\n"
     ]
    },
    {
     "data": {
      "text/html": [
       "<table>\n",
       "    <tr>\n",
       "        <th>ttl_indiv_contrib</th>\n",
       "        <th>cand_name</th>\n",
       "        <th>cand_id</th>\n",
       "        <th>cmte_id</th>\n",
       "        <th>cand_pty_affiliation</th>\n",
       "    </tr>\n",
       "    <tr>\n",
       "        <td>405664230.47</td>\n",
       "        <td>CLINTON, HILLARY RODHAM / TIMOTHY MICHAEL KAINE</td>\n",
       "        <td>P00003392</td>\n",
       "        <td>C00577395</td>\n",
       "        <td>DEM</td>\n",
       "    </tr>\n",
       "    <tr>\n",
       "        <td>231815008.02</td>\n",
       "        <td>SANDERS, BERNARD</td>\n",
       "        <td>P60007168</td>\n",
       "        <td>C00588434</td>\n",
       "        <td>DEM</td>\n",
       "    </tr>\n",
       "    <tr>\n",
       "        <td>133622961.93</td>\n",
       "        <td>TRUMP, DONALD J.</td>\n",
       "        <td>P80001571</td>\n",
       "        <td>C00580100</td>\n",
       "        <td>REP</td>\n",
       "    </tr>\n",
       "    <tr>\n",
       "        <td>92036251.55</td>\n",
       "        <td>CRUZ, RAFAEL EDWARD &quot;TED&quot;</td>\n",
       "        <td>P60006111</td>\n",
       "        <td>C00615401</td>\n",
       "        <td>REP</td>\n",
       "    </tr>\n",
       "    <tr>\n",
       "        <td>63461402.63</td>\n",
       "        <td>CARSON, BENJAMIN S SR MD</td>\n",
       "        <td>P60005915</td>\n",
       "        <td>C00573519</td>\n",
       "        <td>REP</td>\n",
       "    </tr>\n",
       "</table>"
      ],
      "text/plain": [
       "[(Decimal('405664230.47'), 'CLINTON, HILLARY RODHAM / TIMOTHY MICHAEL KAINE', 'P00003392', 'C00577395', 'DEM'),\n",
       " (Decimal('231815008.02'), 'SANDERS, BERNARD', 'P60007168', 'C00588434', 'DEM'),\n",
       " (Decimal('133622961.93'), 'TRUMP, DONALD J.', 'P80001571', 'C00580100', 'REP'),\n",
       " (Decimal('92036251.55'), 'CRUZ, RAFAEL EDWARD \"TED\"', 'P60006111', 'C00615401', 'REP'),\n",
       " (Decimal('63461402.63'), 'CARSON, BENJAMIN S SR MD', 'P60005915', 'C00573519', 'REP')]"
      ]
     },
     "execution_count": 15,
     "metadata": {},
     "output_type": "execute_result"
    }
   ],
   "source": [
    "%%sql\n",
    "select TTL_INDIV_CONTRIB, cand.cand_name, cand.cand_id, cmte.cmte_id, e.CAND_PTY_AFFILIATION from all_candidate\n",
    "join coverage_year as c\n",
    "on c.coverage_year_key = all_candidate.coverage_year_key\n",
    "join candidate_info as cand\n",
    "on cand.info_key = all_candidate.info_key\n",
    "join cmte_link as cmte\n",
    "on cmte.cmte_link_key = all_candidate.cmte_link_key\n",
    "join election as e\n",
    "on e.election_key = all_candidate.election_key\n",
    "where c.year = 2016\n",
    "order by TTL_INDIV_CONTRIB desc\n",
    "limit 5;"
   ]
  },
  {
   "cell_type": "markdown",
   "metadata": {},
   "source": [
    "### In year 2020"
   ]
  },
  {
   "cell_type": "code",
   "execution_count": 16,
   "metadata": {},
   "outputs": [
    {
     "name": "stdout",
     "output_type": "stream",
     "text": [
      " * postgresql://student@/final_project_yu\n",
      "5 rows affected.\n"
     ]
    },
    {
     "data": {
      "text/html": [
       "<table>\n",
       "    <tr>\n",
       "        <th>ttl_indiv_contrib</th>\n",
       "        <th>cand_name</th>\n",
       "        <th>cand_id</th>\n",
       "        <th>cmte_id</th>\n",
       "        <th>cand_pty_affiliation</th>\n",
       "    </tr>\n",
       "    <tr>\n",
       "        <td>719798548.33</td>\n",
       "        <td>BIDEN, JOSEPH R JR</td>\n",
       "        <td>P80000722</td>\n",
       "        <td>C00703975</td>\n",
       "        <td>DEM</td>\n",
       "    </tr>\n",
       "    <tr>\n",
       "        <td>316611498.84</td>\n",
       "        <td>TRUMP, DONALD J.</td>\n",
       "        <td>P80001571</td>\n",
       "        <td>C00580100</td>\n",
       "        <td>REP</td>\n",
       "    </tr>\n",
       "    <tr>\n",
       "        <td>202554495.98</td>\n",
       "        <td>SANDERS, BERNARD</td>\n",
       "        <td>P60007168</td>\n",
       "        <td>C00588434</td>\n",
       "        <td>DEM</td>\n",
       "    </tr>\n",
       "    <tr>\n",
       "        <td>115892704.99</td>\n",
       "        <td>WARREN, ELIZABETH</td>\n",
       "        <td>P00009621</td>\n",
       "        <td>C00693234</td>\n",
       "        <td>DEM</td>\n",
       "    </tr>\n",
       "    <tr>\n",
       "        <td>107645931.99</td>\n",
       "        <td>HARRISON, JAIME</td>\n",
       "        <td>S0SC00289</td>\n",
       "        <td>C00696153</td>\n",
       "        <td>DEM</td>\n",
       "    </tr>\n",
       "</table>"
      ],
      "text/plain": [
       "[(Decimal('719798548.33'), 'BIDEN, JOSEPH R JR', 'P80000722', 'C00703975', 'DEM'),\n",
       " (Decimal('316611498.84'), 'TRUMP, DONALD J.', 'P80001571', 'C00580100', 'REP'),\n",
       " (Decimal('202554495.98'), 'SANDERS, BERNARD', 'P60007168', 'C00588434', 'DEM'),\n",
       " (Decimal('115892704.99'), 'WARREN, ELIZABETH', 'P00009621', 'C00693234', 'DEM'),\n",
       " (Decimal('107645931.99'), 'HARRISON, JAIME', 'S0SC00289', 'C00696153', 'DEM')]"
      ]
     },
     "execution_count": 16,
     "metadata": {},
     "output_type": "execute_result"
    }
   ],
   "source": [
    "%%sql\n",
    "select TTL_INDIV_CONTRIB, cand.cand_name, cand.cand_id, cmte.cmte_id, e.CAND_PTY_AFFILIATION from all_candidate\n",
    "join coverage_year as c\n",
    "on c.coverage_year_key = all_candidate.coverage_year_key\n",
    "join candidate_info as cand\n",
    "on cand.info_key = all_candidate.info_key\n",
    "join cmte_link as cmte\n",
    "on cmte.cmte_link_key = all_candidate.cmte_link_key\n",
    "join election as e\n",
    "on e.election_key = all_candidate.election_key\n",
    "where c.year = 2020\n",
    "order by TTL_INDIV_CONTRIB desc\n",
    "limit 5;"
   ]
  },
  {
   "cell_type": "markdown",
   "metadata": {},
   "source": [
    "__Compare with year 2016 and year 2020:__\n",
    "+ Since 2020 is the mid-term president election, that is why 4 out 5 for in list 2020 is democratic candidiate while 2016 list have both republican and democrat candidate.\n",
    "+ Although we have convid_19 in 2020, the total individual contribution amount does not seem  to be affected by the pandemic. On the contrary, the amounts recevied by each candidate in top 5 are way larger than that of in year 2016 viewing from ranking.\n",
    "+ Specifically, if we compare Biden's amount 719798548.33 and Trump's amount 316611498.84. Biden received almost double than Trump.\n",
    "+ If comparing Trump's individual contribution receipts, he gain more in year 2020 than in year 2016. In year 2020, he received 719798548.33 and in year 2016, he received 316611498.84.\n"
   ]
  },
  {
   "cell_type": "markdown",
   "metadata": {},
   "source": [
    "|Total indiv contribution | Year 2020          | Year 2016                |\n",
    "|-------------------------|--------------------|--------------------------|\n",
    "|No. 1                    | BIDEN, JOSEPH R JR | CLINTON, HILLARY RODHAM  |\n",
    "|No. 2                    | TRUMP, DONALD J.   | SANDERS, BERNARD         |\n",
    "|No. 3                    | SANDERS, BERNARD   | TRUMP, DONALD J.         |\n",
    "|No. 4                    | WARREN, ELIZABETH  | CRUZ, RAFAEL EDWARD \"TED\"|\n",
    "|No. 5                    | HARRISON, JAIME    | CARSON, BENJAMIN S SR MD |"
   ]
  },
  {
   "cell_type": "markdown",
   "metadata": {},
   "source": [
    "## 1.2 - 2020 Biden vs Trump Break out - By Swing states and By Regions\n",
    "\n",
    "### Preparation\n",
    "__We want to use the Committee_ID of Trump, Clinton and Biden to look into the detail of contribution breakdown.__ "
   ]
  },
  {
   "cell_type": "code",
   "execution_count": 54,
   "metadata": {},
   "outputs": [
    {
     "name": "stdout",
     "output_type": "stream",
     "text": [
      " * postgresql://student@/final_project_yu\n",
      "3 rows affected.\n"
     ]
    },
    {
     "data": {
      "text/html": [
       "<table>\n",
       "    <tr>\n",
       "        <th>cmte_id</th>\n",
       "        <th>cand_name</th>\n",
       "    </tr>\n",
       "    <tr>\n",
       "        <td>C00358895</td>\n",
       "        <td>CLINTON, HILLARY RODHAM</td>\n",
       "    </tr>\n",
       "    <tr>\n",
       "        <td>C00577395</td>\n",
       "        <td>CLINTON, HILLARY RODHAM / TIMOTHY MICHAEL KAINE</td>\n",
       "    </tr>\n",
       "    <tr>\n",
       "        <td>C00706762</td>\n",
       "        <td>MORGAN, CLINTON WESLEY</td>\n",
       "    </tr>\n",
       "</table>"
      ],
      "text/plain": [
       "[('C00358895', 'CLINTON, HILLARY RODHAM'),\n",
       " ('C00577395', 'CLINTON, HILLARY RODHAM / TIMOTHY MICHAEL KAINE'),\n",
       " ('C00706762', 'MORGAN, CLINTON WESLEY')]"
      ]
     },
     "execution_count": 54,
     "metadata": {},
     "output_type": "execute_result"
    }
   ],
   "source": [
    "%%sql\n",
    "select distinct CMTE_ID, CAND_NAME from ALL_CANDIDATE\n",
    "join cmte_link as c\n",
    "on c.cmte_link_key = ALL_CANDIDATE.cmte_link_key\n",
    "join candidate_info as cand\n",
    "on cand.info_key  = ALL_CANDIDATE.info_key\n",
    "where cand.CAND_NAME LIKE '%CLINTON%'"
   ]
  },
  {
   "cell_type": "code",
   "execution_count": 55,
   "metadata": {},
   "outputs": [
    {
     "name": "stdout",
     "output_type": "stream",
     "text": [
      " * postgresql://student@/final_project_yu\n",
      "2 rows affected.\n"
     ]
    },
    {
     "data": {
      "text/html": [
       "<table>\n",
       "    <tr>\n",
       "        <th>cmte_id</th>\n",
       "        <th>cand_name</th>\n",
       "    </tr>\n",
       "    <tr>\n",
       "        <td>C00431445</td>\n",
       "        <td>OBAMA, BARACK / JOSEPH R. BIDEN</td>\n",
       "    </tr>\n",
       "    <tr>\n",
       "        <td>C00703975</td>\n",
       "        <td>BIDEN, JOSEPH R JR</td>\n",
       "    </tr>\n",
       "</table>"
      ],
      "text/plain": [
       "[('C00431445', 'OBAMA, BARACK / JOSEPH R. BIDEN'),\n",
       " ('C00703975', 'BIDEN, JOSEPH R JR')]"
      ]
     },
     "execution_count": 55,
     "metadata": {},
     "output_type": "execute_result"
    }
   ],
   "source": [
    "%%sql\n",
    "select distinct CMTE_ID, CAND_NAME from ALL_CANDIDATE\n",
    "join cmte_link as c\n",
    "on c.cmte_link_key = ALL_CANDIDATE.cmte_link_key\n",
    "join candidate_info as cand\n",
    "on cand.info_key  = ALL_CANDIDATE.info_key\n",
    "where cand.CAND_NAME LIKE '%BIDEN%'"
   ]
  },
  {
   "cell_type": "code",
   "execution_count": 56,
   "metadata": {},
   "outputs": [
    {
     "name": "stdout",
     "output_type": "stream",
     "text": [
      " * postgresql://student@/final_project_yu\n",
      "1 rows affected.\n"
     ]
    },
    {
     "data": {
      "text/html": [
       "<table>\n",
       "    <tr>\n",
       "        <th>cmte_id</th>\n",
       "        <th>cand_name</th>\n",
       "    </tr>\n",
       "    <tr>\n",
       "        <td>C00580100</td>\n",
       "        <td>TRUMP, DONALD J.</td>\n",
       "    </tr>\n",
       "</table>"
      ],
      "text/plain": [
       "[('C00580100', 'TRUMP, DONALD J.')]"
      ]
     },
     "execution_count": 56,
     "metadata": {},
     "output_type": "execute_result"
    }
   ],
   "source": [
    "%%sql\n",
    "select distinct CMTE_ID, CAND_NAME from ALL_CANDIDATE\n",
    "join cmte_link as c\n",
    "on c.cmte_link_key = ALL_CANDIDATE.cmte_link_key\n",
    "join candidate_info as cand\n",
    "on cand.info_key  = ALL_CANDIDATE.info_key\n",
    "where cand.CAND_NAME LIKE '%TRUMP%'"
   ]
  },
  {
   "cell_type": "markdown",
   "metadata": {},
   "source": [
    "__We also want to check out that how many contirbutions are maded by individual and among those individuals how many reveal they state information__ "
   ]
  },
  {
   "cell_type": "code",
   "execution_count": 6,
   "metadata": {},
   "outputs": [
    {
     "name": "stdout",
     "output_type": "stream",
     "text": [
      " * postgresql://student@/final_project_yu\n",
      "1 rows affected.\n"
     ]
    },
    {
     "data": {
      "text/html": [
       "<table>\n",
       "    <tr>\n",
       "        <th>count</th>\n",
       "    </tr>\n",
       "    <tr>\n",
       "        <td>53765647</td>\n",
       "    </tr>\n",
       "</table>"
      ],
      "text/plain": [
       "[(53765647,)]"
      ]
     },
     "execution_count": 6,
     "metadata": {},
     "output_type": "execute_result"
    }
   ],
   "source": [
    "%%sql\n",
    "select count(*) from contribution_fact\n",
    "join TYPE as t\n",
    "on t.type_key = contribution_fact.type_key\n",
    "where t.contribution_type = 'IND_COM';"
   ]
  },
  {
   "cell_type": "code",
   "execution_count": 7,
   "metadata": {},
   "outputs": [
    {
     "name": "stdout",
     "output_type": "stream",
     "text": [
      " * postgresql://student@/final_project_yu\n",
      "1 rows affected.\n"
     ]
    },
    {
     "data": {
      "text/html": [
       "<table>\n",
       "    <tr>\n",
       "        <th>count</th>\n",
       "    </tr>\n",
       "    <tr>\n",
       "        <td>53731715</td>\n",
       "    </tr>\n",
       "</table>"
      ],
      "text/plain": [
       "[(53731715,)]"
      ]
     },
     "execution_count": 7,
     "metadata": {},
     "output_type": "execute_result"
    }
   ],
   "source": [
    "%%sql\n",
    "select count(*) from contribution_fact\n",
    "join TYPE as t\n",
    "on t.type_key = contribution_fact.type_key\n",
    "where t.contribution_type = 'IND_COM' and contributor_location_key is not null;"
   ]
  },
  {
   "cell_type": "code",
   "execution_count": 8,
   "metadata": {},
   "outputs": [
    {
     "data": {
      "text/plain": [
       "0.9993688906970654"
      ]
     },
     "execution_count": 8,
     "metadata": {},
     "output_type": "execute_result"
    }
   ],
   "source": [
    "53731715/53765647"
   ]
  },
  {
   "cell_type": "markdown",
   "metadata": {},
   "source": [
    "__We could see that 99.94% of the individual contributor has been recorded with state information. We therefore could say that our analysis on contribution breakdown by state and region is meaningful.__"
   ]
  },
  {
   "cell_type": "markdown",
   "metadata": {},
   "source": [
    "### a. Digging on Swing States\n",
    "\n",
    "The inclusion of Swing States is based on website ‘https://www.marieclaire.com/politics/a31142244/swing-states-2020-election/’ in which we are going to consider:\n",
    "+ AZ - Arizona\n",
    "+ CO - Colorado\n",
    "+ FL - Florida\n",
    "+ GA - Georgia\n",
    "+ IA - Iowa\n",
    "+ MI - Michigan\n",
    "+ MN - Minnesota\n",
    "+ NE - Nebraska\n",
    "+ NH - New Hampshire\n",
    "+ NC - North Carolina\n",
    "+ PA - Pennsylvania\n",
    "+ VA - Virginia\n",
    "+ WI - Wisconsin"
   ]
  },
  {
   "cell_type": "markdown",
   "metadata": {},
   "source": [
    "#### Trump"
   ]
  },
  {
   "cell_type": "code",
   "execution_count": 78,
   "metadata": {},
   "outputs": [
    {
     "name": "stdout",
     "output_type": "stream",
     "text": [
      " * postgresql://student@/final_project_yu\n",
      "13 rows affected.\n"
     ]
    },
    {
     "data": {
      "text/html": [
       "<table>\n",
       "    <tr>\n",
       "        <th>sum</th>\n",
       "        <th>state</th>\n",
       "    </tr>\n",
       "    <tr>\n",
       "        <td>3340795.00</td>\n",
       "        <td>AZ</td>\n",
       "    </tr>\n",
       "    <tr>\n",
       "        <td>2375302.00</td>\n",
       "        <td>CO</td>\n",
       "    </tr>\n",
       "    <tr>\n",
       "        <td>10932804.00</td>\n",
       "        <td>FL</td>\n",
       "    </tr>\n",
       "    <tr>\n",
       "        <td>3562640.00</td>\n",
       "        <td>GA</td>\n",
       "    </tr>\n",
       "    <tr>\n",
       "        <td>675012.00</td>\n",
       "        <td>IA</td>\n",
       "    </tr>\n",
       "    <tr>\n",
       "        <td>2636786.00</td>\n",
       "        <td>MI</td>\n",
       "    </tr>\n",
       "    <tr>\n",
       "        <td>1409440.00</td>\n",
       "        <td>MN</td>\n",
       "    </tr>\n",
       "    <tr>\n",
       "        <td>2860235.00</td>\n",
       "        <td>NC</td>\n",
       "    </tr>\n",
       "    <tr>\n",
       "        <td>507518.00</td>\n",
       "        <td>NE</td>\n",
       "    </tr>\n",
       "    <tr>\n",
       "        <td>427061.00</td>\n",
       "        <td>NH</td>\n",
       "    </tr>\n",
       "    <tr>\n",
       "        <td>3224306.00</td>\n",
       "        <td>PA</td>\n",
       "    </tr>\n",
       "    <tr>\n",
       "        <td>32485681.00</td>\n",
       "        <td>VA</td>\n",
       "    </tr>\n",
       "    <tr>\n",
       "        <td>1402660.00</td>\n",
       "        <td>WI</td>\n",
       "    </tr>\n",
       "</table>"
      ],
      "text/plain": [
       "[(Decimal('3340795.00'), 'AZ'),\n",
       " (Decimal('2375302.00'), 'CO'),\n",
       " (Decimal('10932804.00'), 'FL'),\n",
       " (Decimal('3562640.00'), 'GA'),\n",
       " (Decimal('675012.00'), 'IA'),\n",
       " (Decimal('2636786.00'), 'MI'),\n",
       " (Decimal('1409440.00'), 'MN'),\n",
       " (Decimal('2860235.00'), 'NC'),\n",
       " (Decimal('507518.00'), 'NE'),\n",
       " (Decimal('427061.00'), 'NH'),\n",
       " (Decimal('3224306.00'), 'PA'),\n",
       " (Decimal('32485681.00'), 'VA'),\n",
       " (Decimal('1402660.00'), 'WI')]"
      ]
     },
     "execution_count": 78,
     "metadata": {},
     "output_type": "execute_result"
    }
   ],
   "source": [
    "%%sql\n",
    "select sum(transaction_amt),l.state  from contribution_fact\n",
    "join contributor_location as l\n",
    "on l.contributor_location_key = contribution_fact.contributor_location_key\n",
    "join beneficiary as b\n",
    "on b.BENEFICIARY_KEY = contribution_fact.BENEFICIARY_KEY\n",
    "join date as d\n",
    "on d.date_key = contribution_fact.date_key\n",
    "join TYPE as t\n",
    "on t.type_key = contribution_fact.type_key\n",
    "where d.year = 2020 and b.cmte_id = 'C00580100' and t.contribution_type = 'IND_COM' \n",
    "and l.state in ('AZ','CO','FL','GA','IA','MI','MN','NE','NH','NC','PA','VA','WI')\n",
    "group by l.state\n",
    "order by l.state\n",
    ";"
   ]
  },
  {
   "cell_type": "markdown",
   "metadata": {},
   "source": [
    "#### Biden"
   ]
  },
  {
   "cell_type": "code",
   "execution_count": 79,
   "metadata": {},
   "outputs": [
    {
     "name": "stdout",
     "output_type": "stream",
     "text": [
      " * postgresql://student@/final_project_yu\n",
      "13 rows affected.\n"
     ]
    },
    {
     "data": {
      "text/html": [
       "<table>\n",
       "    <tr>\n",
       "        <th>sum</th>\n",
       "        <th>state</th>\n",
       "    </tr>\n",
       "    <tr>\n",
       "        <td>5801123.00</td>\n",
       "        <td>AZ</td>\n",
       "    </tr>\n",
       "    <tr>\n",
       "        <td>10065836.00</td>\n",
       "        <td>CO</td>\n",
       "    </tr>\n",
       "    <tr>\n",
       "        <td>18994947.00</td>\n",
       "        <td>FL</td>\n",
       "    </tr>\n",
       "    <tr>\n",
       "        <td>6830479.00</td>\n",
       "        <td>GA</td>\n",
       "    </tr>\n",
       "    <tr>\n",
       "        <td>1671397.00</td>\n",
       "        <td>IA</td>\n",
       "    </tr>\n",
       "    <tr>\n",
       "        <td>7210062.00</td>\n",
       "        <td>MI</td>\n",
       "    </tr>\n",
       "    <tr>\n",
       "        <td>6261664.00</td>\n",
       "        <td>MN</td>\n",
       "    </tr>\n",
       "    <tr>\n",
       "        <td>8380757.00</td>\n",
       "        <td>NC</td>\n",
       "    </tr>\n",
       "    <tr>\n",
       "        <td>823380.00</td>\n",
       "        <td>NE</td>\n",
       "    </tr>\n",
       "    <tr>\n",
       "        <td>2069673.00</td>\n",
       "        <td>NH</td>\n",
       "    </tr>\n",
       "    <tr>\n",
       "        <td>13998377.00</td>\n",
       "        <td>PA</td>\n",
       "    </tr>\n",
       "    <tr>\n",
       "        <td>14547968.00</td>\n",
       "        <td>VA</td>\n",
       "    </tr>\n",
       "    <tr>\n",
       "        <td>3702043.00</td>\n",
       "        <td>WI</td>\n",
       "    </tr>\n",
       "</table>"
      ],
      "text/plain": [
       "[(Decimal('5801123.00'), 'AZ'),\n",
       " (Decimal('10065836.00'), 'CO'),\n",
       " (Decimal('18994947.00'), 'FL'),\n",
       " (Decimal('6830479.00'), 'GA'),\n",
       " (Decimal('1671397.00'), 'IA'),\n",
       " (Decimal('7210062.00'), 'MI'),\n",
       " (Decimal('6261664.00'), 'MN'),\n",
       " (Decimal('8380757.00'), 'NC'),\n",
       " (Decimal('823380.00'), 'NE'),\n",
       " (Decimal('2069673.00'), 'NH'),\n",
       " (Decimal('13998377.00'), 'PA'),\n",
       " (Decimal('14547968.00'), 'VA'),\n",
       " (Decimal('3702043.00'), 'WI')]"
      ]
     },
     "execution_count": 79,
     "metadata": {},
     "output_type": "execute_result"
    }
   ],
   "source": [
    "%%sql\n",
    "select sum(transaction_amt),l.state  from contribution_fact\n",
    "join contributor_location as l\n",
    "on l.contributor_location_key = contribution_fact.contributor_location_key\n",
    "join beneficiary as b\n",
    "on b.BENEFICIARY_KEY = contribution_fact.BENEFICIARY_KEY\n",
    "join date as d\n",
    "on d.date_key = contribution_fact.date_key\n",
    "join TYPE as t\n",
    "on t.type_key = contribution_fact.type_key\n",
    "where d.year = 2020 and b.cmte_id = 'C00703975' and t.contribution_type = 'IND_COM' \n",
    "and l.state in ('AZ','CO','FL','GA','IA','MI','MN','NE','NH','NC','PA','VA','WI')\n",
    "group by l.state\n",
    "order by l.state\n",
    ";"
   ]
  },
  {
   "cell_type": "code",
   "execution_count": 3,
   "metadata": {},
   "outputs": [
    {
     "data": {
      "text/html": [
       "<img src=\"https://raw.githubusercontent.com/rainieluo2016/ISTM_6212/main/swing.png\"/>"
      ],
      "text/plain": [
       "<IPython.core.display.Image object>"
      ]
     },
     "execution_count": 3,
     "metadata": {},
     "output_type": "execute_result"
    }
   ],
   "source": [
    "from IPython.display import Image\n",
    "Image(url = 'https://raw.githubusercontent.com/rainieluo2016/ISTM_6212/main/swing.png')\n"
   ]
  },
  {
   "cell_type": "markdown",
   "metadata": {},
   "source": [
    "+ We could see that generally speaking Biden received more funds from individual than Trump except for VA.\n",
    "+ Consider the wealthiness of each state and different type of the supporters, receveid more funds from individual does not necessary represent that more supports"
   ]
  },
  {
   "cell_type": "markdown",
   "metadata": {},
   "source": [
    "### b. By Region\n",
    "#### Trump"
   ]
  },
  {
   "cell_type": "code",
   "execution_count": 62,
   "metadata": {},
   "outputs": [
    {
     "name": "stdout",
     "output_type": "stream",
     "text": [
      " * postgresql://student@/final_project_yu\n",
      "5 rows affected.\n"
     ]
    },
    {
     "data": {
      "text/html": [
       "<table>\n",
       "    <tr>\n",
       "        <th>sum</th>\n",
       "        <th>region</th>\n",
       "    </tr>\n",
       "    <tr>\n",
       "        <td>16768291.00</td>\n",
       "        <td>Midwest</td>\n",
       "    </tr>\n",
       "    <tr>\n",
       "        <td>86253.00</td>\n",
       "        <td>None</td>\n",
       "    </tr>\n",
       "    <tr>\n",
       "        <td>12657487.00</td>\n",
       "        <td>Northeast</td>\n",
       "    </tr>\n",
       "    <tr>\n",
       "        <td>75851310.00</td>\n",
       "        <td>South</td>\n",
       "    </tr>\n",
       "    <tr>\n",
       "        <td>29063029.00</td>\n",
       "        <td>West</td>\n",
       "    </tr>\n",
       "</table>"
      ],
      "text/plain": [
       "[(Decimal('16768291.00'), 'Midwest'),\n",
       " (Decimal('86253.00'), 'None'),\n",
       " (Decimal('12657487.00'), 'Northeast'),\n",
       " (Decimal('75851310.00'), 'South'),\n",
       " (Decimal('29063029.00'), 'West')]"
      ]
     },
     "execution_count": 62,
     "metadata": {},
     "output_type": "execute_result"
    }
   ],
   "source": [
    "%%sql\n",
    "select sum(transaction_amt),l.region  from contribution_fact\n",
    "join contributor_location as l\n",
    "on l.contributor_location_key = contribution_fact.contributor_location_key\n",
    "join beneficiary as b\n",
    "on b.BENEFICIARY_KEY = contribution_fact.BENEFICIARY_KEY\n",
    "join date as d\n",
    "on d.date_key = contribution_fact.date_key\n",
    "join TYPE as t\n",
    "on t.type_key = contribution_fact.type_key\n",
    "where d.year = 2020 and b.cmte_id = 'C00580100' and t.contribution_type = 'IND_COM'\n",
    "group by l.region\n",
    "order by l.region\n",
    ";"
   ]
  },
  {
   "cell_type": "markdown",
   "metadata": {},
   "source": [
    "#### Biden"
   ]
  },
  {
   "cell_type": "code",
   "execution_count": 63,
   "metadata": {},
   "outputs": [
    {
     "name": "stdout",
     "output_type": "stream",
     "text": [
      " * postgresql://student@/final_project_yu\n",
      "5 rows affected.\n"
     ]
    },
    {
     "data": {
      "text/html": [
       "<table>\n",
       "    <tr>\n",
       "        <th>sum</th>\n",
       "        <th>region</th>\n",
       "    </tr>\n",
       "    <tr>\n",
       "        <td>49687643.00</td>\n",
       "        <td>Midwest</td>\n",
       "    </tr>\n",
       "    <tr>\n",
       "        <td>1804885.00</td>\n",
       "        <td>None</td>\n",
       "    </tr>\n",
       "    <tr>\n",
       "        <td>96426838.00</td>\n",
       "        <td>Northeast</td>\n",
       "    </tr>\n",
       "    <tr>\n",
       "        <td>109686051.00</td>\n",
       "        <td>South</td>\n",
       "    </tr>\n",
       "    <tr>\n",
       "        <td>135784838.00</td>\n",
       "        <td>West</td>\n",
       "    </tr>\n",
       "</table>"
      ],
      "text/plain": [
       "[(Decimal('49687643.00'), 'Midwest'),\n",
       " (Decimal('1804885.00'), 'None'),\n",
       " (Decimal('96426838.00'), 'Northeast'),\n",
       " (Decimal('109686051.00'), 'South'),\n",
       " (Decimal('135784838.00'), 'West')]"
      ]
     },
     "execution_count": 63,
     "metadata": {},
     "output_type": "execute_result"
    }
   ],
   "source": [
    "%%sql\n",
    "select sum(transaction_amt),l.region  from contribution_fact\n",
    "join contributor_location as l\n",
    "on l.contributor_location_key = contribution_fact.contributor_location_key\n",
    "join beneficiary as b\n",
    "on b.BENEFICIARY_KEY = contribution_fact.BENEFICIARY_KEY\n",
    "join date as d\n",
    "on d.date_key = contribution_fact.date_key\n",
    "join TYPE as t\n",
    "on t.type_key = contribution_fact.type_key\n",
    "where d.year = 2020 and b.cmte_id = 'C00703975' and t.contribution_type = 'IND_COM'\n",
    "group by l.region\n",
    "order by l.region\n",
    ";"
   ]
  },
  {
   "cell_type": "markdown",
   "metadata": {},
   "source": [
    "__Conclusion__\n",
    "\n",
    "+ For __Trump__, the order from most to least based on individual contribution amount is __South > West > Midwest > Northeast__\n",
    "    + The result is reasonable because most of the South region is under control of Republicans.\n",
    "\n",
    "\n",
    "\n",
    "+ For __Biden__, the order from most to least based on individual contribution amount is __West > South > Northeast > Midwest.__\n",
    "    + From the election result this year, Biden takes all west coast states. Therefore, Biden recevied most inidividual contribution from West is reasonable."
   ]
  },
  {
   "cell_type": "markdown",
   "metadata": {},
   "source": [
    "### 1.3 Compare contribution from individual received by Trump in Year 2020 and 2016 among regions"
   ]
  },
  {
   "cell_type": "code",
   "execution_count": 64,
   "metadata": {},
   "outputs": [
    {
     "name": "stdout",
     "output_type": "stream",
     "text": [
      " * postgresql://student@/final_project_yu\n",
      "5 rows affected.\n"
     ]
    },
    {
     "data": {
      "text/html": [
       "<table>\n",
       "    <tr>\n",
       "        <th>sum</th>\n",
       "        <th>region</th>\n",
       "    </tr>\n",
       "    <tr>\n",
       "        <td>7476911.00</td>\n",
       "        <td>Midwest</td>\n",
       "    </tr>\n",
       "    <tr>\n",
       "        <td>62697.00</td>\n",
       "        <td>None</td>\n",
       "    </tr>\n",
       "    <tr>\n",
       "        <td>24952422.00</td>\n",
       "        <td>Northeast</td>\n",
       "    </tr>\n",
       "    <tr>\n",
       "        <td>22764873.00</td>\n",
       "        <td>South</td>\n",
       "    </tr>\n",
       "    <tr>\n",
       "        <td>11720387.00</td>\n",
       "        <td>West</td>\n",
       "    </tr>\n",
       "</table>"
      ],
      "text/plain": [
       "[(Decimal('7476911.00'), 'Midwest'),\n",
       " (Decimal('62697.00'), 'None'),\n",
       " (Decimal('24952422.00'), 'Northeast'),\n",
       " (Decimal('22764873.00'), 'South'),\n",
       " (Decimal('11720387.00'), 'West')]"
      ]
     },
     "execution_count": 64,
     "metadata": {},
     "output_type": "execute_result"
    }
   ],
   "source": [
    "%%sql\n",
    "select sum(transaction_amt),l.region  from contribution_fact\n",
    "join contributor_location as l\n",
    "on l.contributor_location_key = contribution_fact.contributor_location_key\n",
    "join beneficiary as b\n",
    "on b.BENEFICIARY_KEY = contribution_fact.BENEFICIARY_KEY\n",
    "join date as d\n",
    "on d.date_key = contribution_fact.date_key\n",
    "join TYPE as t\n",
    "on t.type_key = contribution_fact.type_key\n",
    "where d.year = 2016 and b.cmte_id = 'C00580100' and t.contribution_type = 'IND_COM'\n",
    "group by l.region\n",
    "order by l.region\n",
    ";"
   ]
  },
  {
   "cell_type": "markdown",
   "metadata": {},
   "source": [
    "__Conclusion:__\n",
    "+ The ranking from high to low of total individual contribution received by Trump among regions is __Northeast > South > West > Midwest__ in year __2016__. Let's recope the ranking from year 2020: __South > West > Midwest > Northeast__.\n",
    "    + We could see that Northeast dropped from the top to the least from year 2016 to year 2020.\n",
    "    + Based on region explanation, Northeast contains Connecticut, Maine, Massachusetts, New Hampshire, Rhode Island, Vermont, New Jersey, New York, and Pennsylvania\n",
    "\n",
    "\n",
    "+ From the result we could see that, Trump gain more contributions by individual from Midwest, South and West in year 2020 compared with that of 2016. Northeast has less contributions in year 2020. "
   ]
  },
  {
   "cell_type": "markdown",
   "metadata": {},
   "source": [
    "__ __"
   ]
  },
  {
   "cell_type": "markdown",
   "metadata": {},
   "source": [
    "## Question 2 - Top 5 Committees that received most funds"
   ]
  },
  {
   "cell_type": "markdown",
   "metadata": {},
   "source": [
    "### 1. In Year 2016"
   ]
  },
  {
   "cell_type": "code",
   "execution_count": 74,
   "metadata": {},
   "outputs": [
    {
     "name": "stdout",
     "output_type": "stream",
     "text": [
      " * postgresql://student@/final_project_yu\n",
      "5 rows affected.\n"
     ]
    },
    {
     "data": {
      "text/html": [
       "<table>\n",
       "    <tr>\n",
       "        <th>sum_amount</th>\n",
       "        <th>cmte_id</th>\n",
       "        <th>cmte_name</th>\n",
       "        <th>cmte_pty_affiliation</th>\n",
       "    </tr>\n",
       "    <tr>\n",
       "        <td>762234257.00</td>\n",
       "        <td>C00586537</td>\n",
       "        <td>HILLARY VICTORY FUND</td>\n",
       "        <td>None</td>\n",
       "    </tr>\n",
       "    <tr>\n",
       "        <td>532313694.00</td>\n",
       "        <td>C00010603</td>\n",
       "        <td>DNC SERVICES CORP / DEMOCRATIC NATIONAL COMMITTEE</td>\n",
       "        <td>DEM</td>\n",
       "    </tr>\n",
       "    <tr>\n",
       "        <td>499011630.00</td>\n",
       "        <td>C00575795</td>\n",
       "        <td>HILLARY FOR AMERICA</td>\n",
       "        <td>DEM</td>\n",
       "    </tr>\n",
       "    <tr>\n",
       "        <td>306309619.00</td>\n",
       "        <td>C00003418</td>\n",
       "        <td>REPUBLICAN NATIONAL COMMITTEE</td>\n",
       "        <td>REP</td>\n",
       "    </tr>\n",
       "    <tr>\n",
       "        <td>300202434.00</td>\n",
       "        <td>C00495861</td>\n",
       "        <td>PRIORITIES USA ACTION</td>\n",
       "        <td>None</td>\n",
       "    </tr>\n",
       "</table>"
      ],
      "text/plain": [
       "[(Decimal('762234257.00'), 'C00586537', 'HILLARY VICTORY FUND', None),\n",
       " (Decimal('532313694.00'), 'C00010603', 'DNC SERVICES CORP / DEMOCRATIC NATIONAL COMMITTEE', 'DEM'),\n",
       " (Decimal('499011630.00'), 'C00575795', 'HILLARY FOR AMERICA', 'DEM'),\n",
       " (Decimal('306309619.00'), 'C00003418', 'REPUBLICAN NATIONAL COMMITTEE', 'REP'),\n",
       " (Decimal('300202434.00'), 'C00495861', 'PRIORITIES USA ACTION', None)]"
      ]
     },
     "execution_count": 74,
     "metadata": {},
     "output_type": "execute_result"
    }
   ],
   "source": [
    "%%sql\n",
    "select sum(TRANSACTION_AMT) as sum_amount , b.CMTE_ID, b.CMTE_NAME, b.CMTE_PTY_AFFILIATION from contribution_fact\n",
    "\n",
    "join beneficiary as b\n",
    "on b.BENEFICIARY_KEY = contribution_fact.BENEFICIARY_KEY\n",
    "\n",
    "join date as d\n",
    "on d.date_key = contribution_fact.date_key\n",
    "\n",
    "join TYPE as t\n",
    "on t.type_key = contribution_fact.type_key\n",
    "\n",
    "where d.year = 2016 \n",
    "and t.contribution_type != 'COM_CAN'\n",
    "group by b.CMTE_ID, B.CMTE_NAME, b.CMTE_PTY_AFFILIATION \n",
    "order by sum_amount desc\n",
    "limit 5;"
   ]
  },
  {
   "cell_type": "markdown",
   "metadata": {},
   "source": [
    "### 2. In Year 2020"
   ]
  },
  {
   "cell_type": "code",
   "execution_count": 75,
   "metadata": {},
   "outputs": [
    {
     "name": "stdout",
     "output_type": "stream",
     "text": [
      " * postgresql://student@/final_project_yu\n",
      "5 rows affected.\n"
     ]
    },
    {
     "data": {
      "text/html": [
       "<table>\n",
       "    <tr>\n",
       "        <th>sum_amount</th>\n",
       "        <th>cmte_id</th>\n",
       "        <th>cmte_name</th>\n",
       "        <th>cmte_pty_affiliation</th>\n",
       "    </tr>\n",
       "    <tr>\n",
       "        <td>931048458.00</td>\n",
       "        <td>C00694323</td>\n",
       "        <td>WINRED</td>\n",
       "        <td>None</td>\n",
       "    </tr>\n",
       "    <tr>\n",
       "        <td>908683536.00</td>\n",
       "        <td>C00728154</td>\n",
       "        <td>MIKE BLOOMBERG 2020, INC.</td>\n",
       "        <td>DEM</td>\n",
       "    </tr>\n",
       "    <tr>\n",
       "        <td>902517278.00</td>\n",
       "        <td>C00703975</td>\n",
       "        <td>BIDEN FOR PRESIDENT</td>\n",
       "        <td>DEM</td>\n",
       "    </tr>\n",
       "    <tr>\n",
       "        <td>851044952.00</td>\n",
       "        <td>C00401224</td>\n",
       "        <td>ACTBLUE</td>\n",
       "        <td>None</td>\n",
       "    </tr>\n",
       "    <tr>\n",
       "        <td>510371770.00</td>\n",
       "        <td>C00003418</td>\n",
       "        <td>REPUBLICAN NATIONAL COMMITTEE</td>\n",
       "        <td>REP</td>\n",
       "    </tr>\n",
       "</table>"
      ],
      "text/plain": [
       "[(Decimal('931048458.00'), 'C00694323', 'WINRED', None),\n",
       " (Decimal('908683536.00'), 'C00728154', 'MIKE BLOOMBERG 2020, INC.', 'DEM'),\n",
       " (Decimal('902517278.00'), 'C00703975', 'BIDEN FOR PRESIDENT', 'DEM'),\n",
       " (Decimal('851044952.00'), 'C00401224', 'ACTBLUE', None),\n",
       " (Decimal('510371770.00'), 'C00003418', 'REPUBLICAN NATIONAL COMMITTEE', 'REP')]"
      ]
     },
     "execution_count": 75,
     "metadata": {},
     "output_type": "execute_result"
    }
   ],
   "source": [
    "%%sql\n",
    "select sum(TRANSACTION_AMT) as sum_amount , b.CMTE_ID, b.CMTE_NAME, b.CMTE_PTY_AFFILIATION from contribution_fact\n",
    "\n",
    "join beneficiary as b\n",
    "on b.BENEFICIARY_KEY = contribution_fact.BENEFICIARY_KEY\n",
    "\n",
    "join date as d\n",
    "on d.date_key = contribution_fact.date_key\n",
    "\n",
    "join TYPE as t\n",
    "on t.type_key = contribution_fact.type_key\n",
    "\n",
    "where d.year = 2020\n",
    "and t.contribution_type != 'COM_CAN'\n",
    "group by b.CMTE_ID, B.CMTE_NAME, b.CMTE_PTY_AFFILIATION \n",
    "order by sum_amount desc\n",
    "limit 5;"
   ]
  },
  {
   "cell_type": "markdown",
   "metadata": {},
   "source": [
    "__Conclusion:__\n",
    "+ The 2020 election is more than twice as expensive as the runner up, the 2016 election. In fact, this year’s election will see more spending than the previous two presidential election cycles combined. The pademic in 2020 do not affect much of the funding.\n",
    "\n",
    "+ Contribution received by committees reflects the election result in some way, abide objective factors still needed to be concerned. For example, in the year 2016, while the Democrat committees raise more funds than the Republican committees among the top 5 figures, the Democrat party still lose the election due to the scandal. In the year 2020, the data of two-party are similar, reflected in the election vote and the stalemate lasted several weeks before it finally ended."
   ]
  },
  {
   "cell_type": "markdown",
   "metadata": {},
   "source": [
    "__ __"
   ]
  },
  {
   "cell_type": "markdown",
   "metadata": {},
   "source": [
    "# Question 3 - \n",
    "\n",
    "## 1. Which five states have the most candidate offices? \n",
    "\n",
    "\n",
    "__Here, we excluded candidate office state labelled as 'US' because that's is not a state. There were showing the candidates has their election_office labelled as US, including Donald Trump and Kanye West. We assume that either they don't want to expose information about their offices. Here, we excluded candidate office state labelled as 'US' because that's is not a state.__\n",
    "\n",
    "### a. In year 2020\n"
   ]
  },
  {
   "cell_type": "code",
   "execution_count": 4,
   "metadata": {},
   "outputs": [
    {
     "name": "stdout",
     "output_type": "stream",
     "text": [
      " * postgresql://student@/final_project_yu\n",
      "5 rows affected.\n"
     ]
    },
    {
     "data": {
      "text/html": [
       "<table>\n",
       "    <tr>\n",
       "        <th>cand_office_state</th>\n",
       "        <th>count</th>\n",
       "    </tr>\n",
       "    <tr>\n",
       "        <td>TX</td>\n",
       "        <td>291</td>\n",
       "    </tr>\n",
       "    <tr>\n",
       "        <td>CA</td>\n",
       "        <td>276</td>\n",
       "    </tr>\n",
       "    <tr>\n",
       "        <td>FL</td>\n",
       "        <td>202</td>\n",
       "    </tr>\n",
       "    <tr>\n",
       "        <td>NY</td>\n",
       "        <td>186</td>\n",
       "    </tr>\n",
       "    <tr>\n",
       "        <td>GA</td>\n",
       "        <td>128</td>\n",
       "    </tr>\n",
       "</table>"
      ],
      "text/plain": [
       "[('TX', 291), ('CA', 276), ('FL', 202), ('NY', 186), ('GA', 128)]"
      ]
     },
     "execution_count": 4,
     "metadata": {},
     "output_type": "execute_result"
    }
   ],
   "source": [
    "%%sql\n",
    "select o.CAND_OFFICE_STATE,count(*) from all_candidate\n",
    "JOIN Election as e\n",
    "on e.election_key = all_candidate.election_key\n",
    "JOIN OFFICE AS o\n",
    "ON o.office_key = all_candidate.office_key\n",
    "JOIN COVERAGE_YEAR AS c\n",
    "on c.coverage_year_key = all_candidate.coverage_year_key\n",
    "where c.YEAR = 2020 and o.CAND_OFFICE_STATE != 'US'\n",
    "group BY o.CAND_OFFICE_STATE\n",
    "order by count desc\n",
    "limit 5\n",
    ";"
   ]
  },
  {
   "cell_type": "code",
   "execution_count": 5,
   "metadata": {},
   "outputs": [
    {
     "data": {
      "text/html": [
       "<img src=\"https://raw.githubusercontent.com/rainieluo2016/ISTM_6212/main/2020%20states.png\"/>"
      ],
      "text/plain": [
       "<IPython.core.display.Image object>"
      ]
     },
     "execution_count": 5,
     "metadata": {},
     "output_type": "execute_result"
    }
   ],
   "source": [
    "from IPython.display import Image\n",
    "Image(url = 'https://raw.githubusercontent.com/rainieluo2016/ISTM_6212/main/2020%20states.png')"
   ]
  },
  {
   "cell_type": "markdown",
   "metadata": {},
   "source": [
    "### b. In year 2016"
   ]
  },
  {
   "cell_type": "code",
   "execution_count": 6,
   "metadata": {},
   "outputs": [
    {
     "name": "stdout",
     "output_type": "stream",
     "text": [
      " * postgresql://student@/final_project_yu\n",
      "5 rows affected.\n"
     ]
    },
    {
     "data": {
      "text/html": [
       "<table>\n",
       "    <tr>\n",
       "        <th>cand_office_state</th>\n",
       "        <th>count</th>\n",
       "    </tr>\n",
       "    <tr>\n",
       "        <td>CA</td>\n",
       "        <td>242</td>\n",
       "    </tr>\n",
       "    <tr>\n",
       "        <td>FL</td>\n",
       "        <td>190</td>\n",
       "    </tr>\n",
       "    <tr>\n",
       "        <td>NY</td>\n",
       "        <td>130</td>\n",
       "    </tr>\n",
       "    <tr>\n",
       "        <td>TX</td>\n",
       "        <td>128</td>\n",
       "    </tr>\n",
       "    <tr>\n",
       "        <td>NC</td>\n",
       "        <td>91</td>\n",
       "    </tr>\n",
       "</table>"
      ],
      "text/plain": [
       "[('CA', 242), ('FL', 190), ('NY', 130), ('TX', 128), ('NC', 91)]"
      ]
     },
     "execution_count": 6,
     "metadata": {},
     "output_type": "execute_result"
    }
   ],
   "source": [
    "%%sql\n",
    "select o.CAND_OFFICE_STATE,count(*) from all_candidate\n",
    "JOIN Election as e\n",
    "on e.election_key = all_candidate.election_key\n",
    "JOIN OFFICE AS o\n",
    "ON o.office_key = all_candidate.office_key\n",
    "JOIN COVERAGE_YEAR AS c\n",
    "on c.coverage_year_key = all_candidate.coverage_year_key\n",
    "where c.YEAR = 2016 and o.CAND_OFFICE_STATE != 'US'\n",
    "group BY o.CAND_OFFICE_STATE\n",
    "order by count desc\n",
    "limit 5\n",
    ";"
   ]
  },
  {
   "cell_type": "code",
   "execution_count": 8,
   "metadata": {},
   "outputs": [
    {
     "data": {
      "text/html": [
       "<img src=\"https://raw.githubusercontent.com/rainieluo2016/ISTM_6212/main/2016%20states.png\"/>"
      ],
      "text/plain": [
       "<IPython.core.display.Image object>"
      ]
     },
     "execution_count": 8,
     "metadata": {},
     "output_type": "execute_result"
    }
   ],
   "source": [
    "from IPython.display import Image\n",
    "Image(url = 'https://raw.githubusercontent.com/rainieluo2016/ISTM_6212/main/2016%20states.png')\n"
   ]
  },
  {
   "cell_type": "markdown",
   "metadata": {},
   "source": [
    "__Conclusion__:\n",
    "+ Although the ranking are different,CA,FL,NY and TX appears in both results but GA only appear in 2020 and NC only appear in 2016. \n",
    "+ Also, it is noticed by our group that the number of offices has an increasing trend."
   ]
  },
  {
   "cell_type": "markdown",
   "metadata": {},
   "source": [
    "## 2. Among those top 5 states with the most candidates offices, what are the distribution of parties in 2020 and 2016?"
   ]
  },
  {
   "cell_type": "markdown",
   "metadata": {},
   "source": [
    "### a. In year 2020"
   ]
  },
  {
   "cell_type": "code",
   "execution_count": 10,
   "metadata": {},
   "outputs": [
    {
     "name": "stdout",
     "output_type": "stream",
     "text": [
      " * postgresql://student@/final_project_yu\n",
      "38 rows affected.\n"
     ]
    },
    {
     "data": {
      "text/html": [
       "<table>\n",
       "    <tr>\n",
       "        <th>cand_pty_affiliation</th>\n",
       "        <th>cand_office_state</th>\n",
       "        <th>count</th>\n",
       "    </tr>\n",
       "    <tr>\n",
       "        <td>DEM</td>\n",
       "        <td>CA</td>\n",
       "        <td>145</td>\n",
       "    </tr>\n",
       "    <tr>\n",
       "        <td>GRE</td>\n",
       "        <td>CA</td>\n",
       "        <td>1</td>\n",
       "    </tr>\n",
       "    <tr>\n",
       "        <td>IND</td>\n",
       "        <td>CA</td>\n",
       "        <td>3</td>\n",
       "    </tr>\n",
       "    <tr>\n",
       "        <td>NNE</td>\n",
       "        <td>CA</td>\n",
       "        <td>1</td>\n",
       "    </tr>\n",
       "    <tr>\n",
       "        <td>NON</td>\n",
       "        <td>CA</td>\n",
       "        <td>1</td>\n",
       "    </tr>\n",
       "    <tr>\n",
       "        <td>NPA</td>\n",
       "        <td>CA</td>\n",
       "        <td>3</td>\n",
       "    </tr>\n",
       "    <tr>\n",
       "        <td>REP</td>\n",
       "        <td>CA</td>\n",
       "        <td>122</td>\n",
       "    </tr>\n",
       "    <tr>\n",
       "        <td>DEM</td>\n",
       "        <td>FL</td>\n",
       "        <td>68</td>\n",
       "    </tr>\n",
       "    <tr>\n",
       "        <td>IND</td>\n",
       "        <td>FL</td>\n",
       "        <td>3</td>\n",
       "    </tr>\n",
       "    <tr>\n",
       "        <td>LIB</td>\n",
       "        <td>FL</td>\n",
       "        <td>1</td>\n",
       "    </tr>\n",
       "    <tr>\n",
       "        <td>LPF</td>\n",
       "        <td>FL</td>\n",
       "        <td>1</td>\n",
       "    </tr>\n",
       "    <tr>\n",
       "        <td>NPA</td>\n",
       "        <td>FL</td>\n",
       "        <td>5</td>\n",
       "    </tr>\n",
       "    <tr>\n",
       "        <td>OTH</td>\n",
       "        <td>FL</td>\n",
       "        <td>1</td>\n",
       "    </tr>\n",
       "    <tr>\n",
       "        <td>REP</td>\n",
       "        <td>FL</td>\n",
       "        <td>122</td>\n",
       "    </tr>\n",
       "    <tr>\n",
       "        <td>W</td>\n",
       "        <td>FL</td>\n",
       "        <td>1</td>\n",
       "    </tr>\n",
       "    <tr>\n",
       "        <td>DEM</td>\n",
       "        <td>GA</td>\n",
       "        <td>51</td>\n",
       "    </tr>\n",
       "    <tr>\n",
       "        <td>GRE</td>\n",
       "        <td>GA</td>\n",
       "        <td>2</td>\n",
       "    </tr>\n",
       "    <tr>\n",
       "        <td>IND</td>\n",
       "        <td>GA</td>\n",
       "        <td>3</td>\n",
       "    </tr>\n",
       "    <tr>\n",
       "        <td>LIB</td>\n",
       "        <td>GA</td>\n",
       "        <td>4</td>\n",
       "    </tr>\n",
       "    <tr>\n",
       "        <td>REP</td>\n",
       "        <td>GA</td>\n",
       "        <td>68</td>\n",
       "    </tr>\n",
       "    <tr>\n",
       "        <td>CRV</td>\n",
       "        <td>NY</td>\n",
       "        <td>1</td>\n",
       "    </tr>\n",
       "    <tr>\n",
       "        <td>DEM</td>\n",
       "        <td>NY</td>\n",
       "        <td>106</td>\n",
       "    </tr>\n",
       "    <tr>\n",
       "        <td>GRE</td>\n",
       "        <td>NY</td>\n",
       "        <td>1</td>\n",
       "    </tr>\n",
       "    <tr>\n",
       "        <td>IND</td>\n",
       "        <td>NY</td>\n",
       "        <td>6</td>\n",
       "    </tr>\n",
       "    <tr>\n",
       "        <td>LIB</td>\n",
       "        <td>NY</td>\n",
       "        <td>3</td>\n",
       "    </tr>\n",
       "    <tr>\n",
       "        <td>NNE</td>\n",
       "        <td>NY</td>\n",
       "        <td>1</td>\n",
       "    </tr>\n",
       "    <tr>\n",
       "        <td>OTH</td>\n",
       "        <td>NY</td>\n",
       "        <td>1</td>\n",
       "    </tr>\n",
       "    <tr>\n",
       "        <td>REP</td>\n",
       "        <td>NY</td>\n",
       "        <td>64</td>\n",
       "    </tr>\n",
       "    <tr>\n",
       "        <td>SAM</td>\n",
       "        <td>NY</td>\n",
       "        <td>1</td>\n",
       "    </tr>\n",
       "    <tr>\n",
       "        <td>W</td>\n",
       "        <td>NY</td>\n",
       "        <td>1</td>\n",
       "    </tr>\n",
       "    <tr>\n",
       "        <td>WFP</td>\n",
       "        <td>NY</td>\n",
       "        <td>1</td>\n",
       "    </tr>\n",
       "    <tr>\n",
       "        <td>DEM</td>\n",
       "        <td>TX</td>\n",
       "        <td>112</td>\n",
       "    </tr>\n",
       "    <tr>\n",
       "        <td>GRE</td>\n",
       "        <td>TX</td>\n",
       "        <td>1</td>\n",
       "    </tr>\n",
       "    <tr>\n",
       "        <td>IND</td>\n",
       "        <td>TX</td>\n",
       "        <td>8</td>\n",
       "    </tr>\n",
       "    <tr>\n",
       "        <td>LBU</td>\n",
       "        <td>TX</td>\n",
       "        <td>1</td>\n",
       "    </tr>\n",
       "    <tr>\n",
       "        <td>LIB</td>\n",
       "        <td>TX</td>\n",
       "        <td>8</td>\n",
       "    </tr>\n",
       "    <tr>\n",
       "        <td>REP</td>\n",
       "        <td>TX</td>\n",
       "        <td>160</td>\n",
       "    </tr>\n",
       "    <tr>\n",
       "        <td>W</td>\n",
       "        <td>TX</td>\n",
       "        <td>1</td>\n",
       "    </tr>\n",
       "</table>"
      ],
      "text/plain": [
       "[('DEM', 'CA', 145),\n",
       " ('GRE', 'CA', 1),\n",
       " ('IND', 'CA', 3),\n",
       " ('NNE', 'CA', 1),\n",
       " ('NON', 'CA', 1),\n",
       " ('NPA', 'CA', 3),\n",
       " ('REP', 'CA', 122),\n",
       " ('DEM', 'FL', 68),\n",
       " ('IND', 'FL', 3),\n",
       " ('LIB', 'FL', 1),\n",
       " ('LPF', 'FL', 1),\n",
       " ('NPA', 'FL', 5),\n",
       " ('OTH', 'FL', 1),\n",
       " ('REP', 'FL', 122),\n",
       " ('W', 'FL', 1),\n",
       " ('DEM', 'GA', 51),\n",
       " ('GRE', 'GA', 2),\n",
       " ('IND', 'GA', 3),\n",
       " ('LIB', 'GA', 4),\n",
       " ('REP', 'GA', 68),\n",
       " ('CRV', 'NY', 1),\n",
       " ('DEM', 'NY', 106),\n",
       " ('GRE', 'NY', 1),\n",
       " ('IND', 'NY', 6),\n",
       " ('LIB', 'NY', 3),\n",
       " ('NNE', 'NY', 1),\n",
       " ('OTH', 'NY', 1),\n",
       " ('REP', 'NY', 64),\n",
       " ('SAM', 'NY', 1),\n",
       " ('W', 'NY', 1),\n",
       " ('WFP', 'NY', 1),\n",
       " ('DEM', 'TX', 112),\n",
       " ('GRE', 'TX', 1),\n",
       " ('IND', 'TX', 8),\n",
       " ('LBU', 'TX', 1),\n",
       " ('LIB', 'TX', 8),\n",
       " ('REP', 'TX', 160),\n",
       " ('W', 'TX', 1)]"
      ]
     },
     "execution_count": 10,
     "metadata": {},
     "output_type": "execute_result"
    }
   ],
   "source": [
    "%%sql\n",
    "select e.cand_pty_affiliation,o.cand_office_state,count(*) from all_candidate\n",
    "JOIN Election as e\n",
    "on e.election_key = all_candidate.election_key\n",
    "JOIN OFFICE AS o\n",
    "ON o.office_key = all_candidate.office_key\n",
    "JOIN COVERAGE_YEAR AS c\n",
    "on c.coverage_year_key = all_candidate.coverage_year_key\n",
    "where (o.cand_office_state='TX'\n",
    "or o.cand_office_state='CA'\n",
    "or o.cand_office_state='FL'\n",
    "or o.cand_office_state='GA'\n",
    "or o.cand_office_state='NY')\n",
    "and c.year = 2020\n",
    "group BY e.cand_pty_affiliation,o.cand_office_state\n",
    "order by o.cand_office_state\n",
    "limit 40\n",
    "\n",
    ";"
   ]
  },
  {
   "cell_type": "code",
   "execution_count": 11,
   "metadata": {},
   "outputs": [
    {
     "data": {
      "text/html": [
       "<img src=\"https://raw.githubusercontent.com/rainieluo2016/ISTM_6212/main/2020%20office%20dist.png\"/>"
      ],
      "text/plain": [
       "<IPython.core.display.Image object>"
      ]
     },
     "execution_count": 11,
     "metadata": {},
     "output_type": "execute_result"
    }
   ],
   "source": [
    "from IPython.display import Image\n",
    "Image(url = 'https://raw.githubusercontent.com/rainieluo2016/ISTM_6212/main/2020%20office%20dist.png')"
   ]
  },
  {
   "cell_type": "markdown",
   "metadata": {},
   "source": [
    "### b. In Year 2016"
   ]
  },
  {
   "cell_type": "code",
   "execution_count": 9,
   "metadata": {},
   "outputs": [
    {
     "name": "stdout",
     "output_type": "stream",
     "text": [
      " * postgresql://student@/final_project_yu\n",
      "34 rows affected.\n"
     ]
    },
    {
     "data": {
      "text/html": [
       "<table>\n",
       "    <tr>\n",
       "        <th>cand_pty_affiliation</th>\n",
       "        <th>cand_office_state</th>\n",
       "        <th>count</th>\n",
       "    </tr>\n",
       "    <tr>\n",
       "        <td>DEM</td>\n",
       "        <td>CA</td>\n",
       "        <td>118</td>\n",
       "    </tr>\n",
       "    <tr>\n",
       "        <td>GRE</td>\n",
       "        <td>CA</td>\n",
       "        <td>1</td>\n",
       "    </tr>\n",
       "    <tr>\n",
       "        <td>IND</td>\n",
       "        <td>CA</td>\n",
       "        <td>9</td>\n",
       "    </tr>\n",
       "    <tr>\n",
       "        <td>NNE</td>\n",
       "        <td>CA</td>\n",
       "        <td>3</td>\n",
       "    </tr>\n",
       "    <tr>\n",
       "        <td>OTH</td>\n",
       "        <td>CA</td>\n",
       "        <td>1</td>\n",
       "    </tr>\n",
       "    <tr>\n",
       "        <td>REP</td>\n",
       "        <td>CA</td>\n",
       "        <td>110</td>\n",
       "    </tr>\n",
       "    <tr>\n",
       "        <td>DEM</td>\n",
       "        <td>FL</td>\n",
       "        <td>73</td>\n",
       "    </tr>\n",
       "    <tr>\n",
       "        <td>IND</td>\n",
       "        <td>FL</td>\n",
       "        <td>3</td>\n",
       "    </tr>\n",
       "    <tr>\n",
       "        <td>LIB</td>\n",
       "        <td>FL</td>\n",
       "        <td>4</td>\n",
       "    </tr>\n",
       "    <tr>\n",
       "        <td>LPF</td>\n",
       "        <td>FL</td>\n",
       "        <td>1</td>\n",
       "    </tr>\n",
       "    <tr>\n",
       "        <td>NNE</td>\n",
       "        <td>FL</td>\n",
       "        <td>1</td>\n",
       "    </tr>\n",
       "    <tr>\n",
       "        <td>NPA</td>\n",
       "        <td>FL</td>\n",
       "        <td>4</td>\n",
       "    </tr>\n",
       "    <tr>\n",
       "        <td>OTH</td>\n",
       "        <td>FL</td>\n",
       "        <td>2</td>\n",
       "    </tr>\n",
       "    <tr>\n",
       "        <td>REP</td>\n",
       "        <td>FL</td>\n",
       "        <td>100</td>\n",
       "    </tr>\n",
       "    <tr>\n",
       "        <td>UNK</td>\n",
       "        <td>FL</td>\n",
       "        <td>1</td>\n",
       "    </tr>\n",
       "    <tr>\n",
       "        <td>W</td>\n",
       "        <td>FL</td>\n",
       "        <td>1</td>\n",
       "    </tr>\n",
       "    <tr>\n",
       "        <td>DEM</td>\n",
       "        <td>NC</td>\n",
       "        <td>38</td>\n",
       "    </tr>\n",
       "    <tr>\n",
       "        <td>LIB</td>\n",
       "        <td>NC</td>\n",
       "        <td>2</td>\n",
       "    </tr>\n",
       "    <tr>\n",
       "        <td>REP</td>\n",
       "        <td>NC</td>\n",
       "        <td>51</td>\n",
       "    </tr>\n",
       "    <tr>\n",
       "        <td>DEM</td>\n",
       "        <td>NY</td>\n",
       "        <td>68</td>\n",
       "    </tr>\n",
       "    <tr>\n",
       "        <td>GRE</td>\n",
       "        <td>NY</td>\n",
       "        <td>2</td>\n",
       "    </tr>\n",
       "    <tr>\n",
       "        <td>IND</td>\n",
       "        <td>NY</td>\n",
       "        <td>3</td>\n",
       "    </tr>\n",
       "    <tr>\n",
       "        <td>LIB</td>\n",
       "        <td>NY</td>\n",
       "        <td>2</td>\n",
       "    </tr>\n",
       "    <tr>\n",
       "        <td>N/A</td>\n",
       "        <td>NY</td>\n",
       "        <td>1</td>\n",
       "    </tr>\n",
       "    <tr>\n",
       "        <td>NNE</td>\n",
       "        <td>NY</td>\n",
       "        <td>1</td>\n",
       "    </tr>\n",
       "    <tr>\n",
       "        <td>NPA</td>\n",
       "        <td>NY</td>\n",
       "        <td>1</td>\n",
       "    </tr>\n",
       "    <tr>\n",
       "        <td>OTH</td>\n",
       "        <td>NY</td>\n",
       "        <td>1</td>\n",
       "    </tr>\n",
       "    <tr>\n",
       "        <td>REP</td>\n",
       "        <td>NY</td>\n",
       "        <td>50</td>\n",
       "    </tr>\n",
       "    <tr>\n",
       "        <td>WFP</td>\n",
       "        <td>NY</td>\n",
       "        <td>1</td>\n",
       "    </tr>\n",
       "    <tr>\n",
       "        <td>DEM</td>\n",
       "        <td>TX</td>\n",
       "        <td>48</td>\n",
       "    </tr>\n",
       "    <tr>\n",
       "        <td>GRE</td>\n",
       "        <td>TX</td>\n",
       "        <td>1</td>\n",
       "    </tr>\n",
       "    <tr>\n",
       "        <td>IND</td>\n",
       "        <td>TX</td>\n",
       "        <td>1</td>\n",
       "    </tr>\n",
       "    <tr>\n",
       "        <td>LIB</td>\n",
       "        <td>TX</td>\n",
       "        <td>1</td>\n",
       "    </tr>\n",
       "    <tr>\n",
       "        <td>REP</td>\n",
       "        <td>TX</td>\n",
       "        <td>77</td>\n",
       "    </tr>\n",
       "</table>"
      ],
      "text/plain": [
       "[('DEM', 'CA', 118),\n",
       " ('GRE', 'CA', 1),\n",
       " ('IND', 'CA', 9),\n",
       " ('NNE', 'CA', 3),\n",
       " ('OTH', 'CA', 1),\n",
       " ('REP', 'CA', 110),\n",
       " ('DEM', 'FL', 73),\n",
       " ('IND', 'FL', 3),\n",
       " ('LIB', 'FL', 4),\n",
       " ('LPF', 'FL', 1),\n",
       " ('NNE', 'FL', 1),\n",
       " ('NPA', 'FL', 4),\n",
       " ('OTH', 'FL', 2),\n",
       " ('REP', 'FL', 100),\n",
       " ('UNK', 'FL', 1),\n",
       " ('W', 'FL', 1),\n",
       " ('DEM', 'NC', 38),\n",
       " ('LIB', 'NC', 2),\n",
       " ('REP', 'NC', 51),\n",
       " ('DEM', 'NY', 68),\n",
       " ('GRE', 'NY', 2),\n",
       " ('IND', 'NY', 3),\n",
       " ('LIB', 'NY', 2),\n",
       " ('N/A', 'NY', 1),\n",
       " ('NNE', 'NY', 1),\n",
       " ('NPA', 'NY', 1),\n",
       " ('OTH', 'NY', 1),\n",
       " ('REP', 'NY', 50),\n",
       " ('WFP', 'NY', 1),\n",
       " ('DEM', 'TX', 48),\n",
       " ('GRE', 'TX', 1),\n",
       " ('IND', 'TX', 1),\n",
       " ('LIB', 'TX', 1),\n",
       " ('REP', 'TX', 77)]"
      ]
     },
     "execution_count": 9,
     "metadata": {},
     "output_type": "execute_result"
    }
   ],
   "source": [
    "%%sql\n",
    "select e.cand_pty_affiliation,o.cand_office_state,count(*) from all_candidate\n",
    "JOIN Election as e\n",
    "on e.election_key = all_candidate.election_key\n",
    "JOIN OFFICE AS o\n",
    "ON o.office_key = all_candidate.office_key\n",
    "JOIN COVERAGE_YEAR AS c\n",
    "on c.coverage_year_key = all_candidate.coverage_year_key\n",
    "where (o.cand_office_state='TX'\n",
    "or o.cand_office_state='CA'\n",
    "or o.cand_office_state='FL'\n",
    "or o.cand_office_state='NC'\n",
    "or o.cand_office_state='NY')\n",
    "and c.year = 2016\n",
    "group BY e.cand_pty_affiliation,o.cand_office_state\n",
    "order by o.cand_office_state\n",
    "limit 35\n",
    ";\n"
   ]
  },
  {
   "cell_type": "code",
   "execution_count": 12,
   "metadata": {},
   "outputs": [
    {
     "data": {
      "text/html": [
       "<img src=\"https://raw.githubusercontent.com/rainieluo2016/ISTM_6212/main/2016%20office%20dist.png\"/>"
      ],
      "text/plain": [
       "<IPython.core.display.Image object>"
      ]
     },
     "execution_count": 12,
     "metadata": {},
     "output_type": "execute_result"
    }
   ],
   "source": [
    "from IPython.display import Image\n",
    "Image(url = 'https://raw.githubusercontent.com/rainieluo2016/ISTM_6212/main/2016%20office%20dist.png')"
   ]
  },
  {
   "cell_type": "markdown",
   "metadata": {},
   "source": [
    "__Conclusion:__\n",
    "+ Not suprisingly, Democrat and Republican have the most candidates among those five states."
   ]
  },
  {
   "cell_type": "markdown",
   "metadata": {},
   "source": [
    "__ __"
   ]
  },
  {
   "cell_type": "markdown",
   "metadata": {},
   "source": [
    "# Queston 4 - Contribution by individual and committee breakdown by States\n",
    "\n",
    "## 1. Committees contribution in 2016"
   ]
  },
  {
   "cell_type": "code",
   "execution_count": 19,
   "metadata": {},
   "outputs": [
    {
     "name": "stdout",
     "output_type": "stream",
     "text": [
      " * postgresql://student@/final_project_yu\n",
      "51 rows affected.\n"
     ]
    },
    {
     "data": {
      "text/html": [
       "<table>\n",
       "    <tr>\n",
       "        <th>state</th>\n",
       "        <th>contribution_amount</th>\n",
       "    </tr>\n",
       "    <tr>\n",
       "        <td>DC</td>\n",
       "        <td>2168263728.00</td>\n",
       "    </tr>\n",
       "    <tr>\n",
       "        <td>VA</td>\n",
       "        <td>964448865.00</td>\n",
       "    </tr>\n",
       "    <tr>\n",
       "        <td>NY</td>\n",
       "        <td>955015237.00</td>\n",
       "    </tr>\n",
       "    <tr>\n",
       "        <td>MD</td>\n",
       "        <td>530373073.00</td>\n",
       "    </tr>\n",
       "    <tr>\n",
       "        <td>CA</td>\n",
       "        <td>493200774.00</td>\n",
       "    </tr>\n",
       "    <tr>\n",
       "        <td>MA</td>\n",
       "        <td>293524875.00</td>\n",
       "    </tr>\n",
       "    <tr>\n",
       "        <td>OH</td>\n",
       "        <td>197590108.00</td>\n",
       "    </tr>\n",
       "    <tr>\n",
       "        <td>FL</td>\n",
       "        <td>197221216.00</td>\n",
       "    </tr>\n",
       "    <tr>\n",
       "        <td>TX</td>\n",
       "        <td>193652305.00</td>\n",
       "    </tr>\n",
       "    <tr>\n",
       "        <td>IL</td>\n",
       "        <td>129466305.00</td>\n",
       "    </tr>\n",
       "    <tr>\n",
       "        <td>PA</td>\n",
       "        <td>120330362.00</td>\n",
       "    </tr>\n",
       "    <tr>\n",
       "        <td>GA</td>\n",
       "        <td>99450277.00</td>\n",
       "    </tr>\n",
       "    <tr>\n",
       "        <td>WI</td>\n",
       "        <td>82589443.00</td>\n",
       "    </tr>\n",
       "    <tr>\n",
       "        <td>IA</td>\n",
       "        <td>79762603.00</td>\n",
       "    </tr>\n",
       "    <tr>\n",
       "        <td>CO</td>\n",
       "        <td>77568905.00</td>\n",
       "    </tr>\n",
       "    <tr>\n",
       "        <td>MO</td>\n",
       "        <td>75770390.00</td>\n",
       "    </tr>\n",
       "    <tr>\n",
       "        <td>NC</td>\n",
       "        <td>72345780.00</td>\n",
       "    </tr>\n",
       "    <tr>\n",
       "        <td>NV</td>\n",
       "        <td>59740747.00</td>\n",
       "    </tr>\n",
       "    <tr>\n",
       "        <td>NJ</td>\n",
       "        <td>56163191.00</td>\n",
       "    </tr>\n",
       "    <tr>\n",
       "        <td>NH</td>\n",
       "        <td>54122854.00</td>\n",
       "    </tr>\n",
       "    <tr>\n",
       "        <td>AZ</td>\n",
       "        <td>52463965.00</td>\n",
       "    </tr>\n",
       "    <tr>\n",
       "        <td>MI</td>\n",
       "        <td>51542336.00</td>\n",
       "    </tr>\n",
       "    <tr>\n",
       "        <td>IN</td>\n",
       "        <td>50464789.00</td>\n",
       "    </tr>\n",
       "    <tr>\n",
       "        <td>MN</td>\n",
       "        <td>49140494.00</td>\n",
       "    </tr>\n",
       "    <tr>\n",
       "        <td>SC</td>\n",
       "        <td>45403491.00</td>\n",
       "    </tr>\n",
       "    <tr>\n",
       "        <td>WA</td>\n",
       "        <td>38918717.00</td>\n",
       "    </tr>\n",
       "    <tr>\n",
       "        <td>LA</td>\n",
       "        <td>38241602.00</td>\n",
       "    </tr>\n",
       "    <tr>\n",
       "        <td>TN</td>\n",
       "        <td>36745104.00</td>\n",
       "    </tr>\n",
       "    <tr>\n",
       "        <td>CT</td>\n",
       "        <td>32469797.00</td>\n",
       "    </tr>\n",
       "    <tr>\n",
       "        <td>KY</td>\n",
       "        <td>30870388.00</td>\n",
       "    </tr>\n",
       "    <tr>\n",
       "        <td>OR</td>\n",
       "        <td>28246749.00</td>\n",
       "    </tr>\n",
       "    <tr>\n",
       "        <td>UT</td>\n",
       "        <td>27684609.00</td>\n",
       "    </tr>\n",
       "    <tr>\n",
       "        <td>AR</td>\n",
       "        <td>25717737.00</td>\n",
       "    </tr>\n",
       "    <tr>\n",
       "        <td>KS</td>\n",
       "        <td>24146979.00</td>\n",
       "    </tr>\n",
       "    <tr>\n",
       "        <td>OK</td>\n",
       "        <td>19484437.00</td>\n",
       "    </tr>\n",
       "    <tr>\n",
       "        <td>WV</td>\n",
       "        <td>16377414.00</td>\n",
       "    </tr>\n",
       "    <tr>\n",
       "        <td>WY</td>\n",
       "        <td>15832223.00</td>\n",
       "    </tr>\n",
       "    <tr>\n",
       "        <td>MS</td>\n",
       "        <td>15827492.00</td>\n",
       "    </tr>\n",
       "    <tr>\n",
       "        <td>AL</td>\n",
       "        <td>15467005.00</td>\n",
       "    </tr>\n",
       "    <tr>\n",
       "        <td>SD</td>\n",
       "        <td>15306096.00</td>\n",
       "    </tr>\n",
       "    <tr>\n",
       "        <td>ME</td>\n",
       "        <td>13793225.00</td>\n",
       "    </tr>\n",
       "    <tr>\n",
       "        <td>ID</td>\n",
       "        <td>13671546.00</td>\n",
       "    </tr>\n",
       "    <tr>\n",
       "        <td>NM</td>\n",
       "        <td>12949177.00</td>\n",
       "    </tr>\n",
       "    <tr>\n",
       "        <td>DE</td>\n",
       "        <td>11270519.00</td>\n",
       "    </tr>\n",
       "    <tr>\n",
       "        <td>MT</td>\n",
       "        <td>11203998.00</td>\n",
       "    </tr>\n",
       "    <tr>\n",
       "        <td>NE</td>\n",
       "        <td>10676743.00</td>\n",
       "    </tr>\n",
       "    <tr>\n",
       "        <td>AK</td>\n",
       "        <td>10635725.00</td>\n",
       "    </tr>\n",
       "    <tr>\n",
       "        <td>RI</td>\n",
       "        <td>10275282.00</td>\n",
       "    </tr>\n",
       "    <tr>\n",
       "        <td>ND</td>\n",
       "        <td>6816981.00</td>\n",
       "    </tr>\n",
       "    <tr>\n",
       "        <td>VT</td>\n",
       "        <td>5340045.00</td>\n",
       "    </tr>\n",
       "    <tr>\n",
       "        <td>HI</td>\n",
       "        <td>4855202.00</td>\n",
       "    </tr>\n",
       "</table>"
      ],
      "text/plain": [
       "[('DC', Decimal('2168263728.00')),\n",
       " ('VA', Decimal('964448865.00')),\n",
       " ('NY', Decimal('955015237.00')),\n",
       " ('MD', Decimal('530373073.00')),\n",
       " ('CA', Decimal('493200774.00')),\n",
       " ('MA', Decimal('293524875.00')),\n",
       " ('OH', Decimal('197590108.00')),\n",
       " ('FL', Decimal('197221216.00')),\n",
       " ('TX', Decimal('193652305.00')),\n",
       " ('IL', Decimal('129466305.00')),\n",
       " ('PA', Decimal('120330362.00')),\n",
       " ('GA', Decimal('99450277.00')),\n",
       " ('WI', Decimal('82589443.00')),\n",
       " ('IA', Decimal('79762603.00')),\n",
       " ('CO', Decimal('77568905.00')),\n",
       " ('MO', Decimal('75770390.00')),\n",
       " ('NC', Decimal('72345780.00')),\n",
       " ('NV', Decimal('59740747.00')),\n",
       " ('NJ', Decimal('56163191.00')),\n",
       " ('NH', Decimal('54122854.00')),\n",
       " ('AZ', Decimal('52463965.00')),\n",
       " ('MI', Decimal('51542336.00')),\n",
       " ('IN', Decimal('50464789.00')),\n",
       " ('MN', Decimal('49140494.00')),\n",
       " ('SC', Decimal('45403491.00')),\n",
       " ('WA', Decimal('38918717.00')),\n",
       " ('LA', Decimal('38241602.00')),\n",
       " ('TN', Decimal('36745104.00')),\n",
       " ('CT', Decimal('32469797.00')),\n",
       " ('KY', Decimal('30870388.00')),\n",
       " ('OR', Decimal('28246749.00')),\n",
       " ('UT', Decimal('27684609.00')),\n",
       " ('AR', Decimal('25717737.00')),\n",
       " ('KS', Decimal('24146979.00')),\n",
       " ('OK', Decimal('19484437.00')),\n",
       " ('WV', Decimal('16377414.00')),\n",
       " ('WY', Decimal('15832223.00')),\n",
       " ('MS', Decimal('15827492.00')),\n",
       " ('AL', Decimal('15467005.00')),\n",
       " ('SD', Decimal('15306096.00')),\n",
       " ('ME', Decimal('13793225.00')),\n",
       " ('ID', Decimal('13671546.00')),\n",
       " ('NM', Decimal('12949177.00')),\n",
       " ('DE', Decimal('11270519.00')),\n",
       " ('MT', Decimal('11203998.00')),\n",
       " ('NE', Decimal('10676743.00')),\n",
       " ('AK', Decimal('10635725.00')),\n",
       " ('RI', Decimal('10275282.00')),\n",
       " ('ND', Decimal('6816981.00')),\n",
       " ('VT', Decimal('5340045.00')),\n",
       " ('HI', Decimal('4855202.00'))]"
      ]
     },
     "execution_count": 19,
     "metadata": {},
     "output_type": "execute_result"
    }
   ],
   "source": [
    "%%sql\n",
    "select b.state as State, sum(a.transaction_amt) as Contribution_Amount \n",
    "from CONTRIBUTION_FACT a \n",
    "join CONTRIBUTOR_LOCATION b on a.CONTRIBUTOR_LOCATION_KEY = b.CONTRIBUTOR_LOCATION_KEY \n",
    "join TYPE c on a.Type_Key = c.TYPE_key\n",
    "join date d on a.date_key = d.date_key\n",
    "where (c.CONTRIBUTION_TYPE = 'COM_COM' or c.CONTRIBUTION_TYPE = 'COM_CAN')\n",
    "        and b.state in ('CT', 'ME', 'MA', 'NH', 'RI', 'VT', 'NJ', 'NY', 'PA',\n",
    "                       'IL', 'IN', 'MI', 'OH', 'WI', 'IA', 'KS', 'MN', 'MO', 'NE', 'ND', 'SD',\n",
    "                       'DE', 'FL', 'GA', 'MD', 'NC', 'SC', 'VA', 'DC', 'WV', 'AL', 'KY', 'MS', 'TN', 'AR', 'LA', 'OK', 'TX',\n",
    "                       'AZ', 'CO', 'ID', 'MT', 'NV', 'NM', 'UT', 'WY', 'AK', 'CA', 'HI', 'OR', 'WA')\n",
    "        and d.year = 2016\n",
    "group by b.state\n",
    "order by sum(a.transaction_amt) desc"
   ]
  },
  {
   "cell_type": "code",
   "execution_count": 27,
   "metadata": {},
   "outputs": [
    {
     "data": {
      "text/html": [
       "<img src=\"https://dmfa-2020-lu.s3.amazonaws.com/Final+Project/Committee+Contribution+2016.png\"/>"
      ],
      "text/plain": [
       "<IPython.core.display.Image object>"
      ]
     },
     "execution_count": 27,
     "metadata": {},
     "output_type": "execute_result"
    }
   ],
   "source": [
    "from IPython.display import Image\n",
    "Image(url=\"https://dmfa-2020-lu.s3.amazonaws.com/Final+Project/Committee+Contribution+2016.png\")\n"
   ]
  },
  {
   "cell_type": "code",
   "execution_count": 28,
   "metadata": {},
   "outputs": [
    {
     "data": {
      "text/html": [
       "<img src=\"https://dmfa-2020-lu.s3.amazonaws.com/Final+Project/Committee+Contribution+2016+Zoomed.png\"/>"
      ],
      "text/plain": [
       "<IPython.core.display.Image object>"
      ]
     },
     "execution_count": 28,
     "metadata": {},
     "output_type": "execute_result"
    }
   ],
   "source": [
    "from IPython.display import Image\n",
    "Image(url=\"https://dmfa-2020-lu.s3.amazonaws.com/Final+Project/Committee+Contribution+2016+Zoomed.png\")"
   ]
  },
  {
   "cell_type": "markdown",
   "metadata": {},
   "source": [
    "__In 2016, the top 5 states by committee contribution are Washington D.C., Virginia, New York, Maryland, and California.__\n",
    "\n",
    "## 2. Individual contribution in 2016"
   ]
  },
  {
   "cell_type": "code",
   "execution_count": 20,
   "metadata": {},
   "outputs": [
    {
     "name": "stdout",
     "output_type": "stream",
     "text": [
      " * postgresql://student@/final_project_yu\n",
      "51 rows affected.\n"
     ]
    },
    {
     "data": {
      "text/html": [
       "<table>\n",
       "    <tr>\n",
       "        <th>state</th>\n",
       "        <th>contribution_amount</th>\n",
       "    </tr>\n",
       "    <tr>\n",
       "        <td>CA</td>\n",
       "        <td>586823672.00</td>\n",
       "    </tr>\n",
       "    <tr>\n",
       "        <td>NY</td>\n",
       "        <td>486952834.00</td>\n",
       "    </tr>\n",
       "    <tr>\n",
       "        <td>DC</td>\n",
       "        <td>308431713.00</td>\n",
       "    </tr>\n",
       "    <tr>\n",
       "        <td>FL</td>\n",
       "        <td>235998096.00</td>\n",
       "    </tr>\n",
       "    <tr>\n",
       "        <td>TX</td>\n",
       "        <td>226197638.00</td>\n",
       "    </tr>\n",
       "    <tr>\n",
       "        <td>IL</td>\n",
       "        <td>205413113.00</td>\n",
       "    </tr>\n",
       "    <tr>\n",
       "        <td>VA</td>\n",
       "        <td>133211471.00</td>\n",
       "    </tr>\n",
       "    <tr>\n",
       "        <td>PA</td>\n",
       "        <td>130694856.00</td>\n",
       "    </tr>\n",
       "    <tr>\n",
       "        <td>CT</td>\n",
       "        <td>119798701.00</td>\n",
       "    </tr>\n",
       "    <tr>\n",
       "        <td>NV</td>\n",
       "        <td>117950988.00</td>\n",
       "    </tr>\n",
       "    <tr>\n",
       "        <td>MA</td>\n",
       "        <td>98382019.00</td>\n",
       "    </tr>\n",
       "    <tr>\n",
       "        <td>MD</td>\n",
       "        <td>91072910.00</td>\n",
       "    </tr>\n",
       "    <tr>\n",
       "        <td>OH</td>\n",
       "        <td>89625738.00</td>\n",
       "    </tr>\n",
       "    <tr>\n",
       "        <td>WA</td>\n",
       "        <td>66654322.00</td>\n",
       "    </tr>\n",
       "    <tr>\n",
       "        <td>NJ</td>\n",
       "        <td>64150213.00</td>\n",
       "    </tr>\n",
       "    <tr>\n",
       "        <td>MI</td>\n",
       "        <td>60965293.00</td>\n",
       "    </tr>\n",
       "    <tr>\n",
       "        <td>CO</td>\n",
       "        <td>60333141.00</td>\n",
       "    </tr>\n",
       "    <tr>\n",
       "        <td>GA</td>\n",
       "        <td>59199651.00</td>\n",
       "    </tr>\n",
       "    <tr>\n",
       "        <td>NC</td>\n",
       "        <td>54376596.00</td>\n",
       "    </tr>\n",
       "    <tr>\n",
       "        <td>WI</td>\n",
       "        <td>48296787.00</td>\n",
       "    </tr>\n",
       "    <tr>\n",
       "        <td>AZ</td>\n",
       "        <td>46485739.00</td>\n",
       "    </tr>\n",
       "    <tr>\n",
       "        <td>MO</td>\n",
       "        <td>42176197.00</td>\n",
       "    </tr>\n",
       "    <tr>\n",
       "        <td>MN</td>\n",
       "        <td>36908673.00</td>\n",
       "    </tr>\n",
       "    <tr>\n",
       "        <td>AR</td>\n",
       "        <td>34971832.00</td>\n",
       "    </tr>\n",
       "    <tr>\n",
       "        <td>TN</td>\n",
       "        <td>32386391.00</td>\n",
       "    </tr>\n",
       "    <tr>\n",
       "        <td>LA</td>\n",
       "        <td>32273254.00</td>\n",
       "    </tr>\n",
       "    <tr>\n",
       "        <td>IN</td>\n",
       "        <td>30734652.00</td>\n",
       "    </tr>\n",
       "    <tr>\n",
       "        <td>OK</td>\n",
       "        <td>22621753.00</td>\n",
       "    </tr>\n",
       "    <tr>\n",
       "        <td>OR</td>\n",
       "        <td>22479960.00</td>\n",
       "    </tr>\n",
       "    <tr>\n",
       "        <td>KY</td>\n",
       "        <td>20263593.00</td>\n",
       "    </tr>\n",
       "    <tr>\n",
       "        <td>NE</td>\n",
       "        <td>20201009.00</td>\n",
       "    </tr>\n",
       "    <tr>\n",
       "        <td>KS</td>\n",
       "        <td>18057288.00</td>\n",
       "    </tr>\n",
       "    <tr>\n",
       "        <td>IA</td>\n",
       "        <td>14622468.00</td>\n",
       "    </tr>\n",
       "    <tr>\n",
       "        <td>AL</td>\n",
       "        <td>14241222.00</td>\n",
       "    </tr>\n",
       "    <tr>\n",
       "        <td>SC</td>\n",
       "        <td>13637291.00</td>\n",
       "    </tr>\n",
       "    <tr>\n",
       "        <td>NH</td>\n",
       "        <td>12861849.00</td>\n",
       "    </tr>\n",
       "    <tr>\n",
       "        <td>NM</td>\n",
       "        <td>12250010.00</td>\n",
       "    </tr>\n",
       "    <tr>\n",
       "        <td>UT</td>\n",
       "        <td>12067739.00</td>\n",
       "    </tr>\n",
       "    <tr>\n",
       "        <td>ME</td>\n",
       "        <td>10158564.00</td>\n",
       "    </tr>\n",
       "    <tr>\n",
       "        <td>WY</td>\n",
       "        <td>8612937.00</td>\n",
       "    </tr>\n",
       "    <tr>\n",
       "        <td>ID</td>\n",
       "        <td>7884364.00</td>\n",
       "    </tr>\n",
       "    <tr>\n",
       "        <td>MS</td>\n",
       "        <td>7314909.00</td>\n",
       "    </tr>\n",
       "    <tr>\n",
       "        <td>RI</td>\n",
       "        <td>6680584.00</td>\n",
       "    </tr>\n",
       "    <tr>\n",
       "        <td>VT</td>\n",
       "        <td>6667845.00</td>\n",
       "    </tr>\n",
       "    <tr>\n",
       "        <td>HI</td>\n",
       "        <td>6625788.00</td>\n",
       "    </tr>\n",
       "    <tr>\n",
       "        <td>MT</td>\n",
       "        <td>6005810.00</td>\n",
       "    </tr>\n",
       "    <tr>\n",
       "        <td>AK</td>\n",
       "        <td>5804304.00</td>\n",
       "    </tr>\n",
       "    <tr>\n",
       "        <td>WV</td>\n",
       "        <td>5069676.00</td>\n",
       "    </tr>\n",
       "    <tr>\n",
       "        <td>DE</td>\n",
       "        <td>5061406.00</td>\n",
       "    </tr>\n",
       "    <tr>\n",
       "        <td>SD</td>\n",
       "        <td>4366585.00</td>\n",
       "    </tr>\n",
       "    <tr>\n",
       "        <td>ND</td>\n",
       "        <td>3044628.00</td>\n",
       "    </tr>\n",
       "</table>"
      ],
      "text/plain": [
       "[('CA', Decimal('586823672.00')),\n",
       " ('NY', Decimal('486952834.00')),\n",
       " ('DC', Decimal('308431713.00')),\n",
       " ('FL', Decimal('235998096.00')),\n",
       " ('TX', Decimal('226197638.00')),\n",
       " ('IL', Decimal('205413113.00')),\n",
       " ('VA', Decimal('133211471.00')),\n",
       " ('PA', Decimal('130694856.00')),\n",
       " ('CT', Decimal('119798701.00')),\n",
       " ('NV', Decimal('117950988.00')),\n",
       " ('MA', Decimal('98382019.00')),\n",
       " ('MD', Decimal('91072910.00')),\n",
       " ('OH', Decimal('89625738.00')),\n",
       " ('WA', Decimal('66654322.00')),\n",
       " ('NJ', Decimal('64150213.00')),\n",
       " ('MI', Decimal('60965293.00')),\n",
       " ('CO', Decimal('60333141.00')),\n",
       " ('GA', Decimal('59199651.00')),\n",
       " ('NC', Decimal('54376596.00')),\n",
       " ('WI', Decimal('48296787.00')),\n",
       " ('AZ', Decimal('46485739.00')),\n",
       " ('MO', Decimal('42176197.00')),\n",
       " ('MN', Decimal('36908673.00')),\n",
       " ('AR', Decimal('34971832.00')),\n",
       " ('TN', Decimal('32386391.00')),\n",
       " ('LA', Decimal('32273254.00')),\n",
       " ('IN', Decimal('30734652.00')),\n",
       " ('OK', Decimal('22621753.00')),\n",
       " ('OR', Decimal('22479960.00')),\n",
       " ('KY', Decimal('20263593.00')),\n",
       " ('NE', Decimal('20201009.00')),\n",
       " ('KS', Decimal('18057288.00')),\n",
       " ('IA', Decimal('14622468.00')),\n",
       " ('AL', Decimal('14241222.00')),\n",
       " ('SC', Decimal('13637291.00')),\n",
       " ('NH', Decimal('12861849.00')),\n",
       " ('NM', Decimal('12250010.00')),\n",
       " ('UT', Decimal('12067739.00')),\n",
       " ('ME', Decimal('10158564.00')),\n",
       " ('WY', Decimal('8612937.00')),\n",
       " ('ID', Decimal('7884364.00')),\n",
       " ('MS', Decimal('7314909.00')),\n",
       " ('RI', Decimal('6680584.00')),\n",
       " ('VT', Decimal('6667845.00')),\n",
       " ('HI', Decimal('6625788.00')),\n",
       " ('MT', Decimal('6005810.00')),\n",
       " ('AK', Decimal('5804304.00')),\n",
       " ('WV', Decimal('5069676.00')),\n",
       " ('DE', Decimal('5061406.00')),\n",
       " ('SD', Decimal('4366585.00')),\n",
       " ('ND', Decimal('3044628.00'))]"
      ]
     },
     "execution_count": 20,
     "metadata": {},
     "output_type": "execute_result"
    }
   ],
   "source": [
    "%%sql\n",
    "select b.state as State, sum(a.transaction_amt) as Contribution_Amount \n",
    "from CONTRIBUTION_FACT a \n",
    "join CONTRIBUTOR_LOCATION b on a.CONTRIBUTOR_LOCATION_KEY = b.CONTRIBUTOR_LOCATION_KEY \n",
    "join TYPE c on a.Type_Key = c.TYPE_key\n",
    "join date d on a.date_key = d.date_key\n",
    "where c.CONTRIBUTION_TYPE = 'IND_COM' \n",
    "        and b.state in ('CT', 'ME', 'MA', 'NH', 'RI', 'VT', 'NJ', 'NY', 'PA',\n",
    "                       'IL', 'IN', 'MI', 'OH', 'WI', 'IA', 'KS', 'MN', 'MO', 'NE', 'ND', 'SD',\n",
    "                       'DE', 'FL', 'GA', 'MD', 'NC', 'SC', 'VA', 'DC', 'WV', 'AL', 'KY', 'MS', 'TN', 'AR', 'LA', 'OK', 'TX',\n",
    "                       'AZ', 'CO', 'ID', 'MT', 'NV', 'NM', 'UT', 'WY', 'AK', 'CA', 'HI', 'OR', 'WA')\n",
    "        and d.year = 2016\n",
    "group by b.state\n",
    "order by sum(a.transaction_amt) desc"
   ]
  },
  {
   "cell_type": "code",
   "execution_count": 29,
   "metadata": {},
   "outputs": [
    {
     "data": {
      "text/html": [
       "<img src=\"https://dmfa-2020-lu.s3.amazonaws.com/Final+Project/Individual+Contribution+2016.png\"/>"
      ],
      "text/plain": [
       "<IPython.core.display.Image object>"
      ]
     },
     "execution_count": 29,
     "metadata": {},
     "output_type": "execute_result"
    }
   ],
   "source": [
    "from IPython.display import Image\n",
    "Image(url=\"https://dmfa-2020-lu.s3.amazonaws.com/Final+Project/Individual+Contribution+2016.png\")"
   ]
  },
  {
   "cell_type": "code",
   "execution_count": 30,
   "metadata": {},
   "outputs": [
    {
     "data": {
      "text/html": [
       "<img src=\"https://dmfa-2020-lu.s3.amazonaws.com/Final+Project/Individual+Contribution+2016+Zoomed.png\"/>"
      ],
      "text/plain": [
       "<IPython.core.display.Image object>"
      ]
     },
     "execution_count": 30,
     "metadata": {},
     "output_type": "execute_result"
    }
   ],
   "source": [
    "from IPython.display import Image\n",
    "Image(url=\"https://dmfa-2020-lu.s3.amazonaws.com/Final+Project/Individual+Contribution+2016+Zoomed.png\")"
   ]
  },
  {
   "cell_type": "markdown",
   "metadata": {},
   "source": [
    "__In 2016, the top five states by individual contribution are California, New York, Washington D.C., Florida, and Texas.__\n",
    "\n",
    "## 3. Committees contribution in 2020"
   ]
  },
  {
   "cell_type": "code",
   "execution_count": 21,
   "metadata": {},
   "outputs": [
    {
     "name": "stdout",
     "output_type": "stream",
     "text": [
      " * postgresql://student@/final_project_yu\n",
      "51 rows affected.\n"
     ]
    },
    {
     "data": {
      "text/html": [
       "<table>\n",
       "    <tr>\n",
       "        <th>state</th>\n",
       "        <th>contribution_amount</th>\n",
       "    </tr>\n",
       "    <tr>\n",
       "        <td>DC</td>\n",
       "        <td>2177781752.00</td>\n",
       "    </tr>\n",
       "    <tr>\n",
       "        <td>VA</td>\n",
       "        <td>790866248.00</td>\n",
       "    </tr>\n",
       "    <tr>\n",
       "        <td>CA</td>\n",
       "        <td>477983499.00</td>\n",
       "    </tr>\n",
       "    <tr>\n",
       "        <td>NY</td>\n",
       "        <td>450722534.00</td>\n",
       "    </tr>\n",
       "    <tr>\n",
       "        <td>IL</td>\n",
       "        <td>277360094.00</td>\n",
       "    </tr>\n",
       "    <tr>\n",
       "        <td>MA</td>\n",
       "        <td>238766396.00</td>\n",
       "    </tr>\n",
       "    <tr>\n",
       "        <td>TX</td>\n",
       "        <td>204707453.00</td>\n",
       "    </tr>\n",
       "    <tr>\n",
       "        <td>MD</td>\n",
       "        <td>201065997.00</td>\n",
       "    </tr>\n",
       "    <tr>\n",
       "        <td>OH</td>\n",
       "        <td>172816664.00</td>\n",
       "    </tr>\n",
       "    <tr>\n",
       "        <td>FL</td>\n",
       "        <td>169749627.00</td>\n",
       "    </tr>\n",
       "    <tr>\n",
       "        <td>NV</td>\n",
       "        <td>142259159.00</td>\n",
       "    </tr>\n",
       "    <tr>\n",
       "        <td>GA</td>\n",
       "        <td>112425907.00</td>\n",
       "    </tr>\n",
       "    <tr>\n",
       "        <td>NC</td>\n",
       "        <td>100306965.00</td>\n",
       "    </tr>\n",
       "    <tr>\n",
       "        <td>PA</td>\n",
       "        <td>91578886.00</td>\n",
       "    </tr>\n",
       "    <tr>\n",
       "        <td>MI</td>\n",
       "        <td>85161172.00</td>\n",
       "    </tr>\n",
       "    <tr>\n",
       "        <td>UT</td>\n",
       "        <td>66689639.00</td>\n",
       "    </tr>\n",
       "    <tr>\n",
       "        <td>AZ</td>\n",
       "        <td>63819966.00</td>\n",
       "    </tr>\n",
       "    <tr>\n",
       "        <td>NJ</td>\n",
       "        <td>55314732.00</td>\n",
       "    </tr>\n",
       "    <tr>\n",
       "        <td>IA</td>\n",
       "        <td>54305938.00</td>\n",
       "    </tr>\n",
       "    <tr>\n",
       "        <td>MN</td>\n",
       "        <td>53232439.00</td>\n",
       "    </tr>\n",
       "    <tr>\n",
       "        <td>CO</td>\n",
       "        <td>53005871.00</td>\n",
       "    </tr>\n",
       "    <tr>\n",
       "        <td>WA</td>\n",
       "        <td>49449065.00</td>\n",
       "    </tr>\n",
       "    <tr>\n",
       "        <td>SC</td>\n",
       "        <td>39585405.00</td>\n",
       "    </tr>\n",
       "    <tr>\n",
       "        <td>WI</td>\n",
       "        <td>37697968.00</td>\n",
       "    </tr>\n",
       "    <tr>\n",
       "        <td>TN</td>\n",
       "        <td>34461580.00</td>\n",
       "    </tr>\n",
       "    <tr>\n",
       "        <td>KS</td>\n",
       "        <td>31438498.00</td>\n",
       "    </tr>\n",
       "    <tr>\n",
       "        <td>LA</td>\n",
       "        <td>30669506.00</td>\n",
       "    </tr>\n",
       "    <tr>\n",
       "        <td>IN</td>\n",
       "        <td>28509137.00</td>\n",
       "    </tr>\n",
       "    <tr>\n",
       "        <td>ME</td>\n",
       "        <td>27810614.00</td>\n",
       "    </tr>\n",
       "    <tr>\n",
       "        <td>MO</td>\n",
       "        <td>24851378.00</td>\n",
       "    </tr>\n",
       "    <tr>\n",
       "        <td>CT</td>\n",
       "        <td>24264914.00</td>\n",
       "    </tr>\n",
       "    <tr>\n",
       "        <td>NE</td>\n",
       "        <td>24193109.00</td>\n",
       "    </tr>\n",
       "    <tr>\n",
       "        <td>OR</td>\n",
       "        <td>22819054.00</td>\n",
       "    </tr>\n",
       "    <tr>\n",
       "        <td>AL</td>\n",
       "        <td>22706155.00</td>\n",
       "    </tr>\n",
       "    <tr>\n",
       "        <td>DE</td>\n",
       "        <td>22210553.00</td>\n",
       "    </tr>\n",
       "    <tr>\n",
       "        <td>MT</td>\n",
       "        <td>22064603.00</td>\n",
       "    </tr>\n",
       "    <tr>\n",
       "        <td>KY</td>\n",
       "        <td>21196418.00</td>\n",
       "    </tr>\n",
       "    <tr>\n",
       "        <td>WY</td>\n",
       "        <td>18913666.00</td>\n",
       "    </tr>\n",
       "    <tr>\n",
       "        <td>NH</td>\n",
       "        <td>16505154.00</td>\n",
       "    </tr>\n",
       "    <tr>\n",
       "        <td>NM</td>\n",
       "        <td>15671395.00</td>\n",
       "    </tr>\n",
       "    <tr>\n",
       "        <td>OK</td>\n",
       "        <td>14701283.00</td>\n",
       "    </tr>\n",
       "    <tr>\n",
       "        <td>MS</td>\n",
       "        <td>10239572.00</td>\n",
       "    </tr>\n",
       "    <tr>\n",
       "        <td>AK</td>\n",
       "        <td>9793078.00</td>\n",
       "    </tr>\n",
       "    <tr>\n",
       "        <td>AR</td>\n",
       "        <td>9139141.00</td>\n",
       "    </tr>\n",
       "    <tr>\n",
       "        <td>ID</td>\n",
       "        <td>6366502.00</td>\n",
       "    </tr>\n",
       "    <tr>\n",
       "        <td>WV</td>\n",
       "        <td>6119840.00</td>\n",
       "    </tr>\n",
       "    <tr>\n",
       "        <td>RI</td>\n",
       "        <td>5563114.00</td>\n",
       "    </tr>\n",
       "    <tr>\n",
       "        <td>VT</td>\n",
       "        <td>3935364.00</td>\n",
       "    </tr>\n",
       "    <tr>\n",
       "        <td>SD</td>\n",
       "        <td>3912231.00</td>\n",
       "    </tr>\n",
       "    <tr>\n",
       "        <td>ND</td>\n",
       "        <td>3650789.00</td>\n",
       "    </tr>\n",
       "    <tr>\n",
       "        <td>HI</td>\n",
       "        <td>3341287.00</td>\n",
       "    </tr>\n",
       "</table>"
      ],
      "text/plain": [
       "[('DC', Decimal('2177781752.00')),\n",
       " ('VA', Decimal('790866248.00')),\n",
       " ('CA', Decimal('477983499.00')),\n",
       " ('NY', Decimal('450722534.00')),\n",
       " ('IL', Decimal('277360094.00')),\n",
       " ('MA', Decimal('238766396.00')),\n",
       " ('TX', Decimal('204707453.00')),\n",
       " ('MD', Decimal('201065997.00')),\n",
       " ('OH', Decimal('172816664.00')),\n",
       " ('FL', Decimal('169749627.00')),\n",
       " ('NV', Decimal('142259159.00')),\n",
       " ('GA', Decimal('112425907.00')),\n",
       " ('NC', Decimal('100306965.00')),\n",
       " ('PA', Decimal('91578886.00')),\n",
       " ('MI', Decimal('85161172.00')),\n",
       " ('UT', Decimal('66689639.00')),\n",
       " ('AZ', Decimal('63819966.00')),\n",
       " ('NJ', Decimal('55314732.00')),\n",
       " ('IA', Decimal('54305938.00')),\n",
       " ('MN', Decimal('53232439.00')),\n",
       " ('CO', Decimal('53005871.00')),\n",
       " ('WA', Decimal('49449065.00')),\n",
       " ('SC', Decimal('39585405.00')),\n",
       " ('WI', Decimal('37697968.00')),\n",
       " ('TN', Decimal('34461580.00')),\n",
       " ('KS', Decimal('31438498.00')),\n",
       " ('LA', Decimal('30669506.00')),\n",
       " ('IN', Decimal('28509137.00')),\n",
       " ('ME', Decimal('27810614.00')),\n",
       " ('MO', Decimal('24851378.00')),\n",
       " ('CT', Decimal('24264914.00')),\n",
       " ('NE', Decimal('24193109.00')),\n",
       " ('OR', Decimal('22819054.00')),\n",
       " ('AL', Decimal('22706155.00')),\n",
       " ('DE', Decimal('22210553.00')),\n",
       " ('MT', Decimal('22064603.00')),\n",
       " ('KY', Decimal('21196418.00')),\n",
       " ('WY', Decimal('18913666.00')),\n",
       " ('NH', Decimal('16505154.00')),\n",
       " ('NM', Decimal('15671395.00')),\n",
       " ('OK', Decimal('14701283.00')),\n",
       " ('MS', Decimal('10239572.00')),\n",
       " ('AK', Decimal('9793078.00')),\n",
       " ('AR', Decimal('9139141.00')),\n",
       " ('ID', Decimal('6366502.00')),\n",
       " ('WV', Decimal('6119840.00')),\n",
       " ('RI', Decimal('5563114.00')),\n",
       " ('VT', Decimal('3935364.00')),\n",
       " ('SD', Decimal('3912231.00')),\n",
       " ('ND', Decimal('3650789.00')),\n",
       " ('HI', Decimal('3341287.00'))]"
      ]
     },
     "execution_count": 21,
     "metadata": {},
     "output_type": "execute_result"
    }
   ],
   "source": [
    "%%sql\n",
    "select b.state as State, sum(a.transaction_amt) as Contribution_Amount \n",
    "from CONTRIBUTION_FACT a \n",
    "join CONTRIBUTOR_LOCATION b on a.CONTRIBUTOR_LOCATION_KEY = b.CONTRIBUTOR_LOCATION_KEY \n",
    "join TYPE c on a.Type_Key = c.TYPE_key\n",
    "join date d on a.date_key = d.date_key\n",
    "where (c.CONTRIBUTION_TYPE = 'COM_COM' or c.CONTRIBUTION_TYPE = 'COM_CAN')\n",
    "        and b.state in ('CT', 'ME', 'MA', 'NH', 'RI', 'VT', 'NJ', 'NY', 'PA',\n",
    "                       'IL', 'IN', 'MI', 'OH', 'WI', 'IA', 'KS', 'MN', 'MO', 'NE', 'ND', 'SD',\n",
    "                       'DE', 'FL', 'GA', 'MD', 'NC', 'SC', 'VA', 'DC', 'WV', 'AL', 'KY', 'MS', 'TN', 'AR', 'LA', 'OK', 'TX',\n",
    "                       'AZ', 'CO', 'ID', 'MT', 'NV', 'NM', 'UT', 'WY', 'AK', 'CA', 'HI', 'OR', 'WA')\n",
    "        and d.year = 2020\n",
    "group by b.state\n",
    "order by sum(a.transaction_amt) desc"
   ]
  },
  {
   "cell_type": "code",
   "execution_count": 31,
   "metadata": {},
   "outputs": [
    {
     "data": {
      "text/html": [
       "<img src=\"https://dmfa-2020-lu.s3.amazonaws.com/Final+Project/Committee+Contribution+2020.png\"/>"
      ],
      "text/plain": [
       "<IPython.core.display.Image object>"
      ]
     },
     "execution_count": 31,
     "metadata": {},
     "output_type": "execute_result"
    }
   ],
   "source": [
    "from IPython.display import Image\n",
    "Image(url=\"https://dmfa-2020-lu.s3.amazonaws.com/Final+Project/Committee+Contribution+2020.png\")"
   ]
  },
  {
   "cell_type": "code",
   "execution_count": 40,
   "metadata": {},
   "outputs": [
    {
     "data": {
      "text/html": [
       "<img src=\"https://dmfa-2020-lu.s3.amazonaws.com/Final+Project/Committee+Contribution+2020+Zoomed.png\"/>"
      ],
      "text/plain": [
       "<IPython.core.display.Image object>"
      ]
     },
     "execution_count": 40,
     "metadata": {},
     "output_type": "execute_result"
    }
   ],
   "source": [
    "from IPython.display import Image\n",
    "Image(url=\"https://dmfa-2020-lu.s3.amazonaws.com/Final+Project/Committee+Contribution+2020+Zoomed.png\")"
   ]
  },
  {
   "cell_type": "markdown",
   "metadata": {},
   "source": [
    "__In 2020, the top 5 states by committee contribution are Washington D.C., Virginia, California, New York, and Illinois.__\n",
    "\n",
    "## 4. Individual contribution in 2020"
   ]
  },
  {
   "cell_type": "code",
   "execution_count": 22,
   "metadata": {},
   "outputs": [
    {
     "name": "stdout",
     "output_type": "stream",
     "text": [
      " * postgresql://student@/final_project_yu\n",
      "51 rows affected.\n"
     ]
    },
    {
     "data": {
      "text/html": [
       "<table>\n",
       "    <tr>\n",
       "        <th>state</th>\n",
       "        <th>contribution_amount</th>\n",
       "    </tr>\n",
       "    <tr>\n",
       "        <td>NY</td>\n",
       "        <td>1442583243.00</td>\n",
       "    </tr>\n",
       "    <tr>\n",
       "        <td>CA</td>\n",
       "        <td>1148713390.00</td>\n",
       "    </tr>\n",
       "    <tr>\n",
       "        <td>TX</td>\n",
       "        <td>463274124.00</td>\n",
       "    </tr>\n",
       "    <tr>\n",
       "        <td>FL</td>\n",
       "        <td>398769559.00</td>\n",
       "    </tr>\n",
       "    <tr>\n",
       "        <td>DC</td>\n",
       "        <td>368611458.00</td>\n",
       "    </tr>\n",
       "    <tr>\n",
       "        <td>VA</td>\n",
       "        <td>328249352.00</td>\n",
       "    </tr>\n",
       "    <tr>\n",
       "        <td>IL</td>\n",
       "        <td>268060022.00</td>\n",
       "    </tr>\n",
       "    <tr>\n",
       "        <td>NV</td>\n",
       "        <td>242969170.00</td>\n",
       "    </tr>\n",
       "    <tr>\n",
       "        <td>MA</td>\n",
       "        <td>236361597.00</td>\n",
       "    </tr>\n",
       "    <tr>\n",
       "        <td>WA</td>\n",
       "        <td>169981132.00</td>\n",
       "    </tr>\n",
       "    <tr>\n",
       "        <td>PA</td>\n",
       "        <td>158388530.00</td>\n",
       "    </tr>\n",
       "    <tr>\n",
       "        <td>GA</td>\n",
       "        <td>137720759.00</td>\n",
       "    </tr>\n",
       "    <tr>\n",
       "        <td>CO</td>\n",
       "        <td>122004767.00</td>\n",
       "    </tr>\n",
       "    <tr>\n",
       "        <td>MD</td>\n",
       "        <td>117870543.00</td>\n",
       "    </tr>\n",
       "    <tr>\n",
       "        <td>MI</td>\n",
       "        <td>117445507.00</td>\n",
       "    </tr>\n",
       "    <tr>\n",
       "        <td>NJ</td>\n",
       "        <td>115093299.00</td>\n",
       "    </tr>\n",
       "    <tr>\n",
       "        <td>AZ</td>\n",
       "        <td>105714703.00</td>\n",
       "    </tr>\n",
       "    <tr>\n",
       "        <td>NC</td>\n",
       "        <td>102848422.00</td>\n",
       "    </tr>\n",
       "    <tr>\n",
       "        <td>OH</td>\n",
       "        <td>99917345.00</td>\n",
       "    </tr>\n",
       "    <tr>\n",
       "        <td>DE</td>\n",
       "        <td>85729135.00</td>\n",
       "    </tr>\n",
       "    <tr>\n",
       "        <td>CT</td>\n",
       "        <td>81732359.00</td>\n",
       "    </tr>\n",
       "    <tr>\n",
       "        <td>MN</td>\n",
       "        <td>76751097.00</td>\n",
       "    </tr>\n",
       "    <tr>\n",
       "        <td>TN</td>\n",
       "        <td>75892334.00</td>\n",
       "    </tr>\n",
       "    <tr>\n",
       "        <td>OR</td>\n",
       "        <td>62074557.00</td>\n",
       "    </tr>\n",
       "    <tr>\n",
       "        <td>IN</td>\n",
       "        <td>59742814.00</td>\n",
       "    </tr>\n",
       "    <tr>\n",
       "        <td>WI</td>\n",
       "        <td>58565549.00</td>\n",
       "    </tr>\n",
       "    <tr>\n",
       "        <td>MO</td>\n",
       "        <td>57843230.00</td>\n",
       "    </tr>\n",
       "    <tr>\n",
       "        <td>WY</td>\n",
       "        <td>56840376.00</td>\n",
       "    </tr>\n",
       "    <tr>\n",
       "        <td>SC</td>\n",
       "        <td>47803628.00</td>\n",
       "    </tr>\n",
       "    <tr>\n",
       "        <td>AL</td>\n",
       "        <td>41108262.00</td>\n",
       "    </tr>\n",
       "    <tr>\n",
       "        <td>LA</td>\n",
       "        <td>40371857.00</td>\n",
       "    </tr>\n",
       "    <tr>\n",
       "        <td>KS</td>\n",
       "        <td>39550934.00</td>\n",
       "    </tr>\n",
       "    <tr>\n",
       "        <td>OK</td>\n",
       "        <td>39317763.00</td>\n",
       "    </tr>\n",
       "    <tr>\n",
       "        <td>AR</td>\n",
       "        <td>36448853.00</td>\n",
       "    </tr>\n",
       "    <tr>\n",
       "        <td>NM</td>\n",
       "        <td>36254901.00</td>\n",
       "    </tr>\n",
       "    <tr>\n",
       "        <td>KY</td>\n",
       "        <td>31787506.00</td>\n",
       "    </tr>\n",
       "    <tr>\n",
       "        <td>IA</td>\n",
       "        <td>29628171.00</td>\n",
       "    </tr>\n",
       "    <tr>\n",
       "        <td>NE</td>\n",
       "        <td>27860071.00</td>\n",
       "    </tr>\n",
       "    <tr>\n",
       "        <td>UT</td>\n",
       "        <td>26894578.00</td>\n",
       "    </tr>\n",
       "    <tr>\n",
       "        <td>ME</td>\n",
       "        <td>20452996.00</td>\n",
       "    </tr>\n",
       "    <tr>\n",
       "        <td>ID</td>\n",
       "        <td>20146360.00</td>\n",
       "    </tr>\n",
       "    <tr>\n",
       "        <td>NH</td>\n",
       "        <td>19532054.00</td>\n",
       "    </tr>\n",
       "    <tr>\n",
       "        <td>MT</td>\n",
       "        <td>18901776.00</td>\n",
       "    </tr>\n",
       "    <tr>\n",
       "        <td>MS</td>\n",
       "        <td>16126232.00</td>\n",
       "    </tr>\n",
       "    <tr>\n",
       "        <td>AK</td>\n",
       "        <td>14196159.00</td>\n",
       "    </tr>\n",
       "    <tr>\n",
       "        <td>HI</td>\n",
       "        <td>13996159.00</td>\n",
       "    </tr>\n",
       "    <tr>\n",
       "        <td>RI</td>\n",
       "        <td>11850363.00</td>\n",
       "    </tr>\n",
       "    <tr>\n",
       "        <td>VT</td>\n",
       "        <td>9524846.00</td>\n",
       "    </tr>\n",
       "    <tr>\n",
       "        <td>WV</td>\n",
       "        <td>8275417.00</td>\n",
       "    </tr>\n",
       "    <tr>\n",
       "        <td>ND</td>\n",
       "        <td>7750442.00</td>\n",
       "    </tr>\n",
       "    <tr>\n",
       "        <td>SD</td>\n",
       "        <td>7743536.00</td>\n",
       "    </tr>\n",
       "</table>"
      ],
      "text/plain": [
       "[('NY', Decimal('1442583243.00')),\n",
       " ('CA', Decimal('1148713390.00')),\n",
       " ('TX', Decimal('463274124.00')),\n",
       " ('FL', Decimal('398769559.00')),\n",
       " ('DC', Decimal('368611458.00')),\n",
       " ('VA', Decimal('328249352.00')),\n",
       " ('IL', Decimal('268060022.00')),\n",
       " ('NV', Decimal('242969170.00')),\n",
       " ('MA', Decimal('236361597.00')),\n",
       " ('WA', Decimal('169981132.00')),\n",
       " ('PA', Decimal('158388530.00')),\n",
       " ('GA', Decimal('137720759.00')),\n",
       " ('CO', Decimal('122004767.00')),\n",
       " ('MD', Decimal('117870543.00')),\n",
       " ('MI', Decimal('117445507.00')),\n",
       " ('NJ', Decimal('115093299.00')),\n",
       " ('AZ', Decimal('105714703.00')),\n",
       " ('NC', Decimal('102848422.00')),\n",
       " ('OH', Decimal('99917345.00')),\n",
       " ('DE', Decimal('85729135.00')),\n",
       " ('CT', Decimal('81732359.00')),\n",
       " ('MN', Decimal('76751097.00')),\n",
       " ('TN', Decimal('75892334.00')),\n",
       " ('OR', Decimal('62074557.00')),\n",
       " ('IN', Decimal('59742814.00')),\n",
       " ('WI', Decimal('58565549.00')),\n",
       " ('MO', Decimal('57843230.00')),\n",
       " ('WY', Decimal('56840376.00')),\n",
       " ('SC', Decimal('47803628.00')),\n",
       " ('AL', Decimal('41108262.00')),\n",
       " ('LA', Decimal('40371857.00')),\n",
       " ('KS', Decimal('39550934.00')),\n",
       " ('OK', Decimal('39317763.00')),\n",
       " ('AR', Decimal('36448853.00')),\n",
       " ('NM', Decimal('36254901.00')),\n",
       " ('KY', Decimal('31787506.00')),\n",
       " ('IA', Decimal('29628171.00')),\n",
       " ('NE', Decimal('27860071.00')),\n",
       " ('UT', Decimal('26894578.00')),\n",
       " ('ME', Decimal('20452996.00')),\n",
       " ('ID', Decimal('20146360.00')),\n",
       " ('NH', Decimal('19532054.00')),\n",
       " ('MT', Decimal('18901776.00')),\n",
       " ('MS', Decimal('16126232.00')),\n",
       " ('AK', Decimal('14196159.00')),\n",
       " ('HI', Decimal('13996159.00')),\n",
       " ('RI', Decimal('11850363.00')),\n",
       " ('VT', Decimal('9524846.00')),\n",
       " ('WV', Decimal('8275417.00')),\n",
       " ('ND', Decimal('7750442.00')),\n",
       " ('SD', Decimal('7743536.00'))]"
      ]
     },
     "execution_count": 22,
     "metadata": {},
     "output_type": "execute_result"
    }
   ],
   "source": [
    "%%sql\n",
    "select b.state as State, sum(a.transaction_amt) as Contribution_Amount \n",
    "from CONTRIBUTION_FACT a \n",
    "join CONTRIBUTOR_LOCATION b on a.CONTRIBUTOR_LOCATION_KEY = b.CONTRIBUTOR_LOCATION_KEY \n",
    "join TYPE c on a.Type_Key = c.TYPE_key\n",
    "join date d on a.date_key = d.date_key\n",
    "where c.CONTRIBUTION_TYPE = 'IND_COM' \n",
    "        and b.state in ('CT', 'ME', 'MA', 'NH', 'RI', 'VT', 'NJ', 'NY', 'PA',\n",
    "                       'IL', 'IN', 'MI', 'OH', 'WI', 'IA', 'KS', 'MN', 'MO', 'NE', 'ND', 'SD',\n",
    "                       'DE', 'FL', 'GA', 'MD', 'NC', 'SC', 'VA', 'DC', 'WV', 'AL', 'KY', 'MS', 'TN', 'AR', 'LA', 'OK', 'TX',\n",
    "                       'AZ', 'CO', 'ID', 'MT', 'NV', 'NM', 'UT', 'WY', 'AK', 'CA', 'HI', 'OR', 'WA')\n",
    "        and d.year = 2020\n",
    "group by b.state\n",
    "order by sum(a.transaction_amt) desc"
   ]
  },
  {
   "cell_type": "code",
   "execution_count": 33,
   "metadata": {},
   "outputs": [
    {
     "data": {
      "text/html": [
       "<img src=\"https://dmfa-2020-lu.s3.amazonaws.com/Final+Project/Individual+Contribution+2020.png\"/>"
      ],
      "text/plain": [
       "<IPython.core.display.Image object>"
      ]
     },
     "execution_count": 33,
     "metadata": {},
     "output_type": "execute_result"
    }
   ],
   "source": [
    "from IPython.display import Image\n",
    "Image(url=\"https://dmfa-2020-lu.s3.amazonaws.com/Final+Project/Individual+Contribution+2020.png\")"
   ]
  },
  {
   "cell_type": "code",
   "execution_count": 34,
   "metadata": {},
   "outputs": [
    {
     "data": {
      "text/html": [
       "<img src=\"https://dmfa-2020-lu.s3.amazonaws.com/Final+Project/Individual+Contribution+2020+Zoomed.png\"/>"
      ],
      "text/plain": [
       "<IPython.core.display.Image object>"
      ]
     },
     "execution_count": 34,
     "metadata": {},
     "output_type": "execute_result"
    }
   ],
   "source": [
    "from IPython.display import Image\n",
    "Image(url=\"https://dmfa-2020-lu.s3.amazonaws.com/Final+Project/Individual+Contribution+2020+Zoomed.png\")"
   ]
  },
  {
   "cell_type": "markdown",
   "metadata": {},
   "source": [
    "__In 2020, the top 5 states by individual contribution are New York, California, Texas, Florida, and Washington D.C.__\n",
    "\n",
    "### Main takeaways:\n",
    "1. Committees on the east coast, in states like Washington D.C., New York, and Virginia, contributed more than committees in other parts of the country in the last two elections. On the West coast, California is where committees contributed the most.\n",
    "2. States that are heavily populated, such as New York, California, Texas, and Florida, except for Washington that has a smaller population, dominated individual contribution in the last two elections.\n",
    "3. We can see from the heatmap for committee contribution in 2016 and 2020 that the total amount of committee contribution from all states doesn't change much from 2016 and 2020, as the colors are roughly the same. In fact, committees in New York, Virginia, and Maryland contributed noticeably less in 2020 than they did in 2016. \n",
    "4. But for individual contributors, 2020 is definitely a bigger year than 2016, as colors in New York, California, Florida, and Texas turns significantly darker. In New York and California, individual contribution is more than doubled from 2016 to 2020.\n",
    "\n",
    "__ __"
   ]
  },
  {
   "cell_type": "markdown",
   "metadata": {},
   "source": [
    "# Question 5 - Contribution Comparison for Trump, Biden, Clinton in year 2020 and 2016"
   ]
  },
  {
   "cell_type": "markdown",
   "metadata": {},
   "source": [
    "## 1. Total amount by individual and by Committee\n",
    "### a. In Year 2020"
   ]
  },
  {
   "cell_type": "code",
   "execution_count": 34,
   "metadata": {},
   "outputs": [
    {
     "name": "stdout",
     "output_type": "stream",
     "text": [
      " * postgresql://student@/final_project_yu\n",
      "2 rows affected.\n"
     ]
    },
    {
     "data": {
      "text/html": [
       "<table>\n",
       "    <tr>\n",
       "        <th>cmte_id</th>\n",
       "        <th>cand_name</th>\n",
       "        <th>year</th>\n",
       "        <th>trans_from_auth</th>\n",
       "        <th>ttl_indiv_contrib</th>\n",
       "        <th>total_contrib_received</th>\n",
       "    </tr>\n",
       "    <tr>\n",
       "        <td>C00580100</td>\n",
       "        <td>TRUMP, DONALD J.</td>\n",
       "        <td>2020</td>\n",
       "        <td>214226159.34</td>\n",
       "        <td>316611498.84</td>\n",
       "        <td>530837658.18</td>\n",
       "    </tr>\n",
       "    <tr>\n",
       "        <td>C00703975</td>\n",
       "        <td>BIDEN, JOSEPH R JR</td>\n",
       "        <td>2020</td>\n",
       "        <td>229500000.00</td>\n",
       "        <td>719798548.33</td>\n",
       "        <td>949298548.33</td>\n",
       "    </tr>\n",
       "</table>"
      ],
      "text/plain": [
       "[('C00580100', 'TRUMP, DONALD J.', 2020, Decimal('214226159.34'), Decimal('316611498.84'), Decimal('530837658.18')),\n",
       " ('C00703975', 'BIDEN, JOSEPH R JR', 2020, Decimal('229500000.00'), Decimal('719798548.33'), Decimal('949298548.33'))]"
      ]
     },
     "execution_count": 34,
     "metadata": {},
     "output_type": "execute_result"
    }
   ],
   "source": [
    "%%sql\n",
    "select cl.cmte_id, c.cand_name, cy.year, trans_from_auth, ttl_indiv_contrib,\n",
    "    sum(trans_from_auth + ttl_indiv_contrib) total_contrib_received\n",
    "from all_candidate\n",
    "JOIN CMTE_LINK AS cl\n",
    "ON cl.cmte_link_key = all_candidate.cmte_link_key\n",
    "JOIN Candidate_Info AS c\n",
    "ON c.info_key = all_candidate.info_key\n",
    "JOIN Coverage_Year AS cy\n",
    "ON cy.coverage_year_key = all_candidate.coverage_year_key\n",
    "where cy.year = 2020 and c.cand_name like '%TRUMP, DONALD J.%' or cy.year = 2020 and c.cand_name = 'BIDEN, JOSEPH R JR'\n",
    "group by cl.cmte_id, cy.year, c.cand_name, trans_from_auth, ttl_indiv_contrib\n",
    ";"
   ]
  },
  {
   "cell_type": "markdown",
   "metadata": {},
   "source": [
    "__2020 TRUMP VS BIDEN__\n",
    "\n",
    "__TRUMP:__\n",
    "+ amount of contributions from committees  ~215 millions\n",
    "+ amount of contributions from individuals  ~315 millions\n",
    "+ amount of total contributions from committees and individuals  ~530 millions\n",
    "\n",
    "__BIDEN:__\n",
    "+ amount of contributions from committees  ~230 millions\n",
    "+ amount of contributions from individuals  ~720 millions\n",
    "+ amount of total contributions from committees and individuals  ~950 millions"
   ]
  },
  {
   "cell_type": "code",
   "execution_count": 35,
   "metadata": {},
   "outputs": [
    {
     "data": {
      "text/html": [
       "<img src=\"https://raw.githubusercontent.com/rainieluo2016/ISTM_6212/main/2020biden%26trump.png\"/>"
      ],
      "text/plain": [
       "<IPython.core.display.Image object>"
      ]
     },
     "execution_count": 35,
     "metadata": {},
     "output_type": "execute_result"
    }
   ],
   "source": [
    "from IPython.display import Image\n",
    "Image(url=\"https://raw.githubusercontent.com/rainieluo2016/ISTM_6212/main/2020biden%26trump.png\")"
   ]
  },
  {
   "cell_type": "markdown",
   "metadata": {},
   "source": [
    "### b. In Year 2016"
   ]
  },
  {
   "cell_type": "code",
   "execution_count": 35,
   "metadata": {},
   "outputs": [
    {
     "name": "stdout",
     "output_type": "stream",
     "text": [
      " * postgresql://student@/final_project_yu\n",
      "2 rows affected.\n"
     ]
    },
    {
     "data": {
      "text/html": [
       "<table>\n",
       "    <tr>\n",
       "        <th>cmte_id</th>\n",
       "        <th>cand_name</th>\n",
       "        <th>year</th>\n",
       "        <th>trans_from_auth</th>\n",
       "        <th>ttl_indiv_contrib</th>\n",
       "        <th>total_contrib_received</th>\n",
       "    </tr>\n",
       "    <tr>\n",
       "        <td>C00577395</td>\n",
       "        <td>CLINTON, HILLARY RODHAM / TIMOTHY MICHAEL KAINE</td>\n",
       "        <td>2016</td>\n",
       "        <td>160760000.00</td>\n",
       "        <td>405664230.47</td>\n",
       "        <td>566424230.47</td>\n",
       "    </tr>\n",
       "    <tr>\n",
       "        <td>C00580100</td>\n",
       "        <td>TRUMP, DONALD J.</td>\n",
       "        <td>2016</td>\n",
       "        <td>134598597.72</td>\n",
       "        <td>133622961.93</td>\n",
       "        <td>268221559.65</td>\n",
       "    </tr>\n",
       "</table>"
      ],
      "text/plain": [
       "[('C00577395', 'CLINTON, HILLARY RODHAM / TIMOTHY MICHAEL KAINE', 2016, Decimal('160760000.00'), Decimal('405664230.47'), Decimal('566424230.47')),\n",
       " ('C00580100', 'TRUMP, DONALD J.', 2016, Decimal('134598597.72'), Decimal('133622961.93'), Decimal('268221559.65'))]"
      ]
     },
     "execution_count": 35,
     "metadata": {},
     "output_type": "execute_result"
    }
   ],
   "source": [
    "%%sql\n",
    "select cl.cmte_id, c.cand_name, cy.year, trans_from_auth, ttl_indiv_contrib,\n",
    "    sum(trans_from_auth + ttl_indiv_contrib) total_contrib_received\n",
    "from all_candidate\n",
    "JOIN CMTE_LINK AS cl\n",
    "ON cl.cmte_link_key = all_candidate.cmte_link_key\n",
    "JOIN Candidate_Info AS c\n",
    "ON c.info_key = all_candidate.info_key\n",
    "JOIN Coverage_Year AS cy\n",
    "ON cy.coverage_year_key = all_candidate.coverage_year_key\n",
    "where cy.year = 2016 and c.cand_name like '%TRUMP%' or cy.year = 2016 and c.cand_name like 'CLINTON, HILLARY RODHAM / TIMOTHY MICHAEL KAINE'\n",
    "group by cl.cmte_id, cy.year, c.cand_name, trans_from_auth, ttl_indiv_contrib\n",
    ";"
   ]
  },
  {
   "cell_type": "markdown",
   "metadata": {},
   "source": [
    "__2016 CLINTON VS TRUMP__\n",
    "\n",
    "__CLINTON:__\n",
    "+ amount of contributions from committees  ~160 millions\n",
    "+ amount of contributions from individuals  ~405 millions\n",
    "+ amount of total contributions from committees and individuals  ~566 millions\n",
    "\n",
    "__TRUMP:__\n",
    "+ amount of contributions from committees  ~135 millions\n",
    "+ amount of contributions from individuals  ~134 millions\n",
    "+ amount of total contributions from committees and individuals  ~268 millions"
   ]
  },
  {
   "cell_type": "code",
   "execution_count": 36,
   "metadata": {},
   "outputs": [
    {
     "data": {
      "text/html": [
       "<img src=\"https://raw.githubusercontent.com/rainieluo2016/ISTM_6212/main/2016clinton%26trump.png\"/>"
      ],
      "text/plain": [
       "<IPython.core.display.Image object>"
      ]
     },
     "execution_count": 36,
     "metadata": {},
     "output_type": "execute_result"
    }
   ],
   "source": [
    "from IPython.display import Image\n",
    "Image(url=\"https://raw.githubusercontent.com/rainieluo2016/ISTM_6212/main/2016clinton%26trump.png\")"
   ]
  },
  {
   "cell_type": "markdown",
   "metadata": {},
   "source": [
    "### c. Trump in Year 2020 vs in Year 2016"
   ]
  },
  {
   "cell_type": "code",
   "execution_count": 36,
   "metadata": {},
   "outputs": [
    {
     "name": "stdout",
     "output_type": "stream",
     "text": [
      " * postgresql://student@/final_project_yu\n",
      "2 rows affected.\n"
     ]
    },
    {
     "data": {
      "text/html": [
       "<table>\n",
       "    <tr>\n",
       "        <th>cmte_id</th>\n",
       "        <th>cand_name</th>\n",
       "        <th>year</th>\n",
       "        <th>trans_from_auth</th>\n",
       "        <th>ttl_indiv_contrib</th>\n",
       "        <th>total_contrib_received</th>\n",
       "    </tr>\n",
       "    <tr>\n",
       "        <td>C00580100</td>\n",
       "        <td>TRUMP, DONALD J.</td>\n",
       "        <td>2016</td>\n",
       "        <td>134598597.72</td>\n",
       "        <td>133622961.93</td>\n",
       "        <td>268221559.65</td>\n",
       "    </tr>\n",
       "    <tr>\n",
       "        <td>C00580100</td>\n",
       "        <td>TRUMP, DONALD J.</td>\n",
       "        <td>2020</td>\n",
       "        <td>214226159.34</td>\n",
       "        <td>316611498.84</td>\n",
       "        <td>530837658.18</td>\n",
       "    </tr>\n",
       "</table>"
      ],
      "text/plain": [
       "[('C00580100', 'TRUMP, DONALD J.', 2016, Decimal('134598597.72'), Decimal('133622961.93'), Decimal('268221559.65')),\n",
       " ('C00580100', 'TRUMP, DONALD J.', 2020, Decimal('214226159.34'), Decimal('316611498.84'), Decimal('530837658.18'))]"
      ]
     },
     "execution_count": 36,
     "metadata": {},
     "output_type": "execute_result"
    }
   ],
   "source": [
    "%%sql\n",
    "select cl.cmte_id, c.cand_name, cy.year, trans_from_auth, ttl_indiv_contrib,\n",
    "    sum(trans_from_auth + ttl_indiv_contrib) total_contrib_received\n",
    "from all_candidate\n",
    "JOIN CMTE_LINK AS cl\n",
    "ON cl.cmte_link_key = all_candidate.cmte_link_key\n",
    "JOIN Candidate_Info AS c\n",
    "ON c.info_key = all_candidate.info_key\n",
    "JOIN Coverage_Year AS cy\n",
    "ON cy.coverage_year_key = all_candidate.coverage_year_key\n",
    "where c.cand_name like '%TRUMP, DONALD J.%'\n",
    "group by cl.cmte_id, cy.year, c.cand_name, trans_from_auth, ttl_indiv_contrib;"
   ]
  },
  {
   "cell_type": "markdown",
   "metadata": {},
   "source": [
    "__2020 VS 2016 TRUMP__\n",
    "\n",
    "__2016:__\n",
    "+ amount of contributions from committees  ~135 millions\n",
    "+ amount of contributions from individuals  ~134 millions\n",
    "+ amount of total contributions from committees and individuals  ~268 millions\n",
    "\n",
    "__2020:__ \n",
    "+ amount of contributions from committees  ~215 millions\n",
    "+ amount of contributions from individuals  ~315 millions\n",
    "+ amount of total contributions from committees and individuals  ~530 millions"
   ]
  },
  {
   "cell_type": "code",
   "execution_count": 37,
   "metadata": {},
   "outputs": [
    {
     "data": {
      "text/html": [
       "<img src=\"https://raw.githubusercontent.com/rainieluo2016/ISTM_6212/main/2016%262020trump.png\"/>"
      ],
      "text/plain": [
       "<IPython.core.display.Image object>"
      ]
     },
     "execution_count": 37,
     "metadata": {},
     "output_type": "execute_result"
    }
   ],
   "source": [
    "from IPython.display import Image\n",
    "Image(url=\"https://raw.githubusercontent.com/rainieluo2016/ISTM_6212/main/2016%262020trump.png\")"
   ]
  },
  {
   "cell_type": "markdown",
   "metadata": {},
   "source": [
    "## 2. Contribution by individual break down by month"
   ]
  },
  {
   "cell_type": "markdown",
   "metadata": {},
   "source": [
    "__2020 Trump contribution from individual break down by month__"
   ]
  },
  {
   "cell_type": "code",
   "execution_count": 38,
   "metadata": {},
   "outputs": [
    {
     "name": "stdout",
     "output_type": "stream",
     "text": [
      " * postgresql://student@/final_project_yu\n",
      "10 rows affected.\n"
     ]
    },
    {
     "data": {
      "text/html": [
       "<table>\n",
       "    <tr>\n",
       "        <th>month</th>\n",
       "        <th>sum</th>\n",
       "    </tr>\n",
       "    <tr>\n",
       "        <td>1</td>\n",
       "        <td>2509156.00</td>\n",
       "    </tr>\n",
       "    <tr>\n",
       "        <td>2</td>\n",
       "        <td>1970497.00</td>\n",
       "    </tr>\n",
       "    <tr>\n",
       "        <td>3</td>\n",
       "        <td>1403127.00</td>\n",
       "    </tr>\n",
       "    <tr>\n",
       "        <td>4</td>\n",
       "        <td>2377366.00</td>\n",
       "    </tr>\n",
       "    <tr>\n",
       "        <td>5</td>\n",
       "        <td>3596392.00</td>\n",
       "    </tr>\n",
       "    <tr>\n",
       "        <td>6</td>\n",
       "        <td>10103820.00</td>\n",
       "    </tr>\n",
       "    <tr>\n",
       "        <td>7</td>\n",
       "        <td>11404479.00</td>\n",
       "    </tr>\n",
       "    <tr>\n",
       "        <td>8</td>\n",
       "        <td>20097930.00</td>\n",
       "    </tr>\n",
       "    <tr>\n",
       "        <td>9</td>\n",
       "        <td>35006601.00</td>\n",
       "    </tr>\n",
       "    <tr>\n",
       "        <td>10</td>\n",
       "        <td>45995968.00</td>\n",
       "    </tr>\n",
       "</table>"
      ],
      "text/plain": [
       "[(1, Decimal('2509156.00')),\n",
       " (2, Decimal('1970497.00')),\n",
       " (3, Decimal('1403127.00')),\n",
       " (4, Decimal('2377366.00')),\n",
       " (5, Decimal('3596392.00')),\n",
       " (6, Decimal('10103820.00')),\n",
       " (7, Decimal('11404479.00')),\n",
       " (8, Decimal('20097930.00')),\n",
       " (9, Decimal('35006601.00')),\n",
       " (10, Decimal('45995968.00'))]"
      ]
     },
     "execution_count": 38,
     "metadata": {},
     "output_type": "execute_result"
    }
   ],
   "source": [
    "%%sql\n",
    "select d.month, sum(transaction_amt)  from contribution_fact\n",
    "join beneficiary as b\n",
    "on b.BENEFICIARY_KEY = contribution_fact.BENEFICIARY_KEY\n",
    "join date as d\n",
    "on d.date_key = contribution_fact.date_key\n",
    "join TYPE as t\n",
    "on t.type_key = contribution_fact.type_key\n",
    "where d.year = 2020 and b.cmte_id = 'C00580100' and t.contribution_type = 'IND_COM'\n",
    "group by d.month\n",
    "order by d.month\n",
    ";"
   ]
  },
  {
   "cell_type": "markdown",
   "metadata": {},
   "source": [
    "__2016 Trump contribution by individual break down by month__"
   ]
  },
  {
   "cell_type": "code",
   "execution_count": 39,
   "metadata": {},
   "outputs": [
    {
     "name": "stdout",
     "output_type": "stream",
     "text": [
      " * postgresql://student@/final_project_yu\n",
      "10 rows affected.\n"
     ]
    },
    {
     "data": {
      "text/html": [
       "<table>\n",
       "    <tr>\n",
       "        <th>month</th>\n",
       "        <th>sum</th>\n",
       "    </tr>\n",
       "    <tr>\n",
       "        <td>1</td>\n",
       "        <td>268418.00</td>\n",
       "    </tr>\n",
       "    <tr>\n",
       "        <td>2</td>\n",
       "        <td>487818.00</td>\n",
       "    </tr>\n",
       "    <tr>\n",
       "        <td>3</td>\n",
       "        <td>721847.00</td>\n",
       "    </tr>\n",
       "    <tr>\n",
       "        <td>4</td>\n",
       "        <td>477240.00</td>\n",
       "    </tr>\n",
       "    <tr>\n",
       "        <td>5</td>\n",
       "        <td>1176479.00</td>\n",
       "    </tr>\n",
       "    <tr>\n",
       "        <td>6</td>\n",
       "        <td>9883291.00</td>\n",
       "    </tr>\n",
       "    <tr>\n",
       "        <td>7</td>\n",
       "        <td>11239106.00</td>\n",
       "    </tr>\n",
       "    <tr>\n",
       "        <td>8</td>\n",
       "        <td>8289708.00</td>\n",
       "    </tr>\n",
       "    <tr>\n",
       "        <td>9</td>\n",
       "        <td>7937314.00</td>\n",
       "    </tr>\n",
       "    <tr>\n",
       "        <td>10</td>\n",
       "        <td>26497069.00</td>\n",
       "    </tr>\n",
       "</table>"
      ],
      "text/plain": [
       "[(1, Decimal('268418.00')),\n",
       " (2, Decimal('487818.00')),\n",
       " (3, Decimal('721847.00')),\n",
       " (4, Decimal('477240.00')),\n",
       " (5, Decimal('1176479.00')),\n",
       " (6, Decimal('9883291.00')),\n",
       " (7, Decimal('11239106.00')),\n",
       " (8, Decimal('8289708.00')),\n",
       " (9, Decimal('7937314.00')),\n",
       " (10, Decimal('26497069.00'))]"
      ]
     },
     "execution_count": 39,
     "metadata": {},
     "output_type": "execute_result"
    }
   ],
   "source": [
    "%%sql\n",
    "select d.month, sum(transaction_amt)  from contribution_fact\n",
    "join beneficiary as b\n",
    "on b.BENEFICIARY_KEY = contribution_fact.BENEFICIARY_KEY\n",
    "join date as d\n",
    "on d.date_key = contribution_fact.date_key\n",
    "join TYPE as t\n",
    "on t.type_key = contribution_fact.type_key\n",
    "where d.year = 2016 and b.cmte_id = 'C00580100' and t.contribution_type = 'IND_COM'\n",
    "group by d.month\n",
    "order by d.month\n",
    ";"
   ]
  },
  {
   "cell_type": "markdown",
   "metadata": {},
   "source": [
    "__2020 Biden contribution by individual break down by month__"
   ]
  },
  {
   "cell_type": "code",
   "execution_count": 40,
   "metadata": {},
   "outputs": [
    {
     "name": "stdout",
     "output_type": "stream",
     "text": [
      " * postgresql://student@/final_project_yu\n",
      "10 rows affected.\n"
     ]
    },
    {
     "data": {
      "text/html": [
       "<table>\n",
       "    <tr>\n",
       "        <th>month</th>\n",
       "        <th>sum</th>\n",
       "    </tr>\n",
       "    <tr>\n",
       "        <td>1</td>\n",
       "        <td>6047480.00</td>\n",
       "    </tr>\n",
       "    <tr>\n",
       "        <td>2</td>\n",
       "        <td>10205604.00</td>\n",
       "    </tr>\n",
       "    <tr>\n",
       "        <td>3</td>\n",
       "        <td>27690175.00</td>\n",
       "    </tr>\n",
       "    <tr>\n",
       "        <td>4</td>\n",
       "        <td>28311014.00</td>\n",
       "    </tr>\n",
       "    <tr>\n",
       "        <td>5</td>\n",
       "        <td>20053588.00</td>\n",
       "    </tr>\n",
       "    <tr>\n",
       "        <td>6</td>\n",
       "        <td>31495707.00</td>\n",
       "    </tr>\n",
       "    <tr>\n",
       "        <td>7</td>\n",
       "        <td>28841450.00</td>\n",
       "    </tr>\n",
       "    <tr>\n",
       "        <td>8</td>\n",
       "        <td>95885197.00</td>\n",
       "    </tr>\n",
       "    <tr>\n",
       "        <td>9</td>\n",
       "        <td>111329285.00</td>\n",
       "    </tr>\n",
       "    <tr>\n",
       "        <td>10</td>\n",
       "        <td>33598368.00</td>\n",
       "    </tr>\n",
       "</table>"
      ],
      "text/plain": [
       "[(1, Decimal('6047480.00')),\n",
       " (2, Decimal('10205604.00')),\n",
       " (3, Decimal('27690175.00')),\n",
       " (4, Decimal('28311014.00')),\n",
       " (5, Decimal('20053588.00')),\n",
       " (6, Decimal('31495707.00')),\n",
       " (7, Decimal('28841450.00')),\n",
       " (8, Decimal('95885197.00')),\n",
       " (9, Decimal('111329285.00')),\n",
       " (10, Decimal('33598368.00'))]"
      ]
     },
     "execution_count": 40,
     "metadata": {},
     "output_type": "execute_result"
    }
   ],
   "source": [
    "%%sql\n",
    "select d.month, sum(transaction_amt)  from contribution_fact\n",
    "join beneficiary as b\n",
    "on b.BENEFICIARY_KEY = contribution_fact.BENEFICIARY_KEY\n",
    "join date as d\n",
    "on d.date_key = contribution_fact.date_key\n",
    "join TYPE as t\n",
    "on t.type_key = contribution_fact.type_key\n",
    "where d.year = 2020 and b.cmte_id = 'C00703975' and t.contribution_type = 'IND_COM'\n",
    "group by d.month\n",
    "order by d.month\n",
    ";"
   ]
  },
  {
   "cell_type": "markdown",
   "metadata": {},
   "source": [
    "__2020 Clinton contribution by individual break down by month__"
   ]
  },
  {
   "cell_type": "code",
   "execution_count": 43,
   "metadata": {},
   "outputs": [
    {
     "name": "stdout",
     "output_type": "stream",
     "text": [
      " * postgresql://student@/final_project_yu\n",
      "10 rows affected.\n"
     ]
    },
    {
     "data": {
      "text/html": [
       "<table>\n",
       "    <tr>\n",
       "        <th>month</th>\n",
       "        <th>sum</th>\n",
       "    </tr>\n",
       "    <tr>\n",
       "        <td>1</td>\n",
       "        <td>9254485.00</td>\n",
       "    </tr>\n",
       "    <tr>\n",
       "        <td>2</td>\n",
       "        <td>13283195.00</td>\n",
       "    </tr>\n",
       "    <tr>\n",
       "        <td>3</td>\n",
       "        <td>12567343.00</td>\n",
       "    </tr>\n",
       "    <tr>\n",
       "        <td>4</td>\n",
       "        <td>15046232.00</td>\n",
       "    </tr>\n",
       "    <tr>\n",
       "        <td>5</td>\n",
       "        <td>15196836.00</td>\n",
       "    </tr>\n",
       "    <tr>\n",
       "        <td>6</td>\n",
       "        <td>18082853.00</td>\n",
       "    </tr>\n",
       "    <tr>\n",
       "        <td>7</td>\n",
       "        <td>20204335.00</td>\n",
       "    </tr>\n",
       "    <tr>\n",
       "        <td>8</td>\n",
       "        <td>18887028.00</td>\n",
       "    </tr>\n",
       "    <tr>\n",
       "        <td>9</td>\n",
       "        <td>29333655.00</td>\n",
       "    </tr>\n",
       "    <tr>\n",
       "        <td>10</td>\n",
       "        <td>27800442.00</td>\n",
       "    </tr>\n",
       "</table>"
      ],
      "text/plain": [
       "[(1, Decimal('9254485.00')),\n",
       " (2, Decimal('13283195.00')),\n",
       " (3, Decimal('12567343.00')),\n",
       " (4, Decimal('15046232.00')),\n",
       " (5, Decimal('15196836.00')),\n",
       " (6, Decimal('18082853.00')),\n",
       " (7, Decimal('20204335.00')),\n",
       " (8, Decimal('18887028.00')),\n",
       " (9, Decimal('29333655.00')),\n",
       " (10, Decimal('27800442.00'))]"
      ]
     },
     "execution_count": 43,
     "metadata": {},
     "output_type": "execute_result"
    }
   ],
   "source": [
    "%%sql\n",
    "select d.month, sum(transaction_amt)  from contribution_fact\n",
    "join beneficiary as b\n",
    "on b.BENEFICIARY_KEY = contribution_fact.BENEFICIARY_KEY\n",
    "join date as d\n",
    "on d.date_key = contribution_fact.date_key\n",
    "join TYPE as t\n",
    "on t.type_key = contribution_fact.type_key\n",
    "where d.year = 2016 and b.cmte_id = 'C00575795' and t.contribution_type = 'IND_COM'\n",
    "group by d.month\n",
    "order by d.month\n",
    ";"
   ]
  },
  {
   "cell_type": "code",
   "execution_count": 39,
   "metadata": {},
   "outputs": [
    {
     "data": {
      "text/html": [
       "<img src=\"https://raw.githubusercontent.com/rainieluo2016/ISTM_6212/main/monthly_sum_indiv.png\"/>"
      ],
      "text/plain": [
       "<IPython.core.display.Image object>"
      ]
     },
     "execution_count": 39,
     "metadata": {},
     "output_type": "execute_result"
    }
   ],
   "source": [
    "from IPython.display import Image\n",
    "Image(url=\"https://raw.githubusercontent.com/rainieluo2016/ISTM_6212/main/monthly_sum_indiv.png\")"
   ]
  },
  {
   "cell_type": "markdown",
   "metadata": {},
   "source": [
    "__ __"
   ]
  },
  {
   "cell_type": "markdown",
   "metadata": {},
   "source": [
    "## Question 6: Occupation breakdown for individual contributor supporting Democrat and Republican"
   ]
  },
  {
   "cell_type": "markdown",
   "metadata": {},
   "source": [
    "## 1. 2016 Democratic"
   ]
  },
  {
   "cell_type": "code",
   "execution_count": 57,
   "metadata": {},
   "outputs": [
    {
     "name": "stdout",
     "output_type": "stream",
     "text": [
      " * postgresql://student@/final_project_yu\n",
      "10 rows affected.\n"
     ]
    },
    {
     "data": {
      "text/html": [
       "<table>\n",
       "    <tr>\n",
       "        <th>sum_amt</th>\n",
       "        <th>occupation</th>\n",
       "    </tr>\n",
       "    <tr>\n",
       "        <td>105026806.00</td>\n",
       "        <td>RETIRED</td>\n",
       "    </tr>\n",
       "    <tr>\n",
       "        <td>55073595.00</td>\n",
       "        <td>ATTORNEY</td>\n",
       "    </tr>\n",
       "    <tr>\n",
       "        <td>44199107.00</td>\n",
       "        <td>NOT EMPLOYED</td>\n",
       "    </tr>\n",
       "    <tr>\n",
       "        <td>20365689.00</td>\n",
       "        <td>OWNER</td>\n",
       "    </tr>\n",
       "    <tr>\n",
       "        <td>14448893.00</td>\n",
       "        <td>HOMEMAKER</td>\n",
       "    </tr>\n",
       "    <tr>\n",
       "        <td>14173240.00</td>\n",
       "        <td>PHYSICIAN</td>\n",
       "    </tr>\n",
       "    <tr>\n",
       "        <td>13746514.00</td>\n",
       "        <td>PRESIDENT</td>\n",
       "    </tr>\n",
       "    <tr>\n",
       "        <td>13667554.00</td>\n",
       "        <td>CEO</td>\n",
       "    </tr>\n",
       "    <tr>\n",
       "        <td>11598604.00</td>\n",
       "        <td>CONSULTANT</td>\n",
       "    </tr>\n",
       "    <tr>\n",
       "        <td>10620561.00</td>\n",
       "        <td>PROFESSOR</td>\n",
       "    </tr>\n",
       "</table>"
      ],
      "text/plain": [
       "[(Decimal('105026806.00'), 'RETIRED'),\n",
       " (Decimal('55073595.00'), 'ATTORNEY'),\n",
       " (Decimal('44199107.00'), 'NOT EMPLOYED'),\n",
       " (Decimal('20365689.00'), 'OWNER'),\n",
       " (Decimal('14448893.00'), 'HOMEMAKER'),\n",
       " (Decimal('14173240.00'), 'PHYSICIAN'),\n",
       " (Decimal('13746514.00'), 'PRESIDENT'),\n",
       " (Decimal('13667554.00'), 'CEO'),\n",
       " (Decimal('11598604.00'), 'CONSULTANT'),\n",
       " (Decimal('10620561.00'), 'PROFESSOR')]"
      ]
     },
     "execution_count": 57,
     "metadata": {},
     "output_type": "execute_result"
    }
   ],
   "source": [
    "%%sql\n",
    "select sum(transaction_amt) as sum_amt, o.occupation from contribution_fact\n",
    "join TYPE as t\n",
    "on t.type_key = contribution_fact.type_key\n",
    "join date as d\n",
    "on d.date_key = contribution_fact.date_key\n",
    "join beneficiary as b\n",
    "on b.beneficiary_key = contribution_fact.beneficiary_key\n",
    "join contributor_occupation as o\n",
    "on o.contributor_occupation_key = contribution_fact.contributor_occupation_key\n",
    "where d.year = 2016 and d.month <= 10\n",
    "and t.contribution_type = 'IND_COM' and b.cmte_pty_affiliation = 'DEM'\n",
    "group by o.occupation\n",
    "order by sum_amt desc\n",
    "limit 10;"
   ]
  },
  {
   "cell_type": "code",
   "execution_count": 1,
   "metadata": {},
   "outputs": [
    {
     "data": {
      "text/html": [
       "<img src=\"https://raw.githubusercontent.com/rainieluo2016/ISTM_6212/main/2016dem.png\"/>"
      ],
      "text/plain": [
       "<IPython.core.display.Image object>"
      ]
     },
     "execution_count": 1,
     "metadata": {},
     "output_type": "execute_result"
    }
   ],
   "source": [
    "from IPython.display import Image\n",
    "Image(url=\"https://raw.githubusercontent.com/rainieluo2016/ISTM_6212/main/2016dem.png\")"
   ]
  },
  {
   "cell_type": "markdown",
   "metadata": {},
   "source": [
    "__As we can see from the data, retired people were the most contributors for the 2016 democratic campaign. I was surprised by that because, retired people do not have a great deal of income, but they ended of contributing a lot. Another surprising aspect is the fact that being that are not employed find themselves in the top 3 contributors for democrats.__"
   ]
  },
  {
   "cell_type": "markdown",
   "metadata": {},
   "source": [
    "## 2. 2016 Republican"
   ]
  },
  {
   "cell_type": "code",
   "execution_count": 58,
   "metadata": {},
   "outputs": [
    {
     "name": "stdout",
     "output_type": "stream",
     "text": [
      " * postgresql://student@/final_project_yu\n",
      "10 rows affected.\n"
     ]
    },
    {
     "data": {
      "text/html": [
       "<table>\n",
       "    <tr>\n",
       "        <th>sum_amt</th>\n",
       "        <th>occupation</th>\n",
       "    </tr>\n",
       "    <tr>\n",
       "        <td>89438556.00</td>\n",
       "        <td>RETIRED</td>\n",
       "    </tr>\n",
       "    <tr>\n",
       "        <td>24630535.00</td>\n",
       "        <td>HOMEMAKER</td>\n",
       "    </tr>\n",
       "    <tr>\n",
       "        <td>20503456.00</td>\n",
       "        <td>PRESIDENT</td>\n",
       "    </tr>\n",
       "    <tr>\n",
       "        <td>19470571.00</td>\n",
       "        <td>PRESIDENT/CEO</td>\n",
       "    </tr>\n",
       "    <tr>\n",
       "        <td>17262224.00</td>\n",
       "        <td>CEO</td>\n",
       "    </tr>\n",
       "    <tr>\n",
       "        <td>14834417.00</td>\n",
       "        <td>EXECUTIVE</td>\n",
       "    </tr>\n",
       "    <tr>\n",
       "        <td>14588343.00</td>\n",
       "        <td>OWNER</td>\n",
       "    </tr>\n",
       "    <tr>\n",
       "        <td>13241428.00</td>\n",
       "        <td>ATTORNEY</td>\n",
       "    </tr>\n",
       "    <tr>\n",
       "        <td>8296796.00</td>\n",
       "        <td>PHYSICIAN</td>\n",
       "    </tr>\n",
       "    <tr>\n",
       "        <td>7927145.00</td>\n",
       "        <td>CHAIRMAN</td>\n",
       "    </tr>\n",
       "</table>"
      ],
      "text/plain": [
       "[(Decimal('89438556.00'), 'RETIRED'),\n",
       " (Decimal('24630535.00'), 'HOMEMAKER'),\n",
       " (Decimal('20503456.00'), 'PRESIDENT'),\n",
       " (Decimal('19470571.00'), 'PRESIDENT/CEO'),\n",
       " (Decimal('17262224.00'), 'CEO'),\n",
       " (Decimal('14834417.00'), 'EXECUTIVE'),\n",
       " (Decimal('14588343.00'), 'OWNER'),\n",
       " (Decimal('13241428.00'), 'ATTORNEY'),\n",
       " (Decimal('8296796.00'), 'PHYSICIAN'),\n",
       " (Decimal('7927145.00'), 'CHAIRMAN')]"
      ]
     },
     "execution_count": 58,
     "metadata": {},
     "output_type": "execute_result"
    }
   ],
   "source": [
    "%%sql\n",
    "select sum(transaction_amt) as sum_amt, o.occupation from contribution_fact\n",
    "join TYPE as t\n",
    "on t.type_key = contribution_fact.type_key\n",
    "join date as d\n",
    "on d.date_key = contribution_fact.date_key\n",
    "join beneficiary as b\n",
    "on b.beneficiary_key = contribution_fact.beneficiary_key\n",
    "join contributor_occupation as o\n",
    "on o.contributor_occupation_key = contribution_fact.contributor_occupation_key\n",
    "where d.year = 2016 and d.month <= 10\n",
    "and t.contribution_type = 'IND_COM' and b.cmte_pty_affiliation = 'REP'\n",
    "group by o.occupation\n",
    "order by sum_amt desc\n",
    "limit 10;"
   ]
  },
  {
   "cell_type": "code",
   "execution_count": 2,
   "metadata": {},
   "outputs": [
    {
     "data": {
      "text/html": [
       "<img src=\"https://raw.githubusercontent.com/rainieluo2016/ISTM_6212/main/2016rep.png\"/>"
      ],
      "text/plain": [
       "<IPython.core.display.Image object>"
      ]
     },
     "execution_count": 2,
     "metadata": {},
     "output_type": "execute_result"
    }
   ],
   "source": [
    "from IPython.display import Image\n",
    "Image(url=\"https://raw.githubusercontent.com/rainieluo2016/ISTM_6212/main/2016rep.png\")"
   ]
  },
  {
   "cell_type": "markdown",
   "metadata": {},
   "source": [
    "__Retired people also contributed the most for the republican campaign. It is safe to say retired people are most likely to contribute during the 2016 election. We see a lot of Executive/CEO people contributing for the 2016 Republican campaign. One can assume that, President Trumps connection with the corporate world might have an influence on that fact.__"
   ]
  },
  {
   "cell_type": "markdown",
   "metadata": {},
   "source": [
    "## 3. 2020 Democrat"
   ]
  },
  {
   "cell_type": "code",
   "execution_count": 59,
   "metadata": {},
   "outputs": [
    {
     "name": "stdout",
     "output_type": "stream",
     "text": [
      " * postgresql://student@/final_project_yu\n",
      "10 rows affected.\n"
     ]
    },
    {
     "data": {
      "text/html": [
       "<table>\n",
       "    <tr>\n",
       "        <th>sum_amt</th>\n",
       "        <th>occupation</th>\n",
       "    </tr>\n",
       "    <tr>\n",
       "        <td>891977943.00</td>\n",
       "        <td>FOUNDER</td>\n",
       "    </tr>\n",
       "    <tr>\n",
       "        <td>284874386.00</td>\n",
       "        <td>NOT EMPLOYED</td>\n",
       "    </tr>\n",
       "    <tr>\n",
       "        <td>131012555.00</td>\n",
       "        <td>RETIRED</td>\n",
       "    </tr>\n",
       "    <tr>\n",
       "        <td>116098356.00</td>\n",
       "        <td>PRESIDENTIAL CANDIDATE</td>\n",
       "    </tr>\n",
       "    <tr>\n",
       "        <td>72043321.00</td>\n",
       "        <td>ATTORNEY</td>\n",
       "    </tr>\n",
       "    <tr>\n",
       "        <td>29162595.00</td>\n",
       "        <td>PHYSICIAN</td>\n",
       "    </tr>\n",
       "    <tr>\n",
       "        <td>20490733.00</td>\n",
       "        <td>PROFESSOR</td>\n",
       "    </tr>\n",
       "    <tr>\n",
       "        <td>19972381.00</td>\n",
       "        <td>CONSULTANT</td>\n",
       "    </tr>\n",
       "    <tr>\n",
       "        <td>16597819.00</td>\n",
       "        <td>CEO</td>\n",
       "    </tr>\n",
       "    <tr>\n",
       "        <td>15343864.00</td>\n",
       "        <td>EXECUTIVE</td>\n",
       "    </tr>\n",
       "</table>"
      ],
      "text/plain": [
       "[(Decimal('891977943.00'), 'FOUNDER'),\n",
       " (Decimal('284874386.00'), 'NOT EMPLOYED'),\n",
       " (Decimal('131012555.00'), 'RETIRED'),\n",
       " (Decimal('116098356.00'), 'PRESIDENTIAL CANDIDATE'),\n",
       " (Decimal('72043321.00'), 'ATTORNEY'),\n",
       " (Decimal('29162595.00'), 'PHYSICIAN'),\n",
       " (Decimal('20490733.00'), 'PROFESSOR'),\n",
       " (Decimal('19972381.00'), 'CONSULTANT'),\n",
       " (Decimal('16597819.00'), 'CEO'),\n",
       " (Decimal('15343864.00'), 'EXECUTIVE')]"
      ]
     },
     "execution_count": 59,
     "metadata": {},
     "output_type": "execute_result"
    }
   ],
   "source": [
    "%%sql\n",
    "select sum(transaction_amt) as sum_amt, o.occupation from contribution_fact\n",
    "join TYPE as t\n",
    "on t.type_key = contribution_fact.type_key\n",
    "join date as d\n",
    "on d.date_key = contribution_fact.date_key\n",
    "join beneficiary as b\n",
    "on b.beneficiary_key = contribution_fact.beneficiary_key\n",
    "join contributor_occupation as o\n",
    "on o.contributor_occupation_key = contribution_fact.contributor_occupation_key\n",
    "where d.year = 2020 and d.month <= 10\n",
    "and t.contribution_type = 'IND_COM' and b.cmte_pty_affiliation = 'DEM'\n",
    "group by o.occupation\n",
    "order by sum_amt desc\n",
    "limit 10;"
   ]
  },
  {
   "cell_type": "code",
   "execution_count": 5,
   "metadata": {},
   "outputs": [
    {
     "data": {
      "text/html": [
       "<img src=\"https://raw.githubusercontent.com/rainieluo2016/ISTM_6212/main/2020dem_2.png\"/>"
      ],
      "text/plain": [
       "<IPython.core.display.Image object>"
      ]
     },
     "execution_count": 5,
     "metadata": {},
     "output_type": "execute_result"
    }
   ],
   "source": [
    "from IPython.display import Image\n",
    "Image(url=\"https://raw.githubusercontent.com/rainieluo2016/ISTM_6212/main/2020dem_2.png\")"
   ]
  },
  {
   "cell_type": "markdown",
   "metadata": {},
   "source": [
    "__For the 2020 democratic campaign we see that the people with a ‘founder’ occupation had the most contribution. The element of surprise here is again the amount of money collected from the people that are not employed. At number four, we see the presidential candidate which is President Biden with a lot of contribution to the democratic campaign.__"
   ]
  },
  {
   "cell_type": "markdown",
   "metadata": {},
   "source": [
    "## 4. 2020 Republican"
   ]
  },
  {
   "cell_type": "code",
   "execution_count": 60,
   "metadata": {},
   "outputs": [
    {
     "name": "stdout",
     "output_type": "stream",
     "text": [
      " * postgresql://student@/final_project_yu\n",
      "10 rows affected.\n"
     ]
    },
    {
     "data": {
      "text/html": [
       "<table>\n",
       "    <tr>\n",
       "        <th>sum_amt</th>\n",
       "        <th>occupation</th>\n",
       "    </tr>\n",
       "    <tr>\n",
       "        <td>263979594.00</td>\n",
       "        <td>RETIRED</td>\n",
       "    </tr>\n",
       "    <tr>\n",
       "        <td>21584505.00</td>\n",
       "        <td>CEO</td>\n",
       "    </tr>\n",
       "    <tr>\n",
       "        <td>20810922.00</td>\n",
       "        <td>HOMEMAKER</td>\n",
       "    </tr>\n",
       "    <tr>\n",
       "        <td>18929893.00</td>\n",
       "        <td>OWNER</td>\n",
       "    </tr>\n",
       "    <tr>\n",
       "        <td>18632051.00</td>\n",
       "        <td>PRESIDENT</td>\n",
       "    </tr>\n",
       "    <tr>\n",
       "        <td>13711933.00</td>\n",
       "        <td>EXECUTIVE</td>\n",
       "    </tr>\n",
       "    <tr>\n",
       "        <td>12890303.00</td>\n",
       "        <td>ATTORNEY</td>\n",
       "    </tr>\n",
       "    <tr>\n",
       "        <td>11308463.00</td>\n",
       "        <td>PHYSICIAN</td>\n",
       "    </tr>\n",
       "    <tr>\n",
       "        <td>9607518.00</td>\n",
       "        <td>SELF-EMPLOYED</td>\n",
       "    </tr>\n",
       "    <tr>\n",
       "        <td>7696477.00</td>\n",
       "        <td>CHAIRMAN</td>\n",
       "    </tr>\n",
       "</table>"
      ],
      "text/plain": [
       "[(Decimal('263979594.00'), 'RETIRED'),\n",
       " (Decimal('21584505.00'), 'CEO'),\n",
       " (Decimal('20810922.00'), 'HOMEMAKER'),\n",
       " (Decimal('18929893.00'), 'OWNER'),\n",
       " (Decimal('18632051.00'), 'PRESIDENT'),\n",
       " (Decimal('13711933.00'), 'EXECUTIVE'),\n",
       " (Decimal('12890303.00'), 'ATTORNEY'),\n",
       " (Decimal('11308463.00'), 'PHYSICIAN'),\n",
       " (Decimal('9607518.00'), 'SELF-EMPLOYED'),\n",
       " (Decimal('7696477.00'), 'CHAIRMAN')]"
      ]
     },
     "execution_count": 60,
     "metadata": {},
     "output_type": "execute_result"
    }
   ],
   "source": [
    "%%sql\n",
    "select sum(transaction_amt) as sum_amt, o.occupation from contribution_fact\n",
    "join TYPE as t\n",
    "on t.type_key = contribution_fact.type_key\n",
    "join date as d\n",
    "on d.date_key = contribution_fact.date_key\n",
    "join beneficiary as b\n",
    "on b.beneficiary_key = contribution_fact.beneficiary_key\n",
    "join contributor_occupation as o\n",
    "on o.contributor_occupation_key = contribution_fact.contributor_occupation_key\n",
    "where d.year = 2020 and d.month <= 10\n",
    "and t.contribution_type = 'IND_COM' and b.cmte_pty_affiliation = 'REP'\n",
    "group by o.occupation\n",
    "order by sum_amt desc\n",
    "limit 10;"
   ]
  },
  {
   "cell_type": "code",
   "execution_count": 4,
   "metadata": {},
   "outputs": [
    {
     "data": {
      "text/html": [
       "<img src=\"https://raw.githubusercontent.com/rainieluo2016/ISTM_6212/main/2020rep.png\"/>"
      ],
      "text/plain": [
       "<IPython.core.display.Image object>"
      ]
     },
     "execution_count": 4,
     "metadata": {},
     "output_type": "execute_result"
    }
   ],
   "source": [
    "from IPython.display import Image\n",
    "Image(url=\"https://raw.githubusercontent.com/rainieluo2016/ISTM_6212/main/2020rep.png\")"
   ]
  },
  {
   "cell_type": "markdown",
   "metadata": {},
   "source": [
    "__In this table, there wasn’t much of a surprise. Most of the occupation listed here make well enough money and would not surprise us when they are top10__"
   ]
  },
  {
   "cell_type": "markdown",
   "metadata": {},
   "source": [
    "### Conclusion:\n",
    "__Out of the top 10 contributors based on occupation, in 2016 Republicans contributed a little over 100 million compared to the Democrats. But in the 2020 election year the democrats contributed a whooping 1,597,573,953 compared to only 399,151,659 contributed by Republicans. Money plays a big factor during an election campaign and the party that contributed more won on each of these election years. During the 2016 election, Republicans contributed more which resulted in President Trump being elected. In 2020, Democrats contributed more which resulted in President Biden being elected.__"
   ]
  }
 ],
 "metadata": {
  "kernelspec": {
   "display_name": "Python 3",
   "language": "python",
   "name": "python3"
  },
  "language_info": {
   "codemirror_mode": {
    "name": "ipython",
    "version": 3
   },
   "file_extension": ".py",
   "mimetype": "text/x-python",
   "name": "python",
   "nbconvert_exporter": "python",
   "pygments_lexer": "ipython3",
   "version": "3.8.5"
  }
 },
 "nbformat": 4,
 "nbformat_minor": 4
}
